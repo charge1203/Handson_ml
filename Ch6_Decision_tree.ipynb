{
 "cells": [
  {
   "cell_type": "markdown",
   "id": "49248282",
   "metadata": {},
   "source": [
    "# Ch6 Decision Tree"
   ]
  },
  {
   "cell_type": "markdown",
   "id": "12d41a4e",
   "metadata": {},
   "source": [
    "**결정트리(decision tree)**<br>\n",
    "- 분류, 회귀 작업, 다중출력 작업 가능한 다재다능한 머신러닝 알고리즘\n",
    "- 매우 복잡한 데이터셋도 학습할 수 있는 강력한 알고리즘\n",
    "- 랜덤 포레스트의 기본 구성 요소"
   ]
  },
  {
   "cell_type": "code",
   "execution_count": 1,
   "id": "a6a8981a",
   "metadata": {},
   "outputs": [],
   "source": [
    "import pandas as pd\n",
    "import numpy as np\n",
    "import os\n",
    "import matplotlib as mpl\n",
    "import matplotlib.pyplot as plt\n",
    "%matplotlib inline\n",
    "\n",
    "import warnings\n",
    "warnings.filterwarnings('ignore')"
   ]
  },
  {
   "cell_type": "markdown",
   "id": "7e27f39c",
   "metadata": {},
   "source": [
    "## 6.1 결정 트리 학습과 시각화"
   ]
  },
  {
   "cell_type": "markdown",
   "id": "241fbc58",
   "metadata": {},
   "source": [
    "붓꽃 데이터셋(Ch4)에 DecisionTreeClassifier 훈련시키는 코드"
   ]
  },
  {
   "cell_type": "code",
   "execution_count": 2,
   "id": "1e5d57a6",
   "metadata": {
    "scrolled": true
   },
   "outputs": [
    {
     "data": {
      "text/html": [
       "<style>#sk-container-id-1 {color: black;background-color: white;}#sk-container-id-1 pre{padding: 0;}#sk-container-id-1 div.sk-toggleable {background-color: white;}#sk-container-id-1 label.sk-toggleable__label {cursor: pointer;display: block;width: 100%;margin-bottom: 0;padding: 0.3em;box-sizing: border-box;text-align: center;}#sk-container-id-1 label.sk-toggleable__label-arrow:before {content: \"▸\";float: left;margin-right: 0.25em;color: #696969;}#sk-container-id-1 label.sk-toggleable__label-arrow:hover:before {color: black;}#sk-container-id-1 div.sk-estimator:hover label.sk-toggleable__label-arrow:before {color: black;}#sk-container-id-1 div.sk-toggleable__content {max-height: 0;max-width: 0;overflow: hidden;text-align: left;background-color: #f0f8ff;}#sk-container-id-1 div.sk-toggleable__content pre {margin: 0.2em;color: black;border-radius: 0.25em;background-color: #f0f8ff;}#sk-container-id-1 input.sk-toggleable__control:checked~div.sk-toggleable__content {max-height: 200px;max-width: 100%;overflow: auto;}#sk-container-id-1 input.sk-toggleable__control:checked~label.sk-toggleable__label-arrow:before {content: \"▾\";}#sk-container-id-1 div.sk-estimator input.sk-toggleable__control:checked~label.sk-toggleable__label {background-color: #d4ebff;}#sk-container-id-1 div.sk-label input.sk-toggleable__control:checked~label.sk-toggleable__label {background-color: #d4ebff;}#sk-container-id-1 input.sk-hidden--visually {border: 0;clip: rect(1px 1px 1px 1px);clip: rect(1px, 1px, 1px, 1px);height: 1px;margin: -1px;overflow: hidden;padding: 0;position: absolute;width: 1px;}#sk-container-id-1 div.sk-estimator {font-family: monospace;background-color: #f0f8ff;border: 1px dotted black;border-radius: 0.25em;box-sizing: border-box;margin-bottom: 0.5em;}#sk-container-id-1 div.sk-estimator:hover {background-color: #d4ebff;}#sk-container-id-1 div.sk-parallel-item::after {content: \"\";width: 100%;border-bottom: 1px solid gray;flex-grow: 1;}#sk-container-id-1 div.sk-label:hover label.sk-toggleable__label {background-color: #d4ebff;}#sk-container-id-1 div.sk-serial::before {content: \"\";position: absolute;border-left: 1px solid gray;box-sizing: border-box;top: 0;bottom: 0;left: 50%;z-index: 0;}#sk-container-id-1 div.sk-serial {display: flex;flex-direction: column;align-items: center;background-color: white;padding-right: 0.2em;padding-left: 0.2em;position: relative;}#sk-container-id-1 div.sk-item {position: relative;z-index: 1;}#sk-container-id-1 div.sk-parallel {display: flex;align-items: stretch;justify-content: center;background-color: white;position: relative;}#sk-container-id-1 div.sk-item::before, #sk-container-id-1 div.sk-parallel-item::before {content: \"\";position: absolute;border-left: 1px solid gray;box-sizing: border-box;top: 0;bottom: 0;left: 50%;z-index: -1;}#sk-container-id-1 div.sk-parallel-item {display: flex;flex-direction: column;z-index: 1;position: relative;background-color: white;}#sk-container-id-1 div.sk-parallel-item:first-child::after {align-self: flex-end;width: 50%;}#sk-container-id-1 div.sk-parallel-item:last-child::after {align-self: flex-start;width: 50%;}#sk-container-id-1 div.sk-parallel-item:only-child::after {width: 0;}#sk-container-id-1 div.sk-dashed-wrapped {border: 1px dashed gray;margin: 0 0.4em 0.5em 0.4em;box-sizing: border-box;padding-bottom: 0.4em;background-color: white;}#sk-container-id-1 div.sk-label label {font-family: monospace;font-weight: bold;display: inline-block;line-height: 1.2em;}#sk-container-id-1 div.sk-label-container {text-align: center;}#sk-container-id-1 div.sk-container {/* jupyter's `normalize.less` sets `[hidden] { display: none; }` but bootstrap.min.css set `[hidden] { display: none !important; }` so we also need the `!important` here to be able to override the default hidden behavior on the sphinx rendered scikit-learn.org. See: https://github.com/scikit-learn/scikit-learn/issues/21755 */display: inline-block !important;position: relative;}#sk-container-id-1 div.sk-text-repr-fallback {display: none;}</style><div id=\"sk-container-id-1\" class=\"sk-top-container\"><div class=\"sk-text-repr-fallback\"><pre>DecisionTreeClassifier(max_depth=2, random_state=42)</pre><b>In a Jupyter environment, please rerun this cell to show the HTML representation or trust the notebook. <br />On GitHub, the HTML representation is unable to render, please try loading this page with nbviewer.org.</b></div><div class=\"sk-container\" hidden><div class=\"sk-item\"><div class=\"sk-estimator sk-toggleable\"><input class=\"sk-toggleable__control sk-hidden--visually\" id=\"sk-estimator-id-1\" type=\"checkbox\" checked><label for=\"sk-estimator-id-1\" class=\"sk-toggleable__label sk-toggleable__label-arrow\">DecisionTreeClassifier</label><div class=\"sk-toggleable__content\"><pre>DecisionTreeClassifier(max_depth=2, random_state=42)</pre></div></div></div></div></div>"
      ],
      "text/plain": [
       "DecisionTreeClassifier(max_depth=2, random_state=42)"
      ]
     },
     "execution_count": 2,
     "metadata": {},
     "output_type": "execute_result"
    }
   ],
   "source": [
    "from sklearn.datasets import load_iris\n",
    "from sklearn.tree import DecisionTreeClassifier\n",
    "\n",
    "iris = load_iris()\n",
    "X = iris.data[:, 2:] # 꽃잎 길이와 너비\n",
    "y = iris.target\n",
    "\n",
    "tree_clf = DecisionTreeClassifier(max_depth=2, random_state=42)\n",
    "tree_clf.fit(X, y)"
   ]
  },
  {
   "cell_type": "markdown",
   "id": "0eba545a",
   "metadata": {},
   "source": [
    "local에 설치한 graphviz에 오류 발생하여 conda로 재설치"
   ]
  },
  {
   "cell_type": "code",
   "execution_count": 6,
   "id": "aefc07b4",
   "metadata": {},
   "outputs": [
    {
     "name": "stdout",
     "output_type": "stream",
     "text": [
      "Collecting package metadata (current_repodata.json): done\n",
      "Solving environment: done\n",
      "\n",
      "\n",
      "==> WARNING: A newer version of conda exists. <==\n",
      "  current version: 4.13.0\n",
      "  latest version: 4.14.0\n",
      "\n",
      "Please update conda by running\n",
      "\n",
      "    $ conda update -n base conda\n",
      "\n",
      "\n",
      "\n",
      "## Package Plan ##\n",
      "\n",
      "  environment location: /Users/cha/miniforge3\n",
      "\n",
      "  added / updated specs:\n",
      "    - graphviz\n",
      "\n",
      "\n",
      "The following packages will be downloaded:\n",
      "\n",
      "    package                    |            build\n",
      "    ---------------------------|-----------------\n",
      "    ca-certificates-2022.07.19 |       hca03da5_0         124 KB\n",
      "    cairo-1.16.0               |       h29d4eff_2         941 KB\n",
      "    certifi-2022.6.15          |   py39hca03da5_0         153 KB\n",
      "    conda-4.14.0               |   py39hca03da5_0         925 KB\n",
      "    cytoolz-0.11.0             |   py39h1a28f6b_0         301 KB\n",
      "    expat-2.4.4                |       hc377ac9_0         125 KB\n",
      "    font-ttf-dejavu-sans-mono-2.37|       hd3eb1b0_0         335 KB\n",
      "    font-ttf-inconsolata-2.001 |       hcb22688_0          83 KB\n",
      "    font-ttf-source-code-pro-2.030|       hd3eb1b0_0         654 KB\n",
      "    font-ttf-ubuntu-0.83       |       h8b1ccd4_0         1.5 MB\n",
      "    fontconfig-2.13.1          |       h1f4a5ec_0         214 KB\n",
      "    fonts-anaconda-1           |       h8fa9717_0           3 KB\n",
      "    fonts-conda-ecosystem-1    |       hd3eb1b0_0           5 KB\n",
      "    freetype-2.11.0            |       h1192e45_0         567 KB\n",
      "    fribidi-1.0.10             |       h1a28f6b_0          60 KB\n",
      "    gdk-pixbuf-2.42.8          |       hb4bb6b2_0         532 KB\n",
      "    gettext-0.21.0             |       h826f4ad_0         2.6 MB\n",
      "    glib-2.69.1                |       h98b2900_1         2.7 MB\n",
      "    graphite2-1.3.14           |       hc377ac9_1          75 KB\n",
      "    graphviz-2.50.0            |       he1da451_0         2.3 MB\n",
      "    gts-0.7.6                  |       hde733a8_3         287 KB\n",
      "    harfbuzz-4.3.0             |       hb1b0ec1_0        1005 KB\n",
      "    icu-68.1                   |       hc377ac9_0        10.7 MB\n",
      "    jpeg-9e                    |       h1a28f6b_0         223 KB\n",
      "    lerc-3.0                   |       hc377ac9_0         115 KB\n",
      "    libcxx-14.0.6              |       h848a8c0_0         965 KB\n",
      "    libdeflate-1.8             |       h1a28f6b_5          35 KB\n",
      "    libgd-2.3.3                |       h14f8a72_1         200 KB\n",
      "    libiconv-1.16              |       h1a28f6b_2         706 KB\n",
      "    libpng-1.6.37              |       hb8d0fd4_0         256 KB\n",
      "    librsvg-2.54.4             |       h6a74ff0_0         4.3 MB\n",
      "    libtiff-4.4.0              |       had003b8_0         428 KB\n",
      "    libtool-2.4.6              |    hc377ac9_1008         395 KB\n",
      "    libwebp-base-1.2.2         |       h1a28f6b_0         329 KB\n",
      "    libxml2-2.9.14             |       h8c5e841_0         607 KB\n",
      "    llvm-openmp-14.0.6         |       hc6e5704_0         253 KB\n",
      "    lz4-c-1.9.3                |       hc377ac9_0         126 KB\n",
      "    openssl-1.1.1q             |       h1a28f6b_0         2.2 MB\n",
      "    pango-1.50.7               |       h7271ec9_0         402 KB\n",
      "    pcre-8.45                  |       hc377ac9_0         185 KB\n",
      "    pixman-0.40.0              |       h1a28f6b_0         196 KB\n",
      "    toolz-0.11.2               |     pyhd3eb1b0_0          49 KB\n",
      "    zstd-1.5.2                 |       h8574219_0         371 KB\n",
      "    ------------------------------------------------------------\n",
      "                                           Total:        38.1 MB\n",
      "\n",
      "The following NEW packages will be INSTALLED:\n",
      "\n",
      "  cairo              pkgs/main/osx-arm64::cairo-1.16.0-h29d4eff_2\n",
      "  cytoolz            pkgs/main/osx-arm64::cytoolz-0.11.0-py39h1a28f6b_0\n",
      "  expat              pkgs/main/osx-arm64::expat-2.4.4-hc377ac9_0\n",
      "  font-ttf-dejavu-s~ pkgs/main/noarch::font-ttf-dejavu-sans-mono-2.37-hd3eb1b0_0\n",
      "  font-ttf-inconsol~ pkgs/main/noarch::font-ttf-inconsolata-2.001-hcb22688_0\n",
      "  font-ttf-source-c~ pkgs/main/noarch::font-ttf-source-code-pro-2.030-hd3eb1b0_0\n",
      "  font-ttf-ubuntu    pkgs/main/noarch::font-ttf-ubuntu-0.83-h8b1ccd4_0\n",
      "  fontconfig         pkgs/main/osx-arm64::fontconfig-2.13.1-h1f4a5ec_0\n",
      "  fonts-anaconda     pkgs/main/noarch::fonts-anaconda-1-h8fa9717_0\n",
      "  fonts-conda-ecosy~ pkgs/main/noarch::fonts-conda-ecosystem-1-hd3eb1b0_0\n",
      "  freetype           pkgs/main/osx-arm64::freetype-2.11.0-h1192e45_0\n",
      "  fribidi            pkgs/main/osx-arm64::fribidi-1.0.10-h1a28f6b_0\n",
      "  gdk-pixbuf         pkgs/main/osx-arm64::gdk-pixbuf-2.42.8-hb4bb6b2_0\n",
      "  gettext            pkgs/main/osx-arm64::gettext-0.21.0-h826f4ad_0\n",
      "  glib               pkgs/main/osx-arm64::glib-2.69.1-h98b2900_1\n",
      "  graphite2          pkgs/main/osx-arm64::graphite2-1.3.14-hc377ac9_1\n",
      "  graphviz           pkgs/main/osx-arm64::graphviz-2.50.0-he1da451_0\n",
      "  gts                pkgs/main/osx-arm64::gts-0.7.6-hde733a8_3\n",
      "  harfbuzz           pkgs/main/osx-arm64::harfbuzz-4.3.0-hb1b0ec1_0\n",
      "  icu                pkgs/main/osx-arm64::icu-68.1-hc377ac9_0\n",
      "  jpeg               pkgs/main/osx-arm64::jpeg-9e-h1a28f6b_0\n",
      "  lerc               pkgs/main/osx-arm64::lerc-3.0-hc377ac9_0\n",
      "  libcxx             pkgs/main/osx-arm64::libcxx-14.0.6-h848a8c0_0\n",
      "  libdeflate         pkgs/main/osx-arm64::libdeflate-1.8-h1a28f6b_5\n",
      "  libgd              pkgs/main/osx-arm64::libgd-2.3.3-h14f8a72_1\n",
      "  libiconv           pkgs/main/osx-arm64::libiconv-1.16-h1a28f6b_2\n",
      "  libpng             pkgs/main/osx-arm64::libpng-1.6.37-hb8d0fd4_0\n",
      "  librsvg            pkgs/main/osx-arm64::librsvg-2.54.4-h6a74ff0_0\n",
      "  libtiff            pkgs/main/osx-arm64::libtiff-4.4.0-had003b8_0\n",
      "  libtool            pkgs/main/osx-arm64::libtool-2.4.6-hc377ac9_1008\n",
      "  libwebp-base       pkgs/main/osx-arm64::libwebp-base-1.2.2-h1a28f6b_0\n",
      "  libxml2            pkgs/main/osx-arm64::libxml2-2.9.14-h8c5e841_0\n",
      "  llvm-openmp        pkgs/main/osx-arm64::llvm-openmp-14.0.6-hc6e5704_0\n",
      "  lz4-c              pkgs/main/osx-arm64::lz4-c-1.9.3-hc377ac9_0\n",
      "  pango              pkgs/main/osx-arm64::pango-1.50.7-h7271ec9_0\n",
      "  pcre               pkgs/main/osx-arm64::pcre-8.45-hc377ac9_0\n",
      "  pixman             pkgs/main/osx-arm64::pixman-0.40.0-h1a28f6b_0\n",
      "  toolz              pkgs/main/noarch::toolz-0.11.2-pyhd3eb1b0_0\n",
      "  zstd               pkgs/main/osx-arm64::zstd-1.5.2-h8574219_0\n",
      "\n",
      "The following packages will be UPDATED:\n",
      "\n",
      "  ca-certificates    conda-forge::ca-certificates-2022.6.1~ --> pkgs/main::ca-certificates-2022.07.19-hca03da5_0\n",
      "  conda              conda-forge::conda-4.13.0-py39h2804cb~ --> pkgs/main::conda-4.14.0-py39hca03da5_0\n",
      "\n",
      "The following packages will be SUPERSEDED by a higher-priority channel:\n",
      "\n",
      "  certifi            conda-forge::certifi-2022.6.15-py39h2~ --> pkgs/main::certifi-2022.6.15-py39hca03da5_0\n",
      "  openssl            conda-forge::openssl-1.1.1q-ha287fd2_0 --> pkgs/main::openssl-1.1.1q-h1a28f6b_0\n",
      "\n",
      "\n",
      "\n",
      "Downloading and Extracting Packages\n",
      "ca-certificates-2022 | 124 KB    | ##################################### | 100% \n",
      "gettext-0.21.0       | 2.6 MB    | ##################################### | 100% \n",
      "fonts-conda-ecosyste | 5 KB      | ##################################### | 100% \n",
      "pango-1.50.7         | 402 KB    | ##################################### | 100% \n",
      "lerc-3.0             | 115 KB    | ##################################### | 100% \n",
      "toolz-0.11.2         | 49 KB     | ##################################### | 100% \n",
      "libdeflate-1.8       | 35 KB     | ##################################### | 100% \n",
      "libpng-1.6.37        | 256 KB    | ##################################### | 100% \n",
      "jpeg-9e              | 223 KB    | ##################################### | 100% \n",
      "gdk-pixbuf-2.42.8    | 532 KB    | ##################################### | 100% \n",
      "fonts-anaconda-1     | 3 KB      | ##################################### | 100% \n",
      "graphite2-1.3.14     | 75 KB     | ##################################### | 100% \n",
      "pcre-8.45            | 185 KB    | ##################################### | 100% \n",
      "openssl-1.1.1q       | 2.2 MB    | ##################################### | 100% \n",
      "libtiff-4.4.0        | 428 KB    | ##################################### | 100% \n",
      "harfbuzz-4.3.0       | 1005 KB   | ##################################### | 100% \n",
      "zstd-1.5.2           | 371 KB    | ##################################### | 100% \n",
      "fribidi-1.0.10       | 60 KB     | ##################################### | 100% \n",
      "font-ttf-source-code | 654 KB    | ##################################### | 100% \n",
      "certifi-2022.6.15    | 153 KB    | ##################################### | 100% \n",
      "font-ttf-inconsolata | 83 KB     | ##################################### | 100% \n",
      "font-ttf-dejavu-sans | 335 KB    | ##################################### | 100% \n",
      "llvm-openmp-14.0.6   | 253 KB    | ##################################### | 100% \n",
      "expat-2.4.4          | 125 KB    | ##################################### | 100% \n",
      "cytoolz-0.11.0       | 301 KB    | ##################################### | 100% \n",
      "graphviz-2.50.0      | 2.3 MB    | ##################################### | 100% \n",
      "librsvg-2.54.4       | 4.3 MB    | ##################################### | 100% \n",
      "freetype-2.11.0      | 567 KB    | ##################################### | 100% \n",
      "icu-68.1             | 10.7 MB   | ##################################### | 100% \n",
      "libgd-2.3.3          | 200 KB    | ##################################### | 100% \n",
      "cairo-1.16.0         | 941 KB    | ##################################### | 100% \n",
      "conda-4.14.0         | 925 KB    | ##################################### | 100% \n",
      "lz4-c-1.9.3          | 126 KB    | ##################################### | 100% \n",
      "fontconfig-2.13.1    | 214 KB    | ##################################### | 100% \n",
      "libtool-2.4.6        | 395 KB    | ##################################### | 100% \n",
      "pixman-0.40.0        | 196 KB    | ##################################### | 100% \n",
      "libiconv-1.16        | 706 KB    | ##################################### | 100% \n",
      "libxml2-2.9.14       | 607 KB    | ##################################### | 100% \n",
      "gts-0.7.6            | 287 KB    | ##################################### | 100% \n",
      "font-ttf-ubuntu-0.83 | 1.5 MB    | ##################################### | 100% \n",
      "libcxx-14.0.6        | 965 KB    | ##################################### | 100% \n",
      "glib-2.69.1          | 2.7 MB    | ##################################### | 100% \n",
      "libwebp-base-1.2.2   | 329 KB    | ##################################### | 100% \n",
      "Preparing transaction: done\n",
      "Verifying transaction: done\n",
      "Executing transaction: done\n",
      "\n",
      "Note: you may need to restart the kernel to use updated packages.\n"
     ]
    }
   ],
   "source": [
    "conda install graphviz"
   ]
  },
  {
   "cell_type": "markdown",
   "id": "85811179",
   "metadata": {},
   "source": [
    "export_graphviz(): 그래프 정의를 iris_tree.dot 파일로 출력하여 결정트리 시각화"
   ]
  },
  {
   "cell_type": "code",
   "execution_count": 7,
   "id": "94434178",
   "metadata": {},
   "outputs": [
    {
     "data": {
      "image/svg+xml": [
       "<?xml version=\"1.0\" encoding=\"UTF-8\" standalone=\"no\"?>\n",
       "<!DOCTYPE svg PUBLIC \"-//W3C//DTD SVG 1.1//EN\"\n",
       " \"http://www.w3.org/Graphics/SVG/1.1/DTD/svg11.dtd\">\n",
       "<!-- Generated by graphviz version 2.50.0 (0)\n",
       " -->\n",
       "<!-- Title: Tree Pages: 1 -->\n",
       "<svg width=\"351pt\" height=\"314pt\"\n",
       " viewBox=\"0.00 0.00 351.00 314.00\" xmlns=\"http://www.w3.org/2000/svg\" xmlns:xlink=\"http://www.w3.org/1999/xlink\">\n",
       "<g id=\"graph0\" class=\"graph\" transform=\"scale(1 1) rotate(0) translate(4 310)\">\n",
       "<title>Tree</title>\n",
       "<polygon fill=\"white\" stroke=\"transparent\" points=\"-4,4 -4,-310 347,-310 347,4 -4,4\"/>\n",
       "<!-- 0 -->\n",
       "<g id=\"node1\" class=\"node\">\n",
       "<title>0</title>\n",
       "<path fill=\"#ffffff\" stroke=\"black\" d=\"M209.5,-306C209.5,-306 65.5,-306 65.5,-306 59.5,-306 53.5,-300 53.5,-294 53.5,-294 53.5,-235 53.5,-235 53.5,-229 59.5,-223 65.5,-223 65.5,-223 209.5,-223 209.5,-223 215.5,-223 221.5,-229 221.5,-235 221.5,-235 221.5,-294 221.5,-294 221.5,-300 215.5,-306 209.5,-306\"/>\n",
       "<text text-anchor=\"middle\" x=\"137.5\" y=\"-290.8\" font-family=\"Helvetica,sans-Serif\" font-size=\"14.00\">petal length (cm) &lt;= 2.45</text>\n",
       "<text text-anchor=\"middle\" x=\"137.5\" y=\"-275.8\" font-family=\"Helvetica,sans-Serif\" font-size=\"14.00\">gini = 0.667</text>\n",
       "<text text-anchor=\"middle\" x=\"137.5\" y=\"-260.8\" font-family=\"Helvetica,sans-Serif\" font-size=\"14.00\">samples = 150</text>\n",
       "<text text-anchor=\"middle\" x=\"137.5\" y=\"-245.8\" font-family=\"Helvetica,sans-Serif\" font-size=\"14.00\">value = [50, 50, 50]</text>\n",
       "<text text-anchor=\"middle\" x=\"137.5\" y=\"-230.8\" font-family=\"Helvetica,sans-Serif\" font-size=\"14.00\">class = setosa</text>\n",
       "</g>\n",
       "<!-- 1 -->\n",
       "<g id=\"node2\" class=\"node\">\n",
       "<title>1</title>\n",
       "<path fill=\"#e58139\" stroke=\"black\" d=\"M105,-179.5C105,-179.5 12,-179.5 12,-179.5 6,-179.5 0,-173.5 0,-167.5 0,-167.5 0,-123.5 0,-123.5 0,-117.5 6,-111.5 12,-111.5 12,-111.5 105,-111.5 105,-111.5 111,-111.5 117,-117.5 117,-123.5 117,-123.5 117,-167.5 117,-167.5 117,-173.5 111,-179.5 105,-179.5\"/>\n",
       "<text text-anchor=\"middle\" x=\"58.5\" y=\"-164.3\" font-family=\"Helvetica,sans-Serif\" font-size=\"14.00\">gini = 0.0</text>\n",
       "<text text-anchor=\"middle\" x=\"58.5\" y=\"-149.3\" font-family=\"Helvetica,sans-Serif\" font-size=\"14.00\">samples = 50</text>\n",
       "<text text-anchor=\"middle\" x=\"58.5\" y=\"-134.3\" font-family=\"Helvetica,sans-Serif\" font-size=\"14.00\">value = [50, 0, 0]</text>\n",
       "<text text-anchor=\"middle\" x=\"58.5\" y=\"-119.3\" font-family=\"Helvetica,sans-Serif\" font-size=\"14.00\">class = setosa</text>\n",
       "</g>\n",
       "<!-- 0&#45;&gt;1 -->\n",
       "<g id=\"edge1\" class=\"edge\">\n",
       "<title>0&#45;&gt;1</title>\n",
       "<path fill=\"none\" stroke=\"black\" d=\"M110.09,-222.91C102.49,-211.65 94.23,-199.42 86.59,-188.11\"/>\n",
       "<polygon fill=\"black\" stroke=\"black\" points=\"89.39,-186 80.89,-179.67 83.59,-189.91 89.39,-186\"/>\n",
       "<text text-anchor=\"middle\" x=\"76.14\" y=\"-200.51\" font-family=\"Helvetica,sans-Serif\" font-size=\"14.00\">True</text>\n",
       "</g>\n",
       "<!-- 2 -->\n",
       "<g id=\"node3\" class=\"node\">\n",
       "<title>2</title>\n",
       "<path fill=\"#ffffff\" stroke=\"black\" d=\"M286,-187C286,-187 147,-187 147,-187 141,-187 135,-181 135,-175 135,-175 135,-116 135,-116 135,-110 141,-104 147,-104 147,-104 286,-104 286,-104 292,-104 298,-110 298,-116 298,-116 298,-175 298,-175 298,-181 292,-187 286,-187\"/>\n",
       "<text text-anchor=\"middle\" x=\"216.5\" y=\"-171.8\" font-family=\"Helvetica,sans-Serif\" font-size=\"14.00\">petal width (cm) &lt;= 1.75</text>\n",
       "<text text-anchor=\"middle\" x=\"216.5\" y=\"-156.8\" font-family=\"Helvetica,sans-Serif\" font-size=\"14.00\">gini = 0.5</text>\n",
       "<text text-anchor=\"middle\" x=\"216.5\" y=\"-141.8\" font-family=\"Helvetica,sans-Serif\" font-size=\"14.00\">samples = 100</text>\n",
       "<text text-anchor=\"middle\" x=\"216.5\" y=\"-126.8\" font-family=\"Helvetica,sans-Serif\" font-size=\"14.00\">value = [0, 50, 50]</text>\n",
       "<text text-anchor=\"middle\" x=\"216.5\" y=\"-111.8\" font-family=\"Helvetica,sans-Serif\" font-size=\"14.00\">class = versicolor</text>\n",
       "</g>\n",
       "<!-- 0&#45;&gt;2 -->\n",
       "<g id=\"edge2\" class=\"edge\">\n",
       "<title>0&#45;&gt;2</title>\n",
       "<path fill=\"none\" stroke=\"black\" d=\"M164.91,-222.91C170.91,-214.01 177.33,-204.51 183.53,-195.33\"/>\n",
       "<polygon fill=\"black\" stroke=\"black\" points=\"186.44,-197.27 189.14,-187.02 180.64,-193.35 186.44,-197.27\"/>\n",
       "<text text-anchor=\"middle\" x=\"193.9\" y=\"-207.86\" font-family=\"Helvetica,sans-Serif\" font-size=\"14.00\">False</text>\n",
       "</g>\n",
       "<!-- 3 -->\n",
       "<g id=\"node4\" class=\"node\">\n",
       "<title>3</title>\n",
       "<path fill=\"#4de88e\" stroke=\"black\" d=\"M196,-68C196,-68 99,-68 99,-68 93,-68 87,-62 87,-56 87,-56 87,-12 87,-12 87,-6 93,0 99,0 99,0 196,0 196,0 202,0 208,-6 208,-12 208,-12 208,-56 208,-56 208,-62 202,-68 196,-68\"/>\n",
       "<text text-anchor=\"middle\" x=\"147.5\" y=\"-52.8\" font-family=\"Helvetica,sans-Serif\" font-size=\"14.00\">gini = 0.168</text>\n",
       "<text text-anchor=\"middle\" x=\"147.5\" y=\"-37.8\" font-family=\"Helvetica,sans-Serif\" font-size=\"14.00\">samples = 54</text>\n",
       "<text text-anchor=\"middle\" x=\"147.5\" y=\"-22.8\" font-family=\"Helvetica,sans-Serif\" font-size=\"14.00\">value = [0, 49, 5]</text>\n",
       "<text text-anchor=\"middle\" x=\"147.5\" y=\"-7.8\" font-family=\"Helvetica,sans-Serif\" font-size=\"14.00\">class = versicolor</text>\n",
       "</g>\n",
       "<!-- 2&#45;&gt;3 -->\n",
       "<g id=\"edge3\" class=\"edge\">\n",
       "<title>2&#45;&gt;3</title>\n",
       "<path fill=\"none\" stroke=\"black\" d=\"M190.81,-103.73C185.29,-94.97 179.45,-85.7 173.91,-76.91\"/>\n",
       "<polygon fill=\"black\" stroke=\"black\" points=\"176.78,-74.89 168.48,-68.3 170.85,-78.63 176.78,-74.89\"/>\n",
       "</g>\n",
       "<!-- 4 -->\n",
       "<g id=\"node5\" class=\"node\">\n",
       "<title>4</title>\n",
       "<path fill=\"#843de6\" stroke=\"black\" d=\"M331,-68C331,-68 238,-68 238,-68 232,-68 226,-62 226,-56 226,-56 226,-12 226,-12 226,-6 232,0 238,0 238,0 331,0 331,0 337,0 343,-6 343,-12 343,-12 343,-56 343,-56 343,-62 337,-68 331,-68\"/>\n",
       "<text text-anchor=\"middle\" x=\"284.5\" y=\"-52.8\" font-family=\"Helvetica,sans-Serif\" font-size=\"14.00\">gini = 0.043</text>\n",
       "<text text-anchor=\"middle\" x=\"284.5\" y=\"-37.8\" font-family=\"Helvetica,sans-Serif\" font-size=\"14.00\">samples = 46</text>\n",
       "<text text-anchor=\"middle\" x=\"284.5\" y=\"-22.8\" font-family=\"Helvetica,sans-Serif\" font-size=\"14.00\">value = [0, 1, 45]</text>\n",
       "<text text-anchor=\"middle\" x=\"284.5\" y=\"-7.8\" font-family=\"Helvetica,sans-Serif\" font-size=\"14.00\">class = virginica</text>\n",
       "</g>\n",
       "<!-- 2&#45;&gt;4 -->\n",
       "<g id=\"edge4\" class=\"edge\">\n",
       "<title>2&#45;&gt;4</title>\n",
       "<path fill=\"none\" stroke=\"black\" d=\"M241.82,-103.73C247.26,-94.97 253.01,-85.7 258.48,-76.91\"/>\n",
       "<polygon fill=\"black\" stroke=\"black\" points=\"261.52,-78.64 263.82,-68.3 255.57,-74.95 261.52,-78.64\"/>\n",
       "</g>\n",
       "</g>\n",
       "</svg>\n"
      ],
      "text/plain": [
       "<graphviz.sources.Source at 0x16aa10fd0>"
      ]
     },
     "execution_count": 7,
     "metadata": {},
     "output_type": "execute_result"
    }
   ],
   "source": [
    "from graphviz import Source\n",
    "from sklearn.tree import export_graphviz\n",
    "\n",
    "export_graphviz(\n",
    "        tree_clf,\n",
    "        out_file=os.path.join(\"iris_tree.dot\"),\n",
    "        feature_names=iris.feature_names[2:],\n",
    "        class_names=iris.target_names,\n",
    "        rounded=True,\n",
    "        filled=True\n",
    "    )\n",
    "\n",
    "Source.from_file(os.path.join(\"iris_tree.dot\"))"
   ]
  },
  {
   "cell_type": "markdown",
   "id": "12b04b92",
   "metadata": {},
   "source": [
    ".dot 파일을 Graphviz 패키지에 있는 dot 명령줄 도구로 pdf 또는 png 포맷으로 변경\n"
   ]
  },
  {
   "cell_type": "markdown",
   "id": "9685928e",
   "metadata": {},
   "source": [
    "$ dot -Tpng iris_tree.dot -o iris_tree.png <br>\n",
    "=> 이는 .dot 파일을 .png로 바꾸는 것."
   ]
  },
  {
   "cell_type": "markdown",
   "id": "2b3a19b9",
   "metadata": {},
   "source": [
    "## 6.2 예측하기"
   ]
  },
  {
   "cell_type": "markdown",
   "id": "34848721",
   "metadata": {},
   "source": [
    "루트 노드(root node): 깊이가 0인 맨 꼭대기의 노드<br>\n",
    "리프 노드(leaf node): 자식 노드를 가지지 않는 노드"
   ]
  },
  {
   "cell_type": "markdown",
   "id": "c070f0c4",
   "metadata": {},
   "source": [
    "decision tree의 장점 중 하나<br>\n",
    ": 데이터 전처리가 거의 필요하지 않음. 특성의 스케일을 맞추거나 평균을 원점에 맞추는 작업이 필요하지 않음."
   ]
  },
  {
   "cell_type": "markdown",
   "id": "40cc055a",
   "metadata": {},
   "source": [
    "- 노드의 sample 속성: 얼마나 많은 훈련 샘플이 적용되었는지 헤아린 것.<br>\n",
    "- 노드의 value 속성: 노드에서 각 클래스에 얼마나 많은 훈련 샘플이 있는지 알려줌.\n",
    "- 노드의 gini 속성: 불순도(impurity) 측정"
   ]
  },
  {
   "cell_type": "markdown",
   "id": "18e95af2",
   "metadata": {},
   "source": [
    "**불순도**<br>\n",
    "한 노드의 모든 샘플이 같은 클래스에 속해 있다면 이 노드를 순수하다하고 이때 gini=0<br>"
   ]
  },
  {
   "cell_type": "markdown",
   "id": "f43d6b54",
   "metadata": {},
   "source": [
    "지니 불순도<br>\n",
    "$G_i = 1 - \\sum\\limits_{k=1}^{n}{{p_{i,k}}^2}$<br>\n",
    "이 식에서 $p_{i,k}$는 $i$번째 노드에 있는 훈련 샘플 중 클래스 $k$에 속한 샘플의 비율"
   ]
  },
  {
   "cell_type": "markdown",
   "id": "9dccbdce",
   "metadata": {},
   "source": [
    "사이킷런은 이진트리만 만드는 CART 알고리즘 사용<br>\n",
    "그러므로 리프 노드 외의 모든 노드는 자식 노드를 두 개씩 가짐."
   ]
  },
  {
   "cell_type": "markdown",
   "id": "e50dc237",
   "metadata": {},
   "source": [
    "cf) 모델 해석: 화이트박스와 블랙박스<br>\n",
    "화이트박스 모델: 직관적이고 결정 방식을 이해하기 쉬운 모델 (eg. 결정트리)<br>\n",
    "블랙박스 모델: 성능이 뛰어나고 예측을 만드는 연산 과정을 쉽게 확인할 수 있지만 예측을 만드는 것에 대해 설명하기 어려운 모델 (eg. 랜덤포레스트, 신경망)"
   ]
  },
  {
   "cell_type": "markdown",
   "id": "a1154751",
   "metadata": {},
   "source": [
    "## 6.3 클래스 확률 추정"
   ]
  },
  {
   "cell_type": "markdown",
   "id": "22c49ddf",
   "metadata": {},
   "source": [
    "결정트리는 한 샘플이 특정 클래스 $k$에 속할 확률 추정 가능"
   ]
  },
  {
   "cell_type": "code",
   "execution_count": 11,
   "id": "e33fbd06",
   "metadata": {},
   "outputs": [
    {
     "data": {
      "text/plain": [
       "array([[0.        , 0.90740741, 0.09259259]])"
      ]
     },
     "execution_count": 11,
     "metadata": {},
     "output_type": "execute_result"
    }
   ],
   "source": [
    "tree_clf.predict_proba([[5, 1.5]])"
   ]
  },
  {
   "cell_type": "code",
   "execution_count": 12,
   "id": "f571b54f",
   "metadata": {},
   "outputs": [
    {
     "data": {
      "text/plain": [
       "array([1])"
      ]
     },
     "execution_count": 12,
     "metadata": {},
     "output_type": "execute_result"
    }
   ],
   "source": [
    "tree_clf.predict([[5, 1.5]])"
   ]
  },
  {
   "cell_type": "markdown",
   "id": "bf7a9e26",
   "metadata": {},
   "source": [
    "## 6.4 CART 훈련 알고리즘"
   ]
  },
  {
   "cell_type": "markdown",
   "id": "a11fce51",
   "metadata": {},
   "source": [
    "**CART**(Classification And Regression Tree) **알고리즘**: 사이킷런에서 결정트리를 훈련시키기 위해 사용"
   ]
  },
  {
   "cell_type": "markdown",
   "id": "4f9b5cad",
   "metadata": {},
   "source": [
    "1. 훈련 세트를 하나의 특성 $k$의 임곗값 $t_k$를 사용해 두 개의 서브셋으로 나눈다.\n",
    "2. (크기에 따른 가중치가 적용된) 가장 순수한 서브셋으로 나눌 수 있는 ($k, t_k$) 짝을 찾는다."
   ]
  },
  {
   "cell_type": "markdown",
   "id": "5b4c625c",
   "metadata": {},
   "source": [
    "이 알고리즘이 최소화해야하는 비용 함수는 다음과 같다."
   ]
  },
  {
   "cell_type": "markdown",
   "id": "382e8f60",
   "metadata": {},
   "source": [
    "분류에 대한 CART 비용 함수"
   ]
  },
  {
   "cell_type": "markdown",
   "id": "47d095c7",
   "metadata": {},
   "source": [
    "$\\begin{split}&J(k,t_k) = \\dfrac{m_{\\text{left}}}{m}G_\\text{left} + \\dfrac{m_{\\text{right}}}{m}G_{\\text{right}}\\\\&\n",
    "\\text{여기서}\\begin{cases} G_\\text{left/right} \\text{는 왼쪽/오른쪽 서브셋의 불순도} \\\\m_\\text{left/right}\\text{는 왼쪽/오른쪽 서브셋의 샘플수}\\end{cases}\\end{split}$"
   ]
  },
  {
   "cell_type": "markdown",
   "id": "26493d19",
   "metadata": {},
   "source": [
    "3. CART 알고리즘이 훈련 세트를 성공적으로 둘로 나누었다면 같은 방식으로 서브셋을 또 나누고 그 다음엔 서브셋의 서브셋을 나누고를 반복한다.<br>\n",
    "   이 과정은 최대 깊이가 되면 중지하거나 불순도를 중리는 분할을 찾을 수 없을 때 멈춘다."
   ]
  },
  {
   "cell_type": "markdown",
   "id": "ec697cf0",
   "metadata": {},
   "source": [
    "cf) 중지 조건에 관여하는 매개변수: max_depth, min_samples_split, min_samples_leaf, min_weight_fraction_leaf, max_leaf_nodes"
   ]
  },
  {
   "cell_type": "markdown",
   "id": "8f618194",
   "metadata": {},
   "source": [
    "**CAUTION**) CART 알고리즘은 greedy algorithm<br>\n",
    "맨 위 루트 노드에서 최적의 분할을 찾으며 이어지는 각 단계에서 해당 과정을 반복.<br>\n",
    "현재 단계의 분할이 몇 단계를 거쳐 가장 낮은 불순도로 이어질 수 있을지 없을지는 고려하지 않음.<br>\n",
    "이와 같이 그리디 알고리즘은 종종 납득할만한 훌륭한 솔루션을 찾아내지만 최적의 솔루션을 보장하지는 않음. cf) 최적의 트리를 찾는 것은 NP-완전 문제"
   ]
  },
  {
   "cell_type": "markdown",
   "id": "d5458058",
   "metadata": {},
   "source": [
    "## 6.5 계산 복잡도"
   ]
  },
  {
   "cell_type": "markdown",
   "id": "826b6a2c",
   "metadata": {},
   "source": [
    "예측을 하기 위해서는 결정 트리를 루트 노드에서부터 리프 노드까지 탐색해야함.<br>\n",
    "일반적으로 결정 트리는 거의 균형을 이루고 있으므로 결정 트리를 탐색하기 위해서는 약 $O(log_2 (m))$개의 노드를 거쳐야함."
   ]
  },
  {
   "cell_type": "markdown",
   "id": "283c93c2",
   "metadata": {},
   "source": [
    "각 노드는 하나의 특성값만을 확인하기 때문에 예측에 필요한 전체 복잡도는 특성 수와 무관하게 $O(log_2 (m))$ <br>\n",
    "=> 따라서 큰 훈련 세트를 다룰 때도 예측 속도가 매우 빠름."
   ]
  },
  {
   "cell_type": "markdown",
   "id": "31bf029d",
   "metadata": {},
   "source": [
    "훈련 알고리즘은 각 노드에서 모든 훈련 샘플의 모든 특성을 비교함 -> 훈련 복잡도: $O(n \\times m log_2(m))$<br>\n",
    "훈련 세트가 작을수록 훈련 속도가 높음."
   ]
  },
  {
   "cell_type": "markdown",
   "id": "4f7a0ebf",
   "metadata": {},
   "source": [
    "## 6.6 지니 불순도 또는 엔트로피?"
   ]
  },
  {
   "cell_type": "markdown",
   "id": "15be0591",
   "metadata": {},
   "source": [
    "엔트로피 불순도: criterion 매개변수를 \"entropy\"로 지정한 불순도<br>\n",
    "cf) 엔트로피: 분자의 무질서함을 측정하는 것으로 분자가 안정되고 질서 정연하면 0에 가까움.<br>\n",
    "&nbsp; &nbsp; &nbsp; => 어떤 세트가 한 클래스의 샘플만 담고 있으면 엔트로피가 0"
   ]
  },
  {
   "cell_type": "markdown",
   "id": "34e25a1b",
   "metadata": {},
   "source": [
    "엔트로피<br>\n",
    "$H_i = -\\sum\\limits_{k=1 \\atop p_{i,k} \\ne 0}^{n}{{p_{i,k}}\\log_2(p_{i,k})}$"
   ]
  },
  {
   "cell_type": "markdown",
   "id": "99d48c6a",
   "metadata": {},
   "source": [
    "**지니 불순도 vs 엔트로피** <br>\n",
    "지니 불순도가 조금 더 계산이 빠르기 때문에 기본값으로 좋음.<br>\n",
    "그러나 다른 트리가 만들어지는 경우 지니 불순도가 가장 빈도 높은 클래스 한쪽 가지로 고립시키는 경향이 있는 반면 엔트로피는 좀 더 균형 잡힌 트리를 만듦."
   ]
  },
  {
   "cell_type": "markdown",
   "id": "e6987d91",
   "metadata": {},
   "source": [
    "## 6.7 규제 매개변수"
   ]
  },
  {
   "cell_type": "markdown",
   "id": "1ec42636",
   "metadata": {},
   "source": [
    "**결정 트리**는 훈련되기 전에 파라미터 수가 결정되지 않기 때문에 **비파라미터 모델(nonparametric model)**이라 부름.<br>\n",
    "이로 인해 모델 구조가 데이터에 맞춰져서 고정되지 않고 자유로움.<br>\n",
    "훈련 데이터에 대한 제약 사항이 없어 대부분 과대적합되기 쉬움.\n",
    "반면 선형 모델은 미리 정의된 모델 파라미터 수를 가지므로 파라미터 모델(parametric model), 자유도가 제한되고 과대적합될 위험이 줄어듦.(하지만 과소적합 위험은 커짐)"
   ]
  },
  {
   "cell_type": "markdown",
   "id": "918d772d",
   "metadata": {},
   "source": [
    "규제: 훈련 데이터에 대한 과대적합을 피하기 위해 학습할 때 결정 트리의 자유도를 제한하는 것"
   ]
  },
  {
   "cell_type": "markdown",
   "id": "bf770c86",
   "metadata": {},
   "source": [
    "**결정 트리에서 규제 매개변수**\n",
    "- max_depth: 결정 트리의 최대 깊이 (기본값은 제한이 없다는 의미인 None)<br>\n",
    "  이를 줄이면 모델을 규제하게 되고 과대적합의 위험이 감소"
   ]
  },
  {
   "cell_type": "markdown",
   "id": "13b8655f",
   "metadata": {},
   "source": [
    "DecisionTreeClassifier에서 결정 트리의 형태를 제한하는 다른 매개변수\n",
    "- min_samples_split: 분할되기 위해 노드가 가져야 하는 최소 샘플 수\n",
    "- min_samples_leaf: 리프노드가 가지고 있어야 할 최소 샘플 수\n",
    "- min_weight_fraction_leaf: (min_samples_leaf와 같지만) 가중치가 부여된 전체 샘플 수에서의 비율\n",
    "- max_leaf_nodes: 리프노드의 최대 수\n",
    "- max_features: 각 노드에서 분할에 사용할 특성의 최대 수 <br>\n",
    "\n",
    "=> min으로 시작하는 매개변수를 증가시키거나 max로 시작하는 매개변수를 감소시키면 모델의 규제가 커짐"
   ]
  },
  {
   "cell_type": "markdown",
   "id": "aaef2205",
   "metadata": {},
   "source": [
    "cf) 제한 없이 결정 트리를 훈련시키고 불필요한 노드를 가지치기(pruning)하는 알고리즘도 존재"
   ]
  },
  {
   "cell_type": "markdown",
   "id": "f457713f",
   "metadata": {},
   "source": [
    "## 6.8 회귀"
   ]
  },
  {
   "cell_type": "raw",
   "id": "59f93646",
   "metadata": {},
   "source": [
    "사이킷런의 DecisionTreeRegressor를 사용하면 결정 트리를 회귀 문제에 사용 가능"
   ]
  },
  {
   "cell_type": "code",
   "execution_count": 13,
   "id": "7d6db60e",
   "metadata": {},
   "outputs": [],
   "source": [
    "# 2차식으로 만든 데이터셋 + 잡음\n",
    "np.random.seed(42)\n",
    "m = 200\n",
    "X = np.random.rand(m, 1)\n",
    "y = 4 * (X - 0.5) ** 2\n",
    "y = y + np.random.randn(m, 1) / 10"
   ]
  },
  {
   "cell_type": "code",
   "execution_count": 14,
   "id": "57e337f9",
   "metadata": {},
   "outputs": [
    {
     "data": {
      "text/html": [
       "<style>#sk-container-id-2 {color: black;background-color: white;}#sk-container-id-2 pre{padding: 0;}#sk-container-id-2 div.sk-toggleable {background-color: white;}#sk-container-id-2 label.sk-toggleable__label {cursor: pointer;display: block;width: 100%;margin-bottom: 0;padding: 0.3em;box-sizing: border-box;text-align: center;}#sk-container-id-2 label.sk-toggleable__label-arrow:before {content: \"▸\";float: left;margin-right: 0.25em;color: #696969;}#sk-container-id-2 label.sk-toggleable__label-arrow:hover:before {color: black;}#sk-container-id-2 div.sk-estimator:hover label.sk-toggleable__label-arrow:before {color: black;}#sk-container-id-2 div.sk-toggleable__content {max-height: 0;max-width: 0;overflow: hidden;text-align: left;background-color: #f0f8ff;}#sk-container-id-2 div.sk-toggleable__content pre {margin: 0.2em;color: black;border-radius: 0.25em;background-color: #f0f8ff;}#sk-container-id-2 input.sk-toggleable__control:checked~div.sk-toggleable__content {max-height: 200px;max-width: 100%;overflow: auto;}#sk-container-id-2 input.sk-toggleable__control:checked~label.sk-toggleable__label-arrow:before {content: \"▾\";}#sk-container-id-2 div.sk-estimator input.sk-toggleable__control:checked~label.sk-toggleable__label {background-color: #d4ebff;}#sk-container-id-2 div.sk-label input.sk-toggleable__control:checked~label.sk-toggleable__label {background-color: #d4ebff;}#sk-container-id-2 input.sk-hidden--visually {border: 0;clip: rect(1px 1px 1px 1px);clip: rect(1px, 1px, 1px, 1px);height: 1px;margin: -1px;overflow: hidden;padding: 0;position: absolute;width: 1px;}#sk-container-id-2 div.sk-estimator {font-family: monospace;background-color: #f0f8ff;border: 1px dotted black;border-radius: 0.25em;box-sizing: border-box;margin-bottom: 0.5em;}#sk-container-id-2 div.sk-estimator:hover {background-color: #d4ebff;}#sk-container-id-2 div.sk-parallel-item::after {content: \"\";width: 100%;border-bottom: 1px solid gray;flex-grow: 1;}#sk-container-id-2 div.sk-label:hover label.sk-toggleable__label {background-color: #d4ebff;}#sk-container-id-2 div.sk-serial::before {content: \"\";position: absolute;border-left: 1px solid gray;box-sizing: border-box;top: 0;bottom: 0;left: 50%;z-index: 0;}#sk-container-id-2 div.sk-serial {display: flex;flex-direction: column;align-items: center;background-color: white;padding-right: 0.2em;padding-left: 0.2em;position: relative;}#sk-container-id-2 div.sk-item {position: relative;z-index: 1;}#sk-container-id-2 div.sk-parallel {display: flex;align-items: stretch;justify-content: center;background-color: white;position: relative;}#sk-container-id-2 div.sk-item::before, #sk-container-id-2 div.sk-parallel-item::before {content: \"\";position: absolute;border-left: 1px solid gray;box-sizing: border-box;top: 0;bottom: 0;left: 50%;z-index: -1;}#sk-container-id-2 div.sk-parallel-item {display: flex;flex-direction: column;z-index: 1;position: relative;background-color: white;}#sk-container-id-2 div.sk-parallel-item:first-child::after {align-self: flex-end;width: 50%;}#sk-container-id-2 div.sk-parallel-item:last-child::after {align-self: flex-start;width: 50%;}#sk-container-id-2 div.sk-parallel-item:only-child::after {width: 0;}#sk-container-id-2 div.sk-dashed-wrapped {border: 1px dashed gray;margin: 0 0.4em 0.5em 0.4em;box-sizing: border-box;padding-bottom: 0.4em;background-color: white;}#sk-container-id-2 div.sk-label label {font-family: monospace;font-weight: bold;display: inline-block;line-height: 1.2em;}#sk-container-id-2 div.sk-label-container {text-align: center;}#sk-container-id-2 div.sk-container {/* jupyter's `normalize.less` sets `[hidden] { display: none; }` but bootstrap.min.css set `[hidden] { display: none !important; }` so we also need the `!important` here to be able to override the default hidden behavior on the sphinx rendered scikit-learn.org. See: https://github.com/scikit-learn/scikit-learn/issues/21755 */display: inline-block !important;position: relative;}#sk-container-id-2 div.sk-text-repr-fallback {display: none;}</style><div id=\"sk-container-id-2\" class=\"sk-top-container\"><div class=\"sk-text-repr-fallback\"><pre>DecisionTreeRegressor(max_depth=2, random_state=42)</pre><b>In a Jupyter environment, please rerun this cell to show the HTML representation or trust the notebook. <br />On GitHub, the HTML representation is unable to render, please try loading this page with nbviewer.org.</b></div><div class=\"sk-container\" hidden><div class=\"sk-item\"><div class=\"sk-estimator sk-toggleable\"><input class=\"sk-toggleable__control sk-hidden--visually\" id=\"sk-estimator-id-2\" type=\"checkbox\" checked><label for=\"sk-estimator-id-2\" class=\"sk-toggleable__label sk-toggleable__label-arrow\">DecisionTreeRegressor</label><div class=\"sk-toggleable__content\"><pre>DecisionTreeRegressor(max_depth=2, random_state=42)</pre></div></div></div></div></div>"
      ],
      "text/plain": [
       "DecisionTreeRegressor(max_depth=2, random_state=42)"
      ]
     },
     "execution_count": 14,
     "metadata": {},
     "output_type": "execute_result"
    }
   ],
   "source": [
    "from sklearn.tree import DecisionTreeRegressor\n",
    "\n",
    "tree_reg = DecisionTreeRegressor(max_depth=2, random_state=42)\n",
    "tree_reg.fit(X, y)"
   ]
  },
  {
   "cell_type": "code",
   "execution_count": 18,
   "id": "76784fd9",
   "metadata": {
    "scrolled": false
   },
   "outputs": [
    {
     "data": {
      "image/svg+xml": [
       "<?xml version=\"1.0\" encoding=\"UTF-8\" standalone=\"no\"?>\n",
       "<!DOCTYPE svg PUBLIC \"-//W3C//DTD SVG 1.1//EN\"\n",
       " \"http://www.w3.org/Graphics/SVG/1.1/DTD/svg11.dtd\">\n",
       "<!-- Generated by graphviz version 2.50.0 (0)\n",
       " -->\n",
       "<!-- Title: Tree Pages: 1 -->\n",
       "<svg width=\"666pt\" height=\"269pt\"\n",
       " viewBox=\"0.00 0.00 666.00 269.00\" xmlns=\"http://www.w3.org/2000/svg\" xmlns:xlink=\"http://www.w3.org/1999/xlink\">\n",
       "<g id=\"graph0\" class=\"graph\" transform=\"scale(1 1) rotate(0) translate(4 265)\">\n",
       "<title>Tree</title>\n",
       "<polygon fill=\"white\" stroke=\"transparent\" points=\"-4,4 -4,-265 662,-265 662,4 -4,4\"/>\n",
       "<!-- 0 -->\n",
       "<g id=\"node1\" class=\"node\">\n",
       "<title>0</title>\n",
       "<path fill=\"#f6d6be\" stroke=\"black\" d=\"M392,-261C392,-261 265,-261 265,-261 259,-261 253,-255 253,-249 253,-249 253,-205 253,-205 253,-199 259,-193 265,-193 265,-193 392,-193 392,-193 398,-193 404,-199 404,-205 404,-205 404,-249 404,-249 404,-255 398,-261 392,-261\"/>\n",
       "<text text-anchor=\"middle\" x=\"328.5\" y=\"-245.8\" font-family=\"Helvetica,sans-Serif\" font-size=\"14.00\">x1 &lt;= 0.197</text>\n",
       "<text text-anchor=\"middle\" x=\"328.5\" y=\"-230.8\" font-family=\"Helvetica,sans-Serif\" font-size=\"14.00\">squared_error = 0.098</text>\n",
       "<text text-anchor=\"middle\" x=\"328.5\" y=\"-215.8\" font-family=\"Helvetica,sans-Serif\" font-size=\"14.00\">samples = 200</text>\n",
       "<text text-anchor=\"middle\" x=\"328.5\" y=\"-200.8\" font-family=\"Helvetica,sans-Serif\" font-size=\"14.00\">value = 0.354</text>\n",
       "</g>\n",
       "<!-- 1 -->\n",
       "<g id=\"node2\" class=\"node\">\n",
       "<title>1</title>\n",
       "<path fill=\"#eb9d65\" stroke=\"black\" d=\"M308,-157C308,-157 181,-157 181,-157 175,-157 169,-151 169,-145 169,-145 169,-101 169,-101 169,-95 175,-89 181,-89 181,-89 308,-89 308,-89 314,-89 320,-95 320,-101 320,-101 320,-145 320,-145 320,-151 314,-157 308,-157\"/>\n",
       "<text text-anchor=\"middle\" x=\"244.5\" y=\"-141.8\" font-family=\"Helvetica,sans-Serif\" font-size=\"14.00\">x1 &lt;= 0.092</text>\n",
       "<text text-anchor=\"middle\" x=\"244.5\" y=\"-126.8\" font-family=\"Helvetica,sans-Serif\" font-size=\"14.00\">squared_error = 0.038</text>\n",
       "<text text-anchor=\"middle\" x=\"244.5\" y=\"-111.8\" font-family=\"Helvetica,sans-Serif\" font-size=\"14.00\">samples = 44</text>\n",
       "<text text-anchor=\"middle\" x=\"244.5\" y=\"-96.8\" font-family=\"Helvetica,sans-Serif\" font-size=\"14.00\">value = 0.689</text>\n",
       "</g>\n",
       "<!-- 0&#45;&gt;1 -->\n",
       "<g id=\"edge1\" class=\"edge\">\n",
       "<title>0&#45;&gt;1</title>\n",
       "<path fill=\"none\" stroke=\"black\" d=\"M301.23,-192.88C293.97,-184.07 286.03,-174.43 278.46,-165.24\"/>\n",
       "<polygon fill=\"black\" stroke=\"black\" points=\"280.98,-162.79 271.92,-157.3 275.58,-167.24 280.98,-162.79\"/>\n",
       "<text text-anchor=\"middle\" x=\"269.51\" y=\"-178.48\" font-family=\"Helvetica,sans-Serif\" font-size=\"14.00\">True</text>\n",
       "</g>\n",
       "<!-- 4 -->\n",
       "<g id=\"node5\" class=\"node\">\n",
       "<title>4</title>\n",
       "<path fill=\"#fae6d7\" stroke=\"black\" d=\"M477,-157C477,-157 350,-157 350,-157 344,-157 338,-151 338,-145 338,-145 338,-101 338,-101 338,-95 344,-89 350,-89 350,-89 477,-89 477,-89 483,-89 489,-95 489,-101 489,-101 489,-145 489,-145 489,-151 483,-157 477,-157\"/>\n",
       "<text text-anchor=\"middle\" x=\"413.5\" y=\"-141.8\" font-family=\"Helvetica,sans-Serif\" font-size=\"14.00\">x1 &lt;= 0.772</text>\n",
       "<text text-anchor=\"middle\" x=\"413.5\" y=\"-126.8\" font-family=\"Helvetica,sans-Serif\" font-size=\"14.00\">squared_error = 0.074</text>\n",
       "<text text-anchor=\"middle\" x=\"413.5\" y=\"-111.8\" font-family=\"Helvetica,sans-Serif\" font-size=\"14.00\">samples = 156</text>\n",
       "<text text-anchor=\"middle\" x=\"413.5\" y=\"-96.8\" font-family=\"Helvetica,sans-Serif\" font-size=\"14.00\">value = 0.259</text>\n",
       "</g>\n",
       "<!-- 0&#45;&gt;4 -->\n",
       "<g id=\"edge4\" class=\"edge\">\n",
       "<title>0&#45;&gt;4</title>\n",
       "<path fill=\"none\" stroke=\"black\" d=\"M356.1,-192.88C363.45,-184.07 371.47,-174.43 379.14,-165.24\"/>\n",
       "<polygon fill=\"black\" stroke=\"black\" points=\"382.04,-167.22 385.75,-157.3 376.66,-162.74 382.04,-167.22\"/>\n",
       "<text text-anchor=\"middle\" x=\"388.01\" y=\"-178.5\" font-family=\"Helvetica,sans-Serif\" font-size=\"14.00\">False</text>\n",
       "</g>\n",
       "<!-- 2 -->\n",
       "<g id=\"node3\" class=\"node\">\n",
       "<title>2</title>\n",
       "<path fill=\"#e58139\" stroke=\"black\" d=\"M139,-53C139,-53 12,-53 12,-53 6,-53 0,-47 0,-41 0,-41 0,-12 0,-12 0,-6 6,0 12,0 12,0 139,0 139,0 145,0 151,-6 151,-12 151,-12 151,-41 151,-41 151,-47 145,-53 139,-53\"/>\n",
       "<text text-anchor=\"middle\" x=\"75.5\" y=\"-37.8\" font-family=\"Helvetica,sans-Serif\" font-size=\"14.00\">squared_error = 0.018</text>\n",
       "<text text-anchor=\"middle\" x=\"75.5\" y=\"-22.8\" font-family=\"Helvetica,sans-Serif\" font-size=\"14.00\">samples = 20</text>\n",
       "<text text-anchor=\"middle\" x=\"75.5\" y=\"-7.8\" font-family=\"Helvetica,sans-Serif\" font-size=\"14.00\">value = 0.854</text>\n",
       "</g>\n",
       "<!-- 1&#45;&gt;2 -->\n",
       "<g id=\"edge2\" class=\"edge\">\n",
       "<title>1&#45;&gt;2</title>\n",
       "<path fill=\"none\" stroke=\"black\" d=\"M185.39,-88.95C167.48,-78.93 147.89,-67.98 130.27,-58.13\"/>\n",
       "<polygon fill=\"black\" stroke=\"black\" points=\"131.69,-54.91 121.26,-53.09 128.28,-61.02 131.69,-54.91\"/>\n",
       "</g>\n",
       "<!-- 3 -->\n",
       "<g id=\"node4\" class=\"node\">\n",
       "<title>3</title>\n",
       "<path fill=\"#f0b489\" stroke=\"black\" d=\"M308,-53C308,-53 181,-53 181,-53 175,-53 169,-47 169,-41 169,-41 169,-12 169,-12 169,-6 175,0 181,0 181,0 308,0 308,0 314,0 320,-6 320,-12 320,-12 320,-41 320,-41 320,-47 314,-53 308,-53\"/>\n",
       "<text text-anchor=\"middle\" x=\"244.5\" y=\"-37.8\" font-family=\"Helvetica,sans-Serif\" font-size=\"14.00\">squared_error = 0.013</text>\n",
       "<text text-anchor=\"middle\" x=\"244.5\" y=\"-22.8\" font-family=\"Helvetica,sans-Serif\" font-size=\"14.00\">samples = 24</text>\n",
       "<text text-anchor=\"middle\" x=\"244.5\" y=\"-7.8\" font-family=\"Helvetica,sans-Serif\" font-size=\"14.00\">value = 0.552</text>\n",
       "</g>\n",
       "<!-- 1&#45;&gt;3 -->\n",
       "<g id=\"edge3\" class=\"edge\">\n",
       "<title>1&#45;&gt;3</title>\n",
       "<path fill=\"none\" stroke=\"black\" d=\"M244.5,-88.95C244.5,-80.72 244.5,-71.85 244.5,-63.48\"/>\n",
       "<polygon fill=\"black\" stroke=\"black\" points=\"248,-63.24 244.5,-53.24 241,-63.24 248,-63.24\"/>\n",
       "</g>\n",
       "<!-- 5 -->\n",
       "<g id=\"node6\" class=\"node\">\n",
       "<title>5</title>\n",
       "<path fill=\"#ffffff\" stroke=\"black\" d=\"M477,-53C477,-53 350,-53 350,-53 344,-53 338,-47 338,-41 338,-41 338,-12 338,-12 338,-6 344,0 350,0 350,0 477,0 477,0 483,0 489,-6 489,-12 489,-12 489,-41 489,-41 489,-47 483,-53 477,-53\"/>\n",
       "<text text-anchor=\"middle\" x=\"413.5\" y=\"-37.8\" font-family=\"Helvetica,sans-Serif\" font-size=\"14.00\">squared_error = 0.015</text>\n",
       "<text text-anchor=\"middle\" x=\"413.5\" y=\"-22.8\" font-family=\"Helvetica,sans-Serif\" font-size=\"14.00\">samples = 110</text>\n",
       "<text text-anchor=\"middle\" x=\"413.5\" y=\"-7.8\" font-family=\"Helvetica,sans-Serif\" font-size=\"14.00\">value = 0.111</text>\n",
       "</g>\n",
       "<!-- 4&#45;&gt;5 -->\n",
       "<g id=\"edge5\" class=\"edge\">\n",
       "<title>4&#45;&gt;5</title>\n",
       "<path fill=\"none\" stroke=\"black\" d=\"M413.5,-88.95C413.5,-80.72 413.5,-71.85 413.5,-63.48\"/>\n",
       "<polygon fill=\"black\" stroke=\"black\" points=\"417,-63.24 413.5,-53.24 410,-63.24 417,-63.24\"/>\n",
       "</g>\n",
       "<!-- 6 -->\n",
       "<g id=\"node7\" class=\"node\">\n",
       "<title>6</title>\n",
       "<path fill=\"#edaa79\" stroke=\"black\" d=\"M646,-53C646,-53 519,-53 519,-53 513,-53 507,-47 507,-41 507,-41 507,-12 507,-12 507,-6 513,0 519,0 519,0 646,0 646,0 652,0 658,-6 658,-12 658,-12 658,-41 658,-41 658,-47 652,-53 646,-53\"/>\n",
       "<text text-anchor=\"middle\" x=\"582.5\" y=\"-37.8\" font-family=\"Helvetica,sans-Serif\" font-size=\"14.00\">squared_error = 0.036</text>\n",
       "<text text-anchor=\"middle\" x=\"582.5\" y=\"-22.8\" font-family=\"Helvetica,sans-Serif\" font-size=\"14.00\">samples = 46</text>\n",
       "<text text-anchor=\"middle\" x=\"582.5\" y=\"-7.8\" font-family=\"Helvetica,sans-Serif\" font-size=\"14.00\">value = 0.615</text>\n",
       "</g>\n",
       "<!-- 4&#45;&gt;6 -->\n",
       "<g id=\"edge6\" class=\"edge\">\n",
       "<title>4&#45;&gt;6</title>\n",
       "<path fill=\"none\" stroke=\"black\" d=\"M472.61,-88.95C490.52,-78.93 510.11,-67.98 527.73,-58.13\"/>\n",
       "<polygon fill=\"black\" stroke=\"black\" points=\"529.72,-61.02 536.74,-53.09 526.31,-54.91 529.72,-61.02\"/>\n",
       "</g>\n",
       "</g>\n",
       "</svg>\n"
      ],
      "text/plain": [
       "<graphviz.sources.Source at 0x172f27bb0>"
      ]
     },
     "execution_count": 18,
     "metadata": {},
     "output_type": "execute_result"
    }
   ],
   "source": [
    "export_graphviz(\n",
    "        tree_reg,\n",
    "        out_file=os.path.join(\"regression_tree.dot\"),\n",
    "        feature_names=[\"x1\"],\n",
    "        rounded=True,\n",
    "        filled=True\n",
    ")\n",
    "\n",
    "Source.from_file(os.path.join(\"regression_tree.dot\"))"
   ]
  },
  {
   "cell_type": "markdown",
   "id": "eed6f1b1",
   "metadata": {},
   "source": [
    "분류 트리와 비교했을 때의 차이점: 각 노드에서 클래스를 예측하는 대신 어떤 값을 예측한다는 점.<br>\n",
    "예를 들어  $x1$=0.6 에 대한 타깃값을 예측한다고 해보자. 이 샘플은 결국 value=0.111인 리프노드에 도달. 이 노드에 있는 110개 샘플의 평균 타깃값이 예측값이 됨.<br> => 이 예측값에 대한 MSE: 0.015\n"
   ]
  },
  {
   "cell_type": "markdown",
   "id": "77c472de",
   "metadata": {},
   "source": [
    "각 영역의 예측값은 항상 그 영역에 있는 타깃값의 평균이 됨.<br>\n",
    "알고리즘은 예측값과 가능한 한 많은 샘플이 가까이 있도록 영역을 분할."
   ]
  },
  {
   "cell_type": "markdown",
   "id": "0d55b924",
   "metadata": {},
   "source": [
    "CART 알고리즘은 훈련 세트를 불순도 최소화하는 방향으로 분할하는 대신 MSE를 최소화하도록 분할함."
   ]
  },
  {
   "cell_type": "markdown",
   "id": "956b6d68",
   "metadata": {},
   "source": [
    "회귀를 위한 CART 비용 함수<br>\n",
    "$ \\begin{split} &J(k, t_k) = \\dfrac{m_{\\text{left}}}{m}MSE_\\text{left} + \\dfrac{m_{\\text{right}}}{m}MSE_{\\text{right}}\\\\ &\\text{여기서 }\\begin{cases} MSE_\\text{node} = \\displaystyle\\sum_{i\\in \\text{node}}{(\\hat{y}_\\text{node}-y^{(i)})^2}\\\\ \\hat{y}_\\text{node}= \\dfrac{1}{m_\\text{node}} \\displaystyle\\sum_{i\\in \\text{node}}y^{(i)} \\end{cases} \\end{split} $"
   ]
  },
  {
   "cell_type": "markdown",
   "id": "dbedb190",
   "metadata": {},
   "source": [
    "분류에서와 같이 회귀 작업에서도 결정 트리가 과대적합되기 쉬움."
   ]
  },
  {
   "cell_type": "markdown",
   "id": "658bd55c",
   "metadata": {},
   "source": [
    "## 6.9 불안정성"
   ]
  },
  {
   "cell_type": "markdown",
   "id": "765cb539",
   "metadata": {},
   "source": [
    "결정 트리의 장점<br>\n",
    "- 이해하고 해석하기 쉬움\n",
    "- 사용하기 편리\n",
    "- 여러 용도로 사용 가능\n",
    "- 성능 뛰어남"
   ]
  },
  {
   "cell_type": "markdown",
   "id": "8cc1a5da",
   "metadata": {},
   "source": [
    "**결정 트리의 제한 사항**<br>\n",
    "계단 모양의 결정 경계를 만듦 -> 훈련 세트의 회전에 민감<br>\n",
    "=> 훈련 데이터를 더 좋은 방향으로 회전시키는 PCA 기법으로 해결"
   ]
  }
 ],
 "metadata": {
  "kernelspec": {
   "display_name": "Python 3 (ipykernel)",
   "language": "python",
   "name": "python3"
  },
  "language_info": {
   "codemirror_mode": {
    "name": "ipython",
    "version": 3
   },
   "file_extension": ".py",
   "mimetype": "text/x-python",
   "name": "python",
   "nbconvert_exporter": "python",
   "pygments_lexer": "ipython3",
   "version": "3.9.13"
  }
 },
 "nbformat": 4,
 "nbformat_minor": 5
}
