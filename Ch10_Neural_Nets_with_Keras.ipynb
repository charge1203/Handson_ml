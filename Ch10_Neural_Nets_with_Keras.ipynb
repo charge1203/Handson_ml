{
  "nbformat": 4,
  "nbformat_minor": 0,
  "metadata": {
    "colab": {
      "provenance": [],
      "collapsed_sections": [],
      "toc_visible": true
    },
    "kernelspec": {
      "name": "python3",
      "display_name": "Python 3"
    },
    "language_info": {
      "name": "python"
    }
  },
  "cells": [
    {
      "cell_type": "markdown",
      "source": [
        "# Ch10 Neural Nets with Keras"
      ],
      "metadata": {
        "id": "kJO41GBEPGEM"
      }
    },
    {
      "cell_type": "markdown",
      "source": [
        "**인공신경망(artificial neural network)(ANN)**: 뇌에 있는 생물학적 뉴런의 네트워크에서 영감을 받은 머신러닝 모델<br>\n",
        "-> 이는 다재다능함, 강력함, 확장성 좋음"
      ],
      "metadata": {
        "id": "czPZFUOGPkkO"
      }
    },
    {
      "cell_type": "code",
      "execution_count": 2,
      "metadata": {
        "id": "hBzTaKE0O5zm"
      },
      "outputs": [],
      "source": [
        "import pandas as pd\n",
        "import numpy as np\n",
        "import os\n",
        "\n",
        "import sklearn\n",
        "assert sklearn.__version__ >= \"0.20\"\n",
        "\n",
        "import matplotlib as mpl\n",
        "import matplotlib.pyplot as plt\n",
        "%matplotlib inline\n",
        "\n",
        "# 노트북 실행 결과를 동일하게 유지하기 위해\n",
        "np.random.seed(42)\n",
        "\n",
        "import warnings\n",
        "warnings.filterwarnings('ignore')"
      ]
    },
    {
      "cell_type": "markdown",
      "source": [
        "# 10.1 생물학적 뉴런에서 인공 뉴런까지"
      ],
      "metadata": {
        "id": "q3HFBaXtQK2Q"
      }
    },
    {
      "cell_type": "markdown",
      "source": [
        "최초의 인경 신경망 구조: 명제 논리를 사용해 동물 뇌의 생물학적 뉴런이 복잡한 계산을 위해 어떻게 상호작용하는지에 대한 간단한 계산 모델 제시"
      ],
      "metadata": {
        "id": "IGoV4gI5QOgp"
      }
    },
    {
      "cell_type": "markdown",
      "source": [
        "최근 인공 신경망이 우리 생활에 커다란 영향을 줄 것이라는 근거\n",
        "- 신경망을 훈련하기 위한 데이터가 엄청나게 많아짐\n",
        "- 1990년대 이후 컴퓨터 하드웨어가 크게 발전\n",
        "- 훈련 알고리즘 향상\n",
        "- 일부 인공 신경망의 이론상 제한이 실전에서는 문제가 되지 않는다 밝혀짐\n",
        "- 인공 신경망이 투자와 진보의 선순환에 들어감"
      ],
      "metadata": {
        "id": "2p5Ic6AKQOi6"
      }
    },
    {
      "cell_type": "markdown",
      "source": [
        "## 10.1.1 생물학적 뉴런"
      ],
      "metadata": {
        "id": "r1mR6VwGQOlS"
      }
    },
    {
      "cell_type": "markdown",
      "source": [
        "생물학적 신경망(biological neural network)(BNN) "
      ],
      "metadata": {
        "id": "e_QTXid7QOnm"
      }
    },
    {
      "cell_type": "markdown",
      "source": [
        "## 10.1.2 뉴런을 사용한 논리 연산"
      ],
      "metadata": {
        "id": "ZcHqMQt_QOps"
      }
    },
    {
      "cell_type": "markdown",
      "source": [
        "인공 뉴런(artificial neuron): 생물학적 뉴런에서 착안한 매우 단순한 신경망 모델<br>\n",
        "- 하나 이상의 이진(on/off) 입력과 이진 출력 하나를 가짐\n",
        "- 단순히 입력이 일정 개수만큼 활성화되었을 때 출력을 내보냄\n",
        "- 인공 뉴런의 네트워크를 만들어 어떤 논리 명제도 계산할 수 있다는 것을 증명"
      ],
      "metadata": {
        "id": "XfrTen86QOsS"
      }
    },
    {
      "cell_type": "markdown",
      "source": [
        "## 10.1.3 퍼셉트론"
      ],
      "metadata": {
        "id": "kdgHhitZQOuY"
      }
    },
    {
      "cell_type": "markdown",
      "source": [
        "**퍼셉트론(perceptron)**: 가장 간단한 인공 신경망 구조 중 하나<br>\n",
        "TLU(threshold logic unit) 또는 LTU(linear threshold unit)라고 불리는 조금 다른 형태의 인공 뉴런을 기반으로 함<br>\n",
        "-> 입력과 출력이 이진이 아닌 어떤 숫자이고, 각각의 입력 연결은 가중치와 연관되어 있음\n",
        "\n"
      ],
      "metadata": {
        "id": "KxVuygL7QOw_"
      }
    },
    {
      "cell_type": "markdown",
      "source": [
        "TLU는 입력의 가중치 합을 계산한 뒤 계산된 합에 **계단 함수**(step function)을 적용하여 결과 출력"
      ],
      "metadata": {
        "id": "UfBdkUiZQOz4"
      }
    },
    {
      "cell_type": "markdown",
      "source": [
        "**헤비사이드 계단 함수**(Heaviside step function): 퍼셉트론에서 가장 널리 사용되는 계단함수<br>\n",
        "$heaviside(z)= \\begin{cases}0&z<0\\\\ 1&z\\geq 0\\end{cases} , \\  \\  sgn(z)=\\begin{cases}-1&z<0\\\\ 0&z=0\\\\ +1&z>0\\end{cases} $"
      ],
      "metadata": {
        "id": "YfPq_ZhYURhA"
      }
    },
    {
      "cell_type": "markdown",
      "source": [
        "하나의 TLU는 간단한 선형 이진 분류 문제에 사용할 수 있음<br>\n",
        "i) 입력의 선형 조합을 계산해서 그 결과가 임곗값을 넘으면 양성 클래스 출력<br>\n",
        "ii) 그렇지 않으면 음성 클래스 출력"
      ],
      "metadata": {
        "id": "6S6zzS7uURj-"
      }
    },
    {
      "cell_type": "markdown",
      "source": [
        "퍼셉트론은 층이 하나뿐인 TLU로 구성. 각 TLU는 모든 입력에 연결되어 있음<br>\n",
        "**완전 연결 층**(fully connected layer) 또는 **밀집층**(dense layer): 한 층에 있는 모든 뉴런이 이전 층의 모든 뉴런과 연결되어 있을 때의 층<br>\n",
        "**입력 뉴런**(input neuron): 퍼셉트론의 입력이 주입되는 곳<br>\n",
        "-> 이 뉴런은 어떤 입력이 주입되든 그냥 출력으로 통과<br>\n",
        "**입력층**(input layer): 모두 입력 뉴런을 구성, 보통 거기에 **편향** 특성이 더해짐<br>\n",
        "=> 전형적으로 이 편향 특성은 항상 1을 출력하는 특별한 종류의 뉴런인 **편향 뉴런**(bias neuron)으로 표현"
      ],
      "metadata": {
        "id": "o6yrePUcURl4"
      }
    },
    {
      "cell_type": "markdown",
      "source": [
        "** 예시: 입력 2개, 출력 3개로 구성된 퍼셉트론<br>\n",
        "        해당 퍼셉트론은 샘플을 세 개의 다른 이진 클래스로 동시에 분류할 수 있으므로 다중 레이블 분류기(multilabel classifier)"
      ],
      "metadata": {
        "id": "LXNyiG30URoP"
      }
    },
    {
      "cell_type": "markdown",
      "source": [
        "선형 대수 이용하여 한 번에 여러 샘플에 대해 인공 뉴런 층 출력 계산<br>\n",
        "`완전 연결층의  출력 계산`<br>\n",
        "$\\  \\  h_{\\mathbf{W} ,b}(\\mathbf{X} )=\\phi (\\mathbf{X} \\mathbf{W} +\\mathbf{b} )$\n",
        "- $\\mathbf{X}$는 입력 특성의 행렬 나타냄. 행: 샘플, 열: 특성\n",
        "- 가중치 행렬 $\\mathbf{W}$는 편향 뉴런을 제외한 모든 연결 가중치 포함. 이 행렬의 행은 입력 뉴런에 해당하고 열은 출력층에 있는 인공 뉴런에 해당.\n",
        "- 편향 벡터 $\\mathbf{b}$는 편향 뉴런과 인공 뉴런 사이의 모든 연결 가중치 포함. 인공 뉴런마다 하나의 편향값 있음\n",
        "- $\\phi$는 활성화 함수(activation function). 인공 뉴런이 TLU인 경우 이 함수는 계단 함수(step function)"
      ],
      "metadata": {
        "id": "Micjr6MdUUxE"
      }
    },
    {
      "cell_type": "markdown",
      "source": [
        "퍼셉트론 훈련 방법<br>\n",
        "-> 헤브의 규칙(Hebb's Rule)에 영감 받음 <br>\n",
        "=> 헤브의 규칙: 두 뉴런이 동시에 활성화될 때마다 이들 사이의 연결 가중치가 증가하는 경향이 있다.\n",
        "- 퍼셉트론은 네트워크가 예측할 때 만드는 오차를 반영하도록 조금 변형된 규칙을 사용하여 훈련됨\n",
        "- 퍼셉트론 학습 규칙은 오차가 감소되도록 연결을 강화 (퍼셉트론 한 번에 한 개의 샘플이 주입되면 각 샘플에 대해 예측이 만들어짐)\n",
        "- 잘못된 예측을 하는 모든 출력 뉴런에 대해 올바른 예측을 만들 수 있도록 입력에 연결된 가중치 강화"
      ],
      "metadata": {
        "id": "KUmWs4ehUUzb"
      }
    },
    {
      "cell_type": "markdown",
      "source": [
        "`퍼셉트론 학습 규칙`<br>\n",
        "$w^{(next \\ step)}_{i,j} \\ = \\ w_{i,j} \\ + \\ \\eta (y_{j}-\\hat{y_{j}})x_{i}$<br>\n",
        "- $w_{i,j}$는 $i$번째 입력 뉴런과 $j$번째 출력 뉴런 사이를 연결하는 가중치\n",
        "- $x_i$는 현재 훈련 샘플의 $i$번째 뉴런의 입력값\n",
        "- $\\hat{y_j}$는 현재 훈련 샘플의 $j$번째 출력 뉴런의 출력값\n",
        "- $y_j$는 현재 훈련 샘플의 $j$번째 출력 뉴런의 타깃값\n",
        "- \\eta는 학습률"
      ],
      "metadata": {
        "id": "ktU58v1ggaSz"
      }
    },
    {
      "cell_type": "markdown",
      "source": [
        "**퍼셉트론 수렴 이론**(perceptron convergence)<Br>\n",
        ": 각 출력 뉴런의 결정 경계는 선형이므로 퍼셉트론도 복잡한 패턴을 학습하지 못함. 하지만 훈련 샘플이 선형적으로 구분될 수 있다면 이 알고리즘이 정답에 수렴한다는 이론"
      ],
      "metadata": {
        "id": "b6sGsbbxUU1f"
      }
    },
    {
      "cell_type": "markdown",
      "source": [
        "사이킷런은 하나의 TLU 네트워크를 구현한 Perceptron 클래스 제공"
      ],
      "metadata": {
        "id": "ntmgneUJjBH7"
      }
    },
    {
      "cell_type": "code",
      "source": [
        "import numpy as np\n",
        "from sklearn.datasets import load_iris\n",
        "from sklearn.linear_model import Perceptron\n",
        "\n",
        "iris = load_iris()\n",
        "X = iris.data[:, (2, 3)]  # 꽃잎 길이, 꽃잎 너비\n",
        "y = (iris.target == 0).astype(np.int)\n",
        "\n",
        "per_clf = Perceptron(max_iter=1000, tol=1e-3, random_state=42)\n",
        "per_clf.fit(X, y)\n",
        "\n",
        "y_pred = per_clf.predict([[2, 0.5]])"
      ],
      "metadata": {
        "id": "OrQMD8_3gtJp"
      },
      "execution_count": 3,
      "outputs": []
    },
    {
      "cell_type": "markdown",
      "source": [
        "=> 퍼셉트론 학습 알고리즘이 확률적 경사 하강법과 유사함을 볼 수 있음<br>\n",
        "사이킷런의 Perceptron 클래스는 매개변수가 `loss=\"perceptron, learning_rate=\"constant, eta0=1(학습률), penalty=None(규제없음)`인 SGDClassifier와 같음<br>\n",
        "logistic regression classifier와 달리 perceptron은 클래스 확률을 제공하지 않으며 고정된 임곗값을 기준으로 예측을 만듦 => 퍼셉트론보다 로지스틱 회귀가 더 선호"
      ],
      "metadata": {
        "id": "qAnbmHc-UU3z"
      }
    },
    {
      "cell_type": "markdown",
      "source": [
        "**다층 퍼셉트론**(MLP): 퍼셉트론을 여러 개 쌓아올려 일부 제약을 줄인 인공 신경망<br>\n",
        "-> 다층 퍼셉트론은 XOR 문제를 풀 수 있음"
      ],
      "metadata": {
        "id": "Qwl1vGPijgQ8"
      }
    },
    {
      "cell_type": "markdown",
      "source": [
        "## 10.1.4 다층 퍼셉트론과 역전파"
      ],
      "metadata": {
        "id": "RP2VJMAAUU6J"
      }
    },
    {
      "cell_type": "markdown",
      "source": [
        "**다층 퍼셉트론**(MLP)은 (통과)**입력층**(input layer) 하나와 **은닉층**(hidden layer)이라 불리는 하나 이상의 TLU층과 마지막 **출력층**(output layer)로 구성<br>\n",
        "입력층과 가까운 층을 보통 하위층(lower layer), 출력에 가까운 층을 상위층(upper layer)<br>\n",
        "출력층을 제외하고 모든 층은 편향 뉴런을 포함하며 다음 층과 완전히 연결되어있음"
      ],
      "metadata": {
        "id": "EsIsbx-0UU8h"
      }
    },
    {
      "cell_type": "markdown",
      "source": [
        "**심층 신경망**(deep neural network)(DNN): 은닉층을 여러 개 쌓아 올린 인공 신경망<br>\n",
        "-> 딥러닝은 심층 신경망을 연구하는 분야이며 조금 더 일반적으로는 연산이 연속하여 길게 연결된 모델 연구"
      ],
      "metadata": {
        "id": "V4pJvaRpUU-6"
      }
    },
    {
      "cell_type": "markdown",
      "source": [
        "**역전파**(backpropagation) 훈련 알고리즘: 효율적인 기법으로 그레이디언트를 자동으로 계산하는 경사 하강법 <br>\n",
        "=> 네트워크를 두 번(정방향 한 번, 역방향 한 번) 통과하는 것만으로 역전파 알고리즘은 모든 모델 파라미터에 대한 네트워크 오차의 그레이디언트를 계산할 수 있음. 오차를 감소시키기 위해 각 연결 가중치와 편향값이 어떻게 바뀌어야 할지 알 수 있음.\n",
        "\n",
        "1. 한 번에 하나의 미니 배치씩 진행. 전체 훈련 세트를 처리. 이를 여러 번 반복 (여기서 반복을 에포크(epoch)라 함)\n",
        "2. 각 미니배치는 네트워크의 입력층으로 전달되어 첫 번째 은닉층으로 보내짐\n",
        "3. 그다음 (미니 매치에 있는 모든 샘플에 대해) 해당 층에 있는 모든 뉴런의 출력 계산\n",
        "이 결과는 다음 층으로 전달<br>\n",
        "다시 이 층의 출력을 계산하고 결과는 다음 층으로 전달<br>\n",
        "이런 식으로 마지막 층인 출력층의 출력을 계산할 때까지 계속 진행됨<br>\n",
        "=> 이를 **정방향 계산**(forward pass)이라 함\n",
        "4. 그다음 알고리즘이 네트워크의 출력 오차 측정 (손실 함수를 사용하여 기대하는 출력과 네트워크의 실제 출력을 비교하고 오차 측정 값 반환)\n",
        "5. 각 출력 연결이 이 오차에 기여하는 정도를 계산 (연쇄 법칙(chain rule) 적용하면 빠르고 정확히 수행 가능)\n",
        "6. 이 알고리즘은 또 다시 연쇄 법칙을 사용하여 이전 층의 연결 가중치가 이 오차의 기여 정도에 얼마나 기여했는지 측정<Br>\n",
        "이는 입력층에 도달할 때까지 역방향으로 계속됨\n",
        "7. 마지막으로 경사 하강법을 수행하여 방금 계산한 오차 그레이디언트를 사용해 네트워크에 있는 모든 연결 가중치를 수정\n",
        "\n"
      ],
      "metadata": {
        "id": "tw7yQFPCUVBb"
      }
    },
    {
      "cell_type": "markdown",
      "source": [
        "**정리**<br>\n",
        "각 훈련 샘플에 대해 역전파 알고리즘이 먼저 예측을 만들고 (정방향 계산) 오차 측정 -> 역방향으로 각 층을 거치면서 각 연결이 오차에 기여한 정도를 측정 (역방향 계산) -> 이 오차가 감소하도록 가중치 조절 (경사 하강법 단계)"
      ],
      "metadata": {
        "id": "IA9yQD80UVEC"
      }
    },
    {
      "cell_type": "markdown",
      "source": [
        "주의) 은닉층의 연결 가중치를 랜덤하게 초기화하는 것이 중요"
      ],
      "metadata": {
        "id": "9XAnQD7fX7Q2"
      }
    },
    {
      "cell_type": "markdown",
      "source": [
        "이 알고리즘을 잘 작도하기 위해 다층 퍼셉트론 구조에 중요한 변화를 주었음 => **계단 함수를 로지스틱 함수로 바꿈**<br>\n",
        ": 계단 함수는 수평선 뿐이라 계산할 그레이디언트가 없음. 반면 로지스틱 함수는 어디서든지 0이 아닌 그레이디언트가 잘 정의되어있음<Br><br>\n",
        "\n",
        "** 로지스틱 함수 외에 이용할 수 있는 다른 활성화 함수\n",
        "- 하이퍼볼릭 탄젠트 함수 (쌍곡 탄젠트 함수)\n",
        "- ReLU 함수"
      ],
      "metadata": {
        "id": "OunBGg_-oo0u"
      }
    },
    {
      "cell_type": "markdown",
      "source": [
        "** 활성화 함수를 필요한 이유<br>\n",
        "=> 만약 선형 변환을 여러 개 연결하여도 얻는 것은 선형 변환 뿐. 따라서 층 사이에 비선형성을 추가하지 않으면 아무리 층을 많이 쌓아도 하나의 층과 동일해짐."
      ],
      "metadata": {
        "id": "nM0OO5iDoo5A"
      }
    },
    {
      "cell_type": "markdown",
      "source": [
        "## 10.1.5 회귀를 위한 다층 퍼셉트론"
      ],
      "metadata": {
        "id": "0BkdukAGX7TT"
      }
    },
    {
      "cell_type": "markdown",
      "source": [
        "다층 퍼셉트론은 **회귀 작업**에서 사용 가능<br>\n",
        "값 하나를 예측하는 데에는 출력 뉴런 하나만 필요. 이 때 뉴런의 출력이 예측된 값.<br>\n",
        "**다변량 회귀**(multivariate regression)에서는 동시에 여러 값을 예측하기 때문에 출력 차원마다 출력 뉴런이 하나씩 필요"
      ],
      "metadata": {
        "id": "XY5z1y-cX7VV"
      }
    },
    {
      "cell_type": "markdown",
      "source": [
        "일반적으로 회귀용 다층 퍼셉트론을 만들 때 출력 뉴런에 활성화 함수 사용하지 않고 어떤 범위의 값도 출력되도록 함<br>\n",
        "i) 출력이 항상 양수여야할 때: 출력층에 ReLU 활성화 함수 사용, 또는 softplus 활성화 함수 사용<br>\n",
        "** softplus 함수: $z$가 음수일 때 0에 가까워지고 $z$가 큰 양수일수록 $z$에 가까움<br>\n",
        "ii) 어떤 범위 안의 값을 예측하고 싶을 때: 로지스틱 함수(0 ~ 1) 또는 하이퍼볼릭 탄젠트 함수(-1 ~ 1)를 사용하여 레이블의 스케일을 적절한 범위로 조정"
      ],
      "metadata": {
        "id": "iSJfVE4tqzjW"
      }
    },
    {
      "cell_type": "markdown",
      "source": [
        "훈련에 사용하는 손실함수: 전형적으로 평균 제곱 오차<br>\n",
        "if 훈련 세트에 이상치가 많다면 평균 절댓값 오차 사용<bR>\n",
        "혹은 이 둘을 조합한 후버(Huber) 손실 사용 (후버손실: 오차가 임계값보다 작을 때 이차함수, 클 때 선형 함수)"
      ],
      "metadata": {
        "id": "78sozSlarsvF"
      }
    },
    {
      "cell_type": "markdown",
      "source": [
        "회귀 MLP의 전형적인 구조\n",
        "\n",
        "|하이퍼파라미터  |일반적인 값  |\n",
        "|------|---|\n",
        "|입력 뉴런 수|특성마다 하나|\n",
        "|은닉층 수 |문제에 따라 다름, 일반적으로 1에서 5 사이|\n",
        "|은닉층의 뉴런 수|문제에 따라 다름, 일반적으로 10에서 100 사이|\n",
        "|출력 뉴런 수|예측 차원마다 하나|\n",
        "|은닉층의 활성화 함수|ReLU (또는 SELU)|\n",
        "|출력층의 활성화 함수|없음, 또는 (출력 양수) ReLU/softplus, 또는 (출력 범위) logistic/tanh 사용|\n",
        "|손실 함수|MSE나 (이상치 있다면)MAE/Huber|"
      ],
      "metadata": {
        "id": "IcjGQzYvX7Xn"
      }
    },
    {
      "cell_type": "markdown",
      "source": [
        "## 10.1.6 분류를 위한 다층 퍼셉트론"
      ],
      "metadata": {
        "id": "d5L2OI4EX7ad"
      }
    },
    {
      "cell_type": "markdown",
      "source": [
        "다층 퍼셉트론은 **분류** 작업에도 사용 가능<br>\n",
        "다층 퍼셉트론은 다중 레이블 이진 분류(multilabel binary classification) 문제 쉽게 처리 가능<br>\n",
        "손실 함수는 확률 분포를 예측해야 하므로 일반적으로 크로스 엔트로피 손실(cross-entropy loss)(또는 로그 손실(log loss)라고도 부름) 사용하는 것이 좋음"
      ],
      "metadata": {
        "id": "OYVqPMKgX7dC"
      }
    },
    {
      "cell_type": "markdown",
      "source": [
        "분류 MLP의 전형적인 구조\n",
        "\n",
        "|하이퍼파라미터  |이진 분류  | 다중 레이블 분류 | 다중 분류|\n",
        "|------|---|---|---|\n",
        "|입력층과 은닉층|회귀와 동일|회귀와 동일|회귀와 동일|\n",
        "|출력 뉴런 수|1개|레이블마다 1개|클래스마다 1개|\n",
        "|출력층의 활성화 함수|로지스틱 함수|로지스틱 함수|소프트맥스 함수|\n",
        "|손실 함수|크로스 엔트로피|크로스 엔트로피|크로스 엔트로피|\n"
      ],
      "metadata": {
        "id": "6AgWzWpIYDtd"
      }
    },
    {
      "cell_type": "markdown",
      "source": [
        "# 10.2 케라스로 다층 퍼셉트론 구현하기"
      ],
      "metadata": {
        "id": "mDKodNh5YD0e"
      }
    },
    {
      "cell_type": "markdown",
      "source": [
        "케라스(Keras)는 모든 종류의 신경망을 손쉽게 만들고 훈련, 평가, 실행할 수 있는 고수준 딥러닝 API"
      ],
      "metadata": {
        "id": "ZavJmqsHYHfp"
      }
    },
    {
      "cell_type": "markdown",
      "source": [
        "## 10.2.1 Tensorflow2 설치"
      ],
      "metadata": {
        "id": "RI1wFs-uYHig"
      }
    },
    {
      "cell_type": "markdown",
      "source": [
        "** local에서의 설치 실패 => colab 이용"
      ],
      "metadata": {
        "id": "wWTtHWJaYHkk"
      }
    },
    {
      "cell_type": "code",
      "source": [
        "import tensorflow as tf\n",
        "from tensorflow import keras"
      ],
      "metadata": {
        "id": "cb2MsQJ0PjiY"
      },
      "execution_count": 4,
      "outputs": []
    },
    {
      "cell_type": "code",
      "source": [
        "!python -m pip install -U tensorflow"
      ],
      "metadata": {
        "colab": {
          "base_uri": "https://localhost:8080/"
        },
        "id": "5QPTouHDYlYb",
        "outputId": "8c48f3df-9214-4430-ed5d-a1c70eba502a"
      },
      "execution_count": 5,
      "outputs": [
        {
          "output_type": "stream",
          "name": "stdout",
          "text": [
            "Looking in indexes: https://pypi.org/simple, https://us-python.pkg.dev/colab-wheels/public/simple/\n",
            "Requirement already satisfied: tensorflow in /usr/local/lib/python3.7/dist-packages (2.9.2)\n",
            "Collecting tensorflow\n",
            "  Downloading tensorflow-2.10.0-cp37-cp37m-manylinux_2_17_x86_64.manylinux2014_x86_64.whl (578.0 MB)\n",
            "\u001b[K     |████████████████████████████████| 578.0 MB 19 kB/s \n",
            "\u001b[?25hRequirement already satisfied: keras-preprocessing>=1.1.1 in /usr/local/lib/python3.7/dist-packages (from tensorflow) (1.1.2)\n",
            "Requirement already satisfied: termcolor>=1.1.0 in /usr/local/lib/python3.7/dist-packages (from tensorflow) (2.1.0)\n",
            "Requirement already satisfied: astunparse>=1.6.0 in /usr/local/lib/python3.7/dist-packages (from tensorflow) (1.6.3)\n",
            "Collecting keras<2.11,>=2.10.0\n",
            "  Downloading keras-2.10.0-py2.py3-none-any.whl (1.7 MB)\n",
            "\u001b[K     |████████████████████████████████| 1.7 MB 54.2 MB/s \n",
            "\u001b[?25hRequirement already satisfied: packaging in /usr/local/lib/python3.7/dist-packages (from tensorflow) (21.3)\n",
            "Requirement already satisfied: libclang>=13.0.0 in /usr/local/lib/python3.7/dist-packages (from tensorflow) (14.0.6)\n",
            "Requirement already satisfied: absl-py>=1.0.0 in /usr/local/lib/python3.7/dist-packages (from tensorflow) (1.3.0)\n",
            "Requirement already satisfied: gast<=0.4.0,>=0.2.1 in /usr/local/lib/python3.7/dist-packages (from tensorflow) (0.4.0)\n",
            "Requirement already satisfied: google-pasta>=0.1.1 in /usr/local/lib/python3.7/dist-packages (from tensorflow) (0.2.0)\n",
            "Collecting tensorflow-estimator<2.11,>=2.10.0\n",
            "  Downloading tensorflow_estimator-2.10.0-py2.py3-none-any.whl (438 kB)\n",
            "\u001b[K     |████████████████████████████████| 438 kB 59.2 MB/s \n",
            "\u001b[?25hRequirement already satisfied: grpcio<2.0,>=1.24.3 in /usr/local/lib/python3.7/dist-packages (from tensorflow) (1.50.0)\n",
            "Collecting tensorboard<2.11,>=2.10\n",
            "  Downloading tensorboard-2.10.1-py3-none-any.whl (5.9 MB)\n",
            "\u001b[K     |████████████████████████████████| 5.9 MB 59.5 MB/s \n",
            "\u001b[?25hRequirement already satisfied: typing-extensions>=3.6.6 in /usr/local/lib/python3.7/dist-packages (from tensorflow) (4.1.1)\n",
            "Collecting flatbuffers>=2.0\n",
            "  Downloading flatbuffers-22.10.26-py2.py3-none-any.whl (26 kB)\n",
            "Requirement already satisfied: opt-einsum>=2.3.2 in /usr/local/lib/python3.7/dist-packages (from tensorflow) (3.3.0)\n",
            "Requirement already satisfied: h5py>=2.9.0 in /usr/local/lib/python3.7/dist-packages (from tensorflow) (3.1.0)\n",
            "Requirement already satisfied: six>=1.12.0 in /usr/local/lib/python3.7/dist-packages (from tensorflow) (1.15.0)\n",
            "Requirement already satisfied: protobuf<3.20,>=3.9.2 in /usr/local/lib/python3.7/dist-packages (from tensorflow) (3.19.6)\n",
            "Requirement already satisfied: setuptools in /usr/local/lib/python3.7/dist-packages (from tensorflow) (57.4.0)\n",
            "Requirement already satisfied: wrapt>=1.11.0 in /usr/local/lib/python3.7/dist-packages (from tensorflow) (1.14.1)\n",
            "Requirement already satisfied: numpy>=1.20 in /usr/local/lib/python3.7/dist-packages (from tensorflow) (1.21.6)\n",
            "Requirement already satisfied: tensorflow-io-gcs-filesystem>=0.23.1 in /usr/local/lib/python3.7/dist-packages (from tensorflow) (0.27.0)\n",
            "Requirement already satisfied: wheel<1.0,>=0.23.0 in /usr/local/lib/python3.7/dist-packages (from astunparse>=1.6.0->tensorflow) (0.38.3)\n",
            "Requirement already satisfied: cached-property in /usr/local/lib/python3.7/dist-packages (from h5py>=2.9.0->tensorflow) (1.5.2)\n",
            "Requirement already satisfied: requests<3,>=2.21.0 in /usr/local/lib/python3.7/dist-packages (from tensorboard<2.11,>=2.10->tensorflow) (2.23.0)\n",
            "Requirement already satisfied: google-auth<3,>=1.6.3 in /usr/local/lib/python3.7/dist-packages (from tensorboard<2.11,>=2.10->tensorflow) (2.14.1)\n",
            "Requirement already satisfied: markdown>=2.6.8 in /usr/local/lib/python3.7/dist-packages (from tensorboard<2.11,>=2.10->tensorflow) (3.4.1)\n",
            "Requirement already satisfied: tensorboard-data-server<0.7.0,>=0.6.0 in /usr/local/lib/python3.7/dist-packages (from tensorboard<2.11,>=2.10->tensorflow) (0.6.1)\n",
            "Requirement already satisfied: tensorboard-plugin-wit>=1.6.0 in /usr/local/lib/python3.7/dist-packages (from tensorboard<2.11,>=2.10->tensorflow) (1.8.1)\n",
            "Requirement already satisfied: werkzeug>=1.0.1 in /usr/local/lib/python3.7/dist-packages (from tensorboard<2.11,>=2.10->tensorflow) (1.0.1)\n",
            "Requirement already satisfied: google-auth-oauthlib<0.5,>=0.4.1 in /usr/local/lib/python3.7/dist-packages (from tensorboard<2.11,>=2.10->tensorflow) (0.4.6)\n",
            "Requirement already satisfied: cachetools<6.0,>=2.0.0 in /usr/local/lib/python3.7/dist-packages (from google-auth<3,>=1.6.3->tensorboard<2.11,>=2.10->tensorflow) (5.2.0)\n",
            "Requirement already satisfied: pyasn1-modules>=0.2.1 in /usr/local/lib/python3.7/dist-packages (from google-auth<3,>=1.6.3->tensorboard<2.11,>=2.10->tensorflow) (0.2.8)\n",
            "Requirement already satisfied: rsa<5,>=3.1.4 in /usr/local/lib/python3.7/dist-packages (from google-auth<3,>=1.6.3->tensorboard<2.11,>=2.10->tensorflow) (4.9)\n",
            "Requirement already satisfied: requests-oauthlib>=0.7.0 in /usr/local/lib/python3.7/dist-packages (from google-auth-oauthlib<0.5,>=0.4.1->tensorboard<2.11,>=2.10->tensorflow) (1.3.1)\n",
            "Requirement already satisfied: importlib-metadata>=4.4 in /usr/local/lib/python3.7/dist-packages (from markdown>=2.6.8->tensorboard<2.11,>=2.10->tensorflow) (4.13.0)\n",
            "Requirement already satisfied: zipp>=0.5 in /usr/local/lib/python3.7/dist-packages (from importlib-metadata>=4.4->markdown>=2.6.8->tensorboard<2.11,>=2.10->tensorflow) (3.10.0)\n",
            "Requirement already satisfied: pyasn1<0.5.0,>=0.4.6 in /usr/local/lib/python3.7/dist-packages (from pyasn1-modules>=0.2.1->google-auth<3,>=1.6.3->tensorboard<2.11,>=2.10->tensorflow) (0.4.8)\n",
            "Requirement already satisfied: certifi>=2017.4.17 in /usr/local/lib/python3.7/dist-packages (from requests<3,>=2.21.0->tensorboard<2.11,>=2.10->tensorflow) (2022.9.24)\n",
            "Requirement already satisfied: idna<3,>=2.5 in /usr/local/lib/python3.7/dist-packages (from requests<3,>=2.21.0->tensorboard<2.11,>=2.10->tensorflow) (2.10)\n",
            "Requirement already satisfied: urllib3!=1.25.0,!=1.25.1,<1.26,>=1.21.1 in /usr/local/lib/python3.7/dist-packages (from requests<3,>=2.21.0->tensorboard<2.11,>=2.10->tensorflow) (1.24.3)\n",
            "Requirement already satisfied: chardet<4,>=3.0.2 in /usr/local/lib/python3.7/dist-packages (from requests<3,>=2.21.0->tensorboard<2.11,>=2.10->tensorflow) (3.0.4)\n",
            "Requirement already satisfied: oauthlib>=3.0.0 in /usr/local/lib/python3.7/dist-packages (from requests-oauthlib>=0.7.0->google-auth-oauthlib<0.5,>=0.4.1->tensorboard<2.11,>=2.10->tensorflow) (3.2.2)\n",
            "Requirement already satisfied: pyparsing!=3.0.5,>=2.0.2 in /usr/local/lib/python3.7/dist-packages (from packaging->tensorflow) (3.0.9)\n",
            "Installing collected packages: tensorflow-estimator, tensorboard, keras, flatbuffers, tensorflow\n",
            "  Attempting uninstall: tensorflow-estimator\n",
            "    Found existing installation: tensorflow-estimator 2.9.0\n",
            "    Uninstalling tensorflow-estimator-2.9.0:\n",
            "      Successfully uninstalled tensorflow-estimator-2.9.0\n",
            "  Attempting uninstall: tensorboard\n",
            "    Found existing installation: tensorboard 2.9.1\n",
            "    Uninstalling tensorboard-2.9.1:\n",
            "      Successfully uninstalled tensorboard-2.9.1\n",
            "  Attempting uninstall: keras\n",
            "    Found existing installation: keras 2.9.0\n",
            "    Uninstalling keras-2.9.0:\n",
            "      Successfully uninstalled keras-2.9.0\n",
            "  Attempting uninstall: flatbuffers\n",
            "    Found existing installation: flatbuffers 1.12\n",
            "    Uninstalling flatbuffers-1.12:\n",
            "      Successfully uninstalled flatbuffers-1.12\n",
            "  Attempting uninstall: tensorflow\n",
            "    Found existing installation: tensorflow 2.9.2\n",
            "    Uninstalling tensorflow-2.9.2:\n",
            "      Successfully uninstalled tensorflow-2.9.2\n",
            "Successfully installed flatbuffers-22.10.26 keras-2.10.0 tensorboard-2.10.1 tensorflow-2.10.0 tensorflow-estimator-2.10.0\n"
          ]
        }
      ]
    },
    {
      "cell_type": "code",
      "source": [
        "print(tf.__version__)\n",
        "print(keras.__version__)"
      ],
      "metadata": {
        "colab": {
          "base_uri": "https://localhost:8080/"
        },
        "id": "WSlRTgEnYcy8",
        "outputId": "895f3bde-7446-444f-d4db-42d28efacdc4"
      },
      "execution_count": 6,
      "outputs": [
        {
          "output_type": "stream",
          "name": "stdout",
          "text": [
            "2.9.2\n",
            "2.9.0\n"
          ]
        }
      ]
    },
    {
      "cell_type": "markdown",
      "source": [
        "## 10.2.2 시퀀셜 API 사용하여 이미지 분류기 만들기"
      ],
      "metadata": {
        "id": "7w-UD0q8YHnW"
      }
    },
    {
      "cell_type": "markdown",
      "source": [
        "패션(Fashion) MNIST 데이터셋 사용"
      ],
      "metadata": {
        "id": "O5ricYLCvHBN"
      }
    },
    {
      "cell_type": "markdown",
      "source": [
        "### 케라스 사용하여 데이터셋 적재"
      ],
      "metadata": {
        "id": "B_SXY6zDu78X"
      }
    },
    {
      "cell_type": "code",
      "source": [
        "fashion_mnist = keras.datasets.fashion_mnist\n",
        "(X_train_full, y_train_full), (X_test, y_test) = fashion_mnist.load_data()"
      ],
      "metadata": {
        "colab": {
          "base_uri": "https://localhost:8080/"
        },
        "id": "IIPeBvqIu5N8",
        "outputId": "4e9063d9-7ba9-4716-d3bf-74656d1fc951"
      },
      "execution_count": 7,
      "outputs": [
        {
          "output_type": "stream",
          "name": "stdout",
          "text": [
            "Downloading data from https://storage.googleapis.com/tensorflow/tf-keras-datasets/train-labels-idx1-ubyte.gz\n",
            "29515/29515 [==============================] - 0s 0us/step\n",
            "Downloading data from https://storage.googleapis.com/tensorflow/tf-keras-datasets/train-images-idx3-ubyte.gz\n",
            "26421880/26421880 [==============================] - 0s 0us/step\n",
            "Downloading data from https://storage.googleapis.com/tensorflow/tf-keras-datasets/t10k-labels-idx1-ubyte.gz\n",
            "5148/5148 [==============================] - 0s 0us/step\n",
            "Downloading data from https://storage.googleapis.com/tensorflow/tf-keras-datasets/t10k-images-idx3-ubyte.gz\n",
            "4422102/4422102 [==============================] - 0s 0us/step\n"
          ]
        }
      ]
    },
    {
      "cell_type": "markdown",
      "source": [
        "28 x 28 크기의 배열:"
      ],
      "metadata": {
        "id": "IgSDnvj2Y1RW"
      }
    },
    {
      "cell_type": "code",
      "source": [
        "X_train_full.shape"
      ],
      "metadata": {
        "colab": {
          "base_uri": "https://localhost:8080/"
        },
        "id": "EgePSgS-vtTO",
        "outputId": "ddf24500-55f8-4c80-e1a0-6e47e23b9e24"
      },
      "execution_count": 8,
      "outputs": [
        {
          "output_type": "execute_result",
          "data": {
            "text/plain": [
              "(60000, 28, 28)"
            ]
          },
          "metadata": {},
          "execution_count": 8
        }
      ]
    },
    {
      "cell_type": "markdown",
      "source": [
        "각 픽셀의 강도는 바이트(0~255)로 표현:"
      ],
      "metadata": {
        "id": "APoSVNTRv1Tb"
      }
    },
    {
      "cell_type": "code",
      "source": [
        "X_train_full.dtype"
      ],
      "metadata": {
        "colab": {
          "base_uri": "https://localhost:8080/"
        },
        "id": "71t1LEBDv2H_",
        "outputId": "11023a4c-b151-4d24-dbca-51548cdb1920"
      },
      "execution_count": 9,
      "outputs": [
        {
          "output_type": "execute_result",
          "data": {
            "text/plain": [
              "dtype('uint8')"
            ]
          },
          "metadata": {},
          "execution_count": 9
        }
      ]
    },
    {
      "cell_type": "markdown",
      "source": [
        "검증 세트 만들기, 경사 하강법으로 신경망을 훈련하기 때문에 입력 특성 스케일 조정"
      ],
      "metadata": {
        "id": "JBtmWqKrY1T8"
      }
    },
    {
      "cell_type": "code",
      "source": [
        "X_valid, X_train = X_train_full[:5000] / 255., X_train_full[5000:] / 255.\n",
        "y_valid, y_train = y_train_full[:5000], y_train_full[5000:]\n",
        "X_test = X_test / 255."
      ],
      "metadata": {
        "id": "QB6gEbCYwXtJ"
      },
      "execution_count": 10,
      "outputs": []
    },
    {
      "cell_type": "markdown",
      "source": [
        "MNIST는 레이블에 해당하는 아이템을 나타내기 위해 클래스 이름의 리스트 필요:"
      ],
      "metadata": {
        "id": "otsTxGhwY1WU"
      }
    },
    {
      "cell_type": "code",
      "source": [
        "class_names = [\"T-shirt/top\", \"Trouser\", \"Pullover\", \"Dress\", \"Coat\",\n",
        "               \"Sandal\", \"Shirt\", \"Sneaker\", \"Bag\", \"Ankle boot\"]"
      ],
      "metadata": {
        "id": "tBQVUrocwnZS"
      },
      "execution_count": 11,
      "outputs": []
    },
    {
      "cell_type": "code",
      "source": [
        "class_names[y_train[0]]"
      ],
      "metadata": {
        "colab": {
          "base_uri": "https://localhost:8080/",
          "height": 36
        },
        "id": "NhNMMTpawqBO",
        "outputId": "99b586b6-b8e1-4d73-e6b9-dde13d15ea52"
      },
      "execution_count": 12,
      "outputs": [
        {
          "output_type": "execute_result",
          "data": {
            "text/plain": [
              "'Coat'"
            ],
            "application/vnd.google.colaboratory.intrinsic+json": {
              "type": "string"
            }
          },
          "metadata": {},
          "execution_count": 12
        }
      ]
    },
    {
      "cell_type": "markdown",
      "source": [
        "검증 세트는 5,000개의 이미지, 테스트 세트는 10,000개의 이미지:"
      ],
      "metadata": {
        "id": "BG1XqKUWwzxb"
      }
    },
    {
      "cell_type": "code",
      "source": [
        "print(X_valid.shape)\n",
        "print(X_test.shape)"
      ],
      "metadata": {
        "colab": {
          "base_uri": "https://localhost:8080/"
        },
        "id": "Uk85JzL_wqDz",
        "outputId": "a663bb4a-8c07-48cc-9918-b4821fadf5bc"
      },
      "execution_count": 13,
      "outputs": [
        {
          "output_type": "stream",
          "name": "stdout",
          "text": [
            "(5000, 28, 28)\n",
            "(10000, 28, 28)\n"
          ]
        }
      ]
    },
    {
      "cell_type": "markdown",
      "source": [
        "해당 데이터셋에 있는 샘플 이미지를 몇 개 출력해보기"
      ],
      "metadata": {
        "id": "_49HpXS2w7K7"
      }
    },
    {
      "cell_type": "code",
      "source": [
        "n_rows = 4\n",
        "n_cols = 10\n",
        "plt.figure(figsize=(n_cols * 1.2, n_rows * 1.2))\n",
        "for row in range(n_rows):\n",
        "    for col in range(n_cols):\n",
        "        index = n_cols * row + col\n",
        "        plt.subplot(n_rows, n_cols, index + 1)\n",
        "        plt.imshow(X_train[index], cmap=\"binary\", interpolation=\"nearest\")\n",
        "        plt.axis('off')\n",
        "        plt.title(class_names[y_train[index]], fontsize=12)\n",
        "plt.subplots_adjust(wspace=0.2, hspace=0.5)\n",
        "plt.show()"
      ],
      "metadata": {
        "colab": {
          "base_uri": "https://localhost:8080/",
          "height": 308
        },
        "id": "6heV3qeuwqGa",
        "outputId": "004b5407-5dfe-4a84-aae8-e9faf56d7875"
      },
      "execution_count": 14,
      "outputs": [
        {
          "output_type": "display_data",
          "data": {
            "text/plain": [
              "<Figure size 864x345.6 with 40 Axes>"
            ],
            "image/png": "[encoded data removed]"
          },
          "metadata": {
            "needs_background": "light"
          }
        }
      ]
    },
    {
      "cell_type": "markdown",
      "source": [
        "### 시퀀셜 API 사용하여 모델 만들기"
      ],
      "metadata": {
        "id": "R7Cn5lFUY1Yo"
      }
    },
    {
      "cell_type": "markdown",
      "source": [
        "두 개의 은닉층으로 이루어진 분류용 다층 퍼셉트론"
      ],
      "metadata": {
        "id": "lA8h-BlWxWMz"
      }
    },
    {
      "cell_type": "code",
      "source": [
        "model = keras.models.Sequential()\n",
        "model.add(keras.layers.Flatten(input_shape=[28, 28]))\n",
        "model.add(keras.layers.Dense(300, activation=\"relu\"))\n",
        "model.add(keras.layers.Dense(100, activation=\"relu\"))\n",
        "model.add(keras.layers.Dense(10, activation=\"softmax\"))"
      ],
      "metadata": {
        "id": "5tB8su-JxDe3"
      },
      "execution_count": 15,
      "outputs": []
    },
    {
      "cell_type": "markdown",
      "source": [
        "- 첫 번째 라인: Sequential 모델 생성. 순서대로 연결된 층을 일렬로 쌓아서 구성.\n",
        "- 첫 번째 층을 만들고 모델에 추가<br>\n",
        "Flatten층은 입력 이미지를 1D 배열로 변환. 이 층은 어떤 모델 파라미터도 가지지 않고 간단한 전처리 수행<br>\n",
        "모델의 첫 번째 층이므로 `input_shape` 지정 (여기에는 배치 크기 제외하고 샘플 크기만을 써야함)\n",
        "- 그다음 뉴런 300개 가진 Dense 은닉층 추가. ReLU 활성화 함수 사용. Dense 층마다 각자 가중치 행렬 관리. 이 행렬에는 층의 뉴런과 입력 사이의 모든 연결 가중치가 포함. 또한 (뉴런마다 하나씩 있는) 편향도 벡터로 관리. \n",
        "- 다음 뉴런 100개를 가진 두 번째 Dense 은닉층 추가. ReLU 활성화 함수 사용.\n",
        "- (클래스마다 하나씩) 뉴런 10개를 가진 Dense 출력층 추가. (배타적인 클래스이므로) softmax 활성화 함수 사용."
      ],
      "metadata": {
        "id": "0YO6sfofxERq"
      }
    },
    {
      "cell_type": "markdown",
      "source": [
        "층을 하나씩 추가하지 않고 Sequential 모델을 만들 때 층의 리스트를 전달할 수 있음"
      ],
      "metadata": {
        "id": "PV4FDLXdxFD7"
      }
    },
    {
      "cell_type": "code",
      "source": [
        "model = keras.models.Sequential([\n",
        "    keras.layers.Flatten(input_shape=[28, 28]),\n",
        "    keras.layers.Dense(300, activation=\"relu\"),\n",
        "    keras.layers.Dense(100, activation=\"relu\"),\n",
        "    keras.layers.Dense(10, activation=\"softmax\")\n",
        "])"
      ],
      "metadata": {
        "id": "NFnIMnQgxFKp"
      },
      "execution_count": 16,
      "outputs": []
    },
    {
      "cell_type": "markdown",
      "source": [
        "모델의 summary() 메서드는 모델에 있는 모든 층 출력<br>\n",
        "각 층의 이름, 출력 크기, 파라미터 개수가 출력<br>\n",
        "마지막에 훈련되는 파라미터와 훈련되지 않은 파라미터를 포함하여 전체 파라미터 개수를 출력"
      ],
      "metadata": {
        "id": "ZZDKEsYOxFRK"
      }
    },
    {
      "cell_type": "code",
      "source": [
        "model.summary()"
      ],
      "metadata": {
        "colab": {
          "base_uri": "https://localhost:8080/"
        },
        "id": "Ulk53G1jxFXr",
        "outputId": "af85f51f-4ba2-46e8-e5f6-84fda07b2f5c"
      },
      "execution_count": 17,
      "outputs": [
        {
          "output_type": "stream",
          "name": "stdout",
          "text": [
            "Model: \"sequential_1\"\n",
            "_________________________________________________________________\n",
            " Layer (type)                Output Shape              Param #   \n",
            "=================================================================\n",
            " flatten_1 (Flatten)         (None, 784)               0         \n",
            "                                                                 \n",
            " dense_3 (Dense)             (None, 300)               235500    \n",
            "                                                                 \n",
            " dense_4 (Dense)             (None, 100)               30100     \n",
            "                                                                 \n",
            " dense_5 (Dense)             (None, 10)                1010      \n",
            "                                                                 \n",
            "=================================================================\n",
            "Total params: 266,610\n",
            "Trainable params: 266,610\n",
            "Non-trainable params: 0\n",
            "_________________________________________________________________\n"
          ]
        }
      ]
    },
    {
      "cell_type": "code",
      "source": [
        "keras.utils.plot_model(model, \"my_fashion_mnist_model.png\", show_shapes=True)"
      ],
      "metadata": {
        "colab": {
          "base_uri": "https://localhost:8080/",
          "height": 533
        },
        "id": "c87C4R4wzh8P",
        "outputId": "6166ddd0-0131-49c7-ef8e-c57fe4f99979"
      },
      "execution_count": 18,
      "outputs": [
        {
          "output_type": "execute_result",
          "data": {
            "image/png": "[encoded data removed]",
            "text/plain": [
              "<IPython.core.display.Image object>"
            ]
          },
          "metadata": {},
          "execution_count": 18
        }
      ]
    },
    {
      "cell_type": "code",
      "source": [
        "model.layers"
      ],
      "metadata": {
        "colab": {
          "base_uri": "https://localhost:8080/"
        },
        "id": "-aHtGbZize3H",
        "outputId": "382d07c3-b3c3-496e-8504-17d16fd8f9e2"
      },
      "execution_count": 19,
      "outputs": [
        {
          "output_type": "execute_result",
          "data": {
            "text/plain": [
              "[<keras.layers.reshaping.flatten.Flatten at 0x7fd73a761790>,\n",
              " <keras.layers.core.dense.Dense at 0x7fd73a761710>,\n",
              " <keras.layers.core.dense.Dense at 0x7fd73a761d90>,\n",
              " <keras.layers.core.dense.Dense at 0x7fd73a761b90>]"
            ]
          },
          "metadata": {},
          "execution_count": 19
        }
      ]
    },
    {
      "cell_type": "code",
      "source": [
        "hidden1 = model.layers[1]"
      ],
      "metadata": {
        "id": "-HiiPlW7zvT8"
      },
      "execution_count": 20,
      "outputs": []
    },
    {
      "cell_type": "code",
      "source": [
        "hidden1.name"
      ],
      "metadata": {
        "colab": {
          "base_uri": "https://localhost:8080/",
          "height": 36
        },
        "id": "wkuaUDqNzvWR",
        "outputId": "922bc002-0712-47d6-fcf4-577299a1a4eb"
      },
      "execution_count": 21,
      "outputs": [
        {
          "output_type": "execute_result",
          "data": {
            "text/plain": [
              "'dense_3'"
            ],
            "application/vnd.google.colaboratory.intrinsic+json": {
              "type": "string"
            }
          },
          "metadata": {},
          "execution_count": 21
        }
      ]
    },
    {
      "cell_type": "code",
      "source": [
        "model.get_layer('dense_3') is hidden1"
      ],
      "metadata": {
        "colab": {
          "base_uri": "https://localhost:8080/"
        },
        "id": "a0PuKlX0zvY2",
        "outputId": "ce3e9618-f166-47e2-c074-516486272e0b"
      },
      "execution_count": 22,
      "outputs": [
        {
          "output_type": "execute_result",
          "data": {
            "text/plain": [
              "True"
            ]
          },
          "metadata": {},
          "execution_count": 22
        }
      ]
    },
    {
      "cell_type": "markdown",
      "source": [
        "층의 모든 파라미터는 `get_weights()` 메서드와 `set_weights()` 메서드를 사용해 접근할 수 있음<br>\n",
        "Dense 층의 경우 연결 가중치와 편향이 모두 포함되어있음"
      ],
      "metadata": {
        "id": "fPtAeRPRzfBx"
      }
    },
    {
      "cell_type": "code",
      "source": [
        "weights, biases = hidden1.get_weights()"
      ],
      "metadata": {
        "id": "vIGEwluVzfJT"
      },
      "execution_count": 23,
      "outputs": []
    },
    {
      "cell_type": "code",
      "source": [
        "weights"
      ],
      "metadata": {
        "colab": {
          "base_uri": "https://localhost:8080/"
        },
        "id": "ssLfvVcr0Vm4",
        "outputId": "417e78e0-ba56-4b23-d6b2-9694e90cc64e"
      },
      "execution_count": 24,
      "outputs": [
        {
          "output_type": "execute_result",
          "data": {
            "text/plain": [
              "array([[-0.03679361,  0.02449588,  0.01850631, ..., -0.05402065,\n",
              "        -0.0122071 , -0.06754796],\n",
              "       [ 0.03858304, -0.00970447,  0.0408879 , ...,  0.00285714,\n",
              "        -0.03792779, -0.05684216],\n",
              "       [ 0.03436922,  0.04596813, -0.05064642, ..., -0.03903211,\n",
              "        -0.03777237, -0.0297312 ],\n",
              "       ...,\n",
              "       [-0.02302483, -0.06101149, -0.03124358, ...,  0.02439407,\n",
              "         0.00678386, -0.02166727],\n",
              "       [ 0.03184228, -0.00485849,  0.01837264, ..., -0.02474777,\n",
              "         0.00437061,  0.0317338 ],\n",
              "       [-0.05424199,  0.04803835,  0.05423401, ...,  0.00971263,\n",
              "         0.0488781 , -0.05767034]], dtype=float32)"
            ]
          },
          "metadata": {},
          "execution_count": 24
        }
      ]
    },
    {
      "cell_type": "code",
      "source": [
        "weights.shape"
      ],
      "metadata": {
        "colab": {
          "base_uri": "https://localhost:8080/"
        },
        "id": "SA47yAzw0X3s",
        "outputId": "6608d848-7179-4de1-e4d3-080de572eef5"
      },
      "execution_count": 25,
      "outputs": [
        {
          "output_type": "execute_result",
          "data": {
            "text/plain": [
              "(784, 300)"
            ]
          },
          "metadata": {},
          "execution_count": 25
        }
      ]
    },
    {
      "cell_type": "code",
      "source": [
        "biases"
      ],
      "metadata": {
        "colab": {
          "base_uri": "https://localhost:8080/"
        },
        "id": "tE3PsjIC0X7H",
        "outputId": "89d0cce3-bb10-45ff-f522-490a98958ef1"
      },
      "execution_count": 26,
      "outputs": [
        {
          "output_type": "execute_result",
          "data": {
            "text/plain": [
              "array([0., 0., 0., 0., 0., 0., 0., 0., 0., 0., 0., 0., 0., 0., 0., 0., 0.,\n",
              "       0., 0., 0., 0., 0., 0., 0., 0., 0., 0., 0., 0., 0., 0., 0., 0., 0.,\n",
              "       0., 0., 0., 0., 0., 0., 0., 0., 0., 0., 0., 0., 0., 0., 0., 0., 0.,\n",
              "       0., 0., 0., 0., 0., 0., 0., 0., 0., 0., 0., 0., 0., 0., 0., 0., 0.,\n",
              "       0., 0., 0., 0., 0., 0., 0., 0., 0., 0., 0., 0., 0., 0., 0., 0., 0.,\n",
              "       0., 0., 0., 0., 0., 0., 0., 0., 0., 0., 0., 0., 0., 0., 0., 0., 0.,\n",
              "       0., 0., 0., 0., 0., 0., 0., 0., 0., 0., 0., 0., 0., 0., 0., 0., 0.,\n",
              "       0., 0., 0., 0., 0., 0., 0., 0., 0., 0., 0., 0., 0., 0., 0., 0., 0.,\n",
              "       0., 0., 0., 0., 0., 0., 0., 0., 0., 0., 0., 0., 0., 0., 0., 0., 0.,\n",
              "       0., 0., 0., 0., 0., 0., 0., 0., 0., 0., 0., 0., 0., 0., 0., 0., 0.,\n",
              "       0., 0., 0., 0., 0., 0., 0., 0., 0., 0., 0., 0., 0., 0., 0., 0., 0.,\n",
              "       0., 0., 0., 0., 0., 0., 0., 0., 0., 0., 0., 0., 0., 0., 0., 0., 0.,\n",
              "       0., 0., 0., 0., 0., 0., 0., 0., 0., 0., 0., 0., 0., 0., 0., 0., 0.,\n",
              "       0., 0., 0., 0., 0., 0., 0., 0., 0., 0., 0., 0., 0., 0., 0., 0., 0.,\n",
              "       0., 0., 0., 0., 0., 0., 0., 0., 0., 0., 0., 0., 0., 0., 0., 0., 0.,\n",
              "       0., 0., 0., 0., 0., 0., 0., 0., 0., 0., 0., 0., 0., 0., 0., 0., 0.,\n",
              "       0., 0., 0., 0., 0., 0., 0., 0., 0., 0., 0., 0., 0., 0., 0., 0., 0.,\n",
              "       0., 0., 0., 0., 0., 0., 0., 0., 0., 0., 0.], dtype=float32)"
            ]
          },
          "metadata": {},
          "execution_count": 26
        }
      ]
    },
    {
      "cell_type": "code",
      "source": [
        "biases.shape"
      ],
      "metadata": {
        "colab": {
          "base_uri": "https://localhost:8080/"
        },
        "id": "6yL97Nlu0Y05",
        "outputId": "53991aaa-044c-4f42-db91-bcee3db9eeaf"
      },
      "execution_count": 27,
      "outputs": [
        {
          "output_type": "execute_result",
          "data": {
            "text/plain": [
              "(300,)"
            ]
          },
          "metadata": {},
          "execution_count": 27
        }
      ]
    },
    {
      "cell_type": "markdown",
      "source": [
        "Dense 층은 연결 가중치를 무작위로 초기화함. 편향은 0으로 초기화함.<Br>\n",
        "따른 초기화 방법을 사용하고 싶을 때는 층을 만들 때 `kernel_initializer`와 `bias_initializer` 매개변수 설정"
      ],
      "metadata": {
        "id": "rdxBv516zfRH"
      }
    },
    {
      "cell_type": "markdown",
      "source": [
        "** 가중치 행렬의 크기는 입력 크기에 달려 있음. 이 때문에 Sequential 모델에 첫 번째 층을 추가할 때 `input_shape` 매개변수 지정한 것. <br>\n",
        "하지만 입력 크기를 지정하지 않아도 괜찮음. Keras는 모델을 빌드하기 전까지 입력 크기를 기다릴 것. 모델 빌드는 실제 데이터를 주입할 때 또는 `build()` 메서드 호출할 때 일어남.<br>\n",
        "모델이 실제로 빌드되기 전에 층이 가중치를 가지지 않으면 `summary()` 메서드 호출이나 모델 저장 등의 특정 작업을 수행할 수 없음. 따라서 모델을 만들 때 입력 크기를 알고 있다면 지정하는 것이 좋음."
      ],
      "metadata": {
        "id": "V2puPW0601TR"
      }
    },
    {
      "cell_type": "markdown",
      "source": [
        "### 모델 컴파일\n",
        "\n"
      ],
      "metadata": {
        "id": "_2yEd13T01WW"
      }
    },
    {
      "cell_type": "markdown",
      "source": [
        "모델을 만들고 나서 `compile()` 메서드를 호출하여 사용할 손실함수와 옵티마이저(optimizer)를 지정해야함"
      ],
      "metadata": {
        "id": "Mw2bkxrB1hn4"
      }
    },
    {
      "cell_type": "code",
      "source": [
        "model.compile(loss=\"sparse_categorical_crossentropy\",\n",
        "              optimizer=\"sgd\",\n",
        "              metrics=[\"accuracy\"]) "
      ],
      "metadata": {
        "id": "yvSuK9qszfYP"
      },
      "execution_count": 28,
      "outputs": []
    },
    {
      "cell_type": "markdown",
      "source": [
        "-  레이블이 정수 하나로 이루어져 있고 클래스가 배타적이므로 `\"sparse_categorical_crossentropy\"` 손실 사용 (만약 샘플마다 클래스 별 타깃 확률을 가지고 있다면 `\"categorical_crossentropy\"` 손실 사용<br>\n",
        "(이진 분류나 다중 레이블 이진 분류를 수행한다면 출력층에 `\"softmax\"` 대신 `\"sigmoid\"` 함수 사용하고 `\"binary_crossentropy\"` 손실 사용\n",
        "- optimizer에 `\"sgd\"`를 지정하면 기본 확률적 경사 하강법(stochastic gradient descent)을 사용하여 모델 훈련한다는 의미 => 역전파 알고리즘 수행<br>\n",
        "(sgd optimizer 사용할 때는 학습률을 튜닝하는 것이 중요. 기본값으로 lr=0.01 사용)\n",
        "- 분류기이므로 훈련과 평가 시에 정확도를 측정하기 위해 `\"accuracy\"` 지정"
      ],
      "metadata": {
        "id": "vce2FBWJzffM"
      }
    },
    {
      "cell_type": "markdown",
      "source": [
        "### 모델 훈련과 평가"
      ],
      "metadata": {
        "id": "a2CHUR964x9s"
      }
    },
    {
      "cell_type": "markdown",
      "source": [
        "모델을 훈련하려면 간단하게 `fit()` 메서드 호출"
      ],
      "metadata": {
        "id": "AuRJTUKZ41MY"
      }
    },
    {
      "cell_type": "code",
      "source": [
        "history = model.fit(X_train, y_train, epochs=30,\n",
        "                    validation_data=(X_valid, y_valid))"
      ],
      "metadata": {
        "colab": {
          "base_uri": "https://localhost:8080/"
        },
        "id": "n5j3q5Sy19X3",
        "outputId": "a754eb54-aeab-438e-ccb8-dd11c1a7a706"
      },
      "execution_count": 29,
      "outputs": [
        {
          "output_type": "stream",
          "name": "stdout",
          "text": [
            "Epoch 1/30\n"
          ]
        },
        {
          "output_type": "stream",
          "name": "stderr",
          "text": [
            "WARNING:tensorflow:AutoGraph could not transform <function Model.make_train_function.<locals>.train_function at 0x7fd73a749200> and will run it as-is.\n",
            "Please report this to the TensorFlow team. When filing the bug, set the verbosity to 10 (on Linux, `export AUTOGRAPH_VERBOSITY=10`) and attach the full output.\n",
            "Cause: closure mismatch, requested ('self', 'step_function'), but source function had ()\n",
            "To silence this warning, decorate the function with @tf.autograph.experimental.do_not_convert\n"
          ]
        },
        {
          "output_type": "stream",
          "name": "stdout",
          "text": [
            "WARNING: AutoGraph could not transform <function Model.make_train_function.<locals>.train_function at 0x7fd73a749200> and will run it as-is.\n",
            "Please report this to the TensorFlow team. When filing the bug, set the verbosity to 10 (on Linux, `export AUTOGRAPH_VERBOSITY=10`) and attach the full output.\n",
            "Cause: closure mismatch, requested ('self', 'step_function'), but source function had ()\n",
            "To silence this warning, decorate the function with @tf.autograph.experimental.do_not_convert\n",
            "1698/1719 [============================>.] - ETA: 0s - loss: 0.7275 - accuracy: 0.7573"
          ]
        },
        {
          "output_type": "stream",
          "name": "stderr",
          "text": [
            "WARNING:tensorflow:AutoGraph could not transform <function Model.make_test_function.<locals>.test_function at 0x7fd738e059e0> and will run it as-is.\n",
            "Please report this to the TensorFlow team. When filing the bug, set the verbosity to 10 (on Linux, `export AUTOGRAPH_VERBOSITY=10`) and attach the full output.\n",
            "Cause: closure mismatch, requested ('self', 'step_function'), but source function had ()\n",
            "To silence this warning, decorate the function with @tf.autograph.experimental.do_not_convert\n"
          ]
        },
        {
          "output_type": "stream",
          "name": "stdout",
          "text": [
            "WARNING: AutoGraph could not transform <function Model.make_test_function.<locals>.test_function at 0x7fd738e059e0> and will run it as-is.\n",
            "Please report this to the TensorFlow team. When filing the bug, set the verbosity to 10 (on Linux, `export AUTOGRAPH_VERBOSITY=10`) and attach the full output.\n",
            "Cause: closure mismatch, requested ('self', 'step_function'), but source function had ()\n",
            "To silence this warning, decorate the function with @tf.autograph.experimental.do_not_convert\n",
            "1719/1719 [==============================] - 5s 3ms/step - loss: 0.7258 - accuracy: 0.7577 - val_loss: 0.5251 - val_accuracy: 0.8188\n",
            "Epoch 2/30\n",
            "1719/1719 [==============================] - 6s 4ms/step - loss: 0.4937 - accuracy: 0.8297 - val_loss: 0.4529 - val_accuracy: 0.8476\n",
            "Epoch 3/30\n",
            "1719/1719 [==============================] - 6s 4ms/step - loss: 0.4480 - accuracy: 0.8432 - val_loss: 0.4312 - val_accuracy: 0.8510\n",
            "Epoch 4/30\n",
            "1719/1719 [==============================] - 6s 4ms/step - loss: 0.4217 - accuracy: 0.8513 - val_loss: 0.3983 - val_accuracy: 0.8644\n",
            "Epoch 5/30\n",
            "1719/1719 [==============================] - 5s 3ms/step - loss: 0.4012 - accuracy: 0.8603 - val_loss: 0.3806 - val_accuracy: 0.8726\n",
            "Epoch 6/30\n",
            "1719/1719 [==============================] - 4s 2ms/step - loss: 0.3850 - accuracy: 0.8647 - val_loss: 0.3977 - val_accuracy: 0.8608\n",
            "Epoch 7/30\n",
            "1719/1719 [==============================] - 4s 2ms/step - loss: 0.3717 - accuracy: 0.8697 - val_loss: 0.3644 - val_accuracy: 0.8730\n",
            "Epoch 8/30\n",
            "1719/1719 [==============================] - 4s 2ms/step - loss: 0.3599 - accuracy: 0.8736 - val_loss: 0.3490 - val_accuracy: 0.8798\n",
            "Epoch 9/30\n",
            "1719/1719 [==============================] - 4s 2ms/step - loss: 0.3492 - accuracy: 0.8764 - val_loss: 0.3544 - val_accuracy: 0.8762\n",
            "Epoch 10/30\n",
            "1719/1719 [==============================] - 4s 2ms/step - loss: 0.3403 - accuracy: 0.8799 - val_loss: 0.3478 - val_accuracy: 0.8762\n",
            "Epoch 11/30\n",
            "1719/1719 [==============================] - 4s 2ms/step - loss: 0.3315 - accuracy: 0.8819 - val_loss: 0.3479 - val_accuracy: 0.8784\n",
            "Epoch 12/30\n",
            "1719/1719 [==============================] - 4s 2ms/step - loss: 0.3238 - accuracy: 0.8844 - val_loss: 0.3478 - val_accuracy: 0.8782\n",
            "Epoch 13/30\n",
            "1719/1719 [==============================] - 4s 2ms/step - loss: 0.3161 - accuracy: 0.8865 - val_loss: 0.3901 - val_accuracy: 0.8578\n",
            "Epoch 14/30\n",
            "1719/1719 [==============================] - 4s 2ms/step - loss: 0.3090 - accuracy: 0.8900 - val_loss: 0.3256 - val_accuracy: 0.8854\n",
            "Epoch 15/30\n",
            "1719/1719 [==============================] - 4s 2ms/step - loss: 0.3024 - accuracy: 0.8917 - val_loss: 0.3382 - val_accuracy: 0.8788\n",
            "Epoch 16/30\n",
            "1719/1719 [==============================] - 4s 2ms/step - loss: 0.2963 - accuracy: 0.8942 - val_loss: 0.3416 - val_accuracy: 0.8804\n",
            "Epoch 17/30\n",
            "1719/1719 [==============================] - 4s 2ms/step - loss: 0.2906 - accuracy: 0.8956 - val_loss: 0.3132 - val_accuracy: 0.8898\n",
            "Epoch 18/30\n",
            "1719/1719 [==============================] - 4s 3ms/step - loss: 0.2835 - accuracy: 0.8983 - val_loss: 0.3190 - val_accuracy: 0.8860\n",
            "Epoch 19/30\n",
            "1719/1719 [==============================] - 5s 3ms/step - loss: 0.2785 - accuracy: 0.8999 - val_loss: 0.3141 - val_accuracy: 0.8856\n",
            "Epoch 20/30\n",
            "1719/1719 [==============================] - 4s 2ms/step - loss: 0.2734 - accuracy: 0.9018 - val_loss: 0.3295 - val_accuracy: 0.8806\n",
            "Epoch 21/30\n",
            "1719/1719 [==============================] - 5s 3ms/step - loss: 0.2685 - accuracy: 0.9033 - val_loss: 0.3053 - val_accuracy: 0.8906\n",
            "Epoch 22/30\n",
            "1719/1719 [==============================] - 4s 2ms/step - loss: 0.2634 - accuracy: 0.9059 - val_loss: 0.3156 - val_accuracy: 0.8872\n",
            "Epoch 23/30\n",
            "1719/1719 [==============================] - 4s 2ms/step - loss: 0.2589 - accuracy: 0.9074 - val_loss: 0.3175 - val_accuracy: 0.8876\n",
            "Epoch 24/30\n",
            "1719/1719 [==============================] - 4s 2ms/step - loss: 0.2552 - accuracy: 0.9083 - val_loss: 0.3139 - val_accuracy: 0.8878\n",
            "Epoch 25/30\n",
            "1719/1719 [==============================] - 4s 2ms/step - loss: 0.2495 - accuracy: 0.9103 - val_loss: 0.2988 - val_accuracy: 0.8932\n",
            "Epoch 26/30\n",
            "1719/1719 [==============================] - 4s 2ms/step - loss: 0.2461 - accuracy: 0.9114 - val_loss: 0.2991 - val_accuracy: 0.8930\n",
            "Epoch 27/30\n",
            "1719/1719 [==============================] - 4s 2ms/step - loss: 0.2410 - accuracy: 0.9141 - val_loss: 0.2954 - val_accuracy: 0.8954\n",
            "Epoch 28/30\n",
            "1719/1719 [==============================] - 4s 2ms/step - loss: 0.2384 - accuracy: 0.9148 - val_loss: 0.3107 - val_accuracy: 0.8890\n",
            "Epoch 29/30\n",
            "1719/1719 [==============================] - 4s 2ms/step - loss: 0.2340 - accuracy: 0.9154 - val_loss: 0.2978 - val_accuracy: 0.8904\n",
            "Epoch 30/30\n",
            "1719/1719 [==============================] - 4s 2ms/step - loss: 0.2302 - accuracy: 0.9165 - val_loss: 0.2937 - val_accuracy: 0.8956\n"
          ]
        }
      ]
    },
    {
      "cell_type": "markdown",
      "source": [
        "- 입력 특성(X_train), 타깃 클래스(y_train), 훈련할 에포크 수 전달\n",
        "- 검증 세트 전달 (이는 선택 사항)\n",
        "- Keras는 에포크가 끝날 때마다 검증 세트를 사용해 손실과 추가적인 측정 지표 계산<br> 이 지표는 모델이 얼마나 잘 수행되는지 확인하는데 유용\n",
        "- 훈련 세트 성능이 검증 세트보다 월등히 높다면 아마도 모델이 훈련 세트에 과대적합 되었을 것\n",
        "- 훈련 에포크마다 케라스는 처리한 샘플 개수와 걸린 평균 훈련 시간, 훈련 세트와 검증 세트에 대한 손실과 정확도를 출력\n",
        "- 훈련 손실이 감소하고 있으므로 좋은 신호임!"
      ],
      "metadata": {
        "id": "Wn9vZ3K75BjO"
      }
    },
    {
      "cell_type": "markdown",
      "source": [
        "i) 어떤 클래스는 많이 등장하고 다른 클래스는 조금 등장하여 훈련 세트가 편중되어 있다면 `fit()` 메서드를 호출할 때 `class_weight` 매개변수 지정하는 것이 좋음. 이는 적게 등장하는 클래스에 높은 가중치, 많이 등장하는 클래스에는 낮은 가중치 부여.<br>\n",
        "ii) 샘플별로 가중치 부여하고 싶다면 `sample_weight` 매개변수 지정"
      ],
      "metadata": {
        "id": "_NcgItGH50Sz"
      }
    },
    {
      "cell_type": "markdown",
      "source": [
        "`fit()` 메서드가 반환하는 History 객체에는 훈련 파라미터(`history.params`), 수행된 에프크 리스트(`history.epoch`) 포함.<br>\n",
        "가장 중요한 속성은 에포크가 끝날 때마다 훈련 세트와 검증 세트에 대한 손실과 측정한 지표를 담은 딕셔너리(`history.history`)임!"
      ],
      "metadata": {
        "id": "gEBEFwru6rSw"
      }
    },
    {
      "cell_type": "code",
      "source": [
        "pd.DataFrame(history.history).plot(figsize=(8, 5))\n",
        "plt.grid(True)\n",
        "plt.gca().set_ylim(0, 1)\n",
        "plt.show()"
      ],
      "metadata": {
        "colab": {
          "base_uri": "https://localhost:8080/",
          "height": 324
        },
        "id": "R_Z14BRezflK",
        "outputId": "ff1056c9-20ba-416f-fd24-c0ae671db02d"
      },
      "execution_count": 30,
      "outputs": [
        {
          "output_type": "display_data",
          "data": {
            "text/plain": [
              "<Figure size 576x360 with 1 Axes>"
            ],
            "image/png": "[encoded data removed]"
          },
          "metadata": {
            "needs_background": "light"
          }
        }
      ]
    },
    {
      "cell_type": "markdown",
      "source": [
        "- 훈련하는 동안 훈련 정확도와 검증 정확도가 꾸준히 상승\n",
        "- 훈련 손실과 검증 손실은 감소\n",
        "- 검증 곡선이 훈련 곡선과 가까움 => 과대적합되지 않았다는 증거\n",
        "- 훈련 손실은 에포크가 진행되는 동안 계산되기 때문에 훈련 곡선을 볼 때는 왼쪽으로 에포크의 절반만큼 이동해서 생각하자!"
      ],
      "metadata": {
        "id": "GsqYKcnwzfrF"
      }
    },
    {
      "cell_type": "markdown",
      "source": [
        "만약 모델의 성능이 만족스럽지 않다면 처음으로 되돌아가서 하이퍼파라미터 튜닝해야함.\n",
        "1. 처음 확인할 것은 학습률\n",
        "2. 학습률이 도움되지 않는다면 다른 optimizer 테스트 (항상 다른 하이퍼파라미터를 바꾼 후에는 학습률을 다시 튜닝해야함)\n",
        "3. 여전히 성능이 높지 않으면 층 개수, 층에 있는 뉴런 개수, 은닉층이 사용하는 활성화 함수와 같은 모델의 하이퍼파라미터 튜닝해보기\n",
        "4. `batch_size`와 같은 다른 하이퍼파라미터 튜닝"
      ],
      "metadata": {
        "id": "7Q4nJTso7nhI"
      }
    },
    {
      "cell_type": "markdown",
      "source": [
        "모델의 검증 정확도가 만족스럽다면 테스트 세트로 모델을 평가하여 일반화 오차를 추정해야함. `evaluate()` 메서드 사용."
      ],
      "metadata": {
        "id": "B86iI8mc7nkW"
      }
    },
    {
      "cell_type": "code",
      "source": [
        "model.evaluate(X_test, y_test)"
      ],
      "metadata": {
        "colab": {
          "base_uri": "https://localhost:8080/"
        },
        "id": "1nuT22BE8UBc",
        "outputId": "7614ab59-b0ac-4dde-923e-dbc3bcdaadb1"
      },
      "execution_count": 31,
      "outputs": [
        {
          "output_type": "stream",
          "name": "stdout",
          "text": [
            "313/313 [==============================] - 0s 1ms/step - loss: 0.3320 - accuracy: 0.8813\n"
          ]
        },
        {
          "output_type": "execute_result",
          "data": {
            "text/plain": [
              "[0.33200815320014954, 0.8812999725341797]"
            ]
          },
          "metadata": {},
          "execution_count": 31
        }
      ]
    },
    {
      "cell_type": "markdown",
      "source": [
        "### 모델을 사용해 예측을 만들기"
      ],
      "metadata": {
        "id": "K4-JSkwP7nmV"
      }
    },
    {
      "cell_type": "markdown",
      "source": [
        "모델의 `predict()` 메서드 사용하여 새로운 샘플에 대해 예측 만들기"
      ],
      "metadata": {
        "id": "lvQ2xGZc7noT"
      }
    },
    {
      "cell_type": "code",
      "source": [
        "X_new = X_test[:3]\n",
        "y_proba = model.predict(X_new)\n",
        "y_proba.round(2)"
      ],
      "metadata": {
        "colab": {
          "base_uri": "https://localhost:8080/"
        },
        "id": "B-2EPj_r8gQG",
        "outputId": "8167df6f-dcf4-4160-8f08-8e624a0d1ac9"
      },
      "execution_count": 32,
      "outputs": [
        {
          "output_type": "stream",
          "name": "stderr",
          "text": [
            "WARNING:tensorflow:AutoGraph could not transform <function Model.make_predict_function.<locals>.predict_function at 0x7fd73593e830> and will run it as-is.\n",
            "Please report this to the TensorFlow team. When filing the bug, set the verbosity to 10 (on Linux, `export AUTOGRAPH_VERBOSITY=10`) and attach the full output.\n",
            "Cause: closure mismatch, requested ('self', 'step_function'), but source function had ()\n",
            "To silence this warning, decorate the function with @tf.autograph.experimental.do_not_convert\n"
          ]
        },
        {
          "output_type": "stream",
          "name": "stdout",
          "text": [
            "WARNING: AutoGraph could not transform <function Model.make_predict_function.<locals>.predict_function at 0x7fd73593e830> and will run it as-is.\n",
            "Please report this to the TensorFlow team. When filing the bug, set the verbosity to 10 (on Linux, `export AUTOGRAPH_VERBOSITY=10`) and attach the full output.\n",
            "Cause: closure mismatch, requested ('self', 'step_function'), but source function had ()\n",
            "To silence this warning, decorate the function with @tf.autograph.experimental.do_not_convert\n",
            "1/1 [==============================] - 0s 350ms/step\n"
          ]
        },
        {
          "output_type": "execute_result",
          "data": {
            "text/plain": [
              "array([[0.  , 0.  , 0.  , 0.  , 0.  , 0.01, 0.  , 0.01, 0.  , 0.99],\n",
              "       [0.  , 0.  , 1.  , 0.  , 0.  , 0.  , 0.  , 0.  , 0.  , 0.  ],\n",
              "       [0.  , 1.  , 0.  , 0.  , 0.  , 0.  , 0.  , 0.  , 0.  , 0.  ]],\n",
              "      dtype=float32)"
            ]
          },
          "metadata": {},
          "execution_count": 32
        }
      ]
    },
    {
      "cell_type": "code",
      "source": [
        "y_pred = np.argmax(model.predict(X_new), axis=-1)\n",
        "y_pred"
      ],
      "metadata": {
        "colab": {
          "base_uri": "https://localhost:8080/"
        },
        "id": "LfWmEyh88gT8",
        "outputId": "25c38ad4-a5d9-4685-d5fa-2d1ca2ca6d1a"
      },
      "execution_count": 33,
      "outputs": [
        {
          "output_type": "stream",
          "name": "stdout",
          "text": [
            "1/1 [==============================] - 0s 11ms/step\n"
          ]
        },
        {
          "output_type": "execute_result",
          "data": {
            "text/plain": [
              "array([9, 2, 1])"
            ]
          },
          "metadata": {},
          "execution_count": 33
        }
      ]
    },
    {
      "cell_type": "code",
      "source": [
        "np.array(class_names)[y_pred]"
      ],
      "metadata": {
        "colab": {
          "base_uri": "https://localhost:8080/"
        },
        "id": "4Ieh_K5t8gZq",
        "outputId": "9eecf849-64d5-4ab1-e1ad-5c0b9094e603"
      },
      "execution_count": 34,
      "outputs": [
        {
          "output_type": "execute_result",
          "data": {
            "text/plain": [
              "array(['Ankle boot', 'Pullover', 'Trouser'], dtype='<U11')"
            ]
          },
          "metadata": {},
          "execution_count": 34
        }
      ]
    },
    {
      "cell_type": "code",
      "source": [
        "y_new = y_test[:3]\n",
        "y_new"
      ],
      "metadata": {
        "colab": {
          "base_uri": "https://localhost:8080/"
        },
        "id": "OPaHMOTh8zBg",
        "outputId": "c4b44861-a0e3-400d-d7a9-a2bfe94bb1fc"
      },
      "execution_count": 35,
      "outputs": [
        {
          "output_type": "execute_result",
          "data": {
            "text/plain": [
              "array([9, 2, 1], dtype=uint8)"
            ]
          },
          "metadata": {},
          "execution_count": 35
        }
      ]
    },
    {
      "cell_type": "code",
      "source": [
        "plt.figure(figsize=(7.2, 2.4))\n",
        "for index, image in enumerate(X_new):\n",
        "    plt.subplot(1, 3, index + 1)\n",
        "    plt.imshow(image, cmap=\"binary\", interpolation=\"nearest\")\n",
        "    plt.axis('off')\n",
        "    plt.title(class_names[y_test[index]], fontsize=12)\n",
        "plt.subplots_adjust(wspace=0.2, hspace=0.5)\n",
        "plt.show()"
      ],
      "metadata": {
        "colab": {
          "base_uri": "https://localhost:8080/",
          "height": 165
        },
        "id": "o9uNlLW68zD9",
        "outputId": "440766e5-160d-419e-cf7d-122a08a20ef6"
      },
      "execution_count": 36,
      "outputs": [
        {
          "output_type": "display_data",
          "data": {
            "text/plain": [
              "<Figure size 518.4x172.8 with 3 Axes>"
            ],
            "image/png": "[encoded data removed]"
          },
          "metadata": {
            "needs_background": "light"
          }
        }
      ]
    },
    {
      "cell_type": "markdown",
      "source": [
        "## 10.2.3 시퀀셜 API를 사용하여 회귀용 다층 퍼셉트론 만들기"
      ],
      "metadata": {
        "id": "jD_hZhKxY1a9"
      }
    },
    {
      "cell_type": "markdown",
      "source": [
        "캘리포니아 주택 가격 데이터셋 사용하여 회귀 신경망으로 이를 해결해보기"
      ],
      "metadata": {
        "id": "jow0JmsqY1dT"
      }
    },
    {
      "cell_type": "code",
      "source": [
        "from sklearn.datasets import fetch_california_housing\n",
        "from sklearn.model_selection import train_test_split\n",
        "from sklearn.preprocessing import StandardScaler\n",
        "\n",
        "housing = fetch_california_housing()\n",
        "\n",
        "X_train_full, X_test, y_train_full, y_test = train_test_split(housing.data, housing.target, random_state=42)\n",
        "X_train, X_valid, y_train, y_valid = train_test_split(X_train_full, y_train_full, random_state=42)\n",
        "\n",
        "scaler = StandardScaler()\n",
        "X_train = scaler.fit_transform(X_train)\n",
        "X_valid = scaler.transform(X_valid)\n",
        "X_test = scaler.transform(X_test)"
      ],
      "metadata": {
        "id": "Kj_ROSzf9Eph"
      },
      "execution_count": 37,
      "outputs": []
    },
    {
      "cell_type": "markdown",
      "source": [
        "시퀀셜 API 사용하여 회귀용 MLP를 구축, 훈련, 평가, 예측하는 방법은 분류에서와 유사<br><br>\n",
        "\n",
        "**주된 차이점**\n",
        "- 출력층이 활성화 함수가 없는 하나의 뉴런(하나의 값을 예측하기 때문)을 가진다는 것\n",
        "- 손실 함수로 평균 제곱 오차 사용"
      ],
      "metadata": {
        "id": "KfO82uisY1gB"
      }
    },
    {
      "cell_type": "code",
      "source": [
        "np.random.seed(42)\n",
        "tf.random.set_seed(42)"
      ],
      "metadata": {
        "id": "7q4rAqeh9ez9"
      },
      "execution_count": 38,
      "outputs": []
    },
    {
      "cell_type": "code",
      "source": [
        "model = keras.models.Sequential([\n",
        "    keras.layers.Dense(30, activation=\"relu\", input_shape=X_train.shape[1:]),\n",
        "    keras.layers.Dense(1)\n",
        "])\n",
        "\n",
        "model.compile(loss=\"mean_squared_error\", optimizer=keras.optimizers.SGD(learning_rate=1e-3))\n",
        "\n",
        "history = model.fit(X_train, y_train, epochs=20, validation_data=(X_valid, y_valid))\n",
        "mse_test = model.evaluate(X_test, y_test)\n",
        "X_new = X_test[:3]  # 새로운 샘플\n",
        "y_pred = model.predict(X_new)"
      ],
      "metadata": {
        "colab": {
          "base_uri": "https://localhost:8080/"
        },
        "id": "DUtmQBRH9ewz",
        "outputId": "831625bc-2417-4071-e053-5a0f8bbe0522"
      },
      "execution_count": 39,
      "outputs": [
        {
          "output_type": "stream",
          "name": "stdout",
          "text": [
            "Epoch 1/20\n"
          ]
        },
        {
          "output_type": "stream",
          "name": "stderr",
          "text": [
            "WARNING:tensorflow:AutoGraph could not transform <function Model.make_train_function.<locals>.train_function at 0x7fd735953d40> and will run it as-is.\n",
            "Please report this to the TensorFlow team. When filing the bug, set the verbosity to 10 (on Linux, `export AUTOGRAPH_VERBOSITY=10`) and attach the full output.\n",
            "Cause: closure mismatch, requested ('self', 'step_function'), but source function had ()\n",
            "To silence this warning, decorate the function with @tf.autograph.experimental.do_not_convert\n"
          ]
        },
        {
          "output_type": "stream",
          "name": "stdout",
          "text": [
            "WARNING: AutoGraph could not transform <function Model.make_train_function.<locals>.train_function at 0x7fd735953d40> and will run it as-is.\n",
            "Please report this to the TensorFlow team. When filing the bug, set the verbosity to 10 (on Linux, `export AUTOGRAPH_VERBOSITY=10`) and attach the full output.\n",
            "Cause: closure mismatch, requested ('self', 'step_function'), but source function had ()\n",
            "To silence this warning, decorate the function with @tf.autograph.experimental.do_not_convert\n",
            "322/363 [=========================>....] - ETA: 0s - loss: 1.7430"
          ]
        },
        {
          "output_type": "stream",
          "name": "stderr",
          "text": [
            "WARNING:tensorflow:AutoGraph could not transform <function Model.make_test_function.<locals>.test_function at 0x7fd735ad9320> and will run it as-is.\n",
            "Please report this to the TensorFlow team. When filing the bug, set the verbosity to 10 (on Linux, `export AUTOGRAPH_VERBOSITY=10`) and attach the full output.\n",
            "Cause: closure mismatch, requested ('self', 'step_function'), but source function had ()\n",
            "To silence this warning, decorate the function with @tf.autograph.experimental.do_not_convert\n"
          ]
        },
        {
          "output_type": "stream",
          "name": "stdout",
          "text": [
            "WARNING: AutoGraph could not transform <function Model.make_test_function.<locals>.test_function at 0x7fd735ad9320> and will run it as-is.\n",
            "Please report this to the TensorFlow team. When filing the bug, set the verbosity to 10 (on Linux, `export AUTOGRAPH_VERBOSITY=10`) and attach the full output.\n",
            "Cause: closure mismatch, requested ('self', 'step_function'), but source function had ()\n",
            "To silence this warning, decorate the function with @tf.autograph.experimental.do_not_convert\n",
            "363/363 [==============================] - 1s 1ms/step - loss: 1.6419 - val_loss: 0.8560\n",
            "Epoch 2/20\n",
            "363/363 [==============================] - 0s 1ms/step - loss: 0.7047 - val_loss: 0.6531\n",
            "Epoch 3/20\n",
            "363/363 [==============================] - 1s 1ms/step - loss: 0.6345 - val_loss: 0.6099\n",
            "Epoch 4/20\n",
            "363/363 [==============================] - 0s 1ms/step - loss: 0.5977 - val_loss: 0.5658\n",
            "Epoch 5/20\n",
            "363/363 [==============================] - 0s 1ms/step - loss: 0.5706 - val_loss: 0.5355\n",
            "Epoch 6/20\n",
            "363/363 [==============================] - 0s 1ms/step - loss: 0.5472 - val_loss: 0.5173\n",
            "Epoch 7/20\n",
            "363/363 [==============================] - 0s 1ms/step - loss: 0.5288 - val_loss: 0.5081\n",
            "Epoch 8/20\n",
            "363/363 [==============================] - 0s 1ms/step - loss: 0.5130 - val_loss: 0.4799\n",
            "Epoch 9/20\n",
            "363/363 [==============================] - 0s 1ms/step - loss: 0.4992 - val_loss: 0.4690\n",
            "Epoch 10/20\n",
            "363/363 [==============================] - 0s 1ms/step - loss: 0.4875 - val_loss: 0.4656\n",
            "Epoch 11/20\n",
            "363/363 [==============================] - 0s 1ms/step - loss: 0.4777 - val_loss: 0.4482\n",
            "Epoch 12/20\n",
            "363/363 [==============================] - 0s 1ms/step - loss: 0.4688 - val_loss: 0.4479\n",
            "Epoch 13/20\n",
            "363/363 [==============================] - 0s 1ms/step - loss: 0.4615 - val_loss: 0.4296\n",
            "Epoch 14/20\n",
            "363/363 [==============================] - 0s 1ms/step - loss: 0.4547 - val_loss: 0.4233\n",
            "Epoch 15/20\n",
            "363/363 [==============================] - 0s 1ms/step - loss: 0.4488 - val_loss: 0.4176\n",
            "Epoch 16/20\n",
            "363/363 [==============================] - 0s 1ms/step - loss: 0.4435 - val_loss: 0.4123\n",
            "Epoch 17/20\n",
            "363/363 [==============================] - 0s 1ms/step - loss: 0.4389 - val_loss: 0.4071\n",
            "Epoch 18/20\n",
            "363/363 [==============================] - 0s 1ms/step - loss: 0.4347 - val_loss: 0.4037\n",
            "Epoch 19/20\n",
            "363/363 [==============================] - 0s 1ms/step - loss: 0.4306 - val_loss: 0.4000\n",
            "Epoch 20/20\n",
            "363/363 [==============================] - 0s 1ms/step - loss: 0.4273 - val_loss: 0.3969\n",
            "162/162 [==============================] - 0s 797us/step - loss: 0.4212\n"
          ]
        },
        {
          "output_type": "stream",
          "name": "stderr",
          "text": [
            "WARNING:tensorflow:AutoGraph could not transform <function Model.make_predict_function.<locals>.predict_function at 0x7fd735a175f0> and will run it as-is.\n",
            "Please report this to the TensorFlow team. When filing the bug, set the verbosity to 10 (on Linux, `export AUTOGRAPH_VERBOSITY=10`) and attach the full output.\n",
            "Cause: closure mismatch, requested ('self', 'step_function'), but source function had ()\n",
            "To silence this warning, decorate the function with @tf.autograph.experimental.do_not_convert\n"
          ]
        },
        {
          "output_type": "stream",
          "name": "stdout",
          "text": [
            "WARNING: AutoGraph could not transform <function Model.make_predict_function.<locals>.predict_function at 0x7fd735a175f0> and will run it as-is.\n",
            "Please report this to the TensorFlow team. When filing the bug, set the verbosity to 10 (on Linux, `export AUTOGRAPH_VERBOSITY=10`) and attach the full output.\n",
            "Cause: closure mismatch, requested ('self', 'step_function'), but source function had ()\n",
            "To silence this warning, decorate the function with @tf.autograph.experimental.do_not_convert\n",
            "1/1 [==============================] - 0s 44ms/step\n"
          ]
        }
      ]
    },
    {
      "cell_type": "code",
      "source": [
        "plt.plot(pd.DataFrame(history.history))\n",
        "plt.grid(True)\n",
        "plt.gca().set_ylim(0, 1)\n",
        "plt.show()"
      ],
      "metadata": {
        "colab": {
          "base_uri": "https://localhost:8080/",
          "height": 269
        },
        "id": "cqmBGGN7-_Wh",
        "outputId": "1689cd4f-9d08-48f6-b25b-e88049fc88cb"
      },
      "execution_count": 40,
      "outputs": [
        {
          "output_type": "display_data",
          "data": {
            "text/plain": [
              "<Figure size 432x288 with 1 Axes>"
            ],
            "image/png": "[encoded data removed]"
          },
          "metadata": {
            "needs_background": "light"
          }
        }
      ]
    },
    {
      "cell_type": "markdown",
      "source": [
        "Sequential 모델이 널리 사용되지만 입력과 출력이 여러 개거나 더 복잡한 네트워크 토폴로지를 갖는 신경망을 만들어야할 때는 Keras의 함수형(functional) API 사용"
      ],
      "metadata": {
        "id": "b8zNTWh2Y1iA"
      }
    },
    {
      "cell_type": "markdown",
      "source": [
        "## 10.2.4 함수형 API를 사용해 복잡한 모델 만들기"
      ],
      "metadata": {
        "id": "XBW5EaqeY1kn"
      }
    },
    {
      "cell_type": "markdown",
      "source": [
        "순차적이지 않은 신경망의 예: 와이드&딥 신경망<Br>\n",
        "이는 입력의 일부 또는 전체가 출력층에 바로 연결. 이 구조를 사용하면 신경망이 (깊게 쌓은 층을 사용한) 복잡한 패턴과 (짧은 경로를 사용한) 간단한 규칙 모두를 학습 가능<br>\n",
        "(이와 대조적으로 일반적인 MLP는 네트워크에 있는 층 전체에 모든 데이터를 통과시킴)"
      ],
      "metadata": {
        "id": "hGLi3D1mY1m9"
      }
    },
    {
      "cell_type": "code",
      "source": [
        "input_ = keras.layers.Input(shape=X_train.shape[1:])\n",
        "hidden1 = keras.layers.Dense(30, activation=\"relu\")(input_)\n",
        "hidden2 = keras.layers.Dense(30, activation=\"relu\")(hidden1)\n",
        "concat = keras.layers.concatenate([input_, hidden2])\n",
        "output = keras.layers.Dense(1)(concat)\n",
        "model = keras.models.Model(inputs=[input_], outputs=[output])"
      ],
      "metadata": {
        "id": "fpxziQLoZH6V"
      },
      "execution_count": 41,
      "outputs": []
    },
    {
      "cell_type": "markdown",
      "source": [
        "- 먼저 Input 객체 만들기. 이 객체는 shape와 dtype 포함하여 모델의 입력 정의. 한 모델은 여러 개의 입력을 가질 수 있음.\n",
        "- 30개의 뉴런과 ReLU 활성화 함수를 가진 Dense 층 만듦. 이 층은 만들어지자마자 입력과 함께 함수처럼 호출됨.(이러한 이유로 함수형 API라 부름)(케라스에 층이 연결될 방법을 알려주었을 뿐 아직 어떤 데이터도 처리하지 않았음)\n",
        "- 두 번째 은닉층을 만들고 함수처럼 호출\n",
        "- Concatenate 층을 만들고 또 다시 함수처럼 호출하여 두 번째 은닉층의 출력과 입력을 연결\n",
        "- 하나의 뉴런과 활성화 함수가 없는 출력층을 만들고 Concatenate 층이 만든 결과를 사용하여 호출\n",
        "- 마지막으로 사용할 입력과 출력을 지정하여 케라스 Model 만듦"
      ],
      "metadata": {
        "id": "Om8zU3CH_E_2"
      }
    },
    {
      "cell_type": "code",
      "source": [
        "model.summary()"
      ],
      "metadata": {
        "colab": {
          "base_uri": "https://localhost:8080/"
        },
        "id": "LnvqhtqdZH-y",
        "outputId": "d5b89c32-40d1-4692-d744-201521482c9e"
      },
      "execution_count": 42,
      "outputs": [
        {
          "output_type": "stream",
          "name": "stdout",
          "text": [
            "Model: \"model\"\n",
            "__________________________________________________________________________________________________\n",
            " Layer (type)                   Output Shape         Param #     Connected to                     \n",
            "==================================================================================================\n",
            " input_1 (InputLayer)           [(None, 8)]          0           []                               \n",
            "                                                                                                  \n",
            " dense_8 (Dense)                (None, 30)           270         ['input_1[0][0]']                \n",
            "                                                                                                  \n",
            " dense_9 (Dense)                (None, 30)           930         ['dense_8[0][0]']                \n",
            "                                                                                                  \n",
            " concatenate (Concatenate)      (None, 38)           0           ['input_1[0][0]',                \n",
            "                                                                  'dense_9[0][0]']                \n",
            "                                                                                                  \n",
            " dense_10 (Dense)               (None, 1)            39          ['concatenate[0][0]']            \n",
            "                                                                                                  \n",
            "==================================================================================================\n",
            "Total params: 1,239\n",
            "Trainable params: 1,239\n",
            "Non-trainable params: 0\n",
            "__________________________________________________________________________________________________\n"
          ]
        }
      ]
    },
    {
      "cell_type": "code",
      "source": [
        "model.compile(loss=\"mean_squared_error\", optimizer=keras.optimizers.SGD(learning_rate=1e-3))\n",
        "history = model.fit(X_train, y_train, epochs=20,\n",
        "                    validation_data=(X_valid, y_valid))\n",
        "mse_test = model.evaluate(X_test, y_test)\n",
        "y_pred = model.predict(X_new)"
      ],
      "metadata": {
        "colab": {
          "base_uri": "https://localhost:8080/"
        },
        "id": "xGNMGRKeAJXq",
        "outputId": "31337150-0cdd-4d94-d3e0-1d58cebfbb39"
      },
      "execution_count": 43,
      "outputs": [
        {
          "output_type": "stream",
          "name": "stdout",
          "text": [
            "Epoch 1/20\n"
          ]
        },
        {
          "output_type": "stream",
          "name": "stderr",
          "text": [
            "WARNING:tensorflow:AutoGraph could not transform <function Model.make_train_function.<locals>.train_function at 0x7fd735e0cb00> and will run it as-is.\n",
            "Please report this to the TensorFlow team. When filing the bug, set the verbosity to 10 (on Linux, `export AUTOGRAPH_VERBOSITY=10`) and attach the full output.\n",
            "Cause: closure mismatch, requested ('self', 'step_function'), but source function had ()\n",
            "To silence this warning, decorate the function with @tf.autograph.experimental.do_not_convert\n"
          ]
        },
        {
          "output_type": "stream",
          "name": "stdout",
          "text": [
            "WARNING: AutoGraph could not transform <function Model.make_train_function.<locals>.train_function at 0x7fd735e0cb00> and will run it as-is.\n",
            "Please report this to the TensorFlow team. When filing the bug, set the verbosity to 10 (on Linux, `export AUTOGRAPH_VERBOSITY=10`) and attach the full output.\n",
            "Cause: closure mismatch, requested ('self', 'step_function'), but source function had ()\n",
            "To silence this warning, decorate the function with @tf.autograph.experimental.do_not_convert\n",
            "334/363 [==========================>...] - ETA: 0s - loss: 1.9738"
          ]
        },
        {
          "output_type": "stream",
          "name": "stderr",
          "text": [
            "WARNING:tensorflow:AutoGraph could not transform <function Model.make_test_function.<locals>.test_function at 0x7fd735bf57a0> and will run it as-is.\n",
            "Please report this to the TensorFlow team. When filing the bug, set the verbosity to 10 (on Linux, `export AUTOGRAPH_VERBOSITY=10`) and attach the full output.\n",
            "Cause: closure mismatch, requested ('self', 'step_function'), but source function had ()\n",
            "To silence this warning, decorate the function with @tf.autograph.experimental.do_not_convert\n"
          ]
        },
        {
          "output_type": "stream",
          "name": "stdout",
          "text": [
            "WARNING: AutoGraph could not transform <function Model.make_test_function.<locals>.test_function at 0x7fd735bf57a0> and will run it as-is.\n",
            "Please report this to the TensorFlow team. When filing the bug, set the verbosity to 10 (on Linux, `export AUTOGRAPH_VERBOSITY=10`) and attach the full output.\n",
            "Cause: closure mismatch, requested ('self', 'step_function'), but source function had ()\n",
            "To silence this warning, decorate the function with @tf.autograph.experimental.do_not_convert\n",
            "363/363 [==============================] - 1s 1ms/step - loss: 1.8772 - val_loss: 0.6913\n",
            "Epoch 2/20\n",
            "363/363 [==============================] - 0s 1ms/step - loss: 0.6501 - val_loss: 0.9454\n",
            "Epoch 3/20\n",
            "363/363 [==============================] - 0s 1ms/step - loss: 0.6012 - val_loss: 0.6622\n",
            "Epoch 4/20\n",
            "363/363 [==============================] - 0s 1ms/step - loss: 0.5654 - val_loss: 0.5284\n",
            "Epoch 5/20\n",
            "363/363 [==============================] - 0s 1ms/step - loss: 0.5414 - val_loss: 0.5004\n",
            "Epoch 6/20\n",
            "363/363 [==============================] - 0s 1ms/step - loss: 0.5181 - val_loss: 0.5894\n",
            "Epoch 7/20\n",
            "363/363 [==============================] - 0s 1ms/step - loss: 0.5035 - val_loss: 0.5889\n",
            "Epoch 8/20\n",
            "363/363 [==============================] - 0s 1ms/step - loss: 0.4904 - val_loss: 0.4690\n",
            "Epoch 9/20\n",
            "363/363 [==============================] - 0s 1ms/step - loss: 0.4769 - val_loss: 0.5305\n",
            "Epoch 10/20\n",
            "363/363 [==============================] - 0s 1ms/step - loss: 0.4676 - val_loss: 0.5466\n",
            "Epoch 11/20\n",
            "363/363 [==============================] - 0s 1ms/step - loss: 0.4601 - val_loss: 0.4996\n",
            "Epoch 12/20\n",
            "363/363 [==============================] - 0s 1ms/step - loss: 0.4524 - val_loss: 0.7264\n",
            "Epoch 13/20\n",
            "363/363 [==============================] - 0s 1ms/step - loss: 0.4486 - val_loss: 0.4205\n",
            "Epoch 14/20\n",
            "363/363 [==============================] - 0s 1ms/step - loss: 0.4415 - val_loss: 0.4467\n",
            "Epoch 15/20\n",
            "363/363 [==============================] - 1s 1ms/step - loss: 0.4367 - val_loss: 0.4167\n",
            "Epoch 16/20\n",
            "363/363 [==============================] - 0s 1ms/step - loss: 0.4323 - val_loss: 0.4486\n",
            "Epoch 17/20\n",
            "363/363 [==============================] - 0s 1ms/step - loss: 0.4286 - val_loss: 0.4021\n",
            "Epoch 18/20\n",
            "363/363 [==============================] - 0s 1ms/step - loss: 0.4255 - val_loss: 0.3991\n",
            "Epoch 19/20\n",
            "363/363 [==============================] - 0s 1ms/step - loss: 0.4215 - val_loss: 0.4348\n",
            "Epoch 20/20\n",
            "363/363 [==============================] - 0s 1ms/step - loss: 0.4192 - val_loss: 0.3965\n",
            "162/162 [==============================] - 0s 864us/step - loss: 0.4164\n"
          ]
        },
        {
          "output_type": "stream",
          "name": "stderr",
          "text": [
            "WARNING:tensorflow:AutoGraph could not transform <function Model.make_predict_function.<locals>.predict_function at 0x7fd735b8d440> and will run it as-is.\n",
            "Please report this to the TensorFlow team. When filing the bug, set the verbosity to 10 (on Linux, `export AUTOGRAPH_VERBOSITY=10`) and attach the full output.\n",
            "Cause: closure mismatch, requested ('self', 'step_function'), but source function had ()\n",
            "To silence this warning, decorate the function with @tf.autograph.experimental.do_not_convert\n"
          ]
        },
        {
          "output_type": "stream",
          "name": "stdout",
          "text": [
            "WARNING: AutoGraph could not transform <function Model.make_predict_function.<locals>.predict_function at 0x7fd735b8d440> and will run it as-is.\n",
            "Please report this to the TensorFlow team. When filing the bug, set the verbosity to 10 (on Linux, `export AUTOGRAPH_VERBOSITY=10`) and attach the full output.\n",
            "Cause: closure mismatch, requested ('self', 'step_function'), but source function had ()\n",
            "To silence this warning, decorate the function with @tf.autograph.experimental.do_not_convert\n",
            "1/1 [==============================] - 0s 41ms/step\n"
          ]
        }
      ]
    },
    {
      "cell_type": "markdown",
      "source": [
        "만약 일부 특성은 짧은 경로로 전달하고 다른 특성들은 깊은 경로로 전달하고 싶다면 여러 입력을 사용하는 방법이 있음"
      ],
      "metadata": {
        "id": "IhDMNr3d_-1F"
      }
    },
    {
      "cell_type": "code",
      "source": [
        "input_A = keras.layers.Input(shape=[5], name=\"wide_input\")\n",
        "input_B = keras.layers.Input(shape=[6], name=\"deep_input\")\n",
        "hidden1 = keras.layers.Dense(30, activation=\"relu\")(input_B)\n",
        "hidden2 = keras.layers.Dense(30, activation=\"relu\")(hidden1)\n",
        "concat = keras.layers.concatenate([input_A, hidden2])\n",
        "output = keras.layers.Dense(1, name=\"output\")(concat)\n",
        "model = keras.models.Model(inputs=[input_A, input_B], outputs=[output])"
      ],
      "metadata": {
        "id": "I9Gg5f5_ZIA0"
      },
      "execution_count": 44,
      "outputs": []
    },
    {
      "cell_type": "markdown",
      "source": [
        "- 모델이 복잡해지면 가장 중요한 층에는 이름을 붙이는 것이 좋음\n",
        "- 모델 만들 때 `inputs=[input_A, input_B]`와 같이 지정<br>\n",
        " `fit()` 메서드를 호출할 때 하나의 입력 행렬 `X_train`을 전달하는 것이 아니라 입력마다 하나씩 행렬의 튜플 `(X_train_A, X_train_B)`을 전달해야함<br>\n",
        " `X_valid`에도 동일하게 적용"
      ],
      "metadata": {
        "id": "eg_rWz9uAcF1"
      }
    },
    {
      "cell_type": "code",
      "source": [
        "model.compile(loss=\"mse\", optimizer=keras.optimizers.SGD(learning_rate=1e-3))\n",
        "\n",
        "X_train_A, X_train_B = X_train[:, :5], X_train[:, 2:]\n",
        "X_valid_A, X_valid_B = X_valid[:, :5], X_valid[:, 2:]\n",
        "X_test_A, X_test_B = X_test[:, :5], X_test[:, 2:]\n",
        "X_new_A, X_new_B = X_test_A[:3], X_test_B[:3]\n",
        "\n",
        "history = model.fit((X_train_A, X_train_B), y_train, epochs=20,\n",
        "                    validation_data=((X_valid_A, X_valid_B), y_valid))\n",
        "mse_test = model.evaluate((X_test_A, X_test_B), y_test)\n",
        "y_pred = model.predict((X_new_A, X_new_B))"
      ],
      "metadata": {
        "colab": {
          "base_uri": "https://localhost:8080/"
        },
        "id": "gvc1gIEaAPMA",
        "outputId": "3bfb6168-1678-4b46-bca9-3ba2d29c6dec"
      },
      "execution_count": 45,
      "outputs": [
        {
          "output_type": "stream",
          "name": "stdout",
          "text": [
            "Epoch 1/20\n"
          ]
        },
        {
          "output_type": "stream",
          "name": "stderr",
          "text": [
            "WARNING:tensorflow:AutoGraph could not transform <function Model.make_train_function.<locals>.train_function at 0x7fd735e19c20> and will run it as-is.\n",
            "Please report this to the TensorFlow team. When filing the bug, set the verbosity to 10 (on Linux, `export AUTOGRAPH_VERBOSITY=10`) and attach the full output.\n",
            "Cause: closure mismatch, requested ('self', 'step_function'), but source function had ()\n",
            "To silence this warning, decorate the function with @tf.autograph.experimental.do_not_convert\n"
          ]
        },
        {
          "output_type": "stream",
          "name": "stdout",
          "text": [
            "WARNING: AutoGraph could not transform <function Model.make_train_function.<locals>.train_function at 0x7fd735e19c20> and will run it as-is.\n",
            "Please report this to the TensorFlow team. When filing the bug, set the verbosity to 10 (on Linux, `export AUTOGRAPH_VERBOSITY=10`) and attach the full output.\n",
            "Cause: closure mismatch, requested ('self', 'step_function'), but source function had ()\n",
            "To silence this warning, decorate the function with @tf.autograph.experimental.do_not_convert\n",
            "363/363 [==============================] - ETA: 0s - loss: 2.0090"
          ]
        },
        {
          "output_type": "stream",
          "name": "stderr",
          "text": [
            "WARNING:tensorflow:AutoGraph could not transform <function Model.make_test_function.<locals>.test_function at 0x7fd735e5da70> and will run it as-is.\n",
            "Please report this to the TensorFlow team. When filing the bug, set the verbosity to 10 (on Linux, `export AUTOGRAPH_VERBOSITY=10`) and attach the full output.\n",
            "Cause: closure mismatch, requested ('self', 'step_function'), but source function had ()\n",
            "To silence this warning, decorate the function with @tf.autograph.experimental.do_not_convert\n"
          ]
        },
        {
          "output_type": "stream",
          "name": "stdout",
          "text": [
            "WARNING: AutoGraph could not transform <function Model.make_test_function.<locals>.test_function at 0x7fd735e5da70> and will run it as-is.\n",
            "Please report this to the TensorFlow team. When filing the bug, set the verbosity to 10 (on Linux, `export AUTOGRAPH_VERBOSITY=10`) and attach the full output.\n",
            "Cause: closure mismatch, requested ('self', 'step_function'), but source function had ()\n",
            "To silence this warning, decorate the function with @tf.autograph.experimental.do_not_convert\n",
            "363/363 [==============================] - 1s 2ms/step - loss: 2.0090 - val_loss: 0.9850\n",
            "Epoch 2/20\n",
            "363/363 [==============================] - 0s 1ms/step - loss: 0.7896 - val_loss: 0.7180\n",
            "Epoch 3/20\n",
            "363/363 [==============================] - 0s 1ms/step - loss: 0.6514 - val_loss: 0.6402\n",
            "Epoch 4/20\n",
            "363/363 [==============================] - 0s 1ms/step - loss: 0.5991 - val_loss: 0.5778\n",
            "Epoch 5/20\n",
            "363/363 [==============================] - 1s 1ms/step - loss: 0.5671 - val_loss: 0.5449\n",
            "Epoch 6/20\n",
            "363/363 [==============================] - 0s 1ms/step - loss: 0.5423 - val_loss: 0.5190\n",
            "Epoch 7/20\n",
            "363/363 [==============================] - 0s 1ms/step - loss: 0.5228 - val_loss: 0.5011\n",
            "Epoch 8/20\n",
            "363/363 [==============================] - 1s 1ms/step - loss: 0.5073 - val_loss: 0.4808\n",
            "Epoch 9/20\n",
            "363/363 [==============================] - 1s 1ms/step - loss: 0.4945 - val_loss: 0.4661\n",
            "Epoch 10/20\n",
            "363/363 [==============================] - 0s 1ms/step - loss: 0.4841 - val_loss: 0.4553\n",
            "Epoch 11/20\n",
            "363/363 [==============================] - 0s 1ms/step - loss: 0.4758 - val_loss: 0.4457\n",
            "Epoch 12/20\n",
            "363/363 [==============================] - 0s 1ms/step - loss: 0.4687 - val_loss: 0.4377\n",
            "Epoch 13/20\n",
            "363/363 [==============================] - 1s 1ms/step - loss: 0.4627 - val_loss: 0.4322\n",
            "Epoch 14/20\n",
            "363/363 [==============================] - 0s 1ms/step - loss: 0.4579 - val_loss: 0.4273\n",
            "Epoch 15/20\n",
            "363/363 [==============================] - 1s 1ms/step - loss: 0.4536 - val_loss: 0.4230\n",
            "Epoch 16/20\n",
            "363/363 [==============================] - 0s 1ms/step - loss: 0.4500 - val_loss: 0.4185\n",
            "Epoch 17/20\n",
            "363/363 [==============================] - 1s 1ms/step - loss: 0.4466 - val_loss: 0.4177\n",
            "Epoch 18/20\n",
            "363/363 [==============================] - 1s 1ms/step - loss: 0.4441 - val_loss: 0.4169\n",
            "Epoch 19/20\n",
            "363/363 [==============================] - 1s 1ms/step - loss: 0.4409 - val_loss: 0.4134\n",
            "Epoch 20/20\n",
            "363/363 [==============================] - 1s 1ms/step - loss: 0.4386 - val_loss: 0.4224\n",
            "162/162 [==============================] - 0s 888us/step - loss: 0.4297\n"
          ]
        },
        {
          "output_type": "stream",
          "name": "stderr",
          "text": [
            "WARNING:tensorflow:AutoGraph could not transform <function Model.make_predict_function.<locals>.predict_function at 0x7fd740225290> and will run it as-is.\n",
            "Please report this to the TensorFlow team. When filing the bug, set the verbosity to 10 (on Linux, `export AUTOGRAPH_VERBOSITY=10`) and attach the full output.\n",
            "Cause: closure mismatch, requested ('self', 'step_function'), but source function had ()\n",
            "To silence this warning, decorate the function with @tf.autograph.experimental.do_not_convert\n"
          ]
        },
        {
          "output_type": "stream",
          "name": "stdout",
          "text": [
            "WARNING: AutoGraph could not transform <function Model.make_predict_function.<locals>.predict_function at 0x7fd740225290> and will run it as-is.\n",
            "Please report this to the TensorFlow team. When filing the bug, set the verbosity to 10 (on Linux, `export AUTOGRAPH_VERBOSITY=10`) and attach the full output.\n",
            "Cause: closure mismatch, requested ('self', 'step_function'), but source function had ()\n",
            "To silence this warning, decorate the function with @tf.autograph.experimental.do_not_convert\n",
            "1/1 [==============================] - 0s 47ms/step\n"
          ]
        }
      ]
    },
    {
      "cell_type": "markdown",
      "source": [
        "여러 개의 출력이 필요한 경우\n",
        "- 회귀 작업과 분류 작업을 함께 사용하는 경우\n",
        "- 다중 작업 분류(multitask classification) (동일한 데이터에서 독립적인 여러 작업을 수행할 때_\n",
        "- 규제 기법으로 사용하는 경우"
      ],
      "metadata": {
        "id": "GNqcH0piZIJc"
      }
    },
    {
      "cell_type": "markdown",
      "source": [
        "규제를 위한 보조 출력 추가하기"
      ],
      "metadata": {
        "id": "OmkQ_-umBcIo"
      }
    },
    {
      "cell_type": "code",
      "source": [
        "input_A = keras.layers.Input(shape=[5], name=\"wide_input\")\n",
        "input_B = keras.layers.Input(shape=[6], name=\"deep_input\")\n",
        "hidden1 = keras.layers.Dense(30, activation=\"relu\")(input_B)\n",
        "hidden2 = keras.layers.Dense(30, activation=\"relu\")(hidden1)\n",
        "concat = keras.layers.concatenate([input_A, hidden2])\n",
        "\n",
        "output = keras.layers.Dense(1, name=\"main_output\")(concat)\n",
        "aux_output = keras.layers.Dense(1, name=\"aux_output\")(hidden2)\n",
        "model = keras.models.Model(inputs=[input_A, input_B],\n",
        "                           outputs=[output, aux_output])"
      ],
      "metadata": {
        "id": "yiMykFMuBfIT"
      },
      "execution_count": 46,
      "outputs": []
    },
    {
      "cell_type": "markdown",
      "source": [
        "각 출력은 자신만의 손실함수가 필요<br>\n",
        "=> 따라서 모델을 컴파일할 때 손실의 리스트를 전달해야함<br>\n",
        "기본적으로 케라스는 나열된 손실을 모두 더하여 최종 손실을 구해 훈련에 사용. 보조 출력보다 주 출력에 관심이 더 많다면, 주 출력의 손실에 더 많은 가중치 부여해야함"
      ],
      "metadata": {
        "id": "ZShp0-LDBmnc"
      }
    },
    {
      "cell_type": "code",
      "source": [
        "model.compile(loss=[\"mse\", \"mse\"], loss_weights=[0.9, 0.1], optimizer=keras.optimizers.SGD(learning_rate=1e-3))"
      ],
      "metadata": {
        "id": "m3NQWhWQBm5u"
      },
      "execution_count": 47,
      "outputs": []
    },
    {
      "cell_type": "markdown",
      "source": [
        "모델 훈련할 때 각 출력에 대한 레이블 제공해야함<br>\n",
        "여기서는 주 출력과 보조 출력이 같은 것을 예측해야하므로 동일한 레이블 사용<br>\n",
        "=> `y_train` 대신에 `(y_train, y_train)` 전달"
      ],
      "metadata": {
        "id": "kru1vuZYBnEo"
      }
    },
    {
      "cell_type": "code",
      "source": [
        "history = model.fit(\n",
        "    [X_train_A, X_train_B], [y_train, y_train], epochs=20,\n",
        "    validation_data=([X_valid_A, X_valid_B], [y_valid, y_valid]))"
      ],
      "metadata": {
        "colab": {
          "base_uri": "https://localhost:8080/"
        },
        "id": "38nE9MuyBnVi",
        "outputId": "d51d7da2-22d4-45bf-84ce-4a2d34ae6821"
      },
      "execution_count": 48,
      "outputs": [
        {
          "output_type": "stream",
          "name": "stdout",
          "text": [
            "Epoch 1/20\n"
          ]
        },
        {
          "output_type": "stream",
          "name": "stderr",
          "text": [
            "WARNING:tensorflow:AutoGraph could not transform <function Model.make_train_function.<locals>.train_function at 0x7fd740897440> and will run it as-is.\n",
            "Please report this to the TensorFlow team. When filing the bug, set the verbosity to 10 (on Linux, `export AUTOGRAPH_VERBOSITY=10`) and attach the full output.\n",
            "Cause: closure mismatch, requested ('self', 'step_function'), but source function had ()\n",
            "To silence this warning, decorate the function with @tf.autograph.experimental.do_not_convert\n"
          ]
        },
        {
          "output_type": "stream",
          "name": "stdout",
          "text": [
            "WARNING: AutoGraph could not transform <function Model.make_train_function.<locals>.train_function at 0x7fd740897440> and will run it as-is.\n",
            "Please report this to the TensorFlow team. When filing the bug, set the verbosity to 10 (on Linux, `export AUTOGRAPH_VERBOSITY=10`) and attach the full output.\n",
            "Cause: closure mismatch, requested ('self', 'step_function'), but source function had ()\n",
            "To silence this warning, decorate the function with @tf.autograph.experimental.do_not_convert\n",
            "325/363 [=========================>....] - ETA: 0s - loss: 2.3771 - main_output_loss: 2.0565 - aux_output_loss: 5.2619"
          ]
        },
        {
          "output_type": "stream",
          "name": "stderr",
          "text": [
            "WARNING:tensorflow:AutoGraph could not transform <function Model.make_test_function.<locals>.test_function at 0x7fd740225560> and will run it as-is.\n",
            "Please report this to the TensorFlow team. When filing the bug, set the verbosity to 10 (on Linux, `export AUTOGRAPH_VERBOSITY=10`) and attach the full output.\n",
            "Cause: closure mismatch, requested ('self', 'step_function'), but source function had ()\n",
            "To silence this warning, decorate the function with @tf.autograph.experimental.do_not_convert\n"
          ]
        },
        {
          "output_type": "stream",
          "name": "stdout",
          "text": [
            "WARNING: AutoGraph could not transform <function Model.make_test_function.<locals>.test_function at 0x7fd740225560> and will run it as-is.\n",
            "Please report this to the TensorFlow team. When filing the bug, set the verbosity to 10 (on Linux, `export AUTOGRAPH_VERBOSITY=10`) and attach the full output.\n",
            "Cause: closure mismatch, requested ('self', 'step_function'), but source function had ()\n",
            "To silence this warning, decorate the function with @tf.autograph.experimental.do_not_convert\n",
            "363/363 [==============================] - 1s 2ms/step - loss: 2.2680 - main_output_loss: 1.9510 - aux_output_loss: 5.1214 - val_loss: 2.7346 - val_main_output_loss: 2.1457 - val_aux_output_loss: 8.0346\n",
            "Epoch 2/20\n",
            "363/363 [==============================] - 1s 2ms/step - loss: 1.0709 - main_output_loss: 0.8465 - aux_output_loss: 3.0910 - val_loss: 1.5914 - val_main_output_loss: 0.8960 - val_aux_output_loss: 7.8500\n",
            "Epoch 3/20\n",
            "363/363 [==============================] - 1s 2ms/step - loss: 0.8526 - main_output_loss: 0.7034 - aux_output_loss: 2.1957 - val_loss: 1.2902 - val_main_output_loss: 0.6649 - val_aux_output_loss: 6.9176\n",
            "Epoch 4/20\n",
            "363/363 [==============================] - 1s 1ms/step - loss: 0.7558 - main_output_loss: 0.6404 - aux_output_loss: 1.7942 - val_loss: 1.1200 - val_main_output_loss: 0.6066 - val_aux_output_loss: 5.7407\n",
            "Epoch 5/20\n",
            "363/363 [==============================] - 1s 1ms/step - loss: 0.6982 - main_output_loss: 0.5992 - aux_output_loss: 1.5896 - val_loss: 0.9833 - val_main_output_loss: 0.5615 - val_aux_output_loss: 4.7794\n",
            "Epoch 6/20\n",
            "363/363 [==============================] - 1s 1ms/step - loss: 0.6574 - main_output_loss: 0.5669 - aux_output_loss: 1.4721 - val_loss: 0.8677 - val_main_output_loss: 0.5297 - val_aux_output_loss: 3.9097\n",
            "Epoch 7/20\n",
            "363/363 [==============================] - 1s 1ms/step - loss: 0.6254 - main_output_loss: 0.5402 - aux_output_loss: 1.3918 - val_loss: 0.7787 - val_main_output_loss: 0.5055 - val_aux_output_loss: 3.2383\n",
            "Epoch 8/20\n",
            "363/363 [==============================] - 1s 1ms/step - loss: 0.6002 - main_output_loss: 0.5186 - aux_output_loss: 1.3346 - val_loss: 0.7052 - val_main_output_loss: 0.4850 - val_aux_output_loss: 2.6866\n",
            "Epoch 9/20\n",
            "363/363 [==============================] - 1s 2ms/step - loss: 0.5792 - main_output_loss: 0.5004 - aux_output_loss: 1.2885 - val_loss: 0.6510 - val_main_output_loss: 0.4694 - val_aux_output_loss: 2.2860\n",
            "Epoch 10/20\n",
            "363/363 [==============================] - 1s 1ms/step - loss: 0.5624 - main_output_loss: 0.4860 - aux_output_loss: 1.2507 - val_loss: 0.6120 - val_main_output_loss: 0.4594 - val_aux_output_loss: 1.9857\n",
            "Epoch 11/20\n",
            "363/363 [==============================] - 1s 1ms/step - loss: 0.5492 - main_output_loss: 0.4748 - aux_output_loss: 1.2187 - val_loss: 0.5858 - val_main_output_loss: 0.4553 - val_aux_output_loss: 1.7601\n",
            "Epoch 12/20\n",
            "363/363 [==============================] - 1s 2ms/step - loss: 0.5385 - main_output_loss: 0.4661 - aux_output_loss: 1.1900 - val_loss: 0.5600 - val_main_output_loss: 0.4461 - val_aux_output_loss: 1.5852\n",
            "Epoch 13/20\n",
            "363/363 [==============================] - 1s 2ms/step - loss: 0.5297 - main_output_loss: 0.4593 - aux_output_loss: 1.1639 - val_loss: 0.5469 - val_main_output_loss: 0.4467 - val_aux_output_loss: 1.4489\n",
            "Epoch 14/20\n",
            "363/363 [==============================] - 1s 1ms/step - loss: 0.5224 - main_output_loss: 0.4538 - aux_output_loss: 1.1393 - val_loss: 0.5355 - val_main_output_loss: 0.4452 - val_aux_output_loss: 1.3485\n",
            "Epoch 15/20\n",
            "363/363 [==============================] - 1s 1ms/step - loss: 0.5164 - main_output_loss: 0.4496 - aux_output_loss: 1.1168 - val_loss: 0.5250 - val_main_output_loss: 0.4424 - val_aux_output_loss: 1.2683\n",
            "Epoch 16/20\n",
            "363/363 [==============================] - 1s 2ms/step - loss: 0.5112 - main_output_loss: 0.4464 - aux_output_loss: 1.0948 - val_loss: 0.5162 - val_main_output_loss: 0.4401 - val_aux_output_loss: 1.2009\n",
            "Epoch 17/20\n",
            "363/363 [==============================] - 1s 2ms/step - loss: 0.5072 - main_output_loss: 0.4442 - aux_output_loss: 1.0744 - val_loss: 0.5111 - val_main_output_loss: 0.4403 - val_aux_output_loss: 1.1488\n",
            "Epoch 18/20\n",
            "363/363 [==============================] - 1s 1ms/step - loss: 0.5030 - main_output_loss: 0.4418 - aux_output_loss: 1.0545 - val_loss: 0.5101 - val_main_output_loss: 0.4437 - val_aux_output_loss: 1.1072\n",
            "Epoch 19/20\n",
            "363/363 [==============================] - 1s 2ms/step - loss: 0.4988 - main_output_loss: 0.4392 - aux_output_loss: 1.0355 - val_loss: 0.5025 - val_main_output_loss: 0.4395 - val_aux_output_loss: 1.0689\n",
            "Epoch 20/20\n",
            "363/363 [==============================] - 1s 2ms/step - loss: 0.4961 - main_output_loss: 0.4382 - aux_output_loss: 1.0178 - val_loss: 0.5110 - val_main_output_loss: 0.4522 - val_aux_output_loss: 1.0409\n"
          ]
        }
      ]
    },
    {
      "cell_type": "code",
      "source": [
        "total_loss, main_loss, aux_loss = model.evaluate(\n",
        "    [X_test_A, X_test_B], [y_test, y_test])"
      ],
      "metadata": {
        "colab": {
          "base_uri": "https://localhost:8080/"
        },
        "id": "LIo_UfSjBn8E",
        "outputId": "a0906a2e-5763-401c-9075-7d7e538bc7dc"
      },
      "execution_count": 49,
      "outputs": [
        {
          "output_type": "stream",
          "name": "stdout",
          "text": [
            "162/162 [==============================] - 0s 929us/step - loss: 0.4880 - main_output_loss: 0.4318 - aux_output_loss: 0.9943\n"
          ]
        }
      ]
    },
    {
      "cell_type": "code",
      "source": [
        "y_pred_main, y_pred_aux = model.predict([X_new_A, X_new_B])"
      ],
      "metadata": {
        "colab": {
          "base_uri": "https://localhost:8080/"
        },
        "id": "cu_WogHRCp_C",
        "outputId": "92a380b2-7c49-4426-f07f-10bcea8666c4"
      },
      "execution_count": 50,
      "outputs": [
        {
          "output_type": "stream",
          "name": "stderr",
          "text": [
            "WARNING:tensorflow:AutoGraph could not transform <function Model.make_predict_function.<locals>.predict_function at 0x7fd735bdb170> and will run it as-is.\n",
            "Please report this to the TensorFlow team. When filing the bug, set the verbosity to 10 (on Linux, `export AUTOGRAPH_VERBOSITY=10`) and attach the full output.\n",
            "Cause: closure mismatch, requested ('self', 'step_function'), but source function had ()\n",
            "To silence this warning, decorate the function with @tf.autograph.experimental.do_not_convert\n"
          ]
        },
        {
          "output_type": "stream",
          "name": "stdout",
          "text": [
            "WARNING: AutoGraph could not transform <function Model.make_predict_function.<locals>.predict_function at 0x7fd735bdb170> and will run it as-is.\n",
            "Please report this to the TensorFlow team. When filing the bug, set the verbosity to 10 (on Linux, `export AUTOGRAPH_VERBOSITY=10`) and attach the full output.\n",
            "Cause: closure mismatch, requested ('self', 'step_function'), but source function had ()\n",
            "To silence this warning, decorate the function with @tf.autograph.experimental.do_not_convert\n"
          ]
        },
        {
          "output_type": "stream",
          "name": "stderr",
          "text": [
            "WARNING:tensorflow:5 out of the last 6 calls to <function Model.make_predict_function.<locals>.predict_function at 0x7fd735bdb170> triggered tf.function retracing. Tracing is expensive and the excessive number of tracings could be due to (1) creating @tf.function repeatedly in a loop, (2) passing tensors with different shapes, (3) passing Python objects instead of tensors. For (1), please define your @tf.function outside of the loop. For (2), @tf.function has reduce_retracing=True option that can avoid unnecessary retracing. For (3), please refer to https://www.tensorflow.org/guide/function#controlling_retracing and https://www.tensorflow.org/api_docs/python/tf/function for  more details.\n"
          ]
        },
        {
          "output_type": "stream",
          "name": "stdout",
          "text": [
            "1/1 [==============================] - 0s 51ms/step\n"
          ]
        }
      ]
    },
    {
      "cell_type": "markdown",
      "source": [
        "## 10.2.5 서브클래싱 API로 동적 모델 만들기"
      ],
      "metadata": {
        "id": "P4WEuMkOZILw"
      }
    },
    {
      "cell_type": "markdown",
      "source": [
        "시퀀셜 API와 함수형 API는 모두 선언적(declarative) (사용할 층과 연결 방식을 먼저 정의해야함, 모델에 데이터 주입하여 훈련이나 추론 시작)<br>\n",
        "-> 장점: 모델을 저장하거나 복사, 공유가 쉬움. 모델의 구조를 출력하거나 분석하기 좋음. 프레임워크가 크기를 짐작하고 타입 확인하여 에러 일찍 발견 가능. 전체 모델이 층으로 구서오딘 정적 그래프이므로 디버깅 쉬움<br>\n",
        "-> 단점: 정적<br>\n",
        "<br>\n",
        "**서브클래싱**(subclassing) API: 동적인 구조를 필요로 하는 명령형(imperative) 프로그래밍 스타일이 필요한 경우 사용"
      ],
      "metadata": {
        "id": "60fJIJDMCtNR"
      }
    },
    {
      "cell_type": "markdown",
      "source": [
        "간단히 Model 클래스를 상속한 다음 생성자 안에서 필요하 층 만듦<br>\n",
        "그다음 `call()` 메서드 안에 수행하려는 연산 기술"
      ],
      "metadata": {
        "id": "FckyLtNJDwyX"
      }
    },
    {
      "cell_type": "code",
      "source": [
        "class WideAndDeepModel(keras.models.Model):\n",
        "    def __init__(self, units=30, activation=\"relu\", **kwargs):\n",
        "        super().__init__(**kwargs)\n",
        "        self.hidden1 = keras.layers.Dense(units, activation=activation)\n",
        "        self.hidden2 = keras.layers.Dense(units, activation=activation)\n",
        "        self.main_output = keras.layers.Dense(1)\n",
        "        self.aux_output = keras.layers.Dense(1)\n",
        "        \n",
        "    def call(self, inputs):\n",
        "        input_A, input_B = inputs\n",
        "        hidden1 = self.hidden1(input_B)\n",
        "        hidden2 = self.hidden2(hidden1)\n",
        "        concat = keras.layers.concatenate([input_A, hidden2])\n",
        "        main_output = self.main_output(concat)\n",
        "        aux_output = self.aux_output(hidden2)\n",
        "        return main_output, aux_output\n",
        "\n",
        "model = WideAndDeepModel(30, activation=\"relu\")"
      ],
      "metadata": {
        "id": "mDXbXSAiZOS8"
      },
      "execution_count": 51,
      "outputs": []
    },
    {
      "cell_type": "markdown",
      "source": [
        "함수형 API와 비슷하지만 Input 클래스의 객체 만들 필요 없음<bR>\n",
        "대신 `call()` 메서드의 input 매개변수 사용 -> `call()` 메서드 안에 원하는 어떤 계산도 사용할 수 있음"
      ],
      "metadata": {
        "id": "3PMOpoFpmcCn"
      }
    },
    {
      "cell_type": "markdown",
      "source": [
        "유연성이 높아지면 이에 따른 비용 발생<br>\n",
        "- 모델 구조가 `call()` 메서드 안에 숨겨져있기 때문에 케라스가 쉽게 이를 분석할 수 없음<br>\n",
        "`summary()` 메서드 호출하면 층의 목록만 나열되고 층 간의 연결 정보 얻을 수 없음<br>\n",
        "- 케라스가 타입과 크기를 미리 확인할 수 없어 실수 발생하기 쉬움<br>\n",
        "\n",
        "=> 높은 유연성을 필요하지 않는다면 시퀀셜 API와 함수형 API 사용하는 것이 좋음"
      ],
      "metadata": {
        "id": "xkwLLOH8nT2S"
      }
    },
    {
      "cell_type": "code",
      "source": [
        "model.compile(loss=\"mse\", loss_weights=[0.9, 0.1], optimizer=keras.optimizers.SGD(learning_rate=1e-3))\n",
        "\n",
        "history = model.fit((X_train_A, X_train_B), (y_train, y_train), epochs=10,\n",
        "                    validation_data=((X_valid_A, X_valid_B), (y_valid, y_valid)))\n",
        "\n",
        "total_loss, main_loss, aux_loss = model.evaluate((X_test_A, X_test_B), (y_test, y_test))\n",
        "\n",
        "y_pred_main, y_pred_aux = model.predict((X_new_A, X_new_B))"
      ],
      "metadata": {
        "colab": {
          "base_uri": "https://localhost:8080/"
        },
        "id": "qbf5oq1TZOVk",
        "outputId": "31bd9adf-6f65-4d67-9a69-60f5e2d956b0"
      },
      "execution_count": 53,
      "outputs": [
        {
          "output_type": "stream",
          "name": "stdout",
          "text": [
            "Epoch 1/10\n"
          ]
        },
        {
          "output_type": "stream",
          "name": "stderr",
          "text": [
            "WARNING:tensorflow:AutoGraph could not transform <function Model.make_train_function.<locals>.train_function at 0x7fd735a0f170> and will run it as-is.\n",
            "Please report this to the TensorFlow team. When filing the bug, set the verbosity to 10 (on Linux, `export AUTOGRAPH_VERBOSITY=10`) and attach the full output.\n",
            "Cause: closure mismatch, requested ('self', 'step_function'), but source function had ()\n",
            "To silence this warning, decorate the function with @tf.autograph.experimental.do_not_convert\n"
          ]
        },
        {
          "output_type": "stream",
          "name": "stdout",
          "text": [
            "WARNING: AutoGraph could not transform <function Model.make_train_function.<locals>.train_function at 0x7fd735a0f170> and will run it as-is.\n",
            "Please report this to the TensorFlow team. When filing the bug, set the verbosity to 10 (on Linux, `export AUTOGRAPH_VERBOSITY=10`) and attach the full output.\n",
            "Cause: closure mismatch, requested ('self', 'step_function'), but source function had ()\n",
            "To silence this warning, decorate the function with @tf.autograph.experimental.do_not_convert\n",
            "356/363 [============================>.] - ETA: 0s - loss: 2.1417 - output_1_loss: 2.0199 - output_2_loss: 3.2378"
          ]
        },
        {
          "output_type": "stream",
          "name": "stderr",
          "text": [
            "WARNING:tensorflow:AutoGraph could not transform <function Model.make_test_function.<locals>.test_function at 0x7fd735bdba70> and will run it as-is.\n",
            "Please report this to the TensorFlow team. When filing the bug, set the verbosity to 10 (on Linux, `export AUTOGRAPH_VERBOSITY=10`) and attach the full output.\n",
            "Cause: closure mismatch, requested ('self', 'step_function'), but source function had ()\n",
            "To silence this warning, decorate the function with @tf.autograph.experimental.do_not_convert\n"
          ]
        },
        {
          "output_type": "stream",
          "name": "stdout",
          "text": [
            "WARNING: AutoGraph could not transform <function Model.make_test_function.<locals>.test_function at 0x7fd735bdba70> and will run it as-is.\n",
            "Please report this to the TensorFlow team. When filing the bug, set the verbosity to 10 (on Linux, `export AUTOGRAPH_VERBOSITY=10`) and attach the full output.\n",
            "Cause: closure mismatch, requested ('self', 'step_function'), but source function had ()\n",
            "To silence this warning, decorate the function with @tf.autograph.experimental.do_not_convert\n",
            "363/363 [==============================] - 3s 4ms/step - loss: 2.1210 - output_1_loss: 1.9986 - output_2_loss: 3.2225 - val_loss: 2.8539 - val_output_1_loss: 2.5208 - val_output_2_loss: 5.8515\n",
            "Epoch 2/10\n",
            "363/363 [==============================] - 1s 1ms/step - loss: 0.9263 - output_1_loss: 0.7926 - output_2_loss: 2.1300 - val_loss: 1.5743 - val_output_1_loss: 1.2249 - val_output_2_loss: 4.7190\n",
            "Epoch 3/10\n",
            "363/363 [==============================] - 0s 1ms/step - loss: 0.7806 - output_1_loss: 0.6730 - output_2_loss: 1.7492 - val_loss: 1.1348 - val_output_1_loss: 0.8106 - val_output_2_loss: 4.0528\n",
            "Epoch 4/10\n",
            "363/363 [==============================] - 1s 2ms/step - loss: 0.7027 - output_1_loss: 0.6126 - output_2_loss: 1.5139 - val_loss: 0.9375 - val_output_1_loss: 0.6529 - val_output_2_loss: 3.4992\n",
            "Epoch 5/10\n",
            "363/363 [==============================] - 0s 1ms/step - loss: 0.6474 - output_1_loss: 0.5703 - output_2_loss: 1.3416 - val_loss: 0.7974 - val_output_1_loss: 0.5528 - val_output_2_loss: 2.9988\n",
            "Epoch 6/10\n",
            "363/363 [==============================] - 1s 2ms/step - loss: 0.6064 - output_1_loss: 0.5384 - output_2_loss: 1.2180 - val_loss: 0.7264 - val_output_1_loss: 0.5128 - val_output_2_loss: 2.6496\n",
            "Epoch 7/10\n",
            "363/363 [==============================] - 1s 1ms/step - loss: 0.5766 - output_1_loss: 0.5151 - output_2_loss: 1.1304 - val_loss: 0.6632 - val_output_1_loss: 0.4782 - val_output_2_loss: 2.3281\n",
            "Epoch 8/10\n",
            "363/363 [==============================] - 1s 1ms/step - loss: 0.5544 - output_1_loss: 0.4977 - output_2_loss: 1.0644 - val_loss: 0.6274 - val_output_1_loss: 0.4627 - val_output_2_loss: 2.1100\n",
            "Epoch 9/10\n",
            "363/363 [==============================] - 1s 1ms/step - loss: 0.5371 - output_1_loss: 0.4840 - output_2_loss: 1.0154 - val_loss: 0.6025 - val_output_1_loss: 0.4536 - val_output_2_loss: 1.9429\n",
            "Epoch 10/10\n",
            "363/363 [==============================] - 1s 2ms/step - loss: 0.5239 - output_1_loss: 0.4735 - output_2_loss: 0.9772 - val_loss: 0.5817 - val_output_1_loss: 0.4456 - val_output_2_loss: 1.8068\n",
            "162/162 [==============================] - 0s 988us/step - loss: 0.5130 - output_1_loss: 0.4627 - output_2_loss: 0.9656\n"
          ]
        },
        {
          "output_type": "stream",
          "name": "stderr",
          "text": [
            "WARNING:tensorflow:AutoGraph could not transform <function Model.make_predict_function.<locals>.predict_function at 0x7fd735c2bc20> and will run it as-is.\n",
            "Please report this to the TensorFlow team. When filing the bug, set the verbosity to 10 (on Linux, `export AUTOGRAPH_VERBOSITY=10`) and attach the full output.\n",
            "Cause: closure mismatch, requested ('self', 'step_function'), but source function had ()\n",
            "To silence this warning, decorate the function with @tf.autograph.experimental.do_not_convert\n"
          ]
        },
        {
          "output_type": "stream",
          "name": "stdout",
          "text": [
            "WARNING: AutoGraph could not transform <function Model.make_predict_function.<locals>.predict_function at 0x7fd735c2bc20> and will run it as-is.\n",
            "Please report this to the TensorFlow team. When filing the bug, set the verbosity to 10 (on Linux, `export AUTOGRAPH_VERBOSITY=10`) and attach the full output.\n",
            "Cause: closure mismatch, requested ('self', 'step_function'), but source function had ()\n",
            "To silence this warning, decorate the function with @tf.autograph.experimental.do_not_convert\n"
          ]
        },
        {
          "output_type": "stream",
          "name": "stderr",
          "text": [
            "WARNING:tensorflow:6 out of the last 7 calls to <function Model.make_predict_function.<locals>.predict_function at 0x7fd735c2bc20> triggered tf.function retracing. Tracing is expensive and the excessive number of tracings could be due to (1) creating @tf.function repeatedly in a loop, (2) passing tensors with different shapes, (3) passing Python objects instead of tensors. For (1), please define your @tf.function outside of the loop. For (2), @tf.function has reduce_retracing=True option that can avoid unnecessary retracing. For (3), please refer to https://www.tensorflow.org/guide/function#controlling_retracing and https://www.tensorflow.org/api_docs/python/tf/function for  more details.\n"
          ]
        },
        {
          "output_type": "stream",
          "name": "stdout",
          "text": [
            "1/1 [==============================] - 0s 57ms/step\n"
          ]
        }
      ]
    },
    {
      "cell_type": "code",
      "source": [
        "model.summary()"
      ],
      "metadata": {
        "colab": {
          "base_uri": "https://localhost:8080/"
        },
        "id": "zruJdw5YmzxZ",
        "outputId": "ee888788-0aa2-4e9c-9e1f-9555f9486e01"
      },
      "execution_count": 54,
      "outputs": [
        {
          "output_type": "stream",
          "name": "stdout",
          "text": [
            "Model: \"wide_and_deep_model\"\n",
            "_________________________________________________________________\n",
            " Layer (type)                Output Shape              Param #   \n",
            "=================================================================\n",
            " dense_15 (Dense)            multiple                  210       \n",
            "                                                                 \n",
            " dense_16 (Dense)            multiple                  930       \n",
            "                                                                 \n",
            " dense_17 (Dense)            multiple                  36        \n",
            "                                                                 \n",
            " dense_18 (Dense)            multiple                  31        \n",
            "                                                                 \n",
            "=================================================================\n",
            "Total params: 1,207\n",
            "Trainable params: 1,207\n",
            "Non-trainable params: 0\n",
            "_________________________________________________________________\n"
          ]
        }
      ]
    },
    {
      "cell_type": "markdown",
      "source": [
        "## 10.2.6 모델 저장과 복원"
      ],
      "metadata": {
        "id": "UFPZYmXIZIRf"
      }
    },
    {
      "cell_type": "markdown",
      "source": [
        "시퀀셜 API와 함수형 API를 사용하면 훈련된 케라스 모델 저장하는 것은 쉬움"
      ],
      "metadata": {
        "id": "MVSxb2LjoN8t"
      }
    },
    {
      "cell_type": "code",
      "source": [
        "model = keras.models.Sequential([\n",
        "    keras.layers.Dense(30, activation=\"relu\", input_shape=[8]),\n",
        "    keras.layers.Dense(30, activation=\"relu\"),\n",
        "    keras.layers.Dense(1)\n",
        "])    "
      ],
      "metadata": {
        "id": "_En8rMB2ZSe5"
      },
      "execution_count": 55,
      "outputs": []
    },
    {
      "cell_type": "code",
      "source": [
        "model.compile(loss=\"mse\", optimizer=keras.optimizers.SGD(learning_rate=1e-3))\n",
        "history = model.fit(X_train, y_train, epochs=10, validation_data=(X_valid, y_valid))\n",
        "mse_test = model.evaluate(X_test, y_test)"
      ],
      "metadata": {
        "colab": {
          "base_uri": "https://localhost:8080/"
        },
        "id": "_g-e3n2WZShP",
        "outputId": "cff21df8-c340-49ab-fe05-f7d4e1209df7"
      },
      "execution_count": 56,
      "outputs": [
        {
          "output_type": "stream",
          "name": "stdout",
          "text": [
            "Epoch 1/10\n"
          ]
        },
        {
          "output_type": "stream",
          "name": "stderr",
          "text": [
            "WARNING:tensorflow:AutoGraph could not transform <function Model.make_train_function.<locals>.train_function at 0x7fd741618830> and will run it as-is.\n",
            "Please report this to the TensorFlow team. When filing the bug, set the verbosity to 10 (on Linux, `export AUTOGRAPH_VERBOSITY=10`) and attach the full output.\n",
            "Cause: closure mismatch, requested ('self', 'step_function'), but source function had ()\n",
            "To silence this warning, decorate the function with @tf.autograph.experimental.do_not_convert\n"
          ]
        },
        {
          "output_type": "stream",
          "name": "stdout",
          "text": [
            "WARNING: AutoGraph could not transform <function Model.make_train_function.<locals>.train_function at 0x7fd741618830> and will run it as-is.\n",
            "Please report this to the TensorFlow team. When filing the bug, set the verbosity to 10 (on Linux, `export AUTOGRAPH_VERBOSITY=10`) and attach the full output.\n",
            "Cause: closure mismatch, requested ('self', 'step_function'), but source function had ()\n",
            "To silence this warning, decorate the function with @tf.autograph.experimental.do_not_convert\n",
            "336/363 [==========================>...] - ETA: 0s - loss: 1.8466"
          ]
        },
        {
          "output_type": "stream",
          "name": "stderr",
          "text": [
            "WARNING:tensorflow:AutoGraph could not transform <function Model.make_test_function.<locals>.test_function at 0x7fd735e687a0> and will run it as-is.\n",
            "Please report this to the TensorFlow team. When filing the bug, set the verbosity to 10 (on Linux, `export AUTOGRAPH_VERBOSITY=10`) and attach the full output.\n",
            "Cause: closure mismatch, requested ('self', 'step_function'), but source function had ()\n",
            "To silence this warning, decorate the function with @tf.autograph.experimental.do_not_convert\n"
          ]
        },
        {
          "output_type": "stream",
          "name": "stdout",
          "text": [
            "WARNING: AutoGraph could not transform <function Model.make_test_function.<locals>.test_function at 0x7fd735e687a0> and will run it as-is.\n",
            "Please report this to the TensorFlow team. When filing the bug, set the verbosity to 10 (on Linux, `export AUTOGRAPH_VERBOSITY=10`) and attach the full output.\n",
            "Cause: closure mismatch, requested ('self', 'step_function'), but source function had ()\n",
            "To silence this warning, decorate the function with @tf.autograph.experimental.do_not_convert\n",
            "363/363 [==============================] - 1s 1ms/step - loss: 1.7708 - val_loss: 0.7858\n",
            "Epoch 2/10\n",
            "363/363 [==============================] - 0s 1ms/step - loss: 0.7263 - val_loss: 0.6888\n",
            "Epoch 3/10\n",
            "363/363 [==============================] - 0s 1ms/step - loss: 0.6499 - val_loss: 0.6225\n",
            "Epoch 4/10\n",
            "363/363 [==============================] - 0s 1ms/step - loss: 0.6047 - val_loss: 0.5610\n",
            "Epoch 5/10\n",
            "363/363 [==============================] - 0s 1ms/step - loss: 0.5699 - val_loss: 0.5240\n",
            "Epoch 6/10\n",
            "363/363 [==============================] - 0s 1ms/step - loss: 0.5404 - val_loss: 0.4974\n",
            "Epoch 7/10\n",
            "363/363 [==============================] - 1s 1ms/step - loss: 0.5160 - val_loss: 0.4785\n",
            "Epoch 8/10\n",
            "363/363 [==============================] - 0s 1ms/step - loss: 0.4956 - val_loss: 0.4574\n",
            "Epoch 9/10\n",
            "363/363 [==============================] - 0s 1ms/step - loss: 0.4784 - val_loss: 0.4423\n",
            "Epoch 10/10\n",
            "363/363 [==============================] - 0s 1ms/step - loss: 0.4640 - val_loss: 0.4303\n",
            "162/162 [==============================] - 0s 801us/step - loss: 0.4448\n"
          ]
        }
      ]
    },
    {
      "cell_type": "code",
      "source": [
        "model.save(\"my_keras_model.h5\")"
      ],
      "metadata": {
        "id": "W5xpaAYHoYaH"
      },
      "execution_count": 57,
      "outputs": []
    },
    {
      "cell_type": "markdown",
      "source": [
        "케라스는 HDF5 포맷을 사용하여 (모든 층의 하이퍼파라미터 포함하여) 모델 구조와 층의 모든 모델 파라미터(즉 연결 가중치와 편향)를 저장. 또한 (하이퍼파라미터와 현재 상태를 포함하여) 옵티마이저도 저장."
      ],
      "metadata": {
        "id": "LXQTEwRpok4l"
      }
    },
    {
      "cell_type": "markdown",
      "source": [
        "일반적으로 하나의 파이썬 스크립트에서 모델을 훈련하고 저장한 다음 하나 이상의 스크립트에서 모델을 로드하고 예측을 만드는데 활용. 모델 로드는 다음과 같음."
      ],
      "metadata": {
        "id": "NYsV9Cs8o8t5"
      }
    },
    {
      "cell_type": "code",
      "source": [
        "model = keras.models.load_model(\"my_keras_model.h5\")"
      ],
      "metadata": {
        "id": "fOl2ucH7ogu_"
      },
      "execution_count": 58,
      "outputs": []
    },
    {
      "cell_type": "code",
      "source": [
        "model.predict(X_new)"
      ],
      "metadata": {
        "colab": {
          "base_uri": "https://localhost:8080/"
        },
        "id": "UWrhkyv1ogyA",
        "outputId": "e6a055ad-ed8a-4d70-84a0-06c63c7f474a"
      },
      "execution_count": 59,
      "outputs": [
        {
          "output_type": "stream",
          "name": "stderr",
          "text": [
            "WARNING:tensorflow:AutoGraph could not transform <function Model.make_predict_function.<locals>.predict_function at 0x7fd741f14710> and will run it as-is.\n",
            "Please report this to the TensorFlow team. When filing the bug, set the verbosity to 10 (on Linux, `export AUTOGRAPH_VERBOSITY=10`) and attach the full output.\n",
            "Cause: closure mismatch, requested ('self', 'step_function'), but source function had ()\n",
            "To silence this warning, decorate the function with @tf.autograph.experimental.do_not_convert\n"
          ]
        },
        {
          "output_type": "stream",
          "name": "stdout",
          "text": [
            "WARNING: AutoGraph could not transform <function Model.make_predict_function.<locals>.predict_function at 0x7fd741f14710> and will run it as-is.\n",
            "Please report this to the TensorFlow team. When filing the bug, set the verbosity to 10 (on Linux, `export AUTOGRAPH_VERBOSITY=10`) and attach the full output.\n",
            "Cause: closure mismatch, requested ('self', 'step_function'), but source function had ()\n",
            "To silence this warning, decorate the function with @tf.autograph.experimental.do_not_convert\n",
            "1/1 [==============================] - 0s 42ms/step\n"
          ]
        },
        {
          "output_type": "execute_result",
          "data": {
            "text/plain": [
              "array([[0.7777177],\n",
              "       [1.5822684],\n",
              "       [3.3043728]], dtype=float32)"
            ]
          },
          "metadata": {},
          "execution_count": 59
        }
      ]
    },
    {
      "cell_type": "markdown",
      "source": [
        "## 10.2.7 콜백 사용하기"
      ],
      "metadata": {
        "id": "NDiajVZkZIZ3"
      }
    },
    {
      "cell_type": "markdown",
      "source": [
        "`fit()` 메서드의 `callbacks` 매개변수를 사용하여 케라스가 훈련의 시작이나 끝에 호출할 객체 리스트 저장. 또는 에포크의 시작이나 끝, 각 배치 처리 전후에 호출할 수도 있음."
      ],
      "metadata": {
        "id": "pbAnkTaYpdji"
      }
    },
    {
      "cell_type": "code",
      "source": [
        "model = keras.models.Sequential([\n",
        "    keras.layers.Dense(30, activation=\"relu\", input_shape=[8]),\n",
        "    keras.layers.Dense(30, activation=\"relu\"),\n",
        "    keras.layers.Dense(1)\n",
        "])    "
      ],
      "metadata": {
        "id": "tQNd9DY2Pjkr"
      },
      "execution_count": 60,
      "outputs": []
    },
    {
      "cell_type": "markdown",
      "source": [
        "훈련하는 동안 검증 세트를 사용하면 `ModelCheckpoint`를 만들 때 `save_best_only=True`로 지정할 수 있음<br>\n",
        "=> 이렇게 하면 최상의 검증 세트 점수에서만 모델 저장. 과대적합 걱정 x."
      ],
      "metadata": {
        "id": "9ifEEus_qYuW"
      }
    },
    {
      "cell_type": "code",
      "source": [
        "model.compile(loss=\"mse\", optimizer=keras.optimizers.SGD(learning_rate=1e-3))\n",
        "checkpoint_cb = keras.callbacks.ModelCheckpoint(\"my_keras_model.h5\", save_best_only=True)\n",
        "history = model.fit(X_train, y_train, epochs=10,\n",
        "                    validation_data=(X_valid, y_valid),\n",
        "                    callbacks=[checkpoint_cb])\n",
        "model = keras.models.load_model(\"my_keras_model.h5\") # 최상의 모델로 롤백\n",
        "mse_test = model.evaluate(X_test, y_test)"
      ],
      "metadata": {
        "colab": {
          "base_uri": "https://localhost:8080/"
        },
        "id": "DnlYeya0ptJZ",
        "outputId": "4d1f1bfd-72de-40b1-bf3c-406826c71894"
      },
      "execution_count": 61,
      "outputs": [
        {
          "output_type": "stream",
          "name": "stdout",
          "text": [
            "Epoch 1/10\n"
          ]
        },
        {
          "output_type": "stream",
          "name": "stderr",
          "text": [
            "WARNING:tensorflow:AutoGraph could not transform <function Model.make_train_function.<locals>.train_function at 0x7fd740b6c950> and will run it as-is.\n",
            "Please report this to the TensorFlow team. When filing the bug, set the verbosity to 10 (on Linux, `export AUTOGRAPH_VERBOSITY=10`) and attach the full output.\n",
            "Cause: closure mismatch, requested ('self', 'step_function'), but source function had ()\n",
            "To silence this warning, decorate the function with @tf.autograph.experimental.do_not_convert\n"
          ]
        },
        {
          "output_type": "stream",
          "name": "stdout",
          "text": [
            "WARNING: AutoGraph could not transform <function Model.make_train_function.<locals>.train_function at 0x7fd740b6c950> and will run it as-is.\n",
            "Please report this to the TensorFlow team. When filing the bug, set the verbosity to 10 (on Linux, `export AUTOGRAPH_VERBOSITY=10`) and attach the full output.\n",
            "Cause: closure mismatch, requested ('self', 'step_function'), but source function had ()\n",
            "To silence this warning, decorate the function with @tf.autograph.experimental.do_not_convert\n",
            "334/363 [==========================>...] - ETA: 0s - loss: 2.2851"
          ]
        },
        {
          "output_type": "stream",
          "name": "stderr",
          "text": [
            "WARNING:tensorflow:AutoGraph could not transform <function Model.make_test_function.<locals>.test_function at 0x7fd740b74830> and will run it as-is.\n",
            "Please report this to the TensorFlow team. When filing the bug, set the verbosity to 10 (on Linux, `export AUTOGRAPH_VERBOSITY=10`) and attach the full output.\n",
            "Cause: closure mismatch, requested ('self', 'step_function'), but source function had ()\n",
            "To silence this warning, decorate the function with @tf.autograph.experimental.do_not_convert\n"
          ]
        },
        {
          "output_type": "stream",
          "name": "stdout",
          "text": [
            "WARNING: AutoGraph could not transform <function Model.make_test_function.<locals>.test_function at 0x7fd740b74830> and will run it as-is.\n",
            "Please report this to the TensorFlow team. When filing the bug, set the verbosity to 10 (on Linux, `export AUTOGRAPH_VERBOSITY=10`) and attach the full output.\n",
            "Cause: closure mismatch, requested ('self', 'step_function'), but source function had ()\n",
            "To silence this warning, decorate the function with @tf.autograph.experimental.do_not_convert\n",
            "363/363 [==============================] - 1s 1ms/step - loss: 2.1781 - val_loss: 1.7808\n",
            "Epoch 2/10\n",
            "363/363 [==============================] - 0s 1ms/step - loss: 0.8040 - val_loss: 0.8024\n",
            "Epoch 3/10\n",
            "363/363 [==============================] - 0s 1ms/step - loss: 0.7037 - val_loss: 0.8151\n",
            "Epoch 4/10\n",
            "363/363 [==============================] - 0s 1ms/step - loss: 0.6577 - val_loss: 0.6666\n",
            "Epoch 5/10\n",
            "363/363 [==============================] - 1s 1ms/step - loss: 0.6218 - val_loss: 0.6082\n",
            "Epoch 6/10\n",
            "363/363 [==============================] - 0s 1ms/step - loss: 0.5898 - val_loss: 0.5610\n",
            "Epoch 7/10\n",
            "363/363 [==============================] - 0s 1ms/step - loss: 0.5632 - val_loss: 0.5389\n",
            "Epoch 8/10\n",
            "363/363 [==============================] - 0s 1ms/step - loss: 0.5401 - val_loss: 0.5031\n",
            "Epoch 9/10\n",
            "363/363 [==============================] - 0s 1ms/step - loss: 0.5199 - val_loss: 0.4796\n",
            "Epoch 10/10\n",
            "363/363 [==============================] - 0s 1ms/step - loss: 0.5020 - val_loss: 0.4629\n"
          ]
        },
        {
          "output_type": "stream",
          "name": "stderr",
          "text": [
            "WARNING:tensorflow:AutoGraph could not transform <function Model.make_test_function.<locals>.test_function at 0x7fd740b1a7a0> and will run it as-is.\n",
            "Please report this to the TensorFlow team. When filing the bug, set the verbosity to 10 (on Linux, `export AUTOGRAPH_VERBOSITY=10`) and attach the full output.\n",
            "Cause: closure mismatch, requested ('self', 'step_function'), but source function had ()\n",
            "To silence this warning, decorate the function with @tf.autograph.experimental.do_not_convert\n"
          ]
        },
        {
          "output_type": "stream",
          "name": "stdout",
          "text": [
            "WARNING: AutoGraph could not transform <function Model.make_test_function.<locals>.test_function at 0x7fd740b1a7a0> and will run it as-is.\n",
            "Please report this to the TensorFlow team. When filing the bug, set the verbosity to 10 (on Linux, `export AUTOGRAPH_VERBOSITY=10`) and attach the full output.\n",
            "Cause: closure mismatch, requested ('self', 'step_function'), but source function had ()\n",
            "To silence this warning, decorate the function with @tf.autograph.experimental.do_not_convert\n",
            "162/162 [==============================] - 0s 851us/step - loss: 0.4806\n"
          ]
        }
      ]
    },
    {
      "cell_type": "markdown",
      "source": [
        "조기 종료를 구현하는 또 다른 방법은 `EarlyStopping` 콜백 사용<br>\n",
        "-> 일정 에포크(`patience` 매개변수로 지정) 동안 검증 세트에 대한 점수가 향상되지 않으면 훈련을 멈춤"
      ],
      "metadata": {
        "id": "1Av_fGVEZVuv"
      }
    },
    {
      "cell_type": "code",
      "source": [
        "model.compile(loss=\"mse\", optimizer=keras.optimizers.SGD(learning_rate=1e-3))\n",
        "early_stopping_cb = keras.callbacks.EarlyStopping(patience=10,\n",
        "                                                  restore_best_weights=True)\n",
        "history = model.fit(X_train, y_train, epochs=100,\n",
        "                    validation_data=(X_valid, y_valid),\n",
        "                    callbacks=[checkpoint_cb, early_stopping_cb])\n",
        "mse_test = model.evaluate(X_test, y_test)"
      ],
      "metadata": {
        "colab": {
          "base_uri": "https://localhost:8080/"
        },
        "id": "WZAIUytVptHJ",
        "outputId": "bfe5c74b-7967-4e84-9668-9b8060aa1e9e"
      },
      "execution_count": 62,
      "outputs": [
        {
          "output_type": "stream",
          "name": "stdout",
          "text": [
            "Epoch 1/100\n"
          ]
        },
        {
          "output_type": "stream",
          "name": "stderr",
          "text": [
            "WARNING:tensorflow:AutoGraph could not transform <function Model.make_train_function.<locals>.train_function at 0x7fd7407e3290> and will run it as-is.\n",
            "Please report this to the TensorFlow team. When filing the bug, set the verbosity to 10 (on Linux, `export AUTOGRAPH_VERBOSITY=10`) and attach the full output.\n",
            "Cause: closure mismatch, requested ('self', 'step_function'), but source function had ()\n",
            "To silence this warning, decorate the function with @tf.autograph.experimental.do_not_convert\n"
          ]
        },
        {
          "output_type": "stream",
          "name": "stdout",
          "text": [
            "WARNING: AutoGraph could not transform <function Model.make_train_function.<locals>.train_function at 0x7fd7407e3290> and will run it as-is.\n",
            "Please report this to the TensorFlow team. When filing the bug, set the verbosity to 10 (on Linux, `export AUTOGRAPH_VERBOSITY=10`) and attach the full output.\n",
            "Cause: closure mismatch, requested ('self', 'step_function'), but source function had ()\n",
            "To silence this warning, decorate the function with @tf.autograph.experimental.do_not_convert\n",
            "325/363 [=========================>....] - ETA: 0s - loss: 0.4870"
          ]
        },
        {
          "output_type": "stream",
          "name": "stderr",
          "text": [
            "WARNING:tensorflow:AutoGraph could not transform <function Model.make_test_function.<locals>.test_function at 0x7fd740b1a170> and will run it as-is.\n",
            "Please report this to the TensorFlow team. When filing the bug, set the verbosity to 10 (on Linux, `export AUTOGRAPH_VERBOSITY=10`) and attach the full output.\n",
            "Cause: closure mismatch, requested ('self', 'step_function'), but source function had ()\n",
            "To silence this warning, decorate the function with @tf.autograph.experimental.do_not_convert\n"
          ]
        },
        {
          "output_type": "stream",
          "name": "stdout",
          "text": [
            "WARNING: AutoGraph could not transform <function Model.make_test_function.<locals>.test_function at 0x7fd740b1a170> and will run it as-is.\n",
            "Please report this to the TensorFlow team. When filing the bug, set the verbosity to 10 (on Linux, `export AUTOGRAPH_VERBOSITY=10`) and attach the full output.\n",
            "Cause: closure mismatch, requested ('self', 'step_function'), but source function had ()\n",
            "To silence this warning, decorate the function with @tf.autograph.experimental.do_not_convert\n",
            "363/363 [==============================] - 1s 1ms/step - loss: 0.4873 - val_loss: 0.4494\n",
            "Epoch 2/100\n",
            "363/363 [==============================] - 0s 1ms/step - loss: 0.4740 - val_loss: 0.4417\n",
            "Epoch 3/100\n",
            "363/363 [==============================] - 0s 1ms/step - loss: 0.4626 - val_loss: 0.4321\n",
            "Epoch 4/100\n",
            "363/363 [==============================] - 1s 1ms/step - loss: 0.4526 - val_loss: 0.4403\n",
            "Epoch 5/100\n",
            "363/363 [==============================] - 0s 1ms/step - loss: 0.4443 - val_loss: 0.4299\n",
            "Epoch 6/100\n",
            "363/363 [==============================] - 0s 1ms/step - loss: 0.4366 - val_loss: 0.4346\n",
            "Epoch 7/100\n",
            "363/363 [==============================] - 0s 1ms/step - loss: 0.4304 - val_loss: 0.4245\n",
            "Epoch 8/100\n",
            "363/363 [==============================] - 1s 1ms/step - loss: 0.4247 - val_loss: 0.4177\n",
            "Epoch 9/100\n",
            "363/363 [==============================] - 0s 1ms/step - loss: 0.4196 - val_loss: 0.4254\n",
            "Epoch 10/100\n",
            "363/363 [==============================] - 0s 1ms/step - loss: 0.4152 - val_loss: 0.4273\n",
            "Epoch 11/100\n",
            "363/363 [==============================] - 0s 1ms/step - loss: 0.4114 - val_loss: 0.4139\n",
            "Epoch 12/100\n",
            "363/363 [==============================] - 0s 1ms/step - loss: 0.4076 - val_loss: 0.4298\n",
            "Epoch 13/100\n",
            "363/363 [==============================] - 0s 1ms/step - loss: 0.4043 - val_loss: 0.4309\n",
            "Epoch 14/100\n",
            "363/363 [==============================] - 0s 1ms/step - loss: 0.4013 - val_loss: 0.4100\n",
            "Epoch 15/100\n",
            "363/363 [==============================] - 0s 1ms/step - loss: 0.3985 - val_loss: 0.4108\n",
            "Epoch 16/100\n",
            "363/363 [==============================] - 1s 1ms/step - loss: 0.3959 - val_loss: 0.4028\n",
            "Epoch 17/100\n",
            "363/363 [==============================] - 0s 1ms/step - loss: 0.3933 - val_loss: 0.4101\n",
            "Epoch 18/100\n",
            "363/363 [==============================] - 0s 1ms/step - loss: 0.3910 - val_loss: 0.4071\n",
            "Epoch 19/100\n",
            "363/363 [==============================] - 0s 1ms/step - loss: 0.3885 - val_loss: 0.4044\n",
            "Epoch 20/100\n",
            "363/363 [==============================] - 0s 1ms/step - loss: 0.3867 - val_loss: 0.4376\n",
            "Epoch 21/100\n",
            "363/363 [==============================] - 0s 1ms/step - loss: 0.3844 - val_loss: 0.4313\n",
            "Epoch 22/100\n",
            "363/363 [==============================] - 0s 1ms/step - loss: 0.3826 - val_loss: 0.4353\n",
            "Epoch 23/100\n",
            "363/363 [==============================] - 0s 1ms/step - loss: 0.3809 - val_loss: 0.3837\n",
            "Epoch 24/100\n",
            "363/363 [==============================] - 0s 1ms/step - loss: 0.3791 - val_loss: 0.3905\n",
            "Epoch 25/100\n",
            "363/363 [==============================] - 0s 1ms/step - loss: 0.3772 - val_loss: 0.4226\n",
            "Epoch 26/100\n",
            "363/363 [==============================] - 1s 2ms/step - loss: 0.3760 - val_loss: 0.4138\n",
            "Epoch 27/100\n",
            "363/363 [==============================] - 1s 2ms/step - loss: 0.3747 - val_loss: 0.3831\n",
            "Epoch 28/100\n",
            "363/363 [==============================] - 1s 2ms/step - loss: 0.3733 - val_loss: 0.4016\n",
            "Epoch 29/100\n",
            "363/363 [==============================] - 0s 1ms/step - loss: 0.3719 - val_loss: 0.3835\n",
            "Epoch 30/100\n",
            "363/363 [==============================] - 0s 1ms/step - loss: 0.3704 - val_loss: 0.3951\n",
            "Epoch 31/100\n",
            "363/363 [==============================] - 0s 1ms/step - loss: 0.3684 - val_loss: 0.3853\n",
            "Epoch 32/100\n",
            "363/363 [==============================] - 0s 1ms/step - loss: 0.3675 - val_loss: 0.4027\n",
            "Epoch 33/100\n",
            "363/363 [==============================] - 0s 1ms/step - loss: 0.3668 - val_loss: 0.3764\n",
            "Epoch 34/100\n",
            "363/363 [==============================] - 1s 1ms/step - loss: 0.3652 - val_loss: 0.3716\n",
            "Epoch 35/100\n",
            "363/363 [==============================] - 0s 1ms/step - loss: 0.3641 - val_loss: 0.3885\n",
            "Epoch 36/100\n",
            "363/363 [==============================] - 0s 1ms/step - loss: 0.3628 - val_loss: 0.3565\n",
            "Epoch 37/100\n",
            "363/363 [==============================] - 0s 1ms/step - loss: 0.3618 - val_loss: 0.3720\n",
            "Epoch 38/100\n",
            "363/363 [==============================] - 0s 1ms/step - loss: 0.3607 - val_loss: 0.3634\n",
            "Epoch 39/100\n",
            "363/363 [==============================] - 0s 1ms/step - loss: 0.3596 - val_loss: 0.3549\n",
            "Epoch 40/100\n",
            "363/363 [==============================] - 0s 1ms/step - loss: 0.3584 - val_loss: 0.3652\n",
            "Epoch 41/100\n",
            "363/363 [==============================] - 1s 1ms/step - loss: 0.3578 - val_loss: 0.3763\n",
            "Epoch 42/100\n",
            "363/363 [==============================] - 0s 1ms/step - loss: 0.3571 - val_loss: 0.3701\n",
            "Epoch 43/100\n",
            "363/363 [==============================] - 0s 1ms/step - loss: 0.3557 - val_loss: 0.3717\n",
            "Epoch 44/100\n",
            "363/363 [==============================] - 0s 1ms/step - loss: 0.3547 - val_loss: 0.3799\n",
            "Epoch 45/100\n",
            "363/363 [==============================] - 0s 1ms/step - loss: 0.3542 - val_loss: 0.3521\n",
            "Epoch 46/100\n",
            "363/363 [==============================] - 0s 1ms/step - loss: 0.3532 - val_loss: 0.3507\n",
            "Epoch 47/100\n",
            "363/363 [==============================] - 1s 1ms/step - loss: 0.3522 - val_loss: 0.3503\n",
            "Epoch 48/100\n",
            "363/363 [==============================] - 0s 1ms/step - loss: 0.3515 - val_loss: 0.3613\n",
            "Epoch 49/100\n",
            "363/363 [==============================] - 0s 1ms/step - loss: 0.3510 - val_loss: 0.3550\n",
            "Epoch 50/100\n",
            "363/363 [==============================] - 0s 1ms/step - loss: 0.3499 - val_loss: 0.3341\n",
            "Epoch 51/100\n",
            "363/363 [==============================] - 0s 1ms/step - loss: 0.3492 - val_loss: 0.3539\n",
            "Epoch 52/100\n",
            "363/363 [==============================] - 0s 1ms/step - loss: 0.3486 - val_loss: 0.3344\n",
            "Epoch 53/100\n",
            "363/363 [==============================] - 0s 1ms/step - loss: 0.3480 - val_loss: 0.3572\n",
            "Epoch 54/100\n",
            "363/363 [==============================] - 0s 1ms/step - loss: 0.3473 - val_loss: 0.3477\n",
            "Epoch 55/100\n",
            "363/363 [==============================] - 0s 1ms/step - loss: 0.3465 - val_loss: 0.3409\n",
            "Epoch 56/100\n",
            "363/363 [==============================] - 0s 1ms/step - loss: 0.3459 - val_loss: 0.3425\n",
            "Epoch 57/100\n",
            "363/363 [==============================] - 0s 1ms/step - loss: 0.3453 - val_loss: 0.3337\n",
            "Epoch 58/100\n",
            "363/363 [==============================] - 0s 1ms/step - loss: 0.3446 - val_loss: 0.3402\n",
            "Epoch 59/100\n",
            "363/363 [==============================] - 0s 1ms/step - loss: 0.3443 - val_loss: 0.3454\n",
            "Epoch 60/100\n",
            "363/363 [==============================] - 0s 1ms/step - loss: 0.3438 - val_loss: 0.3468\n",
            "Epoch 61/100\n",
            "363/363 [==============================] - 0s 1ms/step - loss: 0.3428 - val_loss: 0.3497\n",
            "Epoch 62/100\n",
            "363/363 [==============================] - 1s 1ms/step - loss: 0.3426 - val_loss: 0.3418\n",
            "Epoch 63/100\n",
            "363/363 [==============================] - 0s 1ms/step - loss: 0.3415 - val_loss: 0.3377\n",
            "Epoch 64/100\n",
            "363/363 [==============================] - 1s 1ms/step - loss: 0.3416 - val_loss: 0.3289\n",
            "Epoch 65/100\n",
            "363/363 [==============================] - 0s 1ms/step - loss: 0.3410 - val_loss: 0.3340\n",
            "Epoch 66/100\n",
            "363/363 [==============================] - 0s 1ms/step - loss: 0.3404 - val_loss: 0.3306\n",
            "Epoch 67/100\n",
            "363/363 [==============================] - 0s 1ms/step - loss: 0.3398 - val_loss: 0.3420\n",
            "Epoch 68/100\n",
            "363/363 [==============================] - 0s 1ms/step - loss: 0.3394 - val_loss: 0.3376\n",
            "Epoch 69/100\n",
            "363/363 [==============================] - 0s 1ms/step - loss: 0.3390 - val_loss: 0.3348\n",
            "Epoch 70/100\n",
            "363/363 [==============================] - 0s 1ms/step - loss: 0.3384 - val_loss: 0.3334\n",
            "Epoch 71/100\n",
            "363/363 [==============================] - 0s 1ms/step - loss: 0.3380 - val_loss: 0.3433\n",
            "Epoch 72/100\n",
            "363/363 [==============================] - 0s 1ms/step - loss: 0.3377 - val_loss: 0.3294\n",
            "Epoch 73/100\n",
            "363/363 [==============================] - 0s 1ms/step - loss: 0.3370 - val_loss: 0.3213\n",
            "Epoch 74/100\n",
            "363/363 [==============================] - 1s 1ms/step - loss: 0.3369 - val_loss: 0.3412\n",
            "Epoch 75/100\n",
            "363/363 [==============================] - 0s 1ms/step - loss: 0.3364 - val_loss: 0.3337\n",
            "Epoch 76/100\n",
            "363/363 [==============================] - 0s 1ms/step - loss: 0.3361 - val_loss: 0.3265\n",
            "Epoch 77/100\n",
            "363/363 [==============================] - 0s 1ms/step - loss: 0.3354 - val_loss: 0.3427\n",
            "Epoch 78/100\n",
            "363/363 [==============================] - 1s 1ms/step - loss: 0.3352 - val_loss: 0.3406\n",
            "Epoch 79/100\n",
            "363/363 [==============================] - 0s 1ms/step - loss: 0.3348 - val_loss: 0.3294\n",
            "Epoch 80/100\n",
            "363/363 [==============================] - 0s 1ms/step - loss: 0.3343 - val_loss: 0.3257\n",
            "Epoch 81/100\n",
            "363/363 [==============================] - 0s 1ms/step - loss: 0.3342 - val_loss: 0.3276\n",
            "Epoch 82/100\n",
            "363/363 [==============================] - 0s 1ms/step - loss: 0.3338 - val_loss: 0.3158\n",
            "Epoch 83/100\n",
            "363/363 [==============================] - 1s 1ms/step - loss: 0.3334 - val_loss: 0.3176\n",
            "Epoch 84/100\n",
            "363/363 [==============================] - 1s 1ms/step - loss: 0.3330 - val_loss: 0.3299\n",
            "Epoch 85/100\n",
            "363/363 [==============================] - 0s 1ms/step - loss: 0.3325 - val_loss: 0.3240\n",
            "Epoch 86/100\n",
            "363/363 [==============================] - 0s 1ms/step - loss: 0.3325 - val_loss: 0.3141\n",
            "Epoch 87/100\n",
            "363/363 [==============================] - 0s 1ms/step - loss: 0.3321 - val_loss: 0.3217\n",
            "Epoch 88/100\n",
            "363/363 [==============================] - 0s 1ms/step - loss: 0.3316 - val_loss: 0.3253\n",
            "Epoch 89/100\n",
            "363/363 [==============================] - 1s 1ms/step - loss: 0.3312 - val_loss: 0.3343\n",
            "Epoch 90/100\n",
            "363/363 [==============================] - 0s 1ms/step - loss: 0.3310 - val_loss: 0.3359\n",
            "Epoch 91/100\n",
            "363/363 [==============================] - 1s 1ms/step - loss: 0.3307 - val_loss: 0.3161\n",
            "Epoch 92/100\n",
            "363/363 [==============================] - 0s 1ms/step - loss: 0.3303 - val_loss: 0.3270\n",
            "Epoch 93/100\n",
            "363/363 [==============================] - 0s 1ms/step - loss: 0.3301 - val_loss: 0.3203\n",
            "Epoch 94/100\n",
            "363/363 [==============================] - 0s 1ms/step - loss: 0.3297 - val_loss: 0.3209\n",
            "Epoch 95/100\n",
            "363/363 [==============================] - 0s 1ms/step - loss: 0.3293 - val_loss: 0.3302\n",
            "Epoch 96/100\n",
            "363/363 [==============================] - 0s 1ms/step - loss: 0.3288 - val_loss: 0.3257\n",
            "162/162 [==============================] - 0s 800us/step - loss: 0.3335\n"
          ]
        }
      ]
    },
    {
      "cell_type": "markdown",
      "source": [
        "모델이 향상되지 않으면 훈련이 자동으로 중지되기 때문에 에포크의 숫자를 크게 지정해도 괜찮음. 이 경우 EarlyStopping 콜백이 훈련이 끝난 후 최상의 가중치를 복원하기 때문에 저장된 모델을 따로 복원할 필요 없음"
      ],
      "metadata": {
        "id": "DuFCIPIOrbAj"
      }
    },
    {
      "cell_type": "markdown",
      "source": [
        "만약 더 많은 제어를 원한다면 사용자 정의 콜백을 만들 수 있음"
      ],
      "metadata": {
        "id": "N0onIPUUrr7I"
      }
    },
    {
      "cell_type": "code",
      "source": [
        "class PrintValTrainRatioCallback(keras.callbacks.Callback):\n",
        "    def on_epoch_end(self, epoch, logs):\n",
        "        print(\"\\nval/train: {:.2f}\".format(logs[\"val_loss\"] / logs[\"loss\"]))"
      ],
      "metadata": {
        "id": "xajxqJLsrwbM"
      },
      "execution_count": 63,
      "outputs": []
    },
    {
      "cell_type": "code",
      "source": [
        "val_train_ratio_cb = PrintValTrainRatioCallback()\n",
        "history = model.fit(X_train, y_train, epochs=1,\n",
        "                    validation_data=(X_valid, y_valid),\n",
        "                    callbacks=[val_train_ratio_cb])"
      ],
      "metadata": {
        "colab": {
          "base_uri": "https://localhost:8080/"
        },
        "id": "PhPBpQwQr06M",
        "outputId": "f10294d0-17d9-4427-934b-c5fb838622b7"
      },
      "execution_count": 64,
      "outputs": [
        {
          "output_type": "stream",
          "name": "stdout",
          "text": [
            "316/363 [=========================>....] - ETA: 0s - loss: 0.3319\n",
            "val/train: 0.97\n",
            "363/363 [==============================] - 0s 1ms/step - loss: 0.3317 - val_loss: 0.3228\n"
          ]
        }
      ]
    },
    {
      "cell_type": "markdown",
      "source": [
        "## 10.2.8 텐서보드를 사용해 시각화하기"
      ],
      "metadata": {
        "id": "WVedpJsCZV3z"
      }
    },
    {
      "cell_type": "markdown",
      "source": [
        "텐서보드(TensorBoard)는 매우 좋은 인터렉티브 시각화 도구<br>\n",
        "- 훈련하는 동안 학습 곡선을 그리거나 여러 실행 간의 학습 곡선을 비교하고 계산 그래프 시각화와 훈련 통계 분석을 수행할 수 있음\n",
        "- 모델이 생성한 이미지를 확인하거나 3D에 투영된 복잡한 다차원 데이터를 시각화하고 자동으로 클러스터링을 해주는 등의 기능 제공"
      ],
      "metadata": {
        "id": "M67jwPhXZV6Z"
      }
    },
    {
      "cell_type": "code",
      "source": [
        "import os\n",
        "\n",
        "root_logdir = os.path.join(os.curdir, \"my_logs\")\n",
        "\n",
        "def get_run_logdir():\n",
        "    import time\n",
        "    run_id = time.strftime(\"run_%Y_%m_%d-%H_%M_%S\")\n",
        "    return os.path.join(root_logdir, run_id)\n",
        "\n",
        "run_logdir = get_run_logdir()\n",
        "run_logdir"
      ],
      "metadata": {
        "colab": {
          "base_uri": "https://localhost:8080/",
          "height": 36
        },
        "id": "hFbwjveHZbmg",
        "outputId": "d84f83dc-fb35-453f-93d9-3d4297e22a06"
      },
      "execution_count": 65,
      "outputs": [
        {
          "output_type": "execute_result",
          "data": {
            "text/plain": [
              "'./my_logs/run_2022_11_15-07_01_07'"
            ],
            "application/vnd.google.colaboratory.intrinsic+json": {
              "type": "string"
            }
          },
          "metadata": {},
          "execution_count": 65
        }
      ]
    },
    {
      "cell_type": "code",
      "source": [
        "model = keras.models.Sequential([\n",
        "    keras.layers.Dense(30, activation=\"relu\", input_shape=[8]),\n",
        "    keras.layers.Dense(30, activation=\"relu\"),\n",
        "    keras.layers.Dense(1)\n",
        "])    \n",
        "model.compile(loss=\"mse\", optimizer=keras.optimizers.SGD(learning_rate=1e-3))\n",
        "\n",
        "tensorboard_cb = keras.callbacks.TensorBoard(run_logdir)\n",
        "history = model.fit(X_train, y_train, epochs=30,\n",
        "                    validation_data=(X_valid, y_valid),\n",
        "                    callbacks=[checkpoint_cb, tensorboard_cb])"
      ],
      "metadata": {
        "colab": {
          "base_uri": "https://localhost:8080/"
        },
        "id": "08JqamSsZbo7",
        "outputId": "3e6090f0-bc09-4b32-fe68-45bc7f9b5e87"
      },
      "execution_count": 66,
      "outputs": [
        {
          "output_type": "stream",
          "name": "stdout",
          "text": [
            "Epoch 1/30\n"
          ]
        },
        {
          "output_type": "stream",
          "name": "stderr",
          "text": [
            "WARNING:tensorflow:AutoGraph could not transform <function Model.make_train_function.<locals>.train_function at 0x7fd740fc84d0> and will run it as-is.\n",
            "Please report this to the TensorFlow team. When filing the bug, set the verbosity to 10 (on Linux, `export AUTOGRAPH_VERBOSITY=10`) and attach the full output.\n",
            "Cause: closure mismatch, requested ('self', 'step_function'), but source function had ()\n",
            "To silence this warning, decorate the function with @tf.autograph.experimental.do_not_convert\n"
          ]
        },
        {
          "output_type": "stream",
          "name": "stdout",
          "text": [
            "WARNING: AutoGraph could not transform <function Model.make_train_function.<locals>.train_function at 0x7fd740fc84d0> and will run it as-is.\n",
            "Please report this to the TensorFlow team. When filing the bug, set the verbosity to 10 (on Linux, `export AUTOGRAPH_VERBOSITY=10`) and attach the full output.\n",
            "Cause: closure mismatch, requested ('self', 'step_function'), but source function had ()\n",
            "To silence this warning, decorate the function with @tf.autograph.experimental.do_not_convert\n",
            "324/363 [=========================>....] - ETA: 0s - loss: 1.7370"
          ]
        },
        {
          "output_type": "stream",
          "name": "stderr",
          "text": [
            "WARNING:tensorflow:AutoGraph could not transform <function Model.make_test_function.<locals>.test_function at 0x7fd74089d560> and will run it as-is.\n",
            "Please report this to the TensorFlow team. When filing the bug, set the verbosity to 10 (on Linux, `export AUTOGRAPH_VERBOSITY=10`) and attach the full output.\n",
            "Cause: closure mismatch, requested ('self', 'step_function'), but source function had ()\n",
            "To silence this warning, decorate the function with @tf.autograph.experimental.do_not_convert\n"
          ]
        },
        {
          "output_type": "stream",
          "name": "stdout",
          "text": [
            "WARNING: AutoGraph could not transform <function Model.make_test_function.<locals>.test_function at 0x7fd74089d560> and will run it as-is.\n",
            "Please report this to the TensorFlow team. When filing the bug, set the verbosity to 10 (on Linux, `export AUTOGRAPH_VERBOSITY=10`) and attach the full output.\n",
            "Cause: closure mismatch, requested ('self', 'step_function'), but source function had ()\n",
            "To silence this warning, decorate the function with @tf.autograph.experimental.do_not_convert\n",
            "363/363 [==============================] - 1s 2ms/step - loss: 1.6411 - val_loss: 0.8058\n",
            "Epoch 2/30\n",
            "363/363 [==============================] - 1s 2ms/step - loss: 0.7431 - val_loss: 0.7239\n",
            "Epoch 3/30\n",
            "363/363 [==============================] - 1s 2ms/step - loss: 0.6647 - val_loss: 0.6913\n",
            "Epoch 4/30\n",
            "363/363 [==============================] - 1s 2ms/step - loss: 0.6170 - val_loss: 0.6103\n",
            "Epoch 5/30\n",
            "363/363 [==============================] - 1s 1ms/step - loss: 0.5800 - val_loss: 0.5594\n",
            "Epoch 6/30\n",
            "363/363 [==============================] - 0s 1ms/step - loss: 0.5484 - val_loss: 0.5367\n",
            "Epoch 7/30\n",
            "363/363 [==============================] - 0s 1ms/step - loss: 0.5231 - val_loss: 0.5170\n",
            "Epoch 8/30\n",
            "363/363 [==============================] - 0s 1ms/step - loss: 0.5023 - val_loss: 0.4777\n",
            "Epoch 9/30\n",
            "363/363 [==============================] - 0s 1ms/step - loss: 0.4844 - val_loss: 0.4602\n",
            "Epoch 10/30\n",
            "363/363 [==============================] - 0s 1ms/step - loss: 0.4698 - val_loss: 0.4460\n",
            "Epoch 11/30\n",
            "363/363 [==============================] - 0s 1ms/step - loss: 0.4581 - val_loss: 0.4418\n",
            "Epoch 12/30\n",
            "363/363 [==============================] - 0s 1ms/step - loss: 0.4480 - val_loss: 0.4227\n",
            "Epoch 13/30\n",
            "363/363 [==============================] - 0s 1ms/step - loss: 0.4397 - val_loss: 0.4187\n",
            "Epoch 14/30\n",
            "363/363 [==============================] - 0s 1ms/step - loss: 0.4325 - val_loss: 0.4177\n",
            "Epoch 15/30\n",
            "363/363 [==============================] - 0s 1ms/step - loss: 0.4264 - val_loss: 0.4260\n",
            "Epoch 16/30\n",
            "363/363 [==============================] - 0s 1ms/step - loss: 0.4211 - val_loss: 0.4215\n",
            "Epoch 17/30\n",
            "363/363 [==============================] - 0s 1ms/step - loss: 0.4169 - val_loss: 0.4322\n",
            "Epoch 18/30\n",
            "363/363 [==============================] - 0s 1ms/step - loss: 0.4129 - val_loss: 0.4377\n",
            "Epoch 19/30\n",
            "363/363 [==============================] - 0s 1ms/step - loss: 0.4091 - val_loss: 0.4221\n",
            "Epoch 20/30\n",
            "363/363 [==============================] - 0s 1ms/step - loss: 0.4064 - val_loss: 0.4545\n",
            "Epoch 21/30\n",
            "363/363 [==============================] - 0s 1ms/step - loss: 0.4034 - val_loss: 0.4407\n",
            "Epoch 22/30\n",
            "363/363 [==============================] - 0s 1ms/step - loss: 0.4010 - val_loss: 0.4461\n",
            "Epoch 23/30\n",
            "363/363 [==============================] - 0s 1ms/step - loss: 0.3986 - val_loss: 0.4056\n",
            "Epoch 24/30\n",
            "363/363 [==============================] - 0s 1ms/step - loss: 0.3963 - val_loss: 0.4198\n",
            "Epoch 25/30\n",
            "363/363 [==============================] - 0s 1ms/step - loss: 0.3941 - val_loss: 0.4400\n",
            "Epoch 26/30\n",
            "363/363 [==============================] - 0s 1ms/step - loss: 0.3923 - val_loss: 0.4419\n",
            "Epoch 27/30\n",
            "363/363 [==============================] - 0s 1ms/step - loss: 0.3907 - val_loss: 0.4004\n",
            "Epoch 28/30\n",
            "363/363 [==============================] - 0s 1ms/step - loss: 0.3889 - val_loss: 0.4229\n",
            "Epoch 29/30\n",
            "363/363 [==============================] - 1s 1ms/step - loss: 0.3875 - val_loss: 0.4114\n",
            "Epoch 30/30\n",
            "363/363 [==============================] - 1s 1ms/step - loss: 0.3858 - val_loss: 0.4313\n"
          ]
        }
      ]
    },
    {
      "cell_type": "markdown",
      "source": [
        "# 10.3 신경망 하리퍼파라미터 튜닝하기"
      ],
      "metadata": {
        "id": "0kMHl2bjZV_n"
      }
    },
    {
      "cell_type": "markdown",
      "source": [
        "신경망의 유연성은 단점이기도 함<br>\n",
        "=> 조정할 하이퍼파라미터가 많기 때문"
      ],
      "metadata": {
        "id": "o6kiUt8lZg1H"
      }
    },
    {
      "cell_type": "markdown",
      "source": [
        "방법1: 많은 하이퍼파라미터 조합을 시도해보고 어떤 것이 검증 세트에서 가장 좋은 점수를 내는지 확인<br>\n",
        "=> `GridSearchCV`나 `RandomizedSearchCV`를 사용하여 하이퍼파라미터 공간 탐색"
      ],
      "metadata": {
        "id": "lzNQJHvTtKRt"
      }
    },
    {
      "cell_type": "code",
      "source": [
        "def build_model(n_hidden=1, n_neurons=30, learning_rate=3e-3, input_shape=[8]):\n",
        "    model = keras.models.Sequential()\n",
        "    model.add(keras.layers.InputLayer(input_shape=input_shape))\n",
        "    for layer in range(n_hidden):\n",
        "        model.add(keras.layers.Dense(n_neurons, activation=\"relu\"))\n",
        "    model.add(keras.layers.Dense(1))\n",
        "    optimizer = keras.optimizers.SGD(learning_rate=learning_rate)\n",
        "    model.compile(loss=\"mse\", optimizer=optimizer)\n",
        "    return model"
      ],
      "metadata": {
        "id": "OLucHj2BZf7k"
      },
      "execution_count": 67,
      "outputs": []
    },
    {
      "cell_type": "markdown",
      "source": [
        "- 주어진 입력 크기와 은닉층 개수, 뉴런 개수로 (한 개의 출력 뉴런만 있는) 단변량(univariate) 회귀를 위한 간단한 Sequential 모델 만듦\n",
        "- 지정된 학습률을 사용하는 SGD optimizer로 모델을 컴파일"
      ],
      "metadata": {
        "id": "du5i4HqUZhkA"
      }
    },
    {
      "cell_type": "markdown",
      "source": [
        "`build_model()` 함수를 이용해 KerasRegressor 클래스의 객체 만듦"
      ],
      "metadata": {
        "id": "9aygKfhNuG2E"
      }
    },
    {
      "cell_type": "code",
      "source": [
        "keras_reg = keras.wrappers.scikit_learn.KerasRegressor(build_model)"
      ],
      "metadata": {
        "id": "2xbALvHEZhs3"
      },
      "execution_count": 68,
      "outputs": []
    },
    {
      "cell_type": "markdown",
      "source": [
        "KerasRegressor 객체는 `build_model()` 함수로 만들어진 케라스 모델을 감싸는 간단한 래퍼(wrapper)<br>\n",
        "해당 객체를 만들 때 어떤 하이퍼파라미터도 지정하지 않았으므로 `build_model()`에 정의된 기본 하이퍼파라미터 사용"
      ],
      "metadata": {
        "id": "fOqZNh7cuP-t"
      }
    },
    {
      "cell_type": "code",
      "source": [
        "keras_reg.fit(X_train, y_train, epochs=100,\n",
        "              validation_data=(X_valid, y_valid),\n",
        "              callbacks=[keras.callbacks.EarlyStopping(patience=10)])"
      ],
      "metadata": {
        "colab": {
          "base_uri": "https://localhost:8080/"
        },
        "id": "JOuEdyjuZiKC",
        "outputId": "37b9e204-9c1b-4954-9e7e-59bfa13376ee"
      },
      "execution_count": 69,
      "outputs": [
        {
          "output_type": "stream",
          "name": "stdout",
          "text": [
            "Epoch 1/100\n"
          ]
        },
        {
          "output_type": "stream",
          "name": "stderr",
          "text": [
            "WARNING:tensorflow:AutoGraph could not transform <function Model.make_train_function.<locals>.train_function at 0x7fd7358c83b0> and will run it as-is.\n",
            "Please report this to the TensorFlow team. When filing the bug, set the verbosity to 10 (on Linux, `export AUTOGRAPH_VERBOSITY=10`) and attach the full output.\n",
            "Cause: closure mismatch, requested ('self', 'step_function'), but source function had ()\n",
            "To silence this warning, decorate the function with @tf.autograph.experimental.do_not_convert\n"
          ]
        },
        {
          "output_type": "stream",
          "name": "stdout",
          "text": [
            "WARNING: AutoGraph could not transform <function Model.make_train_function.<locals>.train_function at 0x7fd7358c83b0> and will run it as-is.\n",
            "Please report this to the TensorFlow team. When filing the bug, set the verbosity to 10 (on Linux, `export AUTOGRAPH_VERBOSITY=10`) and attach the full output.\n",
            "Cause: closure mismatch, requested ('self', 'step_function'), but source function had ()\n",
            "To silence this warning, decorate the function with @tf.autograph.experimental.do_not_convert\n",
            "337/363 [==========================>...] - ETA: 0s - loss: 1.2322"
          ]
        },
        {
          "output_type": "stream",
          "name": "stderr",
          "text": [
            "WARNING:tensorflow:AutoGraph could not transform <function Model.make_test_function.<locals>.test_function at 0x7fd74089db00> and will run it as-is.\n",
            "Please report this to the TensorFlow team. When filing the bug, set the verbosity to 10 (on Linux, `export AUTOGRAPH_VERBOSITY=10`) and attach the full output.\n",
            "Cause: closure mismatch, requested ('self', 'step_function'), but source function had ()\n",
            "To silence this warning, decorate the function with @tf.autograph.experimental.do_not_convert\n"
          ]
        },
        {
          "output_type": "stream",
          "name": "stdout",
          "text": [
            "WARNING: AutoGraph could not transform <function Model.make_test_function.<locals>.test_function at 0x7fd74089db00> and will run it as-is.\n",
            "Please report this to the TensorFlow team. When filing the bug, set the verbosity to 10 (on Linux, `export AUTOGRAPH_VERBOSITY=10`) and attach the full output.\n",
            "Cause: closure mismatch, requested ('self', 'step_function'), but source function had ()\n",
            "To silence this warning, decorate the function with @tf.autograph.experimental.do_not_convert\n",
            "363/363 [==============================] - 1s 3ms/step - loss: 1.1949 - val_loss: 1.0089\n",
            "Epoch 2/100\n",
            "363/363 [==============================] - 1s 2ms/step - loss: 0.6160 - val_loss: 0.6810\n",
            "Epoch 3/100\n",
            "363/363 [==============================] - 1s 2ms/step - loss: 0.5266 - val_loss: 0.4744\n",
            "Epoch 4/100\n",
            "363/363 [==============================] - 0s 1ms/step - loss: 0.4773 - val_loss: 0.5233\n",
            "Epoch 5/100\n",
            "363/363 [==============================] - 0s 1ms/step - loss: 0.4522 - val_loss: 0.4518\n",
            "Epoch 6/100\n",
            "363/363 [==============================] - 0s 1ms/step - loss: 0.4347 - val_loss: 0.5494\n",
            "Epoch 7/100\n",
            "363/363 [==============================] - 0s 1ms/step - loss: 0.4277 - val_loss: 0.4027\n",
            "Epoch 8/100\n",
            "363/363 [==============================] - 0s 1ms/step - loss: 0.4207 - val_loss: 0.3924\n",
            "Epoch 9/100\n",
            "363/363 [==============================] - 0s 1ms/step - loss: 0.4147 - val_loss: 0.4657\n",
            "Epoch 10/100\n",
            "363/363 [==============================] - 1s 1ms/step - loss: 0.4108 - val_loss: 0.5034\n",
            "Epoch 11/100\n",
            "363/363 [==============================] - 1s 1ms/step - loss: 0.4085 - val_loss: 0.4882\n",
            "Epoch 12/100\n",
            "363/363 [==============================] - 1s 1ms/step - loss: 0.4059 - val_loss: 1.1912\n",
            "Epoch 13/100\n",
            "363/363 [==============================] - 0s 1ms/step - loss: 0.4088 - val_loss: 0.4711\n",
            "Epoch 14/100\n",
            "363/363 [==============================] - 0s 1ms/step - loss: 0.4014 - val_loss: 0.4980\n",
            "Epoch 15/100\n",
            "363/363 [==============================] - 0s 1ms/step - loss: 0.3987 - val_loss: 0.3718\n",
            "Epoch 16/100\n",
            "363/363 [==============================] - 0s 1ms/step - loss: 0.3956 - val_loss: 0.4188\n",
            "Epoch 17/100\n",
            "363/363 [==============================] - 0s 1ms/step - loss: 0.3931 - val_loss: 0.4429\n",
            "Epoch 18/100\n",
            "363/363 [==============================] - 0s 1ms/step - loss: 0.3924 - val_loss: 0.4068\n",
            "Epoch 19/100\n",
            "363/363 [==============================] - 0s 1ms/step - loss: 0.3903 - val_loss: 0.3647\n",
            "Epoch 20/100\n",
            "363/363 [==============================] - 0s 1ms/step - loss: 0.3880 - val_loss: 0.7396\n",
            "Epoch 21/100\n",
            "363/363 [==============================] - 1s 1ms/step - loss: 0.3893 - val_loss: 0.3614\n",
            "Epoch 22/100\n",
            "363/363 [==============================] - 0s 1ms/step - loss: 0.3857 - val_loss: 0.8090\n",
            "Epoch 23/100\n",
            "363/363 [==============================] - 0s 1ms/step - loss: 0.3858 - val_loss: 0.9630\n",
            "Epoch 24/100\n",
            "363/363 [==============================] - 0s 1ms/step - loss: 0.3849 - val_loss: 1.2536\n",
            "Epoch 25/100\n",
            "363/363 [==============================] - 0s 1ms/step - loss: 0.3869 - val_loss: 0.3972\n",
            "Epoch 26/100\n",
            "363/363 [==============================] - 1s 1ms/step - loss: 0.3799 - val_loss: 0.9234\n",
            "Epoch 27/100\n",
            "363/363 [==============================] - 0s 1ms/step - loss: 0.3818 - val_loss: 0.9778\n",
            "Epoch 28/100\n",
            "363/363 [==============================] - 0s 1ms/step - loss: 0.3817 - val_loss: 1.7420\n",
            "Epoch 29/100\n",
            "363/363 [==============================] - 0s 1ms/step - loss: 0.3838 - val_loss: 0.8715\n",
            "Epoch 30/100\n",
            "363/363 [==============================] - 0s 1ms/step - loss: 0.3816 - val_loss: 2.1665\n",
            "Epoch 31/100\n",
            "363/363 [==============================] - 1s 1ms/step - loss: 0.3898 - val_loss: 0.9365\n"
          ]
        },
        {
          "output_type": "execute_result",
          "data": {
            "text/plain": [
              "<keras.callbacks.History at 0x7fd7358deed0>"
            ]
          },
          "metadata": {},
          "execution_count": 69
        }
      ]
    },
    {
      "cell_type": "code",
      "source": [
        "mse_test = keras_reg.score(X_test, y_test)\n",
        "y_pred = keras_reg.predict(X_new)"
      ],
      "metadata": {
        "colab": {
          "base_uri": "https://localhost:8080/"
        },
        "id": "kNfnywq9ZiRS",
        "outputId": "25fc80ff-9dd2-45e0-e060-9c44455aae98"
      },
      "execution_count": 70,
      "outputs": [
        {
          "output_type": "stream",
          "name": "stdout",
          "text": [
            "162/162 [==============================] - 0s 934us/step - loss: 0.3740\n"
          ]
        },
        {
          "output_type": "stream",
          "name": "stderr",
          "text": [
            "WARNING:tensorflow:AutoGraph could not transform <function Model.make_predict_function.<locals>.predict_function at 0x7fd7410e8050> and will run it as-is.\n",
            "Please report this to the TensorFlow team. When filing the bug, set the verbosity to 10 (on Linux, `export AUTOGRAPH_VERBOSITY=10`) and attach the full output.\n",
            "Cause: closure mismatch, requested ('self', 'step_function'), but source function had ()\n",
            "To silence this warning, decorate the function with @tf.autograph.experimental.do_not_convert\n"
          ]
        },
        {
          "output_type": "stream",
          "name": "stdout",
          "text": [
            "WARNING: AutoGraph could not transform <function Model.make_predict_function.<locals>.predict_function at 0x7fd7410e8050> and will run it as-is.\n",
            "Please report this to the TensorFlow team. When filing the bug, set the verbosity to 10 (on Linux, `export AUTOGRAPH_VERBOSITY=10`) and attach the full output.\n",
            "Cause: closure mismatch, requested ('self', 'step_function'), but source function had ()\n",
            "To silence this warning, decorate the function with @tf.autograph.experimental.do_not_convert\n",
            "1/1 [==============================] - 0s 37ms/step\n"
          ]
        }
      ]
    },
    {
      "cell_type": "markdown",
      "source": [
        "`fit()` 메서드에 지정한 모든 매개변수는 케라스 모델로 전달<br>\n",
        "sklearn은 손실이 아닌 점수를 계산하기 때문에 출력 점수는 음수의 MSE"
      ],
      "metadata": {
        "id": "dJgyImjHZjBw"
      }
    },
    {
      "cell_type": "markdown",
      "source": [
        "모델 하나를 훈련하고 평가하려는 것이 아니라 수백 개의 모델을 훈련하고 검증 세트에서 최상의 모델을 선택해야함. 하이퍼파라미터가 많으므로 그리드 탐색보다 랜덤 탐색을 사용하는 것이 좋음<br>\n",
        "은닉층 개수, 뉴런 개수, 학습률 사용해 하이퍼파라미터 탐색 수행"
      ],
      "metadata": {
        "id": "o5l6-F3iZjGa"
      }
    },
    {
      "cell_type": "code",
      "source": [
        "from scipy.stats import reciprocal\n",
        "from sklearn.model_selection import RandomizedSearchCV\n",
        "\n",
        "param_distribs = {\n",
        "    \"n_hidden\": [0, 1, 2, 3],\n",
        "    \"n_neurons\": np.arange(1, 100).tolist(),\n",
        "    \"learning_rate\": reciprocal(3e-4, 3e-2).rvs(1000).tolist(),\n",
        "}\n",
        "\n",
        "rnd_search_cv = RandomizedSearchCV(keras_reg, param_distribs, n_iter=10, cv=3, verbose=2)\n",
        "rnd_search_cv.fit(X_train, y_train, epochs=100,\n",
        "                  validation_data=(X_valid, y_valid),\n",
        "                  callbacks=[keras.callbacks.EarlyStopping(patience=10)])"
      ],
      "metadata": {
        "colab": {
          "base_uri": "https://localhost:8080/"
        },
        "id": "M3r38fYrZjQV",
        "outputId": "278d0c62-6b07-4e00-9bca-d2306874bd85"
      },
      "execution_count": 71,
      "outputs": [
        {
          "output_type": "stream",
          "name": "stdout",
          "text": [
            "Fitting 3 folds for each of 10 candidates, totalling 30 fits\n",
            "Epoch 1/100\n"
          ]
        },
        {
          "output_type": "stream",
          "name": "stderr",
          "text": [
            "WARNING:tensorflow:AutoGraph could not transform <function Model.make_train_function.<locals>.train_function at 0x7fd740f49320> and will run it as-is.\n",
            "Please report this to the TensorFlow team. When filing the bug, set the verbosity to 10 (on Linux, `export AUTOGRAPH_VERBOSITY=10`) and attach the full output.\n",
            "Cause: closure mismatch, requested ('self', 'step_function'), but source function had ()\n",
            "To silence this warning, decorate the function with @tf.autograph.experimental.do_not_convert\n"
          ]
        },
        {
          "output_type": "stream",
          "name": "stdout",
          "text": [
            "WARNING: AutoGraph could not transform <function Model.make_train_function.<locals>.train_function at 0x7fd740f49320> and will run it as-is.\n",
            "Please report this to the TensorFlow team. When filing the bug, set the verbosity to 10 (on Linux, `export AUTOGRAPH_VERBOSITY=10`) and attach the full output.\n",
            "Cause: closure mismatch, requested ('self', 'step_function'), but source function had ()\n",
            "To silence this warning, decorate the function with @tf.autograph.experimental.do_not_convert\n",
            "219/242 [==========================>...] - ETA: 0s - loss: 0.7967"
          ]
        },
        {
          "output_type": "stream",
          "name": "stderr",
          "text": [
            "WARNING:tensorflow:AutoGraph could not transform <function Model.make_test_function.<locals>.test_function at 0x7fd740d7db90> and will run it as-is.\n",
            "Please report this to the TensorFlow team. When filing the bug, set the verbosity to 10 (on Linux, `export AUTOGRAPH_VERBOSITY=10`) and attach the full output.\n",
            "Cause: closure mismatch, requested ('self', 'step_function'), but source function had ()\n",
            "To silence this warning, decorate the function with @tf.autograph.experimental.do_not_convert\n"
          ]
        },
        {
          "output_type": "stream",
          "name": "stdout",
          "text": [
            "WARNING: AutoGraph could not transform <function Model.make_test_function.<locals>.test_function at 0x7fd740d7db90> and will run it as-is.\n",
            "Please report this to the TensorFlow team. When filing the bug, set the verbosity to 10 (on Linux, `export AUTOGRAPH_VERBOSITY=10`) and attach the full output.\n",
            "Cause: closure mismatch, requested ('self', 'step_function'), but source function had ()\n",
            "To silence this warning, decorate the function with @tf.autograph.experimental.do_not_convert\n",
            "242/242 [==============================] - 1s 2ms/step - loss: 0.7697 - val_loss: 0.4348\n",
            "Epoch 2/100\n",
            "242/242 [==============================] - 0s 2ms/step - loss: 0.4582 - val_loss: 0.4076\n",
            "Epoch 3/100\n",
            "242/242 [==============================] - 0s 2ms/step - loss: 0.4407 - val_loss: 0.3959\n",
            "Epoch 4/100\n",
            "242/242 [==============================] - 0s 2ms/step - loss: 0.4388 - val_loss: 0.3897\n",
            "Epoch 5/100\n",
            "242/242 [==============================] - 0s 2ms/step - loss: 0.4297 - val_loss: 0.3938\n",
            "Epoch 6/100\n",
            "242/242 [==============================] - 0s 1ms/step - loss: 0.4252 - val_loss: 0.3899\n",
            "Epoch 7/100\n",
            "242/242 [==============================] - 0s 2ms/step - loss: 0.4297 - val_loss: 0.3911\n",
            "Epoch 8/100\n",
            "242/242 [==============================] - 0s 1ms/step - loss: 0.4168 - val_loss: 0.3813\n",
            "Epoch 9/100\n",
            "242/242 [==============================] - 0s 1ms/step - loss: 0.4134 - val_loss: 0.3882\n",
            "Epoch 10/100\n",
            "242/242 [==============================] - 0s 2ms/step - loss: 0.4112 - val_loss: 0.4204\n",
            "Epoch 11/100\n",
            "242/242 [==============================] - 0s 2ms/step - loss: 0.4145 - val_loss: 0.3853\n",
            "Epoch 12/100\n",
            "242/242 [==============================] - 0s 2ms/step - loss: 0.4066 - val_loss: 0.3885\n",
            "Epoch 13/100\n",
            "242/242 [==============================] - 0s 2ms/step - loss: 0.4021 - val_loss: 0.3749\n",
            "Epoch 14/100\n",
            "242/242 [==============================] - 0s 2ms/step - loss: 0.4011 - val_loss: 0.3724\n",
            "Epoch 15/100\n",
            "242/242 [==============================] - 0s 2ms/step - loss: 0.4014 - val_loss: 0.3674\n",
            "Epoch 16/100\n",
            "242/242 [==============================] - 0s 1ms/step - loss: 0.4003 - val_loss: 0.3683\n",
            "Epoch 17/100\n",
            "242/242 [==============================] - 0s 2ms/step - loss: 0.3981 - val_loss: 0.3629\n",
            "Epoch 18/100\n",
            "242/242 [==============================] - 0s 2ms/step - loss: 0.3967 - val_loss: 0.3673\n",
            "Epoch 19/100\n",
            "242/242 [==============================] - 0s 1ms/step - loss: 0.3935 - val_loss: 0.3666\n",
            "Epoch 20/100\n",
            "242/242 [==============================] - 0s 2ms/step - loss: 0.3911 - val_loss: 0.3601\n",
            "Epoch 21/100\n",
            "242/242 [==============================] - 0s 2ms/step - loss: 0.3927 - val_loss: 0.3677\n",
            "Epoch 22/100\n",
            "242/242 [==============================] - 0s 2ms/step - loss: 0.3899 - val_loss: 0.3656\n",
            "Epoch 23/100\n",
            "242/242 [==============================] - 0s 2ms/step - loss: 0.3891 - val_loss: 0.4041\n",
            "Epoch 24/100\n",
            "242/242 [==============================] - 0s 1ms/step - loss: 0.3953 - val_loss: 0.3633\n",
            "Epoch 25/100\n",
            "242/242 [==============================] - 0s 1ms/step - loss: 0.3858 - val_loss: 0.3718\n",
            "Epoch 26/100\n",
            "242/242 [==============================] - 0s 1ms/step - loss: 0.3908 - val_loss: 0.3635\n",
            "Epoch 27/100\n",
            "242/242 [==============================] - 0s 2ms/step - loss: 0.3921 - val_loss: 0.3628\n",
            "Epoch 28/100\n",
            "242/242 [==============================] - 0s 2ms/step - loss: 0.3990 - val_loss: 0.3660\n",
            "Epoch 29/100\n",
            "242/242 [==============================] - 0s 1ms/step - loss: 0.3951 - val_loss: 0.3599\n",
            "Epoch 30/100\n",
            "242/242 [==============================] - 0s 1ms/step - loss: 0.3925 - val_loss: 0.3625\n",
            "Epoch 31/100\n",
            "242/242 [==============================] - 0s 2ms/step - loss: 0.3912 - val_loss: 0.3561\n",
            "Epoch 32/100\n",
            "242/242 [==============================] - 0s 1ms/step - loss: 0.3860 - val_loss: 0.3543\n",
            "Epoch 33/100\n",
            "242/242 [==============================] - 0s 2ms/step - loss: 0.3834 - val_loss: 0.3578\n",
            "Epoch 34/100\n",
            "242/242 [==============================] - 0s 1ms/step - loss: 0.3824 - val_loss: 0.3561\n",
            "Epoch 35/100\n",
            "242/242 [==============================] - 0s 2ms/step - loss: 0.3786 - val_loss: 0.3564\n",
            "Epoch 36/100\n",
            "242/242 [==============================] - 0s 1ms/step - loss: 0.3787 - val_loss: 0.3535\n",
            "Epoch 37/100\n",
            "242/242 [==============================] - 0s 1ms/step - loss: 0.3835 - val_loss: 0.3521\n",
            "Epoch 38/100\n",
            "242/242 [==============================] - 0s 2ms/step - loss: 0.3802 - val_loss: 0.3591\n",
            "Epoch 39/100\n",
            "242/242 [==============================] - 0s 2ms/step - loss: 0.3771 - val_loss: 0.3562\n",
            "Epoch 40/100\n",
            "242/242 [==============================] - 0s 2ms/step - loss: 0.3920 - val_loss: 0.3516\n",
            "Epoch 41/100\n",
            "242/242 [==============================] - 0s 2ms/step - loss: 0.3758 - val_loss: 0.3574\n",
            "Epoch 42/100\n",
            "242/242 [==============================] - 0s 1ms/step - loss: 0.3750 - val_loss: 0.3499\n",
            "Epoch 43/100\n",
            "242/242 [==============================] - 0s 1ms/step - loss: 0.3752 - val_loss: 0.3493\n",
            "Epoch 44/100\n",
            "242/242 [==============================] - 0s 2ms/step - loss: 0.3732 - val_loss: 0.3519\n",
            "Epoch 45/100\n",
            "242/242 [==============================] - 0s 2ms/step - loss: 0.3736 - val_loss: 0.3490\n",
            "Epoch 46/100\n",
            "242/242 [==============================] - 0s 2ms/step - loss: 0.3724 - val_loss: 0.3505\n",
            "Epoch 47/100\n",
            "242/242 [==============================] - 0s 1ms/step - loss: 0.3770 - val_loss: 0.3460\n",
            "Epoch 48/100\n",
            "242/242 [==============================] - 0s 1ms/step - loss: 0.3715 - val_loss: 0.3488\n",
            "Epoch 49/100\n",
            "242/242 [==============================] - 0s 1ms/step - loss: 0.3700 - val_loss: 0.3458\n",
            "Epoch 50/100\n",
            "242/242 [==============================] - 0s 1ms/step - loss: 0.3765 - val_loss: 0.3470\n",
            "Epoch 51/100\n",
            "242/242 [==============================] - 0s 1ms/step - loss: 0.3678 - val_loss: 0.3898\n",
            "Epoch 52/100\n",
            "242/242 [==============================] - 0s 2ms/step - loss: 0.3683 - val_loss: 0.3500\n",
            "Epoch 53/100\n",
            "242/242 [==============================] - 0s 2ms/step - loss: 0.3686 - val_loss: 0.3443\n",
            "Epoch 54/100\n",
            "242/242 [==============================] - 0s 2ms/step - loss: 0.3662 - val_loss: 0.3503\n",
            "Epoch 55/100\n",
            "242/242 [==============================] - 0s 1ms/step - loss: 0.3667 - val_loss: 0.3470\n",
            "Epoch 56/100\n",
            "242/242 [==============================] - 0s 2ms/step - loss: 0.3665 - val_loss: 0.3446\n",
            "Epoch 57/100\n",
            "242/242 [==============================] - 0s 1ms/step - loss: 0.3667 - val_loss: 0.3434\n",
            "Epoch 58/100\n",
            "242/242 [==============================] - 0s 2ms/step - loss: 0.3663 - val_loss: 0.3455\n",
            "Epoch 59/100\n",
            "242/242 [==============================] - 0s 2ms/step - loss: 0.3648 - val_loss: 0.3457\n",
            "Epoch 60/100\n",
            "242/242 [==============================] - 0s 2ms/step - loss: 0.3649 - val_loss: 0.3518\n",
            "Epoch 61/100\n",
            "242/242 [==============================] - 0s 2ms/step - loss: 0.3653 - val_loss: 0.3498\n",
            "Epoch 62/100\n",
            "242/242 [==============================] - 0s 2ms/step - loss: 0.3663 - val_loss: 0.4081\n",
            "Epoch 63/100\n",
            "242/242 [==============================] - 0s 2ms/step - loss: 0.3689 - val_loss: 0.3450\n",
            "Epoch 64/100\n",
            "242/242 [==============================] - 0s 1ms/step - loss: 0.3665 - val_loss: 0.3526\n",
            "Epoch 65/100\n",
            "242/242 [==============================] - 0s 2ms/step - loss: 0.3645 - val_loss: 0.3450\n",
            "Epoch 66/100\n",
            "242/242 [==============================] - 0s 1ms/step - loss: 0.3644 - val_loss: 0.3438\n",
            "Epoch 67/100\n",
            "242/242 [==============================] - 0s 2ms/step - loss: 0.3665 - val_loss: 0.3513\n",
            "121/121 [==============================] - 0s 1ms/step - loss: 0.3842\n",
            "[CV] END learning_rate=0.022174573948353458, n_hidden=1, n_neurons=4; total time=  41.4s\n",
            "Epoch 1/100\n"
          ]
        },
        {
          "output_type": "stream",
          "name": "stderr",
          "text": [
            "WARNING:tensorflow:AutoGraph could not transform <function Model.make_train_function.<locals>.train_function at 0x7fd740dc8440> and will run it as-is.\n",
            "Please report this to the TensorFlow team. When filing the bug, set the verbosity to 10 (on Linux, `export AUTOGRAPH_VERBOSITY=10`) and attach the full output.\n",
            "Cause: closure mismatch, requested ('self', 'step_function'), but source function had ()\n",
            "To silence this warning, decorate the function with @tf.autograph.experimental.do_not_convert\n"
          ]
        },
        {
          "output_type": "stream",
          "name": "stdout",
          "text": [
            "WARNING: AutoGraph could not transform <function Model.make_train_function.<locals>.train_function at 0x7fd740dc8440> and will run it as-is.\n",
            "Please report this to the TensorFlow team. When filing the bug, set the verbosity to 10 (on Linux, `export AUTOGRAPH_VERBOSITY=10`) and attach the full output.\n",
            "Cause: closure mismatch, requested ('self', 'step_function'), but source function had ()\n",
            "To silence this warning, decorate the function with @tf.autograph.experimental.do_not_convert\n",
            "232/242 [===========================>..] - ETA: 0s - loss: 1.1507"
          ]
        },
        {
          "output_type": "stream",
          "name": "stderr",
          "text": [
            "WARNING:tensorflow:AutoGraph could not transform <function Model.make_test_function.<locals>.test_function at 0x7fd740d9c3b0> and will run it as-is.\n",
            "Please report this to the TensorFlow team. When filing the bug, set the verbosity to 10 (on Linux, `export AUTOGRAPH_VERBOSITY=10`) and attach the full output.\n",
            "Cause: closure mismatch, requested ('self', 'step_function'), but source function had ()\n",
            "To silence this warning, decorate the function with @tf.autograph.experimental.do_not_convert\n"
          ]
        },
        {
          "output_type": "stream",
          "name": "stdout",
          "text": [
            "WARNING: AutoGraph could not transform <function Model.make_test_function.<locals>.test_function at 0x7fd740d9c3b0> and will run it as-is.\n",
            "Please report this to the TensorFlow team. When filing the bug, set the verbosity to 10 (on Linux, `export AUTOGRAPH_VERBOSITY=10`) and attach the full output.\n",
            "Cause: closure mismatch, requested ('self', 'step_function'), but source function had ()\n",
            "To silence this warning, decorate the function with @tf.autograph.experimental.do_not_convert\n",
            "242/242 [==============================] - 1s 2ms/step - loss: 1.1327 - val_loss: 1.0406\n",
            "Epoch 2/100\n",
            "242/242 [==============================] - 0s 2ms/step - loss: 0.5712 - val_loss: 0.4929\n",
            "Epoch 3/100\n",
            "242/242 [==============================] - 0s 1ms/step - loss: 0.4667 - val_loss: 0.5390\n",
            "Epoch 4/100\n",
            "242/242 [==============================] - 0s 2ms/step - loss: 0.4434 - val_loss: 0.4668\n",
            "Epoch 5/100\n",
            "242/242 [==============================] - 0s 2ms/step - loss: 0.4403 - val_loss: 0.4563\n",
            "Epoch 6/100\n",
            "242/242 [==============================] - 0s 1ms/step - loss: 0.4365 - val_loss: 0.4263\n",
            "Epoch 7/100\n",
            "242/242 [==============================] - 0s 2ms/step - loss: 0.4347 - val_loss: 0.4333\n",
            "Epoch 8/100\n",
            "242/242 [==============================] - 0s 1ms/step - loss: 0.4331 - val_loss: 0.4069\n",
            "Epoch 9/100\n",
            "242/242 [==============================] - 0s 1ms/step - loss: 0.4301 - val_loss: 0.4170\n",
            "Epoch 10/100\n",
            "242/242 [==============================] - 0s 2ms/step - loss: 0.4303 - val_loss: 0.3999\n",
            "Epoch 11/100\n",
            "242/242 [==============================] - 0s 1ms/step - loss: 0.4269 - val_loss: 0.4350\n",
            "Epoch 12/100\n",
            "242/242 [==============================] - 0s 1ms/step - loss: 0.4262 - val_loss: 0.4128\n",
            "Epoch 13/100\n",
            "242/242 [==============================] - 0s 1ms/step - loss: 0.4283 - val_loss: 0.4271\n",
            "Epoch 14/100\n",
            "242/242 [==============================] - 0s 2ms/step - loss: 0.4254 - val_loss: 0.4092\n",
            "Epoch 15/100\n",
            "242/242 [==============================] - 0s 2ms/step - loss: 0.4237 - val_loss: 0.3971\n",
            "Epoch 16/100\n",
            "242/242 [==============================] - 0s 1ms/step - loss: 0.4216 - val_loss: 0.4136\n",
            "Epoch 17/100\n",
            "242/242 [==============================] - 0s 1ms/step - loss: 0.4216 - val_loss: 0.4107\n",
            "Epoch 18/100\n",
            "242/242 [==============================] - 0s 2ms/step - loss: 0.4253 - val_loss: 0.4040\n",
            "Epoch 19/100\n",
            "242/242 [==============================] - 0s 1ms/step - loss: 0.4198 - val_loss: 0.4085\n",
            "Epoch 20/100\n",
            "242/242 [==============================] - 0s 2ms/step - loss: 0.4187 - val_loss: 0.4237\n",
            "Epoch 21/100\n",
            "242/242 [==============================] - 0s 1ms/step - loss: 0.4186 - val_loss: 0.4178\n",
            "Epoch 22/100\n",
            "242/242 [==============================] - 0s 2ms/step - loss: 0.4176 - val_loss: 0.4117\n",
            "Epoch 23/100\n",
            "242/242 [==============================] - 0s 2ms/step - loss: 0.4170 - val_loss: 0.4126\n",
            "Epoch 24/100\n",
            "242/242 [==============================] - 0s 2ms/step - loss: 0.4162 - val_loss: 0.4195\n",
            "Epoch 25/100\n",
            "242/242 [==============================] - 0s 2ms/step - loss: 0.4153 - val_loss: 0.4264\n",
            "121/121 [==============================] - 0s 918us/step - loss: 0.4382\n",
            "[CV] END learning_rate=0.022174573948353458, n_hidden=1, n_neurons=4; total time=   9.6s\n",
            "Epoch 1/100\n"
          ]
        },
        {
          "output_type": "stream",
          "name": "stderr",
          "text": [
            "WARNING:tensorflow:AutoGraph could not transform <function Model.make_train_function.<locals>.train_function at 0x7fd7410b2dd0> and will run it as-is.\n",
            "Please report this to the TensorFlow team. When filing the bug, set the verbosity to 10 (on Linux, `export AUTOGRAPH_VERBOSITY=10`) and attach the full output.\n",
            "Cause: closure mismatch, requested ('self', 'step_function'), but source function had ()\n",
            "To silence this warning, decorate the function with @tf.autograph.experimental.do_not_convert\n"
          ]
        },
        {
          "output_type": "stream",
          "name": "stdout",
          "text": [
            "WARNING: AutoGraph could not transform <function Model.make_train_function.<locals>.train_function at 0x7fd7410b2dd0> and will run it as-is.\n",
            "Please report this to the TensorFlow team. When filing the bug, set the verbosity to 10 (on Linux, `export AUTOGRAPH_VERBOSITY=10`) and attach the full output.\n",
            "Cause: closure mismatch, requested ('self', 'step_function'), but source function had ()\n",
            "To silence this warning, decorate the function with @tf.autograph.experimental.do_not_convert\n",
            "205/242 [========================>.....] - ETA: 0s - loss: 1.1879"
          ]
        },
        {
          "output_type": "stream",
          "name": "stderr",
          "text": [
            "WARNING:tensorflow:AutoGraph could not transform <function Model.make_test_function.<locals>.test_function at 0x7fd74089dcb0> and will run it as-is.\n",
            "Please report this to the TensorFlow team. When filing the bug, set the verbosity to 10 (on Linux, `export AUTOGRAPH_VERBOSITY=10`) and attach the full output.\n",
            "Cause: closure mismatch, requested ('self', 'step_function'), but source function had ()\n",
            "To silence this warning, decorate the function with @tf.autograph.experimental.do_not_convert\n"
          ]
        },
        {
          "output_type": "stream",
          "name": "stdout",
          "text": [
            "WARNING: AutoGraph could not transform <function Model.make_test_function.<locals>.test_function at 0x7fd74089dcb0> and will run it as-is.\n",
            "Please report this to the TensorFlow team. When filing the bug, set the verbosity to 10 (on Linux, `export AUTOGRAPH_VERBOSITY=10`) and attach the full output.\n",
            "Cause: closure mismatch, requested ('self', 'step_function'), but source function had ()\n",
            "To silence this warning, decorate the function with @tf.autograph.experimental.do_not_convert\n",
            "242/242 [==============================] - 1s 2ms/step - loss: 1.2596 - val_loss: 163.0837\n",
            "Epoch 2/100\n",
            "242/242 [==============================] - 0s 1ms/step - loss: 0.6282 - val_loss: 1.5479\n",
            "Epoch 3/100\n",
            "242/242 [==============================] - 0s 2ms/step - loss: 0.4858 - val_loss: 7.8149\n",
            "Epoch 4/100\n",
            "242/242 [==============================] - 0s 2ms/step - loss: 0.8443 - val_loss: 14.8219\n",
            "Epoch 5/100\n",
            "242/242 [==============================] - 0s 2ms/step - loss: 0.7293 - val_loss: 83.3037\n",
            "Epoch 6/100\n",
            "242/242 [==============================] - 0s 1ms/step - loss: 0.5108 - val_loss: 0.4611\n",
            "Epoch 7/100\n",
            "242/242 [==============================] - 0s 2ms/step - loss: 0.4642 - val_loss: 0.4332\n",
            "Epoch 8/100\n",
            "242/242 [==============================] - 0s 2ms/step - loss: 0.4546 - val_loss: 0.4337\n",
            "Epoch 9/100\n",
            "242/242 [==============================] - 0s 1ms/step - loss: 0.4504 - val_loss: 0.4494\n",
            "Epoch 10/100\n",
            "242/242 [==============================] - 0s 1ms/step - loss: 0.4498 - val_loss: 0.4329\n",
            "Epoch 11/100\n",
            "242/242 [==============================] - 0s 2ms/step - loss: 0.4484 - val_loss: 0.4541\n",
            "Epoch 12/100\n",
            "242/242 [==============================] - 0s 2ms/step - loss: 0.4437 - val_loss: 0.4464\n",
            "Epoch 13/100\n",
            "242/242 [==============================] - 0s 2ms/step - loss: 0.4434 - val_loss: 0.4242\n",
            "Epoch 14/100\n",
            "242/242 [==============================] - 0s 2ms/step - loss: 0.4426 - val_loss: 0.4898\n",
            "Epoch 15/100\n",
            "242/242 [==============================] - 0s 1ms/step - loss: 0.4419 - val_loss: 0.4280\n",
            "Epoch 16/100\n",
            "242/242 [==============================] - 0s 1ms/step - loss: 0.4403 - val_loss: 0.4800\n",
            "Epoch 17/100\n",
            "242/242 [==============================] - 0s 1ms/step - loss: 0.4393 - val_loss: 0.4310\n",
            "Epoch 18/100\n",
            "242/242 [==============================] - 0s 1ms/step - loss: 0.4392 - val_loss: 0.4341\n",
            "Epoch 19/100\n",
            "242/242 [==============================] - 0s 1ms/step - loss: 0.4391 - val_loss: 0.4878\n",
            "Epoch 20/100\n",
            "242/242 [==============================] - 0s 2ms/step - loss: 0.4404 - val_loss: 0.4559\n",
            "Epoch 21/100\n",
            "242/242 [==============================] - 0s 2ms/step - loss: 0.4396 - val_loss: 0.4638\n",
            "Epoch 22/100\n",
            "242/242 [==============================] - 0s 2ms/step - loss: 0.4376 - val_loss: 0.4209\n",
            "Epoch 23/100\n",
            "242/242 [==============================] - 0s 2ms/step - loss: 0.4388 - val_loss: 0.4178\n",
            "Epoch 24/100\n",
            "242/242 [==============================] - 0s 2ms/step - loss: 0.4364 - val_loss: 0.4631\n",
            "Epoch 25/100\n",
            "242/242 [==============================] - 0s 1ms/step - loss: 0.4370 - val_loss: 0.4112\n",
            "Epoch 26/100\n",
            "242/242 [==============================] - 0s 2ms/step - loss: 0.4326 - val_loss: 0.4191\n",
            "Epoch 27/100\n",
            "242/242 [==============================] - 0s 1ms/step - loss: 0.4330 - val_loss: 0.5077\n",
            "Epoch 28/100\n",
            "242/242 [==============================] - 0s 2ms/step - loss: 0.4310 - val_loss: 0.4074\n",
            "Epoch 29/100\n",
            "242/242 [==============================] - 0s 2ms/step - loss: 0.4323 - val_loss: 0.4742\n",
            "Epoch 30/100\n",
            "242/242 [==============================] - 0s 1ms/step - loss: 0.4298 - val_loss: 0.4628\n",
            "Epoch 31/100\n",
            "242/242 [==============================] - 0s 2ms/step - loss: 0.4304 - val_loss: 0.4504\n",
            "Epoch 32/100\n",
            "242/242 [==============================] - 0s 2ms/step - loss: 0.4302 - val_loss: 0.5128\n",
            "Epoch 33/100\n",
            "242/242 [==============================] - 0s 1ms/step - loss: 0.4290 - val_loss: 0.4987\n",
            "Epoch 34/100\n",
            "242/242 [==============================] - 0s 2ms/step - loss: 0.4261 - val_loss: 0.5125\n",
            "Epoch 35/100\n",
            "242/242 [==============================] - 0s 1ms/step - loss: 0.4268 - val_loss: 0.4866\n",
            "Epoch 36/100\n",
            "242/242 [==============================] - 0s 2ms/step - loss: 0.4258 - val_loss: 0.4516\n",
            "Epoch 37/100\n",
            "242/242 [==============================] - 0s 2ms/step - loss: 0.4275 - val_loss: 0.4170\n",
            "Epoch 38/100\n",
            "242/242 [==============================] - 0s 1ms/step - loss: 0.4283 - val_loss: 0.4960\n",
            "121/121 [==============================] - 0s 808us/step - loss: 0.4158\n",
            "[CV] END learning_rate=0.022174573948353458, n_hidden=1, n_neurons=4; total time=  14.6s\n",
            "Epoch 1/100\n"
          ]
        },
        {
          "output_type": "stream",
          "name": "stderr",
          "text": [
            "WARNING:tensorflow:AutoGraph could not transform <function Model.make_train_function.<locals>.train_function at 0x7fd741020d40> and will run it as-is.\n",
            "Please report this to the TensorFlow team. When filing the bug, set the verbosity to 10 (on Linux, `export AUTOGRAPH_VERBOSITY=10`) and attach the full output.\n",
            "Cause: closure mismatch, requested ('self', 'step_function'), but source function had ()\n",
            "To silence this warning, decorate the function with @tf.autograph.experimental.do_not_convert\n"
          ]
        },
        {
          "output_type": "stream",
          "name": "stdout",
          "text": [
            "WARNING: AutoGraph could not transform <function Model.make_train_function.<locals>.train_function at 0x7fd741020d40> and will run it as-is.\n",
            "Please report this to the TensorFlow team. When filing the bug, set the verbosity to 10 (on Linux, `export AUTOGRAPH_VERBOSITY=10`) and attach the full output.\n",
            "Cause: closure mismatch, requested ('self', 'step_function'), but source function had ()\n",
            "To silence this warning, decorate the function with @tf.autograph.experimental.do_not_convert\n",
            "198/242 [=======================>......] - ETA: 0s - loss: 1.1283"
          ]
        },
        {
          "output_type": "stream",
          "name": "stderr",
          "text": [
            "WARNING:tensorflow:AutoGraph could not transform <function Model.make_test_function.<locals>.test_function at 0x7fd7358c8710> and will run it as-is.\n",
            "Please report this to the TensorFlow team. When filing the bug, set the verbosity to 10 (on Linux, `export AUTOGRAPH_VERBOSITY=10`) and attach the full output.\n",
            "Cause: closure mismatch, requested ('self', 'step_function'), but source function had ()\n",
            "To silence this warning, decorate the function with @tf.autograph.experimental.do_not_convert\n"
          ]
        },
        {
          "output_type": "stream",
          "name": "stdout",
          "text": [
            "WARNING: AutoGraph could not transform <function Model.make_test_function.<locals>.test_function at 0x7fd7358c8710> and will run it as-is.\n",
            "Please report this to the TensorFlow team. When filing the bug, set the verbosity to 10 (on Linux, `export AUTOGRAPH_VERBOSITY=10`) and attach the full output.\n",
            "Cause: closure mismatch, requested ('self', 'step_function'), but source function had ()\n",
            "To silence this warning, decorate the function with @tf.autograph.experimental.do_not_convert\n",
            "242/242 [==============================] - 1s 2ms/step - loss: 1.0483 - val_loss: 18.9225\n",
            "Epoch 2/100\n",
            "242/242 [==============================] - 0s 2ms/step - loss: 0.8777 - val_loss: 29.1266\n",
            "Epoch 3/100\n",
            "242/242 [==============================] - 0s 2ms/step - loss: 0.7115 - val_loss: 9.3468\n",
            "Epoch 4/100\n",
            "242/242 [==============================] - 0s 2ms/step - loss: 0.5099 - val_loss: 8.4873\n",
            "Epoch 5/100\n",
            "242/242 [==============================] - 0s 2ms/step - loss: 0.4931 - val_loss: 0.5514\n",
            "Epoch 6/100\n",
            "242/242 [==============================] - 0s 2ms/step - loss: 0.4022 - val_loss: 0.3982\n",
            "Epoch 7/100\n",
            "242/242 [==============================] - 0s 2ms/step - loss: 0.3859 - val_loss: 0.3590\n",
            "Epoch 8/100\n",
            "242/242 [==============================] - 0s 2ms/step - loss: 0.3748 - val_loss: 0.3606\n",
            "Epoch 9/100\n",
            "242/242 [==============================] - 0s 2ms/step - loss: 0.3671 - val_loss: 0.3645\n",
            "Epoch 10/100\n",
            "242/242 [==============================] - 0s 2ms/step - loss: 0.3617 - val_loss: 0.3628\n",
            "Epoch 11/100\n",
            "242/242 [==============================] - 0s 2ms/step - loss: 0.3569 - val_loss: 0.3618\n",
            "Epoch 12/100\n",
            "242/242 [==============================] - 0s 2ms/step - loss: 0.3521 - val_loss: 0.3708\n",
            "Epoch 13/100\n",
            "242/242 [==============================] - 0s 2ms/step - loss: 0.3476 - val_loss: 0.3585\n",
            "Epoch 14/100\n",
            "242/242 [==============================] - 0s 2ms/step - loss: 0.3459 - val_loss: 0.3625\n",
            "Epoch 15/100\n",
            "242/242 [==============================] - 0s 2ms/step - loss: 0.3412 - val_loss: 0.3562\n",
            "Epoch 16/100\n",
            "242/242 [==============================] - 0s 2ms/step - loss: 0.3391 - val_loss: 0.3566\n",
            "Epoch 17/100\n",
            "242/242 [==============================] - 0s 2ms/step - loss: 0.3360 - val_loss: 0.3559\n",
            "Epoch 18/100\n",
            "242/242 [==============================] - 0s 2ms/step - loss: 0.3342 - val_loss: 0.3541\n",
            "Epoch 19/100\n",
            "242/242 [==============================] - 0s 2ms/step - loss: 0.3311 - val_loss: 0.3554\n",
            "Epoch 20/100\n",
            "242/242 [==============================] - 0s 2ms/step - loss: 0.3291 - val_loss: 0.3519\n",
            "Epoch 21/100\n",
            "242/242 [==============================] - 0s 2ms/step - loss: 0.3277 - val_loss: 0.3515\n",
            "Epoch 22/100\n",
            "242/242 [==============================] - 0s 1ms/step - loss: 0.3261 - val_loss: 0.3535\n",
            "Epoch 23/100\n",
            "242/242 [==============================] - 0s 1ms/step - loss: 0.3235 - val_loss: 0.3511\n",
            "Epoch 24/100\n",
            "242/242 [==============================] - 0s 2ms/step - loss: 0.3229 - val_loss: 0.3302\n",
            "Epoch 25/100\n",
            "242/242 [==============================] - 0s 2ms/step - loss: 0.3199 - val_loss: 0.3450\n",
            "Epoch 26/100\n",
            "242/242 [==============================] - 0s 2ms/step - loss: 0.3184 - val_loss: 0.3246\n",
            "Epoch 27/100\n",
            "242/242 [==============================] - 0s 2ms/step - loss: 0.3181 - val_loss: 0.3295\n",
            "Epoch 28/100\n",
            "242/242 [==============================] - 0s 2ms/step - loss: 0.3176 - val_loss: 0.3403\n",
            "Epoch 29/100\n",
            "242/242 [==============================] - 0s 2ms/step - loss: 0.3145 - val_loss: 0.3339\n",
            "Epoch 30/100\n",
            "242/242 [==============================] - 0s 2ms/step - loss: 0.3132 - val_loss: 0.3135\n",
            "Epoch 31/100\n",
            "242/242 [==============================] - 0s 1ms/step - loss: 0.3122 - val_loss: 0.3149\n",
            "Epoch 32/100\n",
            "242/242 [==============================] - 0s 1ms/step - loss: 0.3113 - val_loss: 0.3064\n",
            "Epoch 33/100\n",
            "242/242 [==============================] - 0s 2ms/step - loss: 0.3094 - val_loss: 0.3207\n",
            "Epoch 34/100\n",
            "242/242 [==============================] - 0s 2ms/step - loss: 0.3078 - val_loss: 0.3336\n",
            "Epoch 35/100\n",
            "242/242 [==============================] - 0s 1ms/step - loss: 0.3070 - val_loss: 0.3024\n",
            "Epoch 36/100\n",
            "242/242 [==============================] - 0s 2ms/step - loss: 0.3062 - val_loss: 0.3259\n",
            "Epoch 37/100\n",
            "242/242 [==============================] - 0s 2ms/step - loss: 0.3050 - val_loss: 0.2989\n",
            "Epoch 38/100\n",
            "242/242 [==============================] - 0s 1ms/step - loss: 0.3037 - val_loss: 0.3328\n",
            "Epoch 39/100\n",
            "242/242 [==============================] - 0s 2ms/step - loss: 0.3031 - val_loss: 0.3057\n",
            "Epoch 40/100\n",
            "242/242 [==============================] - 0s 2ms/step - loss: 0.3021 - val_loss: 0.3214\n",
            "Epoch 41/100\n",
            "242/242 [==============================] - 0s 2ms/step - loss: 0.3015 - val_loss: 0.3020\n",
            "Epoch 42/100\n",
            "242/242 [==============================] - 0s 2ms/step - loss: 0.3000 - val_loss: 0.3005\n",
            "Epoch 43/100\n",
            "242/242 [==============================] - 0s 2ms/step - loss: 0.2998 - val_loss: 0.2993\n",
            "Epoch 44/100\n",
            "242/242 [==============================] - 0s 2ms/step - loss: 0.2978 - val_loss: 0.3311\n",
            "Epoch 45/100\n",
            "242/242 [==============================] - 0s 1ms/step - loss: 0.2981 - val_loss: 0.2917\n",
            "Epoch 46/100\n",
            "242/242 [==============================] - 0s 1ms/step - loss: 0.2963 - val_loss: 0.3059\n",
            "Epoch 47/100\n",
            "242/242 [==============================] - 0s 2ms/step - loss: 0.2953 - val_loss: 0.3163\n",
            "Epoch 48/100\n",
            "242/242 [==============================] - 0s 1ms/step - loss: 0.2954 - val_loss: 0.3066\n",
            "Epoch 49/100\n",
            "242/242 [==============================] - 0s 1ms/step - loss: 0.2934 - val_loss: 0.2884\n",
            "Epoch 50/100\n",
            "242/242 [==============================] - 0s 1ms/step - loss: 0.2936 - val_loss: 0.3099\n",
            "Epoch 51/100\n",
            "242/242 [==============================] - 0s 2ms/step - loss: 0.2922 - val_loss: 0.3258\n",
            "Epoch 52/100\n",
            "242/242 [==============================] - 0s 1ms/step - loss: 0.2914 - val_loss: 0.3118\n",
            "Epoch 53/100\n",
            "242/242 [==============================] - 0s 2ms/step - loss: 0.2914 - val_loss: 0.3139\n",
            "Epoch 54/100\n",
            "242/242 [==============================] - 0s 2ms/step - loss: 0.2898 - val_loss: 0.2947\n",
            "Epoch 55/100\n",
            "242/242 [==============================] - 0s 2ms/step - loss: 0.2888 - val_loss: 0.3066\n",
            "Epoch 56/100\n",
            "242/242 [==============================] - 0s 1ms/step - loss: 0.2891 - val_loss: 0.3001\n",
            "Epoch 57/100\n",
            "242/242 [==============================] - 0s 2ms/step - loss: 0.2873 - val_loss: 0.3128\n",
            "Epoch 58/100\n",
            "242/242 [==============================] - 0s 2ms/step - loss: 0.2871 - val_loss: 0.3285\n",
            "Epoch 59/100\n",
            "242/242 [==============================] - 0s 1ms/step - loss: 0.2864 - val_loss: 0.2858\n",
            "Epoch 60/100\n",
            "242/242 [==============================] - 0s 2ms/step - loss: 0.2852 - val_loss: 0.2989\n",
            "Epoch 61/100\n",
            "242/242 [==============================] - 0s 2ms/step - loss: 0.2855 - val_loss: 0.3134\n",
            "Epoch 62/100\n",
            "242/242 [==============================] - 0s 2ms/step - loss: 0.2840 - val_loss: 0.3293\n",
            "Epoch 63/100\n",
            "242/242 [==============================] - 0s 2ms/step - loss: 0.2843 - val_loss: 0.2998\n",
            "Epoch 64/100\n",
            "242/242 [==============================] - 0s 2ms/step - loss: 0.2828 - val_loss: 0.3313\n",
            "Epoch 65/100\n",
            "242/242 [==============================] - 0s 2ms/step - loss: 0.2815 - val_loss: 0.2984\n",
            "Epoch 66/100\n",
            "242/242 [==============================] - 0s 2ms/step - loss: 0.2820 - val_loss: 0.2873\n",
            "Epoch 67/100\n",
            "242/242 [==============================] - 0s 2ms/step - loss: 0.2813 - val_loss: 0.3113\n",
            "Epoch 68/100\n",
            "242/242 [==============================] - 0s 2ms/step - loss: 0.2801 - val_loss: 0.3145\n",
            "Epoch 69/100\n",
            "242/242 [==============================] - 0s 2ms/step - loss: 0.2796 - val_loss: 0.3133\n",
            "121/121 [==============================] - 0s 1ms/step - loss: 0.3163\n",
            "[CV] END learning_rate=0.005432590230265343, n_hidden=2, n_neurons=94; total time=  28.5s\n",
            "Epoch 1/100\n"
          ]
        },
        {
          "output_type": "stream",
          "name": "stderr",
          "text": [
            "WARNING:tensorflow:AutoGraph could not transform <function Model.make_train_function.<locals>.train_function at 0x7fd7407e3440> and will run it as-is.\n",
            "Please report this to the TensorFlow team. When filing the bug, set the verbosity to 10 (on Linux, `export AUTOGRAPH_VERBOSITY=10`) and attach the full output.\n",
            "Cause: closure mismatch, requested ('self', 'step_function'), but source function had ()\n",
            "To silence this warning, decorate the function with @tf.autograph.experimental.do_not_convert\n"
          ]
        },
        {
          "output_type": "stream",
          "name": "stdout",
          "text": [
            "WARNING: AutoGraph could not transform <function Model.make_train_function.<locals>.train_function at 0x7fd7407e3440> and will run it as-is.\n",
            "Please report this to the TensorFlow team. When filing the bug, set the verbosity to 10 (on Linux, `export AUTOGRAPH_VERBOSITY=10`) and attach the full output.\n",
            "Cause: closure mismatch, requested ('self', 'step_function'), but source function had ()\n",
            "To silence this warning, decorate the function with @tf.autograph.experimental.do_not_convert\n",
            "204/242 [========================>.....] - ETA: 0s - loss: 1.0083"
          ]
        },
        {
          "output_type": "stream",
          "name": "stderr",
          "text": [
            "WARNING:tensorflow:AutoGraph could not transform <function Model.make_test_function.<locals>.test_function at 0x7fd7359a8cb0> and will run it as-is.\n",
            "Please report this to the TensorFlow team. When filing the bug, set the verbosity to 10 (on Linux, `export AUTOGRAPH_VERBOSITY=10`) and attach the full output.\n",
            "Cause: closure mismatch, requested ('self', 'step_function'), but source function had ()\n",
            "To silence this warning, decorate the function with @tf.autograph.experimental.do_not_convert\n"
          ]
        },
        {
          "output_type": "stream",
          "name": "stdout",
          "text": [
            "WARNING: AutoGraph could not transform <function Model.make_test_function.<locals>.test_function at 0x7fd7359a8cb0> and will run it as-is.\n",
            "Please report this to the TensorFlow team. When filing the bug, set the verbosity to 10 (on Linux, `export AUTOGRAPH_VERBOSITY=10`) and attach the full output.\n",
            "Cause: closure mismatch, requested ('self', 'step_function'), but source function had ()\n",
            "To silence this warning, decorate the function with @tf.autograph.experimental.do_not_convert\n",
            "242/242 [==============================] - 1s 2ms/step - loss: 0.9428 - val_loss: 0.9983\n",
            "Epoch 2/100\n",
            "242/242 [==============================] - 0s 2ms/step - loss: 0.5116 - val_loss: 0.6773\n",
            "Epoch 3/100\n",
            "242/242 [==============================] - 0s 2ms/step - loss: 0.4356 - val_loss: 0.6964\n",
            "Epoch 4/100\n",
            "242/242 [==============================] - 0s 2ms/step - loss: 0.4093 - val_loss: 0.4890\n",
            "Epoch 5/100\n",
            "242/242 [==============================] - 0s 2ms/step - loss: 0.3921 - val_loss: 0.3759\n",
            "Epoch 6/100\n",
            "242/242 [==============================] - 0s 2ms/step - loss: 0.3807 - val_loss: 0.3910\n",
            "Epoch 7/100\n",
            "242/242 [==============================] - 0s 2ms/step - loss: 0.3731 - val_loss: 0.5170\n",
            "Epoch 8/100\n",
            "242/242 [==============================] - 0s 2ms/step - loss: 0.3667 - val_loss: 0.6271\n",
            "Epoch 9/100\n",
            "242/242 [==============================] - 0s 1ms/step - loss: 0.3613 - val_loss: 0.7534\n",
            "Epoch 10/100\n",
            "242/242 [==============================] - 0s 2ms/step - loss: 0.3577 - val_loss: 0.6301\n",
            "Epoch 11/100\n",
            "242/242 [==============================] - 0s 2ms/step - loss: 0.3526 - val_loss: 0.6846\n",
            "Epoch 12/100\n",
            "242/242 [==============================] - 0s 2ms/step - loss: 0.3486 - val_loss: 0.7069\n",
            "Epoch 13/100\n",
            "242/242 [==============================] - 0s 2ms/step - loss: 0.3467 - val_loss: 0.8121\n",
            "Epoch 14/100\n",
            "242/242 [==============================] - 0s 2ms/step - loss: 0.3449 - val_loss: 0.7847\n",
            "Epoch 15/100\n",
            "242/242 [==============================] - 0s 2ms/step - loss: 0.3422 - val_loss: 0.7734\n",
            "121/121 [==============================] - 0s 836us/step - loss: 0.3569\n",
            "[CV] END learning_rate=0.005432590230265343, n_hidden=2, n_neurons=94; total time=   6.5s\n",
            "Epoch 1/100\n"
          ]
        },
        {
          "output_type": "stream",
          "name": "stderr",
          "text": [
            "WARNING:tensorflow:AutoGraph could not transform <function Model.make_train_function.<locals>.train_function at 0x7fd735911830> and will run it as-is.\n",
            "Please report this to the TensorFlow team. When filing the bug, set the verbosity to 10 (on Linux, `export AUTOGRAPH_VERBOSITY=10`) and attach the full output.\n",
            "Cause: closure mismatch, requested ('self', 'step_function'), but source function had ()\n",
            "To silence this warning, decorate the function with @tf.autograph.experimental.do_not_convert\n"
          ]
        },
        {
          "output_type": "stream",
          "name": "stdout",
          "text": [
            "WARNING: AutoGraph could not transform <function Model.make_train_function.<locals>.train_function at 0x7fd735911830> and will run it as-is.\n",
            "Please report this to the TensorFlow team. When filing the bug, set the verbosity to 10 (on Linux, `export AUTOGRAPH_VERBOSITY=10`) and attach the full output.\n",
            "Cause: closure mismatch, requested ('self', 'step_function'), but source function had ()\n",
            "To silence this warning, decorate the function with @tf.autograph.experimental.do_not_convert\n",
            "192/242 [======================>.......] - ETA: 0s - loss: 1.0339"
          ]
        },
        {
          "output_type": "stream",
          "name": "stderr",
          "text": [
            "WARNING:tensorflow:AutoGraph could not transform <function Model.make_test_function.<locals>.test_function at 0x7fd735c1a200> and will run it as-is.\n",
            "Please report this to the TensorFlow team. When filing the bug, set the verbosity to 10 (on Linux, `export AUTOGRAPH_VERBOSITY=10`) and attach the full output.\n",
            "Cause: closure mismatch, requested ('self', 'step_function'), but source function had ()\n",
            "To silence this warning, decorate the function with @tf.autograph.experimental.do_not_convert\n"
          ]
        },
        {
          "output_type": "stream",
          "name": "stdout",
          "text": [
            "WARNING: AutoGraph could not transform <function Model.make_test_function.<locals>.test_function at 0x7fd735c1a200> and will run it as-is.\n",
            "Please report this to the TensorFlow team. When filing the bug, set the verbosity to 10 (on Linux, `export AUTOGRAPH_VERBOSITY=10`) and attach the full output.\n",
            "Cause: closure mismatch, requested ('self', 'step_function'), but source function had ()\n",
            "To silence this warning, decorate the function with @tf.autograph.experimental.do_not_convert\n",
            "242/242 [==============================] - 1s 2ms/step - loss: 0.9474 - val_loss: 1.4012\n",
            "Epoch 2/100\n",
            "242/242 [==============================] - 0s 2ms/step - loss: 0.5426 - val_loss: 6.9119\n",
            "Epoch 3/100\n",
            "242/242 [==============================] - 0s 2ms/step - loss: 0.5024 - val_loss: 9.1706\n",
            "Epoch 4/100\n",
            "242/242 [==============================] - 0s 1ms/step - loss: 0.5566 - val_loss: 2.3111\n",
            "Epoch 5/100\n",
            "242/242 [==============================] - 0s 1ms/step - loss: 0.4281 - val_loss: 0.4079\n",
            "Epoch 6/100\n",
            "242/242 [==============================] - 0s 1ms/step - loss: 0.3980 - val_loss: 0.4086\n",
            "Epoch 7/100\n",
            "242/242 [==============================] - 0s 1ms/step - loss: 0.3894 - val_loss: 0.4045\n",
            "Epoch 8/100\n",
            "242/242 [==============================] - 0s 1ms/step - loss: 0.3810 - val_loss: 0.3928\n",
            "Epoch 9/100\n",
            "242/242 [==============================] - 0s 2ms/step - loss: 0.3754 - val_loss: 0.3985\n",
            "Epoch 10/100\n",
            "242/242 [==============================] - 0s 2ms/step - loss: 0.3721 - val_loss: 0.3649\n",
            "Epoch 11/100\n",
            "242/242 [==============================] - 0s 2ms/step - loss: 0.3662 - val_loss: 0.3930\n",
            "Epoch 12/100\n",
            "242/242 [==============================] - 0s 2ms/step - loss: 0.3631 - val_loss: 0.3731\n",
            "Epoch 13/100\n",
            "242/242 [==============================] - 0s 2ms/step - loss: 0.3588 - val_loss: 0.3599\n",
            "Epoch 14/100\n",
            "242/242 [==============================] - 0s 2ms/step - loss: 0.3561 - val_loss: 0.4121\n",
            "Epoch 15/100\n",
            "242/242 [==============================] - 0s 2ms/step - loss: 0.3539 - val_loss: 0.3351\n",
            "Epoch 16/100\n",
            "242/242 [==============================] - 0s 2ms/step - loss: 0.3501 - val_loss: 0.3601\n",
            "Epoch 17/100\n",
            "242/242 [==============================] - 0s 2ms/step - loss: 0.3476 - val_loss: 0.3402\n",
            "Epoch 18/100\n",
            "242/242 [==============================] - 0s 2ms/step - loss: 0.3464 - val_loss: 0.3499\n",
            "Epoch 19/100\n",
            "242/242 [==============================] - 0s 1ms/step - loss: 0.3431 - val_loss: 0.3702\n",
            "Epoch 20/100\n",
            "242/242 [==============================] - 0s 1ms/step - loss: 0.3410 - val_loss: 0.3376\n",
            "Epoch 21/100\n",
            "242/242 [==============================] - 0s 2ms/step - loss: 0.3413 - val_loss: 0.3621\n",
            "Epoch 22/100\n",
            "242/242 [==============================] - 0s 2ms/step - loss: 0.3401 - val_loss: 0.3201\n",
            "Epoch 23/100\n",
            "242/242 [==============================] - 0s 2ms/step - loss: 0.3364 - val_loss: 0.3580\n",
            "Epoch 24/100\n",
            "242/242 [==============================] - 0s 2ms/step - loss: 0.3349 - val_loss: 0.3710\n",
            "Epoch 25/100\n",
            "242/242 [==============================] - 0s 2ms/step - loss: 0.3327 - val_loss: 0.3147\n",
            "Epoch 26/100\n",
            "242/242 [==============================] - 0s 2ms/step - loss: 0.3318 - val_loss: 0.3427\n",
            "Epoch 27/100\n",
            "242/242 [==============================] - 0s 2ms/step - loss: 0.3296 - val_loss: 0.3567\n",
            "Epoch 28/100\n",
            "242/242 [==============================] - 0s 2ms/step - loss: 0.3285 - val_loss: 0.3151\n",
            "Epoch 29/100\n",
            "242/242 [==============================] - 0s 2ms/step - loss: 0.3285 - val_loss: 0.3558\n",
            "Epoch 30/100\n",
            "242/242 [==============================] - 0s 2ms/step - loss: 0.3262 - val_loss: 0.3589\n",
            "Epoch 31/100\n",
            "242/242 [==============================] - 0s 2ms/step - loss: 0.3241 - val_loss: 0.3241\n",
            "Epoch 32/100\n",
            "242/242 [==============================] - 0s 2ms/step - loss: 0.3219 - val_loss: 0.3580\n",
            "Epoch 33/100\n",
            "242/242 [==============================] - 0s 2ms/step - loss: 0.3216 - val_loss: 0.3357\n",
            "Epoch 34/100\n",
            "242/242 [==============================] - 0s 2ms/step - loss: 0.3199 - val_loss: 0.3497\n",
            "Epoch 35/100\n",
            "242/242 [==============================] - 0s 2ms/step - loss: 0.3181 - val_loss: 0.3078\n",
            "Epoch 36/100\n",
            "242/242 [==============================] - 0s 2ms/step - loss: 0.3171 - val_loss: 0.3700\n",
            "Epoch 37/100\n",
            "242/242 [==============================] - 0s 2ms/step - loss: 0.3150 - val_loss: 0.3125\n",
            "Epoch 38/100\n",
            "242/242 [==============================] - 0s 1ms/step - loss: 0.3146 - val_loss: 0.3673\n",
            "Epoch 39/100\n",
            "242/242 [==============================] - 0s 2ms/step - loss: 0.3128 - val_loss: 0.3054\n",
            "Epoch 40/100\n",
            "242/242 [==============================] - 0s 2ms/step - loss: 0.3116 - val_loss: 0.3439\n",
            "Epoch 41/100\n",
            "242/242 [==============================] - 0s 2ms/step - loss: 0.3089 - val_loss: 0.3133\n",
            "Epoch 42/100\n",
            "242/242 [==============================] - 0s 1ms/step - loss: 0.3083 - val_loss: 0.3551\n",
            "Epoch 43/100\n",
            "242/242 [==============================] - 0s 2ms/step - loss: 0.3097 - val_loss: 0.3123\n",
            "Epoch 44/100\n",
            "242/242 [==============================] - 0s 2ms/step - loss: 0.3064 - val_loss: 0.3770\n",
            "Epoch 45/100\n",
            "242/242 [==============================] - 0s 2ms/step - loss: 0.3066 - val_loss: 0.3038\n",
            "Epoch 46/100\n",
            "242/242 [==============================] - 0s 1ms/step - loss: 0.3052 - val_loss: 0.4024\n",
            "Epoch 47/100\n",
            "242/242 [==============================] - 0s 2ms/step - loss: 0.3023 - val_loss: 0.3151\n",
            "Epoch 48/100\n",
            "242/242 [==============================] - 0s 2ms/step - loss: 0.3035 - val_loss: 0.3740\n",
            "Epoch 49/100\n",
            "242/242 [==============================] - 0s 2ms/step - loss: 0.3003 - val_loss: 0.2995\n",
            "Epoch 50/100\n",
            "242/242 [==============================] - 0s 1ms/step - loss: 0.2995 - val_loss: 0.4044\n",
            "Epoch 51/100\n",
            "242/242 [==============================] - 0s 2ms/step - loss: 0.2993 - val_loss: 0.2909\n",
            "Epoch 52/100\n",
            "242/242 [==============================] - 0s 2ms/step - loss: 0.2976 - val_loss: 0.4761\n",
            "Epoch 53/100\n",
            "242/242 [==============================] - 0s 2ms/step - loss: 0.2994 - val_loss: 0.4461\n",
            "Epoch 54/100\n",
            "242/242 [==============================] - 0s 2ms/step - loss: 0.2987 - val_loss: 0.4232\n",
            "Epoch 55/100\n",
            "242/242 [==============================] - 0s 2ms/step - loss: 0.2976 - val_loss: 0.2892\n",
            "Epoch 56/100\n",
            "242/242 [==============================] - 0s 2ms/step - loss: 0.2933 - val_loss: 0.3330\n",
            "Epoch 57/100\n",
            "242/242 [==============================] - 0s 1ms/step - loss: 0.2944 - val_loss: 0.3104\n",
            "Epoch 58/100\n",
            "242/242 [==============================] - 0s 2ms/step - loss: 0.2932 - val_loss: 0.2960\n",
            "Epoch 59/100\n",
            "242/242 [==============================] - 0s 2ms/step - loss: 0.2910 - val_loss: 0.3202\n",
            "Epoch 60/100\n",
            "242/242 [==============================] - 0s 2ms/step - loss: 0.2922 - val_loss: 0.3075\n",
            "Epoch 61/100\n",
            "242/242 [==============================] - 0s 2ms/step - loss: 0.2902 - val_loss: 0.3925\n",
            "Epoch 62/100\n",
            "242/242 [==============================] - 0s 2ms/step - loss: 0.2889 - val_loss: 0.2860\n",
            "Epoch 63/100\n",
            "242/242 [==============================] - 0s 2ms/step - loss: 0.2887 - val_loss: 0.3230\n",
            "Epoch 64/100\n",
            "242/242 [==============================] - 0s 2ms/step - loss: 0.2884 - val_loss: 0.2886\n",
            "Epoch 65/100\n",
            "242/242 [==============================] - 0s 2ms/step - loss: 0.2865 - val_loss: 0.3516\n",
            "Epoch 66/100\n",
            "242/242 [==============================] - 0s 2ms/step - loss: 0.2854 - val_loss: 0.2841\n",
            "Epoch 67/100\n",
            "242/242 [==============================] - 0s 1ms/step - loss: 0.2855 - val_loss: 0.2901\n",
            "Epoch 68/100\n",
            "242/242 [==============================] - 0s 2ms/step - loss: 0.2829 - val_loss: 0.3748\n",
            "Epoch 69/100\n",
            "242/242 [==============================] - 0s 2ms/step - loss: 0.2833 - val_loss: 0.3741\n",
            "Epoch 70/100\n",
            "242/242 [==============================] - 0s 1ms/step - loss: 0.2839 - val_loss: 0.6862\n",
            "Epoch 71/100\n",
            "242/242 [==============================] - 0s 2ms/step - loss: 0.2858 - val_loss: 0.4632\n",
            "Epoch 72/100\n",
            "242/242 [==============================] - 0s 2ms/step - loss: 0.2860 - val_loss: 0.5269\n",
            "Epoch 73/100\n",
            "242/242 [==============================] - 0s 2ms/step - loss: 0.2866 - val_loss: 0.4905\n",
            "Epoch 74/100\n",
            "242/242 [==============================] - 0s 2ms/step - loss: 0.2845 - val_loss: 1.1274\n",
            "Epoch 75/100\n",
            "242/242 [==============================] - 0s 2ms/step - loss: 0.2855 - val_loss: 0.4452\n",
            "Epoch 76/100\n",
            "242/242 [==============================] - 0s 2ms/step - loss: 0.2804 - val_loss: 2.1910\n",
            "121/121 [==============================] - 0s 926us/step - loss: 0.3013\n",
            "[CV] END learning_rate=0.005432590230265343, n_hidden=2, n_neurons=94; total time=  41.4s\n",
            "Epoch 1/100\n"
          ]
        },
        {
          "output_type": "stream",
          "name": "stderr",
          "text": [
            "WARNING:tensorflow:AutoGraph could not transform <function Model.make_train_function.<locals>.train_function at 0x7fd7b24d0dd0> and will run it as-is.\n",
            "Please report this to the TensorFlow team. When filing the bug, set the verbosity to 10 (on Linux, `export AUTOGRAPH_VERBOSITY=10`) and attach the full output.\n",
            "Cause: closure mismatch, requested ('self', 'step_function'), but source function had ()\n",
            "To silence this warning, decorate the function with @tf.autograph.experimental.do_not_convert\n"
          ]
        },
        {
          "output_type": "stream",
          "name": "stdout",
          "text": [
            "WARNING: AutoGraph could not transform <function Model.make_train_function.<locals>.train_function at 0x7fd7b24d0dd0> and will run it as-is.\n",
            "Please report this to the TensorFlow team. When filing the bug, set the verbosity to 10 (on Linux, `export AUTOGRAPH_VERBOSITY=10`) and attach the full output.\n",
            "Cause: closure mismatch, requested ('self', 'step_function'), but source function had ()\n",
            "To silence this warning, decorate the function with @tf.autograph.experimental.do_not_convert\n",
            "213/242 [=========================>....] - ETA: 0s - loss: 4.1424"
          ]
        },
        {
          "output_type": "stream",
          "name": "stderr",
          "text": [
            "WARNING:tensorflow:AutoGraph could not transform <function Model.make_test_function.<locals>.test_function at 0x7fd7375b2950> and will run it as-is.\n",
            "Please report this to the TensorFlow team. When filing the bug, set the verbosity to 10 (on Linux, `export AUTOGRAPH_VERBOSITY=10`) and attach the full output.\n",
            "Cause: closure mismatch, requested ('self', 'step_function'), but source function had ()\n",
            "To silence this warning, decorate the function with @tf.autograph.experimental.do_not_convert\n"
          ]
        },
        {
          "output_type": "stream",
          "name": "stdout",
          "text": [
            "WARNING: AutoGraph could not transform <function Model.make_test_function.<locals>.test_function at 0x7fd7375b2950> and will run it as-is.\n",
            "Please report this to the TensorFlow team. When filing the bug, set the verbosity to 10 (on Linux, `export AUTOGRAPH_VERBOSITY=10`) and attach the full output.\n",
            "Cause: closure mismatch, requested ('self', 'step_function'), but source function had ()\n",
            "To silence this warning, decorate the function with @tf.autograph.experimental.do_not_convert\n",
            "242/242 [==============================] - 1s 2ms/step - loss: 3.9960 - val_loss: 5.0752\n",
            "Epoch 2/100\n",
            "242/242 [==============================] - 0s 1ms/step - loss: 2.1502 - val_loss: 3.9713\n",
            "Epoch 3/100\n",
            "242/242 [==============================] - 0s 1ms/step - loss: 1.4275 - val_loss: 2.6721\n",
            "Epoch 4/100\n",
            "242/242 [==============================] - 0s 2ms/step - loss: 1.0874 - val_loss: 1.7129\n",
            "Epoch 5/100\n",
            "242/242 [==============================] - 0s 1ms/step - loss: 0.9120 - val_loss: 1.1519\n",
            "Epoch 6/100\n",
            "242/242 [==============================] - 0s 1ms/step - loss: 0.8167 - val_loss: 0.8727\n",
            "Epoch 7/100\n",
            "242/242 [==============================] - 0s 2ms/step - loss: 0.7629 - val_loss: 0.7461\n",
            "Epoch 8/100\n",
            "242/242 [==============================] - 0s 2ms/step - loss: 0.7308 - val_loss: 0.6983\n",
            "Epoch 9/100\n",
            "242/242 [==============================] - 0s 2ms/step - loss: 0.7098 - val_loss: 0.6763\n",
            "Epoch 10/100\n",
            "242/242 [==============================] - 0s 2ms/step - loss: 0.6941 - val_loss: 0.6644\n",
            "Epoch 11/100\n",
            "242/242 [==============================] - 0s 1ms/step - loss: 0.6813 - val_loss: 0.6565\n",
            "Epoch 12/100\n",
            "242/242 [==============================] - 0s 1ms/step - loss: 0.6703 - val_loss: 0.6460\n",
            "Epoch 13/100\n",
            "242/242 [==============================] - 0s 2ms/step - loss: 0.6600 - val_loss: 0.6409\n",
            "Epoch 14/100\n",
            "242/242 [==============================] - 0s 2ms/step - loss: 0.6506 - val_loss: 0.6321\n",
            "Epoch 15/100\n",
            "242/242 [==============================] - 0s 2ms/step - loss: 0.6416 - val_loss: 0.6211\n",
            "Epoch 16/100\n",
            "242/242 [==============================] - 0s 1ms/step - loss: 0.6330 - val_loss: 0.6136\n",
            "Epoch 17/100\n",
            "242/242 [==============================] - 0s 2ms/step - loss: 0.6248 - val_loss: 0.6039\n",
            "Epoch 18/100\n",
            "242/242 [==============================] - 0s 2ms/step - loss: 0.6167 - val_loss: 0.5980\n",
            "Epoch 19/100\n",
            "242/242 [==============================] - 0s 2ms/step - loss: 0.6091 - val_loss: 0.5909\n",
            "Epoch 20/100\n",
            "242/242 [==============================] - 0s 2ms/step - loss: 0.6017 - val_loss: 0.5840\n",
            "Epoch 21/100\n",
            "242/242 [==============================] - 0s 2ms/step - loss: 0.5947 - val_loss: 0.5723\n",
            "Epoch 22/100\n",
            "242/242 [==============================] - 0s 2ms/step - loss: 0.5876 - val_loss: 0.5661\n",
            "Epoch 23/100\n",
            "242/242 [==============================] - 0s 2ms/step - loss: 0.5810 - val_loss: 0.5588\n",
            "Epoch 24/100\n",
            "242/242 [==============================] - 0s 2ms/step - loss: 0.5744 - val_loss: 0.5533\n",
            "Epoch 25/100\n",
            "242/242 [==============================] - 0s 1ms/step - loss: 0.5683 - val_loss: 0.5448\n",
            "Epoch 26/100\n",
            "242/242 [==============================] - 0s 1ms/step - loss: 0.5622 - val_loss: 0.5372\n",
            "Epoch 27/100\n",
            "242/242 [==============================] - 0s 2ms/step - loss: 0.5563 - val_loss: 0.5329\n",
            "Epoch 28/100\n",
            "242/242 [==============================] - 0s 1ms/step - loss: 0.5507 - val_loss: 0.5252\n",
            "Epoch 29/100\n",
            "242/242 [==============================] - 0s 2ms/step - loss: 0.5452 - val_loss: 0.5200\n",
            "Epoch 30/100\n",
            "242/242 [==============================] - 0s 2ms/step - loss: 0.5400 - val_loss: 0.5149\n",
            "Epoch 31/100\n",
            "242/242 [==============================] - 0s 1ms/step - loss: 0.5350 - val_loss: 0.5105\n",
            "Epoch 32/100\n",
            "242/242 [==============================] - 0s 2ms/step - loss: 0.5302 - val_loss: 0.5046\n",
            "Epoch 33/100\n",
            "242/242 [==============================] - 0s 2ms/step - loss: 0.5255 - val_loss: 0.5004\n",
            "Epoch 34/100\n",
            "242/242 [==============================] - 0s 2ms/step - loss: 0.5211 - val_loss: 0.4954\n",
            "Epoch 35/100\n",
            "242/242 [==============================] - 0s 1ms/step - loss: 0.5169 - val_loss: 0.4904\n",
            "Epoch 36/100\n",
            "242/242 [==============================] - 0s 2ms/step - loss: 0.5128 - val_loss: 0.4871\n",
            "Epoch 37/100\n",
            "242/242 [==============================] - 0s 1ms/step - loss: 0.5089 - val_loss: 0.4812\n",
            "Epoch 38/100\n",
            "242/242 [==============================] - 0s 1ms/step - loss: 0.5051 - val_loss: 0.4785\n",
            "Epoch 39/100\n",
            "242/242 [==============================] - 0s 2ms/step - loss: 0.5014 - val_loss: 0.4744\n",
            "Epoch 40/100\n",
            "242/242 [==============================] - 0s 2ms/step - loss: 0.4980 - val_loss: 0.4706\n",
            "Epoch 41/100\n",
            "242/242 [==============================] - 0s 2ms/step - loss: 0.4945 - val_loss: 0.4675\n",
            "Epoch 42/100\n",
            "242/242 [==============================] - 0s 2ms/step - loss: 0.4913 - val_loss: 0.4641\n",
            "Epoch 43/100\n",
            "242/242 [==============================] - 0s 2ms/step - loss: 0.4883 - val_loss: 0.4609\n",
            "Epoch 44/100\n",
            "242/242 [==============================] - 0s 1ms/step - loss: 0.4853 - val_loss: 0.4581\n",
            "Epoch 45/100\n",
            "242/242 [==============================] - 0s 2ms/step - loss: 0.4825 - val_loss: 0.4555\n",
            "Epoch 46/100\n",
            "242/242 [==============================] - 0s 1ms/step - loss: 0.4797 - val_loss: 0.4527\n",
            "Epoch 47/100\n",
            "242/242 [==============================] - 0s 2ms/step - loss: 0.4772 - val_loss: 0.4501\n",
            "Epoch 48/100\n",
            "242/242 [==============================] - 0s 2ms/step - loss: 0.4746 - val_loss: 0.4474\n",
            "Epoch 49/100\n",
            "242/242 [==============================] - 0s 1ms/step - loss: 0.4722 - val_loss: 0.4452\n",
            "Epoch 50/100\n",
            "242/242 [==============================] - 0s 1ms/step - loss: 0.4698 - val_loss: 0.4431\n",
            "Epoch 51/100\n",
            "242/242 [==============================] - 0s 2ms/step - loss: 0.4676 - val_loss: 0.4407\n",
            "Epoch 52/100\n",
            "242/242 [==============================] - 0s 1ms/step - loss: 0.4655 - val_loss: 0.4384\n",
            "Epoch 53/100\n",
            "242/242 [==============================] - 0s 1ms/step - loss: 0.4634 - val_loss: 0.4364\n",
            "Epoch 54/100\n",
            "242/242 [==============================] - 0s 2ms/step - loss: 0.4613 - val_loss: 0.4344\n",
            "Epoch 55/100\n",
            "242/242 [==============================] - 0s 1ms/step - loss: 0.4594 - val_loss: 0.4326\n",
            "Epoch 56/100\n",
            "242/242 [==============================] - 0s 1ms/step - loss: 0.4575 - val_loss: 0.4308\n",
            "Epoch 57/100\n",
            "242/242 [==============================] - 0s 2ms/step - loss: 0.4557 - val_loss: 0.4290\n",
            "Epoch 58/100\n",
            "242/242 [==============================] - 0s 1ms/step - loss: 0.4539 - val_loss: 0.4275\n",
            "Epoch 59/100\n",
            "242/242 [==============================] - 0s 1ms/step - loss: 0.4523 - val_loss: 0.4259\n",
            "Epoch 60/100\n",
            "242/242 [==============================] - 0s 2ms/step - loss: 0.4506 - val_loss: 0.4244\n",
            "Epoch 61/100\n",
            "242/242 [==============================] - 0s 2ms/step - loss: 0.4491 - val_loss: 0.4231\n",
            "Epoch 62/100\n",
            "242/242 [==============================] - 0s 1ms/step - loss: 0.4475 - val_loss: 0.4219\n",
            "Epoch 63/100\n",
            "242/242 [==============================] - 0s 2ms/step - loss: 0.4460 - val_loss: 0.4204\n",
            "Epoch 64/100\n",
            "242/242 [==============================] - 0s 1ms/step - loss: 0.4446 - val_loss: 0.4193\n",
            "Epoch 65/100\n",
            "242/242 [==============================] - 0s 1ms/step - loss: 0.4432 - val_loss: 0.4185\n",
            "Epoch 66/100\n",
            "242/242 [==============================] - 0s 2ms/step - loss: 0.4419 - val_loss: 0.4171\n",
            "Epoch 67/100\n",
            "242/242 [==============================] - 0s 2ms/step - loss: 0.4406 - val_loss: 0.4161\n",
            "Epoch 68/100\n",
            "242/242 [==============================] - 0s 1ms/step - loss: 0.4394 - val_loss: 0.4159\n",
            "Epoch 69/100\n",
            "242/242 [==============================] - 0s 1ms/step - loss: 0.4381 - val_loss: 0.4147\n",
            "Epoch 70/100\n",
            "242/242 [==============================] - 0s 1ms/step - loss: 0.4369 - val_loss: 0.4135\n",
            "Epoch 71/100\n",
            "242/242 [==============================] - 0s 1ms/step - loss: 0.4358 - val_loss: 0.4129\n",
            "Epoch 72/100\n",
            "242/242 [==============================] - 0s 2ms/step - loss: 0.4347 - val_loss: 0.4122\n",
            "Epoch 73/100\n",
            "242/242 [==============================] - 0s 2ms/step - loss: 0.4336 - val_loss: 0.4110\n",
            "Epoch 74/100\n",
            "242/242 [==============================] - 0s 1ms/step - loss: 0.4325 - val_loss: 0.4111\n",
            "Epoch 75/100\n",
            "242/242 [==============================] - 0s 1ms/step - loss: 0.4315 - val_loss: 0.4111\n",
            "Epoch 76/100\n",
            "242/242 [==============================] - 0s 2ms/step - loss: 0.4305 - val_loss: 0.4101\n",
            "Epoch 77/100\n",
            "242/242 [==============================] - 0s 1ms/step - loss: 0.4296 - val_loss: 0.4097\n",
            "Epoch 78/100\n",
            "242/242 [==============================] - 0s 1ms/step - loss: 0.4286 - val_loss: 0.4098\n",
            "Epoch 79/100\n",
            "242/242 [==============================] - 0s 2ms/step - loss: 0.4277 - val_loss: 0.4089\n",
            "Epoch 80/100\n",
            "242/242 [==============================] - 0s 1ms/step - loss: 0.4268 - val_loss: 0.4080\n",
            "Epoch 81/100\n",
            "242/242 [==============================] - 0s 2ms/step - loss: 0.4259 - val_loss: 0.4086\n",
            "Epoch 82/100\n",
            "242/242 [==============================] - 0s 2ms/step - loss: 0.4251 - val_loss: 0.4101\n",
            "Epoch 83/100\n",
            "242/242 [==============================] - 0s 2ms/step - loss: 0.4243 - val_loss: 0.4093\n",
            "Epoch 84/100\n",
            "242/242 [==============================] - 0s 2ms/step - loss: 0.4234 - val_loss: 0.4091\n",
            "Epoch 85/100\n",
            "242/242 [==============================] - 0s 1ms/step - loss: 0.4227 - val_loss: 0.4079\n",
            "Epoch 86/100\n",
            "242/242 [==============================] - 0s 2ms/step - loss: 0.4218 - val_loss: 0.4094\n",
            "Epoch 87/100\n",
            "242/242 [==============================] - 0s 2ms/step - loss: 0.4211 - val_loss: 0.4082\n",
            "Epoch 88/100\n",
            "242/242 [==============================] - 0s 1ms/step - loss: 0.4204 - val_loss: 0.4075\n",
            "Epoch 89/100\n",
            "242/242 [==============================] - 0s 1ms/step - loss: 0.4197 - val_loss: 0.4055\n",
            "Epoch 90/100\n",
            "242/242 [==============================] - 0s 2ms/step - loss: 0.4190 - val_loss: 0.4069\n",
            "Epoch 91/100\n",
            "242/242 [==============================] - 0s 2ms/step - loss: 0.4183 - val_loss: 0.4055\n",
            "Epoch 92/100\n",
            "242/242 [==============================] - 0s 2ms/step - loss: 0.4177 - val_loss: 0.4053\n",
            "Epoch 93/100\n",
            "242/242 [==============================] - 0s 1ms/step - loss: 0.4170 - val_loss: 0.4053\n",
            "Epoch 94/100\n",
            "242/242 [==============================] - 0s 1ms/step - loss: 0.4163 - val_loss: 0.4042\n",
            "Epoch 95/100\n",
            "242/242 [==============================] - 0s 1ms/step - loss: 0.4157 - val_loss: 0.4054\n",
            "Epoch 96/100\n",
            "242/242 [==============================] - 0s 2ms/step - loss: 0.4150 - val_loss: 0.4058\n",
            "Epoch 97/100\n",
            "242/242 [==============================] - 0s 2ms/step - loss: 0.4144 - val_loss: 0.4048\n",
            "Epoch 98/100\n",
            "242/242 [==============================] - 0s 1ms/step - loss: 0.4138 - val_loss: 0.4037\n",
            "Epoch 99/100\n",
            "242/242 [==============================] - 0s 1ms/step - loss: 0.4132 - val_loss: 0.4071\n",
            "Epoch 100/100\n",
            "242/242 [==============================] - 0s 2ms/step - loss: 0.4127 - val_loss: 0.4056\n",
            "121/121 [==============================] - 0s 938us/step - loss: 0.4189\n",
            "[CV] END learning_rate=0.00037078874137762145, n_hidden=1, n_neurons=51; total time=  41.4s\n",
            "Epoch 1/100\n"
          ]
        },
        {
          "output_type": "stream",
          "name": "stderr",
          "text": [
            "WARNING:tensorflow:AutoGraph could not transform <function Model.make_train_function.<locals>.train_function at 0x7fd7410de950> and will run it as-is.\n",
            "Please report this to the TensorFlow team. When filing the bug, set the verbosity to 10 (on Linux, `export AUTOGRAPH_VERBOSITY=10`) and attach the full output.\n",
            "Cause: closure mismatch, requested ('self', 'step_function'), but source function had ()\n",
            "To silence this warning, decorate the function with @tf.autograph.experimental.do_not_convert\n"
          ]
        },
        {
          "output_type": "stream",
          "name": "stdout",
          "text": [
            "WARNING: AutoGraph could not transform <function Model.make_train_function.<locals>.train_function at 0x7fd7410de950> and will run it as-is.\n",
            "Please report this to the TensorFlow team. When filing the bug, set the verbosity to 10 (on Linux, `export AUTOGRAPH_VERBOSITY=10`) and attach the full output.\n",
            "Cause: closure mismatch, requested ('self', 'step_function'), but source function had ()\n",
            "To silence this warning, decorate the function with @tf.autograph.experimental.do_not_convert\n",
            "198/242 [=======================>......] - ETA: 0s - loss: 2.9978"
          ]
        },
        {
          "output_type": "stream",
          "name": "stderr",
          "text": [
            "WARNING:tensorflow:AutoGraph could not transform <function Model.make_test_function.<locals>.test_function at 0x7fd740fff950> and will run it as-is.\n",
            "Please report this to the TensorFlow team. When filing the bug, set the verbosity to 10 (on Linux, `export AUTOGRAPH_VERBOSITY=10`) and attach the full output.\n",
            "Cause: closure mismatch, requested ('self', 'step_function'), but source function had ()\n",
            "To silence this warning, decorate the function with @tf.autograph.experimental.do_not_convert\n"
          ]
        },
        {
          "output_type": "stream",
          "name": "stdout",
          "text": [
            "WARNING: AutoGraph could not transform <function Model.make_test_function.<locals>.test_function at 0x7fd740fff950> and will run it as-is.\n",
            "Please report this to the TensorFlow team. When filing the bug, set the verbosity to 10 (on Linux, `export AUTOGRAPH_VERBOSITY=10`) and attach the full output.\n",
            "Cause: closure mismatch, requested ('self', 'step_function'), but source function had ()\n",
            "To silence this warning, decorate the function with @tf.autograph.experimental.do_not_convert\n",
            "242/242 [==============================] - 1s 2ms/step - loss: 2.7682 - val_loss: 5.3927\n",
            "Epoch 2/100\n",
            "242/242 [==============================] - 0s 1ms/step - loss: 1.2850 - val_loss: 6.3156\n",
            "Epoch 3/100\n",
            "242/242 [==============================] - 0s 2ms/step - loss: 0.9007 - val_loss: 6.3543\n",
            "Epoch 4/100\n",
            "242/242 [==============================] - 0s 2ms/step - loss: 0.7922 - val_loss: 5.8888\n",
            "Epoch 5/100\n",
            "242/242 [==============================] - 0s 1ms/step - loss: 0.7496 - val_loss: 5.2649\n",
            "Epoch 6/100\n",
            "242/242 [==============================] - 0s 2ms/step - loss: 0.7248 - val_loss: 4.7014\n",
            "Epoch 7/100\n",
            "242/242 [==============================] - 0s 1ms/step - loss: 0.7060 - val_loss: 4.1820\n",
            "Epoch 8/100\n",
            "242/242 [==============================] - 0s 2ms/step - loss: 0.6898 - val_loss: 3.7118\n",
            "Epoch 9/100\n",
            "242/242 [==============================] - 0s 2ms/step - loss: 0.6752 - val_loss: 3.3065\n",
            "Epoch 10/100\n",
            "242/242 [==============================] - 0s 1ms/step - loss: 0.6618 - val_loss: 2.9450\n",
            "Epoch 11/100\n",
            "242/242 [==============================] - 0s 2ms/step - loss: 0.6492 - val_loss: 2.6389\n",
            "Epoch 12/100\n",
            "242/242 [==============================] - 0s 1ms/step - loss: 0.6375 - val_loss: 2.3485\n",
            "Epoch 13/100\n",
            "242/242 [==============================] - 0s 2ms/step - loss: 0.6265 - val_loss: 2.1040\n",
            "Epoch 14/100\n",
            "242/242 [==============================] - 0s 1ms/step - loss: 0.6162 - val_loss: 1.8975\n",
            "Epoch 15/100\n",
            "242/242 [==============================] - 0s 1ms/step - loss: 0.6065 - val_loss: 1.7098\n",
            "Epoch 16/100\n",
            "242/242 [==============================] - 0s 2ms/step - loss: 0.5974 - val_loss: 1.5514\n",
            "Epoch 17/100\n",
            "242/242 [==============================] - 0s 2ms/step - loss: 0.5887 - val_loss: 1.4090\n",
            "Epoch 18/100\n",
            "242/242 [==============================] - 0s 1ms/step - loss: 0.5806 - val_loss: 1.2830\n",
            "Epoch 19/100\n",
            "242/242 [==============================] - 0s 2ms/step - loss: 0.5728 - val_loss: 1.1744\n",
            "Epoch 20/100\n",
            "242/242 [==============================] - 0s 2ms/step - loss: 0.5655 - val_loss: 1.0793\n",
            "Epoch 21/100\n",
            "242/242 [==============================] - 0s 2ms/step - loss: 0.5585 - val_loss: 0.9928\n",
            "Epoch 22/100\n",
            "242/242 [==============================] - 0s 2ms/step - loss: 0.5519 - val_loss: 0.9253\n",
            "Epoch 23/100\n",
            "242/242 [==============================] - 0s 2ms/step - loss: 0.5457 - val_loss: 0.8626\n",
            "Epoch 24/100\n",
            "242/242 [==============================] - 0s 2ms/step - loss: 0.5397 - val_loss: 0.8102\n",
            "Epoch 25/100\n",
            "242/242 [==============================] - 0s 1ms/step - loss: 0.5341 - val_loss: 0.7619\n",
            "Epoch 26/100\n",
            "242/242 [==============================] - 0s 1ms/step - loss: 0.5287 - val_loss: 0.7207\n",
            "Epoch 27/100\n",
            "242/242 [==============================] - 0s 2ms/step - loss: 0.5236 - val_loss: 0.6840\n",
            "Epoch 28/100\n",
            "242/242 [==============================] - 0s 1ms/step - loss: 0.5188 - val_loss: 0.6522\n",
            "Epoch 29/100\n",
            "242/242 [==============================] - 0s 2ms/step - loss: 0.5141 - val_loss: 0.6316\n",
            "Epoch 30/100\n",
            "242/242 [==============================] - 0s 2ms/step - loss: 0.5099 - val_loss: 0.6058\n",
            "Epoch 31/100\n",
            "242/242 [==============================] - 0s 1ms/step - loss: 0.5058 - val_loss: 0.5817\n",
            "Epoch 32/100\n",
            "242/242 [==============================] - 0s 2ms/step - loss: 0.5018 - val_loss: 0.5647\n",
            "Epoch 33/100\n",
            "242/242 [==============================] - 0s 2ms/step - loss: 0.4981 - val_loss: 0.5485\n",
            "Epoch 34/100\n",
            "242/242 [==============================] - 0s 1ms/step - loss: 0.4945 - val_loss: 0.5374\n",
            "Epoch 35/100\n",
            "242/242 [==============================] - 0s 2ms/step - loss: 0.4911 - val_loss: 0.5281\n",
            "Epoch 36/100\n",
            "242/242 [==============================] - 0s 2ms/step - loss: 0.4879 - val_loss: 0.5157\n",
            "Epoch 37/100\n",
            "242/242 [==============================] - 0s 2ms/step - loss: 0.4848 - val_loss: 0.5077\n",
            "Epoch 38/100\n",
            "242/242 [==============================] - 0s 1ms/step - loss: 0.4819 - val_loss: 0.4994\n",
            "Epoch 39/100\n",
            "242/242 [==============================] - 0s 2ms/step - loss: 0.4791 - val_loss: 0.4929\n",
            "Epoch 40/100\n",
            "242/242 [==============================] - 0s 2ms/step - loss: 0.4764 - val_loss: 0.4878\n",
            "Epoch 41/100\n",
            "242/242 [==============================] - 0s 2ms/step - loss: 0.4738 - val_loss: 0.4844\n",
            "Epoch 42/100\n",
            "242/242 [==============================] - 0s 2ms/step - loss: 0.4714 - val_loss: 0.4795\n",
            "Epoch 43/100\n",
            "242/242 [==============================] - 0s 2ms/step - loss: 0.4690 - val_loss: 0.4741\n",
            "Epoch 44/100\n",
            "242/242 [==============================] - 0s 1ms/step - loss: 0.4667 - val_loss: 0.4708\n",
            "Epoch 45/100\n",
            "242/242 [==============================] - 0s 2ms/step - loss: 0.4644 - val_loss: 0.4680\n",
            "Epoch 46/100\n",
            "242/242 [==============================] - 0s 2ms/step - loss: 0.4623 - val_loss: 0.4644\n",
            "Epoch 47/100\n",
            "242/242 [==============================] - 0s 1ms/step - loss: 0.4603 - val_loss: 0.4629\n",
            "Epoch 48/100\n",
            "242/242 [==============================] - 0s 2ms/step - loss: 0.4584 - val_loss: 0.4619\n",
            "Epoch 49/100\n",
            "242/242 [==============================] - 0s 1ms/step - loss: 0.4565 - val_loss: 0.4617\n",
            "Epoch 50/100\n",
            "242/242 [==============================] - 0s 2ms/step - loss: 0.4547 - val_loss: 0.4599\n",
            "Epoch 51/100\n",
            "242/242 [==============================] - 0s 1ms/step - loss: 0.4529 - val_loss: 0.4575\n",
            "Epoch 52/100\n",
            "242/242 [==============================] - 0s 2ms/step - loss: 0.4512 - val_loss: 0.4578\n",
            "Epoch 53/100\n",
            "242/242 [==============================] - 0s 1ms/step - loss: 0.4496 - val_loss: 0.4587\n",
            "Epoch 54/100\n",
            "242/242 [==============================] - 0s 1ms/step - loss: 0.4480 - val_loss: 0.4589\n",
            "Epoch 55/100\n",
            "242/242 [==============================] - 0s 1ms/step - loss: 0.4465 - val_loss: 0.4604\n",
            "Epoch 56/100\n",
            "242/242 [==============================] - 0s 2ms/step - loss: 0.4450 - val_loss: 0.4620\n",
            "Epoch 57/100\n",
            "242/242 [==============================] - 0s 2ms/step - loss: 0.4435 - val_loss: 0.4614\n",
            "Epoch 58/100\n",
            "242/242 [==============================] - 0s 1ms/step - loss: 0.4422 - val_loss: 0.4649\n",
            "Epoch 59/100\n",
            "242/242 [==============================] - 0s 2ms/step - loss: 0.4409 - val_loss: 0.4672\n",
            "Epoch 60/100\n",
            "242/242 [==============================] - 0s 1ms/step - loss: 0.4396 - val_loss: 0.4680\n",
            "Epoch 61/100\n",
            "242/242 [==============================] - 0s 2ms/step - loss: 0.4384 - val_loss: 0.4719\n",
            "121/121 [==============================] - 0s 2ms/step - loss: 0.4521\n",
            "[CV] END learning_rate=0.00037078874137762145, n_hidden=1, n_neurons=51; total time=  41.5s\n",
            "Epoch 1/100\n"
          ]
        },
        {
          "output_type": "stream",
          "name": "stderr",
          "text": [
            "WARNING:tensorflow:AutoGraph could not transform <function Model.make_train_function.<locals>.train_function at 0x7fd740b6c200> and will run it as-is.\n",
            "Please report this to the TensorFlow team. When filing the bug, set the verbosity to 10 (on Linux, `export AUTOGRAPH_VERBOSITY=10`) and attach the full output.\n",
            "Cause: closure mismatch, requested ('self', 'step_function'), but source function had ()\n",
            "To silence this warning, decorate the function with @tf.autograph.experimental.do_not_convert\n"
          ]
        },
        {
          "output_type": "stream",
          "name": "stdout",
          "text": [
            "WARNING: AutoGraph could not transform <function Model.make_train_function.<locals>.train_function at 0x7fd740b6c200> and will run it as-is.\n",
            "Please report this to the TensorFlow team. When filing the bug, set the verbosity to 10 (on Linux, `export AUTOGRAPH_VERBOSITY=10`) and attach the full output.\n",
            "Cause: closure mismatch, requested ('self', 'step_function'), but source function had ()\n",
            "To silence this warning, decorate the function with @tf.autograph.experimental.do_not_convert\n",
            "208/242 [========================>.....] - ETA: 0s - loss: 3.8841"
          ]
        },
        {
          "output_type": "stream",
          "name": "stderr",
          "text": [
            "WARNING:tensorflow:AutoGraph could not transform <function Model.make_test_function.<locals>.test_function at 0x7fd740fffd40> and will run it as-is.\n",
            "Please report this to the TensorFlow team. When filing the bug, set the verbosity to 10 (on Linux, `export AUTOGRAPH_VERBOSITY=10`) and attach the full output.\n",
            "Cause: closure mismatch, requested ('self', 'step_function'), but source function had ()\n",
            "To silence this warning, decorate the function with @tf.autograph.experimental.do_not_convert\n"
          ]
        },
        {
          "output_type": "stream",
          "name": "stdout",
          "text": [
            "WARNING: AutoGraph could not transform <function Model.make_test_function.<locals>.test_function at 0x7fd740fffd40> and will run it as-is.\n",
            "Please report this to the TensorFlow team. When filing the bug, set the verbosity to 10 (on Linux, `export AUTOGRAPH_VERBOSITY=10`) and attach the full output.\n",
            "Cause: closure mismatch, requested ('self', 'step_function'), but source function had ()\n",
            "To silence this warning, decorate the function with @tf.autograph.experimental.do_not_convert\n",
            "242/242 [==============================] - 1s 2ms/step - loss: 3.7018 - val_loss: 2.3597\n",
            "Epoch 2/100\n",
            "242/242 [==============================] - 0s 1ms/step - loss: 1.7387 - val_loss: 1.3313\n",
            "Epoch 3/100\n",
            "242/242 [==============================] - 0s 2ms/step - loss: 1.0890 - val_loss: 0.9862\n",
            "Epoch 4/100\n",
            "242/242 [==============================] - 0s 1ms/step - loss: 0.8548 - val_loss: 0.8002\n",
            "Epoch 5/100\n",
            "242/242 [==============================] - 0s 2ms/step - loss: 0.7643 - val_loss: 0.7236\n",
            "Epoch 6/100\n",
            "242/242 [==============================] - 0s 2ms/step - loss: 0.7242 - val_loss: 0.6944\n",
            "Epoch 7/100\n",
            "242/242 [==============================] - 0s 2ms/step - loss: 0.7020 - val_loss: 0.6821\n",
            "Epoch 8/100\n",
            "242/242 [==============================] - 0s 2ms/step - loss: 0.6866 - val_loss: 0.6869\n",
            "Epoch 9/100\n",
            "242/242 [==============================] - 0s 2ms/step - loss: 0.6746 - val_loss: 0.6682\n",
            "Epoch 10/100\n",
            "242/242 [==============================] - 0s 2ms/step - loss: 0.6637 - val_loss: 0.6466\n",
            "Epoch 11/100\n",
            "242/242 [==============================] - 0s 1ms/step - loss: 0.6534 - val_loss: 0.6496\n",
            "Epoch 12/100\n",
            "242/242 [==============================] - 0s 1ms/step - loss: 0.6443 - val_loss: 0.6342\n",
            "Epoch 13/100\n",
            "242/242 [==============================] - 0s 1ms/step - loss: 0.6354 - val_loss: 0.6181\n",
            "Epoch 14/100\n",
            "242/242 [==============================] - 0s 2ms/step - loss: 0.6269 - val_loss: 0.6117\n",
            "Epoch 15/100\n",
            "242/242 [==============================] - 0s 1ms/step - loss: 0.6187 - val_loss: 0.6006\n",
            "Epoch 16/100\n",
            "242/242 [==============================] - 0s 2ms/step - loss: 0.6108 - val_loss: 0.6040\n",
            "Epoch 17/100\n",
            "242/242 [==============================] - 0s 2ms/step - loss: 0.6035 - val_loss: 0.5911\n",
            "Epoch 18/100\n",
            "242/242 [==============================] - 0s 1ms/step - loss: 0.5962 - val_loss: 0.5821\n",
            "Epoch 19/100\n",
            "242/242 [==============================] - 0s 2ms/step - loss: 0.5891 - val_loss: 0.5900\n",
            "Epoch 20/100\n",
            "242/242 [==============================] - 0s 2ms/step - loss: 0.5828 - val_loss: 0.5773\n",
            "Epoch 21/100\n",
            "242/242 [==============================] - 0s 1ms/step - loss: 0.5763 - val_loss: 0.5691\n",
            "Epoch 22/100\n",
            "242/242 [==============================] - 0s 1ms/step - loss: 0.5701 - val_loss: 0.5646\n",
            "Epoch 23/100\n",
            "242/242 [==============================] - 0s 2ms/step - loss: 0.5643 - val_loss: 0.5493\n",
            "Epoch 24/100\n",
            "242/242 [==============================] - 0s 1ms/step - loss: 0.5585 - val_loss: 0.5417\n",
            "Epoch 25/100\n",
            "242/242 [==============================] - 0s 1ms/step - loss: 0.5530 - val_loss: 0.5361\n",
            "Epoch 26/100\n",
            "242/242 [==============================] - 0s 2ms/step - loss: 0.5478 - val_loss: 0.5266\n",
            "Epoch 27/100\n",
            "242/242 [==============================] - 0s 2ms/step - loss: 0.5425 - val_loss: 0.5304\n",
            "Epoch 28/100\n",
            "242/242 [==============================] - 0s 1ms/step - loss: 0.5379 - val_loss: 0.5208\n",
            "Epoch 29/100\n",
            "242/242 [==============================] - 0s 1ms/step - loss: 0.5331 - val_loss: 0.5171\n",
            "Epoch 30/100\n",
            "242/242 [==============================] - 0s 1ms/step - loss: 0.5288 - val_loss: 0.5087\n",
            "Epoch 31/100\n",
            "242/242 [==============================] - 0s 2ms/step - loss: 0.5244 - val_loss: 0.5053\n",
            "Epoch 32/100\n",
            "242/242 [==============================] - 0s 2ms/step - loss: 0.5202 - val_loss: 0.5006\n",
            "Epoch 33/100\n",
            "242/242 [==============================] - 0s 1ms/step - loss: 0.5162 - val_loss: 0.4964\n",
            "Epoch 34/100\n",
            "242/242 [==============================] - 0s 2ms/step - loss: 0.5122 - val_loss: 0.4903\n",
            "Epoch 35/100\n",
            "242/242 [==============================] - 0s 2ms/step - loss: 0.5083 - val_loss: 0.4856\n",
            "Epoch 36/100\n",
            "242/242 [==============================] - 0s 2ms/step - loss: 0.5046 - val_loss: 0.4785\n",
            "Epoch 37/100\n",
            "242/242 [==============================] - 0s 1ms/step - loss: 0.5010 - val_loss: 0.4736\n",
            "Epoch 38/100\n",
            "242/242 [==============================] - 0s 2ms/step - loss: 0.4975 - val_loss: 0.4709\n",
            "Epoch 39/100\n",
            "242/242 [==============================] - 0s 2ms/step - loss: 0.4942 - val_loss: 0.4670\n",
            "Epoch 40/100\n",
            "242/242 [==============================] - 0s 2ms/step - loss: 0.4911 - val_loss: 0.4638\n",
            "Epoch 41/100\n",
            "242/242 [==============================] - 0s 2ms/step - loss: 0.4880 - val_loss: 0.4607\n",
            "Epoch 42/100\n",
            "242/242 [==============================] - 0s 1ms/step - loss: 0.4851 - val_loss: 0.4574\n",
            "Epoch 43/100\n",
            "242/242 [==============================] - 0s 1ms/step - loss: 0.4823 - val_loss: 0.4544\n",
            "Epoch 44/100\n",
            "242/242 [==============================] - 0s 2ms/step - loss: 0.4797 - val_loss: 0.4516\n",
            "Epoch 45/100\n",
            "242/242 [==============================] - 0s 1ms/step - loss: 0.4771 - val_loss: 0.4491\n",
            "Epoch 46/100\n",
            "242/242 [==============================] - 0s 1ms/step - loss: 0.4746 - val_loss: 0.4465\n",
            "Epoch 47/100\n",
            "242/242 [==============================] - 0s 1ms/step - loss: 0.4723 - val_loss: 0.4442\n",
            "Epoch 48/100\n",
            "242/242 [==============================] - 0s 2ms/step - loss: 0.4700 - val_loss: 0.4418\n",
            "Epoch 49/100\n",
            "242/242 [==============================] - 0s 2ms/step - loss: 0.4677 - val_loss: 0.4396\n",
            "Epoch 50/100\n",
            "242/242 [==============================] - 0s 2ms/step - loss: 0.4656 - val_loss: 0.4374\n",
            "Epoch 51/100\n",
            "242/242 [==============================] - 0s 1ms/step - loss: 0.4635 - val_loss: 0.4354\n",
            "Epoch 52/100\n",
            "242/242 [==============================] - 0s 1ms/step - loss: 0.4615 - val_loss: 0.4334\n",
            "Epoch 53/100\n",
            "242/242 [==============================] - 0s 1ms/step - loss: 0.4596 - val_loss: 0.4321\n",
            "Epoch 54/100\n",
            "242/242 [==============================] - 0s 1ms/step - loss: 0.4577 - val_loss: 0.4311\n",
            "Epoch 55/100\n",
            "242/242 [==============================] - 0s 1ms/step - loss: 0.4559 - val_loss: 0.4303\n",
            "Epoch 56/100\n",
            "242/242 [==============================] - 0s 2ms/step - loss: 0.4541 - val_loss: 0.4306\n",
            "Epoch 57/100\n",
            "242/242 [==============================] - 0s 2ms/step - loss: 0.4525 - val_loss: 0.4287\n",
            "Epoch 58/100\n",
            "242/242 [==============================] - 0s 1ms/step - loss: 0.4509 - val_loss: 0.4262\n",
            "Epoch 59/100\n",
            "242/242 [==============================] - 0s 2ms/step - loss: 0.4493 - val_loss: 0.4257\n",
            "Epoch 60/100\n",
            "242/242 [==============================] - 0s 1ms/step - loss: 0.4477 - val_loss: 0.4237\n",
            "Epoch 61/100\n",
            "242/242 [==============================] - 0s 1ms/step - loss: 0.4462 - val_loss: 0.4257\n",
            "Epoch 62/100\n",
            "242/242 [==============================] - 0s 2ms/step - loss: 0.4448 - val_loss: 0.4244\n",
            "Epoch 63/100\n",
            "242/242 [==============================] - 0s 2ms/step - loss: 0.4434 - val_loss: 0.4247\n",
            "Epoch 64/100\n",
            "242/242 [==============================] - 0s 2ms/step - loss: 0.4421 - val_loss: 0.4237\n",
            "Epoch 65/100\n",
            "242/242 [==============================] - 0s 2ms/step - loss: 0.4408 - val_loss: 0.4231\n",
            "Epoch 66/100\n",
            "242/242 [==============================] - 0s 2ms/step - loss: 0.4395 - val_loss: 0.4248\n",
            "Epoch 67/100\n",
            "242/242 [==============================] - 0s 1ms/step - loss: 0.4383 - val_loss: 0.4204\n",
            "Epoch 68/100\n",
            "242/242 [==============================] - 0s 1ms/step - loss: 0.4370 - val_loss: 0.4218\n",
            "Epoch 69/100\n",
            "242/242 [==============================] - 0s 1ms/step - loss: 0.4358 - val_loss: 0.4215\n",
            "Epoch 70/100\n",
            "242/242 [==============================] - 0s 2ms/step - loss: 0.4346 - val_loss: 0.4190\n",
            "Epoch 71/100\n",
            "242/242 [==============================] - 0s 1ms/step - loss: 0.4335 - val_loss: 0.4166\n",
            "Epoch 72/100\n",
            "242/242 [==============================] - 0s 1ms/step - loss: 0.4324 - val_loss: 0.4168\n",
            "Epoch 73/100\n",
            "242/242 [==============================] - 0s 1ms/step - loss: 0.4313 - val_loss: 0.4172\n",
            "Epoch 74/100\n",
            "242/242 [==============================] - 0s 2ms/step - loss: 0.4304 - val_loss: 0.4192\n",
            "Epoch 75/100\n",
            "242/242 [==============================] - 0s 2ms/step - loss: 0.4293 - val_loss: 0.4204\n",
            "Epoch 76/100\n",
            "242/242 [==============================] - 0s 2ms/step - loss: 0.4283 - val_loss: 0.4240\n",
            "Epoch 77/100\n",
            "242/242 [==============================] - 0s 1ms/step - loss: 0.4274 - val_loss: 0.4212\n",
            "Epoch 78/100\n",
            "242/242 [==============================] - 0s 2ms/step - loss: 0.4265 - val_loss: 0.4217\n",
            "Epoch 79/100\n",
            "242/242 [==============================] - 0s 2ms/step - loss: 0.4256 - val_loss: 0.4212\n",
            "Epoch 80/100\n",
            "242/242 [==============================] - 0s 2ms/step - loss: 0.4247 - val_loss: 0.4225\n",
            "Epoch 81/100\n",
            "242/242 [==============================] - 0s 2ms/step - loss: 0.4239 - val_loss: 0.4196\n",
            "121/121 [==============================] - 0s 976us/step - loss: 0.4296\n",
            "[CV] END learning_rate=0.00037078874137762145, n_hidden=1, n_neurons=51; total time=  41.5s\n",
            "Epoch 1/100\n"
          ]
        },
        {
          "output_type": "stream",
          "name": "stderr",
          "text": [
            "WARNING:tensorflow:AutoGraph could not transform <function Model.make_train_function.<locals>.train_function at 0x7fd735ccb680> and will run it as-is.\n",
            "Please report this to the TensorFlow team. When filing the bug, set the verbosity to 10 (on Linux, `export AUTOGRAPH_VERBOSITY=10`) and attach the full output.\n",
            "Cause: closure mismatch, requested ('self', 'step_function'), but source function had ()\n",
            "To silence this warning, decorate the function with @tf.autograph.experimental.do_not_convert\n"
          ]
        },
        {
          "output_type": "stream",
          "name": "stdout",
          "text": [
            "WARNING: AutoGraph could not transform <function Model.make_train_function.<locals>.train_function at 0x7fd735ccb680> and will run it as-is.\n",
            "Please report this to the TensorFlow team. When filing the bug, set the verbosity to 10 (on Linux, `export AUTOGRAPH_VERBOSITY=10`) and attach the full output.\n",
            "Cause: closure mismatch, requested ('self', 'step_function'), but source function had ()\n",
            "To silence this warning, decorate the function with @tf.autograph.experimental.do_not_convert\n",
            "240/242 [============================>.] - ETA: 0s - loss: 1.7165"
          ]
        },
        {
          "output_type": "stream",
          "name": "stderr",
          "text": [
            "WARNING:tensorflow:AutoGraph could not transform <function Model.make_test_function.<locals>.test_function at 0x7fd740825f80> and will run it as-is.\n",
            "Please report this to the TensorFlow team. When filing the bug, set the verbosity to 10 (on Linux, `export AUTOGRAPH_VERBOSITY=10`) and attach the full output.\n",
            "Cause: closure mismatch, requested ('self', 'step_function'), but source function had ()\n",
            "To silence this warning, decorate the function with @tf.autograph.experimental.do_not_convert\n"
          ]
        },
        {
          "output_type": "stream",
          "name": "stdout",
          "text": [
            "WARNING: AutoGraph could not transform <function Model.make_test_function.<locals>.test_function at 0x7fd740825f80> and will run it as-is.\n",
            "Please report this to the TensorFlow team. When filing the bug, set the verbosity to 10 (on Linux, `export AUTOGRAPH_VERBOSITY=10`) and attach the full output.\n",
            "Cause: closure mismatch, requested ('self', 'step_function'), but source function had ()\n",
            "To silence this warning, decorate the function with @tf.autograph.experimental.do_not_convert\n",
            "242/242 [==============================] - 1s 2ms/step - loss: 1.7092 - val_loss: 10.8368\n",
            "Epoch 2/100\n",
            "242/242 [==============================] - 0s 2ms/step - loss: 0.8158 - val_loss: 2.0993\n",
            "Epoch 3/100\n",
            "242/242 [==============================] - 0s 2ms/step - loss: 0.6303 - val_loss: 0.5579\n",
            "Epoch 4/100\n",
            "242/242 [==============================] - 0s 2ms/step - loss: 0.5697 - val_loss: 0.5178\n",
            "Epoch 5/100\n",
            "242/242 [==============================] - 0s 2ms/step - loss: 0.5294 - val_loss: 0.4826\n",
            "Epoch 6/100\n",
            "242/242 [==============================] - 0s 2ms/step - loss: 0.4958 - val_loss: 0.4619\n",
            "Epoch 7/100\n",
            "242/242 [==============================] - 0s 2ms/step - loss: 0.4682 - val_loss: 0.4312\n",
            "Epoch 8/100\n",
            "242/242 [==============================] - 0s 1ms/step - loss: 0.4467 - val_loss: 0.4376\n",
            "Epoch 9/100\n",
            "242/242 [==============================] - 0s 2ms/step - loss: 0.4304 - val_loss: 0.4292\n",
            "Epoch 10/100\n",
            "242/242 [==============================] - 0s 2ms/step - loss: 0.4183 - val_loss: 0.4142\n",
            "Epoch 11/100\n",
            "242/242 [==============================] - 0s 2ms/step - loss: 0.4091 - val_loss: 0.3904\n",
            "Epoch 12/100\n",
            "242/242 [==============================] - 0s 2ms/step - loss: 0.4018 - val_loss: 0.3876\n",
            "Epoch 13/100\n",
            "242/242 [==============================] - 0s 1ms/step - loss: 0.3960 - val_loss: 0.4027\n",
            "Epoch 14/100\n",
            "242/242 [==============================] - 0s 2ms/step - loss: 0.3916 - val_loss: 0.4261\n",
            "Epoch 15/100\n",
            "242/242 [==============================] - 0s 1ms/step - loss: 0.3877 - val_loss: 0.4029\n",
            "Epoch 16/100\n",
            "242/242 [==============================] - 0s 1ms/step - loss: 0.3842 - val_loss: 0.3965\n",
            "Epoch 17/100\n",
            "242/242 [==============================] - 0s 1ms/step - loss: 0.3808 - val_loss: 0.4207\n",
            "Epoch 18/100\n",
            "242/242 [==============================] - 0s 2ms/step - loss: 0.3784 - val_loss: 0.3996\n",
            "Epoch 19/100\n",
            "242/242 [==============================] - 0s 2ms/step - loss: 0.3752 - val_loss: 0.4085\n",
            "Epoch 20/100\n",
            "242/242 [==============================] - 0s 2ms/step - loss: 0.3732 - val_loss: 0.3982\n",
            "Epoch 21/100\n",
            "242/242 [==============================] - 0s 2ms/step - loss: 0.3707 - val_loss: 0.4028\n",
            "Epoch 22/100\n",
            "242/242 [==============================] - 0s 2ms/step - loss: 0.3689 - val_loss: 0.3899\n",
            "121/121 [==============================] - 0s 1ms/step - loss: 0.3846\n",
            "[CV] END learning_rate=0.0016535051383872363, n_hidden=2, n_neurons=70; total time=   9.4s\n",
            "Epoch 1/100\n"
          ]
        },
        {
          "output_type": "stream",
          "name": "stderr",
          "text": [
            "WARNING:tensorflow:AutoGraph could not transform <function Model.make_train_function.<locals>.train_function at 0x7fd741618710> and will run it as-is.\n",
            "Please report this to the TensorFlow team. When filing the bug, set the verbosity to 10 (on Linux, `export AUTOGRAPH_VERBOSITY=10`) and attach the full output.\n",
            "Cause: closure mismatch, requested ('self', 'step_function'), but source function had ()\n",
            "To silence this warning, decorate the function with @tf.autograph.experimental.do_not_convert\n"
          ]
        },
        {
          "output_type": "stream",
          "name": "stdout",
          "text": [
            "WARNING: AutoGraph could not transform <function Model.make_train_function.<locals>.train_function at 0x7fd741618710> and will run it as-is.\n",
            "Please report this to the TensorFlow team. When filing the bug, set the verbosity to 10 (on Linux, `export AUTOGRAPH_VERBOSITY=10`) and attach the full output.\n",
            "Cause: closure mismatch, requested ('self', 'step_function'), but source function had ()\n",
            "To silence this warning, decorate the function with @tf.autograph.experimental.do_not_convert\n",
            "200/242 [=======================>......] - ETA: 0s - loss: 1.6674"
          ]
        },
        {
          "output_type": "stream",
          "name": "stderr",
          "text": [
            "WARNING:tensorflow:AutoGraph could not transform <function Model.make_test_function.<locals>.test_function at 0x7fd735e0c290> and will run it as-is.\n",
            "Please report this to the TensorFlow team. When filing the bug, set the verbosity to 10 (on Linux, `export AUTOGRAPH_VERBOSITY=10`) and attach the full output.\n",
            "Cause: closure mismatch, requested ('self', 'step_function'), but source function had ()\n",
            "To silence this warning, decorate the function with @tf.autograph.experimental.do_not_convert\n"
          ]
        },
        {
          "output_type": "stream",
          "name": "stdout",
          "text": [
            "WARNING: AutoGraph could not transform <function Model.make_test_function.<locals>.test_function at 0x7fd735e0c290> and will run it as-is.\n",
            "Please report this to the TensorFlow team. When filing the bug, set the verbosity to 10 (on Linux, `export AUTOGRAPH_VERBOSITY=10`) and attach the full output.\n",
            "Cause: closure mismatch, requested ('self', 'step_function'), but source function had ()\n",
            "To silence this warning, decorate the function with @tf.autograph.experimental.do_not_convert\n",
            "242/242 [==============================] - 1s 2ms/step - loss: 1.5204 - val_loss: 3.7378\n",
            "Epoch 2/100\n",
            "242/242 [==============================] - 0s 2ms/step - loss: 0.7402 - val_loss: 0.7359\n",
            "Epoch 3/100\n",
            "242/242 [==============================] - 0s 2ms/step - loss: 0.6404 - val_loss: 0.9528\n",
            "Epoch 4/100\n",
            "242/242 [==============================] - 0s 2ms/step - loss: 0.5761 - val_loss: 1.8878\n",
            "Epoch 5/100\n",
            "242/242 [==============================] - 0s 2ms/step - loss: 0.5301 - val_loss: 2.6650\n",
            "Epoch 6/100\n",
            "242/242 [==============================] - 0s 1ms/step - loss: 0.4981 - val_loss: 2.7808\n",
            "Epoch 7/100\n",
            "242/242 [==============================] - 0s 1ms/step - loss: 0.4749 - val_loss: 2.7880\n",
            "Epoch 8/100\n",
            "242/242 [==============================] - 0s 1ms/step - loss: 0.4575 - val_loss: 2.6149\n",
            "Epoch 9/100\n",
            "242/242 [==============================] - 0s 2ms/step - loss: 0.4442 - val_loss: 2.1473\n",
            "Epoch 10/100\n",
            "242/242 [==============================] - 0s 1ms/step - loss: 0.4337 - val_loss: 1.6998\n",
            "Epoch 11/100\n",
            "242/242 [==============================] - 0s 2ms/step - loss: 0.4248 - val_loss: 1.4139\n",
            "Epoch 12/100\n",
            "242/242 [==============================] - 0s 2ms/step - loss: 0.4174 - val_loss: 1.1899\n",
            "121/121 [==============================] - 0s 942us/step - loss: 0.4560\n",
            "[CV] END learning_rate=0.0016535051383872363, n_hidden=2, n_neurons=70; total time=   5.2s\n",
            "Epoch 1/100\n"
          ]
        },
        {
          "output_type": "stream",
          "name": "stderr",
          "text": [
            "WARNING:tensorflow:AutoGraph could not transform <function Model.make_train_function.<locals>.train_function at 0x7fd74084e830> and will run it as-is.\n",
            "Please report this to the TensorFlow team. When filing the bug, set the verbosity to 10 (on Linux, `export AUTOGRAPH_VERBOSITY=10`) and attach the full output.\n",
            "Cause: closure mismatch, requested ('self', 'step_function'), but source function had ()\n",
            "To silence this warning, decorate the function with @tf.autograph.experimental.do_not_convert\n"
          ]
        },
        {
          "output_type": "stream",
          "name": "stdout",
          "text": [
            "WARNING: AutoGraph could not transform <function Model.make_train_function.<locals>.train_function at 0x7fd74084e830> and will run it as-is.\n",
            "Please report this to the TensorFlow team. When filing the bug, set the verbosity to 10 (on Linux, `export AUTOGRAPH_VERBOSITY=10`) and attach the full output.\n",
            "Cause: closure mismatch, requested ('self', 'step_function'), but source function had ()\n",
            "To silence this warning, decorate the function with @tf.autograph.experimental.do_not_convert\n",
            "236/242 [============================>.] - ETA: 0s - loss: 1.8660"
          ]
        },
        {
          "output_type": "stream",
          "name": "stderr",
          "text": [
            "WARNING:tensorflow:AutoGraph could not transform <function Model.make_test_function.<locals>.test_function at 0x7fd740b744d0> and will run it as-is.\n",
            "Please report this to the TensorFlow team. When filing the bug, set the verbosity to 10 (on Linux, `export AUTOGRAPH_VERBOSITY=10`) and attach the full output.\n",
            "Cause: closure mismatch, requested ('self', 'step_function'), but source function had ()\n",
            "To silence this warning, decorate the function with @tf.autograph.experimental.do_not_convert\n"
          ]
        },
        {
          "output_type": "stream",
          "name": "stdout",
          "text": [
            "WARNING: AutoGraph could not transform <function Model.make_test_function.<locals>.test_function at 0x7fd740b744d0> and will run it as-is.\n",
            "Please report this to the TensorFlow team. When filing the bug, set the verbosity to 10 (on Linux, `export AUTOGRAPH_VERBOSITY=10`) and attach the full output.\n",
            "Cause: closure mismatch, requested ('self', 'step_function'), but source function had ()\n",
            "To silence this warning, decorate the function with @tf.autograph.experimental.do_not_convert\n",
            "242/242 [==============================] - 1s 2ms/step - loss: 1.8406 - val_loss: 2.5481\n",
            "Epoch 2/100\n",
            "242/242 [==============================] - 0s 2ms/step - loss: 0.6861 - val_loss: 0.6509\n",
            "Epoch 3/100\n",
            "242/242 [==============================] - 0s 2ms/step - loss: 0.5843 - val_loss: 0.5352\n",
            "Epoch 4/100\n",
            "242/242 [==============================] - 0s 2ms/step - loss: 0.5403 - val_loss: 0.4959\n",
            "Epoch 5/100\n",
            "242/242 [==============================] - 0s 2ms/step - loss: 0.5058 - val_loss: 0.4980\n",
            "Epoch 6/100\n",
            "242/242 [==============================] - 0s 2ms/step - loss: 0.4786 - val_loss: 0.4503\n",
            "Epoch 7/100\n",
            "242/242 [==============================] - 0s 1ms/step - loss: 0.4572 - val_loss: 0.4297\n",
            "Epoch 8/100\n",
            "242/242 [==============================] - 0s 2ms/step - loss: 0.4412 - val_loss: 0.4089\n",
            "Epoch 9/100\n",
            "242/242 [==============================] - 0s 2ms/step - loss: 0.4284 - val_loss: 0.4645\n",
            "Epoch 10/100\n",
            "242/242 [==============================] - 0s 2ms/step - loss: 0.4196 - val_loss: 0.3911\n",
            "Epoch 11/100\n",
            "242/242 [==============================] - 0s 2ms/step - loss: 0.4112 - val_loss: 0.4547\n",
            "Epoch 12/100\n",
            "242/242 [==============================] - 0s 2ms/step - loss: 0.4051 - val_loss: 0.4016\n",
            "Epoch 13/100\n",
            "242/242 [==============================] - 0s 2ms/step - loss: 0.3998 - val_loss: 0.3803\n",
            "Epoch 14/100\n",
            "242/242 [==============================] - 0s 1ms/step - loss: 0.3956 - val_loss: 0.4658\n",
            "Epoch 15/100\n",
            "242/242 [==============================] - 0s 2ms/step - loss: 0.3926 - val_loss: 0.3713\n",
            "Epoch 16/100\n",
            "242/242 [==============================] - 0s 2ms/step - loss: 0.3887 - val_loss: 0.4339\n",
            "Epoch 17/100\n",
            "242/242 [==============================] - 0s 1ms/step - loss: 0.3863 - val_loss: 0.3651\n",
            "Epoch 18/100\n",
            "242/242 [==============================] - 0s 1ms/step - loss: 0.3835 - val_loss: 0.3943\n",
            "Epoch 19/100\n",
            "242/242 [==============================] - 0s 1ms/step - loss: 0.3813 - val_loss: 0.4248\n",
            "Epoch 20/100\n",
            "242/242 [==============================] - 0s 1ms/step - loss: 0.3786 - val_loss: 0.3889\n",
            "Epoch 21/100\n",
            "242/242 [==============================] - 0s 2ms/step - loss: 0.3767 - val_loss: 0.3881\n",
            "Epoch 22/100\n",
            "242/242 [==============================] - 0s 1ms/step - loss: 0.3751 - val_loss: 0.3671\n",
            "Epoch 23/100\n",
            "242/242 [==============================] - 0s 2ms/step - loss: 0.3728 - val_loss: 0.3712\n",
            "Epoch 24/100\n",
            "242/242 [==============================] - 0s 2ms/step - loss: 0.3707 - val_loss: 0.4223\n",
            "Epoch 25/100\n",
            "242/242 [==============================] - 0s 2ms/step - loss: 0.3698 - val_loss: 0.3503\n",
            "Epoch 26/100\n",
            "242/242 [==============================] - 0s 1ms/step - loss: 0.3675 - val_loss: 0.3615\n",
            "Epoch 27/100\n",
            "242/242 [==============================] - 0s 2ms/step - loss: 0.3657 - val_loss: 0.4530\n",
            "Epoch 28/100\n",
            "242/242 [==============================] - 0s 2ms/step - loss: 0.3651 - val_loss: 0.3632\n",
            "Epoch 29/100\n",
            "242/242 [==============================] - 0s 1ms/step - loss: 0.3650 - val_loss: 0.4990\n",
            "Epoch 30/100\n",
            "242/242 [==============================] - 0s 1ms/step - loss: 0.3636 - val_loss: 0.3597\n",
            "Epoch 31/100\n",
            "242/242 [==============================] - 0s 2ms/step - loss: 0.3607 - val_loss: 0.3883\n",
            "Epoch 32/100\n",
            "242/242 [==============================] - 0s 2ms/step - loss: 0.3595 - val_loss: 0.4056\n",
            "Epoch 33/100\n",
            "242/242 [==============================] - 0s 1ms/step - loss: 0.3582 - val_loss: 0.4084\n",
            "Epoch 34/100\n",
            "242/242 [==============================] - 0s 2ms/step - loss: 0.3572 - val_loss: 0.4483\n",
            "Epoch 35/100\n",
            "242/242 [==============================] - 0s 2ms/step - loss: 0.3572 - val_loss: 0.3521\n",
            "121/121 [==============================] - 0s 937us/step - loss: 0.3549\n",
            "[CV] END learning_rate=0.0016535051383872363, n_hidden=2, n_neurons=70; total time=  14.4s\n",
            "Epoch 1/100\n"
          ]
        },
        {
          "output_type": "stream",
          "name": "stderr",
          "text": [
            "WARNING:tensorflow:AutoGraph could not transform <function Model.make_train_function.<locals>.train_function at 0x7fd738dfe9e0> and will run it as-is.\n",
            "Please report this to the TensorFlow team. When filing the bug, set the verbosity to 10 (on Linux, `export AUTOGRAPH_VERBOSITY=10`) and attach the full output.\n",
            "Cause: closure mismatch, requested ('self', 'step_function'), but source function had ()\n",
            "To silence this warning, decorate the function with @tf.autograph.experimental.do_not_convert\n"
          ]
        },
        {
          "output_type": "stream",
          "name": "stdout",
          "text": [
            "WARNING: AutoGraph could not transform <function Model.make_train_function.<locals>.train_function at 0x7fd738dfe9e0> and will run it as-is.\n",
            "Please report this to the TensorFlow team. When filing the bug, set the verbosity to 10 (on Linux, `export AUTOGRAPH_VERBOSITY=10`) and attach the full output.\n",
            "Cause: closure mismatch, requested ('self', 'step_function'), but source function had ()\n",
            "To silence this warning, decorate the function with @tf.autograph.experimental.do_not_convert\n",
            "221/242 [==========================>...] - ETA: 0s - loss: 1.3959"
          ]
        },
        {
          "output_type": "stream",
          "name": "stderr",
          "text": [
            "WARNING:tensorflow:AutoGraph could not transform <function Model.make_test_function.<locals>.test_function at 0x7fd735dcf7a0> and will run it as-is.\n",
            "Please report this to the TensorFlow team. When filing the bug, set the verbosity to 10 (on Linux, `export AUTOGRAPH_VERBOSITY=10`) and attach the full output.\n",
            "Cause: closure mismatch, requested ('self', 'step_function'), but source function had ()\n",
            "To silence this warning, decorate the function with @tf.autograph.experimental.do_not_convert\n"
          ]
        },
        {
          "output_type": "stream",
          "name": "stdout",
          "text": [
            "WARNING: AutoGraph could not transform <function Model.make_test_function.<locals>.test_function at 0x7fd735dcf7a0> and will run it as-is.\n",
            "Please report this to the TensorFlow team. When filing the bug, set the verbosity to 10 (on Linux, `export AUTOGRAPH_VERBOSITY=10`) and attach the full output.\n",
            "Cause: closure mismatch, requested ('self', 'step_function'), but source function had ()\n",
            "To silence this warning, decorate the function with @tf.autograph.experimental.do_not_convert\n",
            "242/242 [==============================] - 1s 2ms/step - loss: 1.4008 - val_loss: 540.8848\n",
            "Epoch 2/100\n",
            "242/242 [==============================] - 0s 2ms/step - loss: 4.6527 - val_loss: 1322.1606\n",
            "Epoch 3/100\n",
            "242/242 [==============================] - 0s 2ms/step - loss: 12.1240 - val_loss: 7835.6958\n",
            "Epoch 4/100\n",
            "242/242 [==============================] - 0s 1ms/step - loss: 27.1682 - val_loss: 28336.4707\n",
            "Epoch 5/100\n",
            "242/242 [==============================] - 0s 2ms/step - loss: 120.2205 - val_loss: 136078.7344\n",
            "Epoch 6/100\n",
            "242/242 [==============================] - 0s 1ms/step - loss: 5072.7617 - val_loss: 593800.0625\n",
            "Epoch 7/100\n",
            "242/242 [==============================] - 0s 2ms/step - loss: 6073.9297 - val_loss: 2671194.0000\n",
            "Epoch 8/100\n",
            "242/242 [==============================] - 0s 2ms/step - loss: 89198.0078 - val_loss: 11948000.0000\n",
            "Epoch 9/100\n",
            "242/242 [==============================] - 0s 1ms/step - loss: 184464.0625 - val_loss: 54024852.0000\n",
            "Epoch 10/100\n",
            "242/242 [==============================] - 0s 2ms/step - loss: 2327751.2500 - val_loss: 264147408.0000\n",
            "Epoch 11/100\n",
            "242/242 [==============================] - 0s 2ms/step - loss: 4100927.2500 - val_loss: 1167836288.0000\n",
            "121/121 [==============================] - 0s 924us/step - loss: 3091406.5000\n",
            "[CV] END learning_rate=0.01824796188192035, n_hidden=0, n_neurons=40; total time=   4.5s\n",
            "Epoch 1/100\n"
          ]
        },
        {
          "output_type": "stream",
          "name": "stderr",
          "text": [
            "WARNING:tensorflow:AutoGraph could not transform <function Model.make_train_function.<locals>.train_function at 0x7fd735bf5cb0> and will run it as-is.\n",
            "Please report this to the TensorFlow team. When filing the bug, set the verbosity to 10 (on Linux, `export AUTOGRAPH_VERBOSITY=10`) and attach the full output.\n",
            "Cause: closure mismatch, requested ('self', 'step_function'), but source function had ()\n",
            "To silence this warning, decorate the function with @tf.autograph.experimental.do_not_convert\n"
          ]
        },
        {
          "output_type": "stream",
          "name": "stdout",
          "text": [
            "WARNING: AutoGraph could not transform <function Model.make_train_function.<locals>.train_function at 0x7fd735bf5cb0> and will run it as-is.\n",
            "Please report this to the TensorFlow team. When filing the bug, set the verbosity to 10 (on Linux, `export AUTOGRAPH_VERBOSITY=10`) and attach the full output.\n",
            "Cause: closure mismatch, requested ('self', 'step_function'), but source function had ()\n",
            "To silence this warning, decorate the function with @tf.autograph.experimental.do_not_convert\n",
            "207/242 [========================>.....] - ETA: 0s - loss: 0.9677"
          ]
        },
        {
          "output_type": "stream",
          "name": "stderr",
          "text": [
            "WARNING:tensorflow:AutoGraph could not transform <function Model.make_test_function.<locals>.test_function at 0x7fd735dcf950> and will run it as-is.\n",
            "Please report this to the TensorFlow team. When filing the bug, set the verbosity to 10 (on Linux, `export AUTOGRAPH_VERBOSITY=10`) and attach the full output.\n",
            "Cause: closure mismatch, requested ('self', 'step_function'), but source function had ()\n",
            "To silence this warning, decorate the function with @tf.autograph.experimental.do_not_convert\n"
          ]
        },
        {
          "output_type": "stream",
          "name": "stdout",
          "text": [
            "WARNING: AutoGraph could not transform <function Model.make_test_function.<locals>.test_function at 0x7fd735dcf950> and will run it as-is.\n",
            "Please report this to the TensorFlow team. When filing the bug, set the verbosity to 10 (on Linux, `export AUTOGRAPH_VERBOSITY=10`) and attach the full output.\n",
            "Cause: closure mismatch, requested ('self', 'step_function'), but source function had ()\n",
            "To silence this warning, decorate the function with @tf.autograph.experimental.do_not_convert\n",
            "242/242 [==============================] - 1s 2ms/step - loss: 0.9009 - val_loss: 17.9977\n",
            "Epoch 2/100\n",
            "242/242 [==============================] - 0s 2ms/step - loss: 0.5248 - val_loss: 23.6686\n",
            "Epoch 3/100\n",
            "242/242 [==============================] - 0s 1ms/step - loss: 0.5074 - val_loss: 25.6516\n",
            "Epoch 4/100\n",
            "242/242 [==============================] - 0s 2ms/step - loss: 0.5098 - val_loss: 22.9288\n",
            "Epoch 5/100\n",
            "242/242 [==============================] - 0s 2ms/step - loss: 0.5093 - val_loss: 22.1705\n",
            "Epoch 6/100\n",
            "242/242 [==============================] - 0s 1ms/step - loss: 0.5088 - val_loss: 21.4778\n",
            "Epoch 7/100\n",
            "242/242 [==============================] - 0s 1ms/step - loss: 0.5111 - val_loss: 20.0228\n",
            "Epoch 8/100\n",
            "242/242 [==============================] - 0s 2ms/step - loss: 0.5100 - val_loss: 22.5841\n",
            "Epoch 9/100\n",
            "242/242 [==============================] - 0s 1ms/step - loss: 0.5068 - val_loss: 20.1429\n",
            "Epoch 10/100\n",
            "242/242 [==============================] - 0s 1ms/step - loss: 0.5087 - val_loss: 10.7269\n",
            "Epoch 11/100\n",
            "242/242 [==============================] - 0s 2ms/step - loss: 0.5082 - val_loss: 19.7513\n",
            "Epoch 12/100\n",
            "242/242 [==============================] - 0s 2ms/step - loss: 0.5049 - val_loss: 24.3393\n",
            "Epoch 13/100\n",
            "242/242 [==============================] - 0s 1ms/step - loss: 0.5077 - val_loss: 25.9596\n",
            "Epoch 14/100\n",
            "242/242 [==============================] - 0s 2ms/step - loss: 0.5199 - val_loss: 10.5308\n",
            "Epoch 15/100\n",
            "242/242 [==============================] - 0s 2ms/step - loss: 0.5078 - val_loss: 17.1948\n",
            "Epoch 16/100\n",
            "242/242 [==============================] - 0s 1ms/step - loss: 0.5064 - val_loss: 21.8377\n",
            "Epoch 17/100\n",
            "242/242 [==============================] - 0s 1ms/step - loss: 0.5058 - val_loss: 11.7753\n",
            "Epoch 18/100\n",
            "242/242 [==============================] - 0s 1ms/step - loss: 0.5101 - val_loss: 14.1563\n",
            "Epoch 19/100\n",
            "242/242 [==============================] - 0s 2ms/step - loss: 0.5071 - val_loss: 20.9823\n",
            "Epoch 20/100\n",
            "242/242 [==============================] - 0s 2ms/step - loss: 0.5032 - val_loss: 12.3625\n",
            "Epoch 21/100\n",
            "242/242 [==============================] - 0s 1ms/step - loss: 0.5071 - val_loss: 25.9151\n",
            "Epoch 22/100\n",
            "242/242 [==============================] - 0s 2ms/step - loss: 0.5132 - val_loss: 16.0463\n",
            "Epoch 23/100\n",
            "242/242 [==============================] - 0s 2ms/step - loss: 0.5071 - val_loss: 19.4878\n",
            "Epoch 24/100\n",
            "242/242 [==============================] - 0s 2ms/step - loss: 0.5084 - val_loss: 12.1055\n",
            "121/121 [==============================] - 0s 919us/step - loss: 0.7813\n",
            "[CV] END learning_rate=0.01824796188192035, n_hidden=0, n_neurons=40; total time=   9.3s\n",
            "Epoch 1/100\n"
          ]
        },
        {
          "output_type": "stream",
          "name": "stderr",
          "text": [
            "WARNING:tensorflow:AutoGraph could not transform <function Model.make_train_function.<locals>.train_function at 0x7fd735b5ad40> and will run it as-is.\n",
            "Please report this to the TensorFlow team. When filing the bug, set the verbosity to 10 (on Linux, `export AUTOGRAPH_VERBOSITY=10`) and attach the full output.\n",
            "Cause: closure mismatch, requested ('self', 'step_function'), but source function had ()\n",
            "To silence this warning, decorate the function with @tf.autograph.experimental.do_not_convert\n"
          ]
        },
        {
          "output_type": "stream",
          "name": "stdout",
          "text": [
            "WARNING: AutoGraph could not transform <function Model.make_train_function.<locals>.train_function at 0x7fd735b5ad40> and will run it as-is.\n",
            "Please report this to the TensorFlow team. When filing the bug, set the verbosity to 10 (on Linux, `export AUTOGRAPH_VERBOSITY=10`) and attach the full output.\n",
            "Cause: closure mismatch, requested ('self', 'step_function'), but source function had ()\n",
            "To silence this warning, decorate the function with @tf.autograph.experimental.do_not_convert\n",
            "235/242 [============================>.] - ETA: 0s - loss: 1.1095"
          ]
        },
        {
          "output_type": "stream",
          "name": "stderr",
          "text": [
            "WARNING:tensorflow:AutoGraph could not transform <function Model.make_test_function.<locals>.test_function at 0x7fd735ad9c20> and will run it as-is.\n",
            "Please report this to the TensorFlow team. When filing the bug, set the verbosity to 10 (on Linux, `export AUTOGRAPH_VERBOSITY=10`) and attach the full output.\n",
            "Cause: closure mismatch, requested ('self', 'step_function'), but source function had ()\n",
            "To silence this warning, decorate the function with @tf.autograph.experimental.do_not_convert\n"
          ]
        },
        {
          "output_type": "stream",
          "name": "stdout",
          "text": [
            "WARNING: AutoGraph could not transform <function Model.make_test_function.<locals>.test_function at 0x7fd735ad9c20> and will run it as-is.\n",
            "Please report this to the TensorFlow team. When filing the bug, set the verbosity to 10 (on Linux, `export AUTOGRAPH_VERBOSITY=10`) and attach the full output.\n",
            "Cause: closure mismatch, requested ('self', 'step_function'), but source function had ()\n",
            "To silence this warning, decorate the function with @tf.autograph.experimental.do_not_convert\n",
            "242/242 [==============================] - 1s 2ms/step - loss: 1.1068 - val_loss: 159.5891\n",
            "Epoch 2/100\n",
            "242/242 [==============================] - 0s 1ms/step - loss: 0.6824 - val_loss: 22.7768\n",
            "Epoch 3/100\n",
            "242/242 [==============================] - 0s 1ms/step - loss: 1.1405 - val_loss: 561.6631\n",
            "Epoch 4/100\n",
            "242/242 [==============================] - 0s 2ms/step - loss: 24.4221 - val_loss: 506.3159\n",
            "Epoch 5/100\n",
            "242/242 [==============================] - 0s 2ms/step - loss: 1.1258 - val_loss: 2266.0061\n",
            "Epoch 6/100\n",
            "242/242 [==============================] - 0s 1ms/step - loss: 7.7290 - val_loss: 1196.1788\n",
            "Epoch 7/100\n",
            "242/242 [==============================] - 0s 2ms/step - loss: 4.1699 - val_loss: 1305.3683\n",
            "Epoch 8/100\n",
            "242/242 [==============================] - 0s 2ms/step - loss: 35.4105 - val_loss: 1196.8810\n",
            "Epoch 9/100\n",
            "242/242 [==============================] - 0s 1ms/step - loss: 9.6389 - val_loss: 1159.5369\n",
            "Epoch 10/100\n",
            "242/242 [==============================] - 0s 1ms/step - loss: 1.3576 - val_loss: 157.6044\n",
            "Epoch 11/100\n",
            "242/242 [==============================] - 0s 2ms/step - loss: 10.4146 - val_loss: 85.8061\n",
            "Epoch 12/100\n",
            "242/242 [==============================] - 0s 2ms/step - loss: 0.6327 - val_loss: 0.6838\n",
            "Epoch 13/100\n",
            "242/242 [==============================] - 0s 1ms/step - loss: 0.7252 - val_loss: 706.1638\n",
            "Epoch 14/100\n",
            "242/242 [==============================] - 0s 1ms/step - loss: 8.1188 - val_loss: 411.5789\n",
            "Epoch 15/100\n",
            "242/242 [==============================] - 0s 2ms/step - loss: 2.0950 - val_loss: 993.7607\n",
            "Epoch 16/100\n",
            "242/242 [==============================] - 0s 2ms/step - loss: 34.4451 - val_loss: 803.7979\n",
            "Epoch 17/100\n",
            "242/242 [==============================] - 0s 1ms/step - loss: 8.4994 - val_loss: 1063.4398\n",
            "Epoch 18/100\n",
            "242/242 [==============================] - 0s 1ms/step - loss: 3.5815 - val_loss: 461.9431\n",
            "Epoch 19/100\n",
            "242/242 [==============================] - 0s 1ms/step - loss: 23.0873 - val_loss: 283.1018\n",
            "Epoch 20/100\n",
            "242/242 [==============================] - 0s 1ms/step - loss: 3.2819 - val_loss: 317.1609\n",
            "Epoch 21/100\n",
            "242/242 [==============================] - 0s 2ms/step - loss: 4.0157 - val_loss: 516.7094\n",
            "Epoch 22/100\n",
            "242/242 [==============================] - 0s 2ms/step - loss: 4.1766 - val_loss: 361.4213\n",
            "121/121 [==============================] - 0s 886us/step - loss: 0.6023\n",
            "[CV] END learning_rate=0.01824796188192035, n_hidden=0, n_neurons=40; total time=  10.6s\n",
            "Epoch 1/100\n"
          ]
        },
        {
          "output_type": "stream",
          "name": "stderr",
          "text": [
            "WARNING:tensorflow:AutoGraph could not transform <function Model.make_train_function.<locals>.train_function at 0x7fd73593eb00> and will run it as-is.\n",
            "Please report this to the TensorFlow team. When filing the bug, set the verbosity to 10 (on Linux, `export AUTOGRAPH_VERBOSITY=10`) and attach the full output.\n",
            "Cause: closure mismatch, requested ('self', 'step_function'), but source function had ()\n",
            "To silence this warning, decorate the function with @tf.autograph.experimental.do_not_convert\n"
          ]
        },
        {
          "output_type": "stream",
          "name": "stdout",
          "text": [
            "WARNING: AutoGraph could not transform <function Model.make_train_function.<locals>.train_function at 0x7fd73593eb00> and will run it as-is.\n",
            "Please report this to the TensorFlow team. When filing the bug, set the verbosity to 10 (on Linux, `export AUTOGRAPH_VERBOSITY=10`) and attach the full output.\n",
            "Cause: closure mismatch, requested ('self', 'step_function'), but source function had ()\n",
            "To silence this warning, decorate the function with @tf.autograph.experimental.do_not_convert\n",
            "198/242 [=======================>......] - ETA: 0s - loss: 1.0854"
          ]
        },
        {
          "output_type": "stream",
          "name": "stderr",
          "text": [
            "WARNING:tensorflow:AutoGraph could not transform <function Model.make_test_function.<locals>.test_function at 0x7fd767d2ea70> and will run it as-is.\n",
            "Please report this to the TensorFlow team. When filing the bug, set the verbosity to 10 (on Linux, `export AUTOGRAPH_VERBOSITY=10`) and attach the full output.\n",
            "Cause: closure mismatch, requested ('self', 'step_function'), but source function had ()\n",
            "To silence this warning, decorate the function with @tf.autograph.experimental.do_not_convert\n"
          ]
        },
        {
          "output_type": "stream",
          "name": "stdout",
          "text": [
            "WARNING: AutoGraph could not transform <function Model.make_test_function.<locals>.test_function at 0x7fd767d2ea70> and will run it as-is.\n",
            "Please report this to the TensorFlow team. When filing the bug, set the verbosity to 10 (on Linux, `export AUTOGRAPH_VERBOSITY=10`) and attach the full output.\n",
            "Cause: closure mismatch, requested ('self', 'step_function'), but source function had ()\n",
            "To silence this warning, decorate the function with @tf.autograph.experimental.do_not_convert\n",
            "242/242 [==============================] - 1s 2ms/step - loss: 1.0199 - val_loss: 11.5704\n",
            "Epoch 2/100\n",
            "242/242 [==============================] - 0s 2ms/step - loss: 0.7079 - val_loss: 2.7042\n",
            "Epoch 3/100\n",
            "242/242 [==============================] - 0s 2ms/step - loss: 0.5363 - val_loss: 0.6647\n",
            "Epoch 4/100\n",
            "242/242 [==============================] - 0s 1ms/step - loss: 0.4654 - val_loss: 0.5138\n",
            "Epoch 5/100\n",
            "242/242 [==============================] - 0s 1ms/step - loss: 0.4328 - val_loss: 0.4566\n",
            "Epoch 6/100\n",
            "242/242 [==============================] - 0s 1ms/step - loss: 0.4126 - val_loss: 0.4749\n",
            "Epoch 7/100\n",
            "242/242 [==============================] - 0s 1ms/step - loss: 0.3971 - val_loss: 0.4499\n",
            "Epoch 8/100\n",
            "242/242 [==============================] - 0s 1ms/step - loss: 0.3845 - val_loss: 0.4614\n",
            "Epoch 9/100\n",
            "242/242 [==============================] - 0s 1ms/step - loss: 0.3752 - val_loss: 0.4468\n",
            "Epoch 10/100\n",
            "242/242 [==============================] - 0s 1ms/step - loss: 0.3680 - val_loss: 0.4469\n",
            "Epoch 11/100\n",
            "242/242 [==============================] - 0s 2ms/step - loss: 0.3623 - val_loss: 0.4266\n",
            "Epoch 12/100\n",
            "242/242 [==============================] - 0s 2ms/step - loss: 0.3570 - val_loss: 0.4315\n",
            "Epoch 13/100\n",
            "242/242 [==============================] - 0s 2ms/step - loss: 0.3531 - val_loss: 0.4079\n",
            "Epoch 14/100\n",
            "242/242 [==============================] - 0s 2ms/step - loss: 0.3512 - val_loss: 0.4922\n",
            "Epoch 15/100\n",
            "242/242 [==============================] - 0s 2ms/step - loss: 0.3483 - val_loss: 0.3986\n",
            "Epoch 16/100\n",
            "242/242 [==============================] - 0s 2ms/step - loss: 0.3458 - val_loss: 0.4282\n",
            "Epoch 17/100\n",
            "242/242 [==============================] - 0s 1ms/step - loss: 0.3429 - val_loss: 0.5112\n",
            "Epoch 18/100\n",
            "242/242 [==============================] - 0s 1ms/step - loss: 0.3415 - val_loss: 0.4179\n",
            "Epoch 19/100\n",
            "242/242 [==============================] - 0s 1ms/step - loss: 0.3384 - val_loss: 0.5395\n",
            "Epoch 20/100\n",
            "242/242 [==============================] - 0s 2ms/step - loss: 0.3375 - val_loss: 0.3796\n",
            "Epoch 21/100\n",
            "242/242 [==============================] - 0s 2ms/step - loss: 0.3353 - val_loss: 0.4517\n",
            "Epoch 22/100\n",
            "242/242 [==============================] - 0s 2ms/step - loss: 0.3334 - val_loss: 0.4676\n",
            "Epoch 23/100\n",
            "242/242 [==============================] - 0s 1ms/step - loss: 0.3313 - val_loss: 0.4374\n",
            "Epoch 24/100\n",
            "242/242 [==============================] - 0s 2ms/step - loss: 0.3314 - val_loss: 0.3452\n",
            "Epoch 25/100\n",
            "242/242 [==============================] - 0s 2ms/step - loss: 0.3277 - val_loss: 0.3795\n",
            "Epoch 26/100\n",
            "242/242 [==============================] - 0s 2ms/step - loss: 0.3257 - val_loss: 0.3662\n",
            "Epoch 27/100\n",
            "242/242 [==============================] - 0s 2ms/step - loss: 0.3251 - val_loss: 0.3916\n",
            "Epoch 28/100\n",
            "242/242 [==============================] - 0s 2ms/step - loss: 0.3237 - val_loss: 0.4359\n",
            "Epoch 29/100\n",
            "242/242 [==============================] - 0s 2ms/step - loss: 0.3215 - val_loss: 0.4326\n",
            "Epoch 30/100\n",
            "242/242 [==============================] - 0s 2ms/step - loss: 0.3201 - val_loss: 0.3351\n",
            "Epoch 31/100\n",
            "242/242 [==============================] - 0s 2ms/step - loss: 0.3189 - val_loss: 0.3555\n",
            "Epoch 32/100\n",
            "242/242 [==============================] - 0s 1ms/step - loss: 0.3178 - val_loss: 0.3672\n",
            "Epoch 33/100\n",
            "242/242 [==============================] - 0s 2ms/step - loss: 0.3154 - val_loss: 0.4227\n",
            "Epoch 34/100\n",
            "242/242 [==============================] - 0s 2ms/step - loss: 0.3141 - val_loss: 0.4369\n",
            "Epoch 35/100\n",
            "242/242 [==============================] - 0s 2ms/step - loss: 0.3139 - val_loss: 0.3092\n",
            "Epoch 36/100\n",
            "242/242 [==============================] - 0s 2ms/step - loss: 0.3129 - val_loss: 0.4109\n",
            "Epoch 37/100\n",
            "242/242 [==============================] - 0s 2ms/step - loss: 0.3121 - val_loss: 0.3341\n",
            "Epoch 38/100\n",
            "242/242 [==============================] - 0s 2ms/step - loss: 0.3098 - val_loss: 0.4074\n",
            "Epoch 39/100\n",
            "242/242 [==============================] - 0s 2ms/step - loss: 0.3094 - val_loss: 0.3189\n",
            "Epoch 40/100\n",
            "242/242 [==============================] - 0s 2ms/step - loss: 0.3086 - val_loss: 0.3879\n",
            "Epoch 41/100\n",
            "242/242 [==============================] - 0s 2ms/step - loss: 0.3077 - val_loss: 0.3725\n",
            "Epoch 42/100\n",
            "242/242 [==============================] - 0s 2ms/step - loss: 0.3061 - val_loss: 0.3096\n",
            "Epoch 43/100\n",
            "242/242 [==============================] - 0s 2ms/step - loss: 0.3062 - val_loss: 0.3482\n",
            "Epoch 44/100\n",
            "242/242 [==============================] - 0s 2ms/step - loss: 0.3045 - val_loss: 0.4193\n",
            "Epoch 45/100\n",
            "242/242 [==============================] - 0s 2ms/step - loss: 0.3049 - val_loss: 0.3031\n",
            "Epoch 46/100\n",
            "242/242 [==============================] - 0s 2ms/step - loss: 0.3036 - val_loss: 0.3742\n",
            "Epoch 47/100\n",
            "242/242 [==============================] - 0s 2ms/step - loss: 0.3025 - val_loss: 0.3611\n",
            "Epoch 48/100\n",
            "242/242 [==============================] - 0s 2ms/step - loss: 0.3027 - val_loss: 0.3505\n",
            "Epoch 49/100\n",
            "242/242 [==============================] - 0s 2ms/step - loss: 0.3006 - val_loss: 0.3177\n",
            "Epoch 50/100\n",
            "242/242 [==============================] - 0s 2ms/step - loss: 0.3007 - val_loss: 0.3781\n",
            "Epoch 51/100\n",
            "242/242 [==============================] - 0s 2ms/step - loss: 0.2991 - val_loss: 0.3897\n",
            "Epoch 52/100\n",
            "242/242 [==============================] - 0s 1ms/step - loss: 0.2985 - val_loss: 0.3378\n",
            "Epoch 53/100\n",
            "242/242 [==============================] - 0s 1ms/step - loss: 0.2988 - val_loss: 0.3665\n",
            "Epoch 54/100\n",
            "242/242 [==============================] - 0s 2ms/step - loss: 0.2979 - val_loss: 0.3061\n",
            "Epoch 55/100\n",
            "242/242 [==============================] - 0s 2ms/step - loss: 0.2959 - val_loss: 0.3905\n",
            "121/121 [==============================] - 0s 972us/step - loss: 0.3337\n",
            "[CV] END learning_rate=0.0045455096956331, n_hidden=3, n_neurons=30; total time=  22.4s\n",
            "Epoch 1/100\n"
          ]
        },
        {
          "output_type": "stream",
          "name": "stderr",
          "text": [
            "WARNING:tensorflow:AutoGraph could not transform <function Model.make_train_function.<locals>.train_function at 0x7fd73a749f80> and will run it as-is.\n",
            "Please report this to the TensorFlow team. When filing the bug, set the verbosity to 10 (on Linux, `export AUTOGRAPH_VERBOSITY=10`) and attach the full output.\n",
            "Cause: closure mismatch, requested ('self', 'step_function'), but source function had ()\n",
            "To silence this warning, decorate the function with @tf.autograph.experimental.do_not_convert\n"
          ]
        },
        {
          "output_type": "stream",
          "name": "stdout",
          "text": [
            "WARNING: AutoGraph could not transform <function Model.make_train_function.<locals>.train_function at 0x7fd73a749f80> and will run it as-is.\n",
            "Please report this to the TensorFlow team. When filing the bug, set the verbosity to 10 (on Linux, `export AUTOGRAPH_VERBOSITY=10`) and attach the full output.\n",
            "Cause: closure mismatch, requested ('self', 'step_function'), but source function had ()\n",
            "To silence this warning, decorate the function with @tf.autograph.experimental.do_not_convert\n",
            "212/242 [=========================>....] - ETA: 0s - loss: 1.2349"
          ]
        },
        {
          "output_type": "stream",
          "name": "stderr",
          "text": [
            "WARNING:tensorflow:AutoGraph could not transform <function Model.make_test_function.<locals>.test_function at 0x7fd7410e8cb0> and will run it as-is.\n",
            "Please report this to the TensorFlow team. When filing the bug, set the verbosity to 10 (on Linux, `export AUTOGRAPH_VERBOSITY=10`) and attach the full output.\n",
            "Cause: closure mismatch, requested ('self', 'step_function'), but source function had ()\n",
            "To silence this warning, decorate the function with @tf.autograph.experimental.do_not_convert\n"
          ]
        },
        {
          "output_type": "stream",
          "name": "stdout",
          "text": [
            "WARNING: AutoGraph could not transform <function Model.make_test_function.<locals>.test_function at 0x7fd7410e8cb0> and will run it as-is.\n",
            "Please report this to the TensorFlow team. When filing the bug, set the verbosity to 10 (on Linux, `export AUTOGRAPH_VERBOSITY=10`) and attach the full output.\n",
            "Cause: closure mismatch, requested ('self', 'step_function'), but source function had ()\n",
            "To silence this warning, decorate the function with @tf.autograph.experimental.do_not_convert\n",
            "242/242 [==============================] - 1s 2ms/step - loss: 1.1567 - val_loss: 1.0816\n",
            "Epoch 2/100\n",
            "242/242 [==============================] - 0s 2ms/step - loss: 0.5566 - val_loss: 1.8573\n",
            "Epoch 3/100\n",
            "242/242 [==============================] - 0s 2ms/step - loss: 0.4770 - val_loss: 1.5882\n",
            "Epoch 4/100\n",
            "242/242 [==============================] - 0s 2ms/step - loss: 0.4368 - val_loss: 1.1602\n",
            "Epoch 5/100\n",
            "242/242 [==============================] - 0s 2ms/step - loss: 0.4124 - val_loss: 0.7343\n",
            "Epoch 6/100\n",
            "242/242 [==============================] - 0s 2ms/step - loss: 0.3963 - val_loss: 0.4119\n",
            "Epoch 7/100\n",
            "242/242 [==============================] - 0s 2ms/step - loss: 0.3853 - val_loss: 0.3779\n",
            "Epoch 8/100\n",
            "242/242 [==============================] - 0s 2ms/step - loss: 0.3775 - val_loss: 0.4159\n",
            "Epoch 9/100\n",
            "242/242 [==============================] - 0s 1ms/step - loss: 0.3697 - val_loss: 0.5404\n",
            "Epoch 10/100\n",
            "242/242 [==============================] - 0s 1ms/step - loss: 0.3650 - val_loss: 0.4683\n",
            "Epoch 11/100\n",
            "242/242 [==============================] - 0s 2ms/step - loss: 0.3590 - val_loss: 0.4588\n",
            "Epoch 12/100\n",
            "242/242 [==============================] - 0s 2ms/step - loss: 0.3546 - val_loss: 0.5624\n",
            "Epoch 13/100\n",
            "242/242 [==============================] - 0s 2ms/step - loss: 0.3513 - val_loss: 0.6519\n",
            "Epoch 14/100\n",
            "242/242 [==============================] - 0s 2ms/step - loss: 0.3488 - val_loss: 0.5388\n",
            "Epoch 15/100\n",
            "242/242 [==============================] - 0s 2ms/step - loss: 0.3455 - val_loss: 0.6625\n",
            "Epoch 16/100\n",
            "242/242 [==============================] - 0s 1ms/step - loss: 0.3415 - val_loss: 0.5024\n",
            "Epoch 17/100\n",
            "242/242 [==============================] - 0s 2ms/step - loss: 0.3408 - val_loss: 0.4395\n",
            "121/121 [==============================] - 0s 912us/step - loss: 0.3537\n",
            "[CV] END learning_rate=0.0045455096956331, n_hidden=3, n_neurons=30; total time=   7.2s\n",
            "Epoch 1/100\n"
          ]
        },
        {
          "output_type": "stream",
          "name": "stderr",
          "text": [
            "WARNING:tensorflow:AutoGraph could not transform <function Model.make_train_function.<locals>.train_function at 0x7fd7410b2290> and will run it as-is.\n",
            "Please report this to the TensorFlow team. When filing the bug, set the verbosity to 10 (on Linux, `export AUTOGRAPH_VERBOSITY=10`) and attach the full output.\n",
            "Cause: closure mismatch, requested ('self', 'step_function'), but source function had ()\n",
            "To silence this warning, decorate the function with @tf.autograph.experimental.do_not_convert\n"
          ]
        },
        {
          "output_type": "stream",
          "name": "stdout",
          "text": [
            "WARNING: AutoGraph could not transform <function Model.make_train_function.<locals>.train_function at 0x7fd7410b2290> and will run it as-is.\n",
            "Please report this to the TensorFlow team. When filing the bug, set the verbosity to 10 (on Linux, `export AUTOGRAPH_VERBOSITY=10`) and attach the full output.\n",
            "Cause: closure mismatch, requested ('self', 'step_function'), but source function had ()\n",
            "To silence this warning, decorate the function with @tf.autograph.experimental.do_not_convert\n",
            "209/242 [========================>.....] - ETA: 0s - loss: 1.0375"
          ]
        },
        {
          "output_type": "stream",
          "name": "stderr",
          "text": [
            "WARNING:tensorflow:AutoGraph could not transform <function Model.make_test_function.<locals>.test_function at 0x7fd740980c20> and will run it as-is.\n",
            "Please report this to the TensorFlow team. When filing the bug, set the verbosity to 10 (on Linux, `export AUTOGRAPH_VERBOSITY=10`) and attach the full output.\n",
            "Cause: closure mismatch, requested ('self', 'step_function'), but source function had ()\n",
            "To silence this warning, decorate the function with @tf.autograph.experimental.do_not_convert\n"
          ]
        },
        {
          "output_type": "stream",
          "name": "stdout",
          "text": [
            "WARNING: AutoGraph could not transform <function Model.make_test_function.<locals>.test_function at 0x7fd740980c20> and will run it as-is.\n",
            "Please report this to the TensorFlow team. When filing the bug, set the verbosity to 10 (on Linux, `export AUTOGRAPH_VERBOSITY=10`) and attach the full output.\n",
            "Cause: closure mismatch, requested ('self', 'step_function'), but source function had ()\n",
            "To silence this warning, decorate the function with @tf.autograph.experimental.do_not_convert\n",
            "242/242 [==============================] - 1s 2ms/step - loss: 0.9880 - val_loss: 3.9832\n",
            "Epoch 2/100\n",
            "242/242 [==============================] - 0s 2ms/step - loss: 0.5383 - val_loss: 5.6363\n",
            "Epoch 3/100\n",
            "242/242 [==============================] - 0s 2ms/step - loss: 0.5050 - val_loss: 2.2048\n",
            "Epoch 4/100\n",
            "242/242 [==============================] - 0s 2ms/step - loss: 0.4515 - val_loss: 0.4886\n",
            "Epoch 5/100\n",
            "242/242 [==============================] - 0s 1ms/step - loss: 0.4020 - val_loss: 0.3873\n",
            "Epoch 6/100\n",
            "242/242 [==============================] - 0s 2ms/step - loss: 0.3902 - val_loss: 0.4151\n",
            "Epoch 7/100\n",
            "242/242 [==============================] - 0s 2ms/step - loss: 0.3835 - val_loss: 0.3880\n",
            "Epoch 8/100\n",
            "242/242 [==============================] - 0s 2ms/step - loss: 0.3780 - val_loss: 0.3891\n",
            "Epoch 9/100\n",
            "242/242 [==============================] - 0s 2ms/step - loss: 0.3730 - val_loss: 0.4463\n",
            "Epoch 10/100\n",
            "242/242 [==============================] - 0s 2ms/step - loss: 0.3716 - val_loss: 0.3505\n",
            "Epoch 11/100\n",
            "242/242 [==============================] - 0s 2ms/step - loss: 0.3668 - val_loss: 0.4760\n",
            "Epoch 12/100\n",
            "242/242 [==============================] - 0s 1ms/step - loss: 0.3640 - val_loss: 0.3870\n",
            "Epoch 13/100\n",
            "242/242 [==============================] - 0s 2ms/step - loss: 0.3608 - val_loss: 0.3532\n",
            "Epoch 14/100\n",
            "242/242 [==============================] - 0s 2ms/step - loss: 0.3583 - val_loss: 0.4419\n",
            "Epoch 15/100\n",
            "242/242 [==============================] - 0s 2ms/step - loss: 0.3561 - val_loss: 0.3387\n",
            "Epoch 16/100\n",
            "242/242 [==============================] - 0s 2ms/step - loss: 0.3529 - val_loss: 0.4166\n",
            "Epoch 17/100\n",
            "242/242 [==============================] - 0s 1ms/step - loss: 0.3514 - val_loss: 0.3342\n",
            "Epoch 18/100\n",
            "242/242 [==============================] - 0s 2ms/step - loss: 0.3486 - val_loss: 0.3860\n",
            "Epoch 19/100\n",
            "242/242 [==============================] - 0s 2ms/step - loss: 0.3473 - val_loss: 0.3951\n",
            "Epoch 20/100\n",
            "242/242 [==============================] - 0s 2ms/step - loss: 0.3453 - val_loss: 0.3734\n",
            "Epoch 21/100\n",
            "242/242 [==============================] - 0s 2ms/step - loss: 0.3447 - val_loss: 0.3514\n",
            "Epoch 22/100\n",
            "242/242 [==============================] - 0s 2ms/step - loss: 0.3422 - val_loss: 0.3227\n",
            "Epoch 23/100\n",
            "242/242 [==============================] - 0s 2ms/step - loss: 0.3412 - val_loss: 0.3663\n",
            "Epoch 24/100\n",
            "242/242 [==============================] - 0s 2ms/step - loss: 0.3392 - val_loss: 0.3845\n",
            "Epoch 25/100\n",
            "242/242 [==============================] - 0s 2ms/step - loss: 0.3390 - val_loss: 0.3179\n",
            "Epoch 26/100\n",
            "242/242 [==============================] - 0s 2ms/step - loss: 0.3357 - val_loss: 0.3443\n",
            "Epoch 27/100\n",
            "242/242 [==============================] - 0s 1ms/step - loss: 0.3342 - val_loss: 0.4345\n",
            "Epoch 28/100\n",
            "242/242 [==============================] - 0s 2ms/step - loss: 0.3356 - val_loss: 0.3277\n",
            "Epoch 29/100\n",
            "242/242 [==============================] - 0s 2ms/step - loss: 0.3349 - val_loss: 0.3277\n",
            "Epoch 30/100\n",
            "242/242 [==============================] - 0s 2ms/step - loss: 0.3324 - val_loss: 0.3537\n",
            "Epoch 31/100\n",
            "242/242 [==============================] - 0s 2ms/step - loss: 0.3303 - val_loss: 0.3406\n",
            "Epoch 32/100\n",
            "242/242 [==============================] - 0s 2ms/step - loss: 0.3286 - val_loss: 0.3759\n",
            "Epoch 33/100\n",
            "242/242 [==============================] - 0s 2ms/step - loss: 0.3284 - val_loss: 0.3638\n",
            "Epoch 34/100\n",
            "242/242 [==============================] - 0s 1ms/step - loss: 0.3258 - val_loss: 0.3859\n",
            "Epoch 35/100\n",
            "242/242 [==============================] - 0s 2ms/step - loss: 0.3255 - val_loss: 0.3269\n",
            "121/121 [==============================] - 0s 967us/step - loss: 0.3263\n",
            "[CV] END learning_rate=0.0045455096956331, n_hidden=3, n_neurons=30; total time=  20.9s\n",
            "Epoch 1/100\n"
          ]
        },
        {
          "output_type": "stream",
          "name": "stderr",
          "text": [
            "WARNING:tensorflow:AutoGraph could not transform <function Model.make_train_function.<locals>.train_function at 0x7fd7379cbb00> and will run it as-is.\n",
            "Please report this to the TensorFlow team. When filing the bug, set the verbosity to 10 (on Linux, `export AUTOGRAPH_VERBOSITY=10`) and attach the full output.\n",
            "Cause: closure mismatch, requested ('self', 'step_function'), but source function had ()\n",
            "To silence this warning, decorate the function with @tf.autograph.experimental.do_not_convert\n"
          ]
        },
        {
          "output_type": "stream",
          "name": "stdout",
          "text": [
            "WARNING: AutoGraph could not transform <function Model.make_train_function.<locals>.train_function at 0x7fd7379cbb00> and will run it as-is.\n",
            "Please report this to the TensorFlow team. When filing the bug, set the verbosity to 10 (on Linux, `export AUTOGRAPH_VERBOSITY=10`) and attach the full output.\n",
            "Cause: closure mismatch, requested ('self', 'step_function'), but source function had ()\n",
            "To silence this warning, decorate the function with @tf.autograph.experimental.do_not_convert\n",
            "242/242 [==============================] - ETA: 0s - loss: 1.7465"
          ]
        },
        {
          "output_type": "stream",
          "name": "stderr",
          "text": [
            "WARNING:tensorflow:AutoGraph could not transform <function Model.make_test_function.<locals>.test_function at 0x7fd737bf6a70> and will run it as-is.\n",
            "Please report this to the TensorFlow team. When filing the bug, set the verbosity to 10 (on Linux, `export AUTOGRAPH_VERBOSITY=10`) and attach the full output.\n",
            "Cause: closure mismatch, requested ('self', 'step_function'), but source function had ()\n",
            "To silence this warning, decorate the function with @tf.autograph.experimental.do_not_convert\n"
          ]
        },
        {
          "output_type": "stream",
          "name": "stdout",
          "text": [
            "WARNING: AutoGraph could not transform <function Model.make_test_function.<locals>.test_function at 0x7fd737bf6a70> and will run it as-is.\n",
            "Please report this to the TensorFlow team. When filing the bug, set the verbosity to 10 (on Linux, `export AUTOGRAPH_VERBOSITY=10`) and attach the full output.\n",
            "Cause: closure mismatch, requested ('self', 'step_function'), but source function had ()\n",
            "To silence this warning, decorate the function with @tf.autograph.experimental.do_not_convert\n",
            "242/242 [==============================] - 1s 2ms/step - loss: 1.7465 - val_loss: 4.3471\n",
            "Epoch 2/100\n",
            "242/242 [==============================] - 0s 2ms/step - loss: 0.7580 - val_loss: 0.7274\n",
            "Epoch 3/100\n",
            "242/242 [==============================] - 0s 2ms/step - loss: 0.6186 - val_loss: 0.5620\n",
            "Epoch 4/100\n",
            "242/242 [==============================] - 0s 1ms/step - loss: 0.5718 - val_loss: 0.5239\n",
            "Epoch 5/100\n",
            "242/242 [==============================] - 0s 2ms/step - loss: 0.5385 - val_loss: 0.4986\n",
            "Epoch 6/100\n",
            "242/242 [==============================] - 0s 1ms/step - loss: 0.5111 - val_loss: 0.4726\n",
            "Epoch 7/100\n",
            "242/242 [==============================] - 0s 1ms/step - loss: 0.4898 - val_loss: 0.4513\n",
            "Epoch 8/100\n",
            "242/242 [==============================] - 0s 2ms/step - loss: 0.4744 - val_loss: 0.4529\n",
            "Epoch 9/100\n",
            "242/242 [==============================] - 0s 2ms/step - loss: 0.4615 - val_loss: 0.4524\n",
            "Epoch 10/100\n",
            "242/242 [==============================] - 0s 2ms/step - loss: 0.4515 - val_loss: 0.4301\n",
            "Epoch 11/100\n",
            "242/242 [==============================] - 0s 2ms/step - loss: 0.4436 - val_loss: 0.4213\n",
            "Epoch 12/100\n",
            "242/242 [==============================] - 0s 2ms/step - loss: 0.4371 - val_loss: 0.4130\n",
            "Epoch 13/100\n",
            "242/242 [==============================] - 0s 2ms/step - loss: 0.4310 - val_loss: 0.4120\n",
            "Epoch 14/100\n",
            "242/242 [==============================] - 0s 2ms/step - loss: 0.4270 - val_loss: 0.4292\n",
            "Epoch 15/100\n",
            "242/242 [==============================] - 0s 2ms/step - loss: 0.4223 - val_loss: 0.4186\n",
            "Epoch 16/100\n",
            "242/242 [==============================] - 0s 2ms/step - loss: 0.4193 - val_loss: 0.4071\n",
            "Epoch 17/100\n",
            "242/242 [==============================] - 0s 2ms/step - loss: 0.4157 - val_loss: 0.4257\n",
            "Epoch 18/100\n",
            "242/242 [==============================] - 0s 1ms/step - loss: 0.4125 - val_loss: 0.4009\n",
            "Epoch 19/100\n",
            "242/242 [==============================] - 0s 1ms/step - loss: 0.4094 - val_loss: 0.4073\n",
            "Epoch 20/100\n",
            "242/242 [==============================] - 0s 2ms/step - loss: 0.4073 - val_loss: 0.4043\n",
            "Epoch 21/100\n",
            "242/242 [==============================] - 0s 2ms/step - loss: 0.4054 - val_loss: 0.4044\n",
            "Epoch 22/100\n",
            "242/242 [==============================] - 0s 1ms/step - loss: 0.4024 - val_loss: 0.4001\n",
            "Epoch 23/100\n",
            "242/242 [==============================] - 0s 1ms/step - loss: 0.4010 - val_loss: 0.4088\n",
            "Epoch 24/100\n",
            "242/242 [==============================] - 0s 2ms/step - loss: 0.3995 - val_loss: 0.3810\n",
            "Epoch 25/100\n",
            "242/242 [==============================] - 0s 2ms/step - loss: 0.3975 - val_loss: 0.4057\n",
            "Epoch 26/100\n",
            "242/242 [==============================] - 0s 1ms/step - loss: 0.3962 - val_loss: 0.3787\n",
            "Epoch 27/100\n",
            "242/242 [==============================] - 0s 1ms/step - loss: 0.3949 - val_loss: 0.3989\n",
            "Epoch 28/100\n",
            "242/242 [==============================] - 0s 2ms/step - loss: 0.3928 - val_loss: 0.3855\n",
            "Epoch 29/100\n",
            "242/242 [==============================] - 0s 2ms/step - loss: 0.3916 - val_loss: 0.4040\n",
            "Epoch 30/100\n",
            "242/242 [==============================] - 0s 1ms/step - loss: 0.3908 - val_loss: 0.3754\n",
            "Epoch 31/100\n",
            "242/242 [==============================] - 0s 2ms/step - loss: 0.3887 - val_loss: 0.3714\n",
            "Epoch 32/100\n",
            "242/242 [==============================] - 0s 1ms/step - loss: 0.3882 - val_loss: 0.3670\n",
            "Epoch 33/100\n",
            "242/242 [==============================] - 0s 1ms/step - loss: 0.3867 - val_loss: 0.3947\n",
            "Epoch 34/100\n",
            "242/242 [==============================] - 0s 2ms/step - loss: 0.3859 - val_loss: 0.3965\n",
            "Epoch 35/100\n",
            "242/242 [==============================] - 0s 1ms/step - loss: 0.3852 - val_loss: 0.3621\n",
            "Epoch 36/100\n",
            "242/242 [==============================] - 0s 2ms/step - loss: 0.3835 - val_loss: 0.4114\n",
            "Epoch 37/100\n",
            "242/242 [==============================] - 0s 2ms/step - loss: 0.3830 - val_loss: 0.3593\n",
            "Epoch 38/100\n",
            "242/242 [==============================] - 0s 2ms/step - loss: 0.3819 - val_loss: 0.4227\n",
            "Epoch 39/100\n",
            "242/242 [==============================] - 0s 1ms/step - loss: 0.3810 - val_loss: 0.3594\n",
            "Epoch 40/100\n",
            "242/242 [==============================] - 0s 2ms/step - loss: 0.3803 - val_loss: 0.4010\n",
            "Epoch 41/100\n",
            "242/242 [==============================] - 0s 2ms/step - loss: 0.3795 - val_loss: 0.3728\n",
            "Epoch 42/100\n",
            "242/242 [==============================] - 0s 2ms/step - loss: 0.3782 - val_loss: 0.3603\n",
            "Epoch 43/100\n",
            "242/242 [==============================] - 0s 2ms/step - loss: 0.3781 - val_loss: 0.3616\n",
            "Epoch 44/100\n",
            "242/242 [==============================] - 0s 2ms/step - loss: 0.3768 - val_loss: 0.4170\n",
            "Epoch 45/100\n",
            "242/242 [==============================] - 0s 2ms/step - loss: 0.3771 - val_loss: 0.3597\n",
            "Epoch 46/100\n",
            "242/242 [==============================] - 0s 2ms/step - loss: 0.3752 - val_loss: 0.3769\n",
            "Epoch 47/100\n",
            "242/242 [==============================] - 0s 2ms/step - loss: 0.3748 - val_loss: 0.3998\n",
            "121/121 [==============================] - 0s 1ms/step - loss: 0.3845\n",
            "[CV] END learning_rate=0.0020587676114196545, n_hidden=1, n_neurons=49; total time=  20.9s\n",
            "Epoch 1/100\n"
          ]
        },
        {
          "output_type": "stream",
          "name": "stderr",
          "text": [
            "WARNING:tensorflow:AutoGraph could not transform <function Model.make_train_function.<locals>.train_function at 0x7fd7378faa70> and will run it as-is.\n",
            "Please report this to the TensorFlow team. When filing the bug, set the verbosity to 10 (on Linux, `export AUTOGRAPH_VERBOSITY=10`) and attach the full output.\n",
            "Cause: closure mismatch, requested ('self', 'step_function'), but source function had ()\n",
            "To silence this warning, decorate the function with @tf.autograph.experimental.do_not_convert\n"
          ]
        },
        {
          "output_type": "stream",
          "name": "stdout",
          "text": [
            "WARNING: AutoGraph could not transform <function Model.make_train_function.<locals>.train_function at 0x7fd7378faa70> and will run it as-is.\n",
            "Please report this to the TensorFlow team. When filing the bug, set the verbosity to 10 (on Linux, `export AUTOGRAPH_VERBOSITY=10`) and attach the full output.\n",
            "Cause: closure mismatch, requested ('self', 'step_function'), but source function had ()\n",
            "To silence this warning, decorate the function with @tf.autograph.experimental.do_not_convert\n",
            "213/242 [=========================>....] - ETA: 0s - loss: 2.0901"
          ]
        },
        {
          "output_type": "stream",
          "name": "stderr",
          "text": [
            "WARNING:tensorflow:AutoGraph could not transform <function Model.make_test_function.<locals>.test_function at 0x7fd741ee2050> and will run it as-is.\n",
            "Please report this to the TensorFlow team. When filing the bug, set the verbosity to 10 (on Linux, `export AUTOGRAPH_VERBOSITY=10`) and attach the full output.\n",
            "Cause: closure mismatch, requested ('self', 'step_function'), but source function had ()\n",
            "To silence this warning, decorate the function with @tf.autograph.experimental.do_not_convert\n"
          ]
        },
        {
          "output_type": "stream",
          "name": "stdout",
          "text": [
            "WARNING: AutoGraph could not transform <function Model.make_test_function.<locals>.test_function at 0x7fd741ee2050> and will run it as-is.\n",
            "Please report this to the TensorFlow team. When filing the bug, set the verbosity to 10 (on Linux, `export AUTOGRAPH_VERBOSITY=10`) and attach the full output.\n",
            "Cause: closure mismatch, requested ('self', 'step_function'), but source function had ()\n",
            "To silence this warning, decorate the function with @tf.autograph.experimental.do_not_convert\n",
            "242/242 [==============================] - 1s 2ms/step - loss: 1.9233 - val_loss: 4.4641\n",
            "Epoch 2/100\n",
            "242/242 [==============================] - 0s 2ms/step - loss: 0.6537 - val_loss: 0.9036\n",
            "Epoch 3/100\n",
            "242/242 [==============================] - 0s 1ms/step - loss: 0.5890 - val_loss: 0.6580\n",
            "Epoch 4/100\n",
            "242/242 [==============================] - 0s 2ms/step - loss: 0.5513 - val_loss: 1.4358\n",
            "Epoch 5/100\n",
            "242/242 [==============================] - 0s 1ms/step - loss: 0.5220 - val_loss: 2.2975\n",
            "Epoch 6/100\n",
            "242/242 [==============================] - 0s 2ms/step - loss: 0.4996 - val_loss: 2.8953\n",
            "Epoch 7/100\n",
            "242/242 [==============================] - 0s 1ms/step - loss: 0.4822 - val_loss: 3.1192\n",
            "Epoch 8/100\n",
            "242/242 [==============================] - 0s 1ms/step - loss: 0.4683 - val_loss: 3.2946\n",
            "Epoch 9/100\n",
            "242/242 [==============================] - 0s 1ms/step - loss: 0.4571 - val_loss: 2.9548\n",
            "Epoch 10/100\n",
            "242/242 [==============================] - 0s 2ms/step - loss: 0.4485 - val_loss: 2.5823\n",
            "Epoch 11/100\n",
            "242/242 [==============================] - 0s 1ms/step - loss: 0.4408 - val_loss: 2.3305\n",
            "Epoch 12/100\n",
            "242/242 [==============================] - 0s 2ms/step - loss: 0.4345 - val_loss: 2.1236\n",
            "Epoch 13/100\n",
            "242/242 [==============================] - 0s 1ms/step - loss: 0.4298 - val_loss: 1.7990\n",
            "121/121 [==============================] - 0s 858us/step - loss: 0.4689\n",
            "[CV] END learning_rate=0.0020587676114196545, n_hidden=1, n_neurons=49; total time=   5.5s\n",
            "Epoch 1/100\n"
          ]
        },
        {
          "output_type": "stream",
          "name": "stderr",
          "text": [
            "WARNING:tensorflow:AutoGraph could not transform <function Model.make_train_function.<locals>.train_function at 0x7fd7377e5dd0> and will run it as-is.\n",
            "Please report this to the TensorFlow team. When filing the bug, set the verbosity to 10 (on Linux, `export AUTOGRAPH_VERBOSITY=10`) and attach the full output.\n",
            "Cause: closure mismatch, requested ('self', 'step_function'), but source function had ()\n",
            "To silence this warning, decorate the function with @tf.autograph.experimental.do_not_convert\n"
          ]
        },
        {
          "output_type": "stream",
          "name": "stdout",
          "text": [
            "WARNING: AutoGraph could not transform <function Model.make_train_function.<locals>.train_function at 0x7fd7377e5dd0> and will run it as-is.\n",
            "Please report this to the TensorFlow team. When filing the bug, set the verbosity to 10 (on Linux, `export AUTOGRAPH_VERBOSITY=10`) and attach the full output.\n",
            "Cause: closure mismatch, requested ('self', 'step_function'), but source function had ()\n",
            "To silence this warning, decorate the function with @tf.autograph.experimental.do_not_convert\n",
            "205/242 [========================>.....] - ETA: 0s - loss: 1.8062"
          ]
        },
        {
          "output_type": "stream",
          "name": "stderr",
          "text": [
            "WARNING:tensorflow:AutoGraph could not transform <function Model.make_test_function.<locals>.test_function at 0x7fd737715b00> and will run it as-is.\n",
            "Please report this to the TensorFlow team. When filing the bug, set the verbosity to 10 (on Linux, `export AUTOGRAPH_VERBOSITY=10`) and attach the full output.\n",
            "Cause: closure mismatch, requested ('self', 'step_function'), but source function had ()\n",
            "To silence this warning, decorate the function with @tf.autograph.experimental.do_not_convert\n"
          ]
        },
        {
          "output_type": "stream",
          "name": "stdout",
          "text": [
            "WARNING: AutoGraph could not transform <function Model.make_test_function.<locals>.test_function at 0x7fd737715b00> and will run it as-is.\n",
            "Please report this to the TensorFlow team. When filing the bug, set the verbosity to 10 (on Linux, `export AUTOGRAPH_VERBOSITY=10`) and attach the full output.\n",
            "Cause: closure mismatch, requested ('self', 'step_function'), but source function had ()\n",
            "To silence this warning, decorate the function with @tf.autograph.experimental.do_not_convert\n",
            "242/242 [==============================] - 1s 2ms/step - loss: 1.6794 - val_loss: 5.2522\n",
            "Epoch 2/100\n",
            "242/242 [==============================] - 0s 2ms/step - loss: 0.7467 - val_loss: 4.6583\n",
            "Epoch 3/100\n",
            "242/242 [==============================] - 0s 2ms/step - loss: 0.6387 - val_loss: 1.7668\n",
            "Epoch 4/100\n",
            "242/242 [==============================] - 0s 2ms/step - loss: 0.6013 - val_loss: 1.2836\n",
            "Epoch 5/100\n",
            "242/242 [==============================] - 0s 1ms/step - loss: 0.5418 - val_loss: 0.5061\n",
            "Epoch 6/100\n",
            "242/242 [==============================] - 0s 2ms/step - loss: 0.5153 - val_loss: 0.6277\n",
            "Epoch 7/100\n",
            "242/242 [==============================] - 0s 2ms/step - loss: 0.4934 - val_loss: 0.4761\n",
            "Epoch 8/100\n",
            "242/242 [==============================] - 0s 1ms/step - loss: 0.4791 - val_loss: 0.4367\n",
            "Epoch 9/100\n",
            "242/242 [==============================] - 0s 1ms/step - loss: 0.4654 - val_loss: 0.5871\n",
            "Epoch 10/100\n",
            "242/242 [==============================] - 0s 2ms/step - loss: 0.4549 - val_loss: 0.4167\n",
            "Epoch 11/100\n",
            "242/242 [==============================] - 0s 2ms/step - loss: 0.4466 - val_loss: 0.5009\n",
            "Epoch 12/100\n",
            "242/242 [==============================] - 0s 1ms/step - loss: 0.4391 - val_loss: 0.4195\n",
            "Epoch 13/100\n",
            "242/242 [==============================] - 0s 2ms/step - loss: 0.4331 - val_loss: 0.4005\n",
            "Epoch 14/100\n",
            "242/242 [==============================] - 0s 2ms/step - loss: 0.4289 - val_loss: 0.5447\n",
            "Epoch 15/100\n",
            "242/242 [==============================] - 0s 1ms/step - loss: 0.4261 - val_loss: 0.3922\n",
            "Epoch 16/100\n",
            "242/242 [==============================] - 0s 2ms/step - loss: 0.4213 - val_loss: 0.5845\n",
            "Epoch 17/100\n",
            "242/242 [==============================] - 0s 1ms/step - loss: 0.4200 - val_loss: 0.4274\n",
            "Epoch 18/100\n",
            "242/242 [==============================] - 0s 1ms/step - loss: 0.4163 - val_loss: 0.4276\n",
            "Epoch 19/100\n",
            "242/242 [==============================] - 0s 2ms/step - loss: 0.4132 - val_loss: 0.4263\n",
            "Epoch 20/100\n",
            "242/242 [==============================] - 0s 1ms/step - loss: 0.4104 - val_loss: 0.4040\n",
            "Epoch 21/100\n",
            "242/242 [==============================] - 0s 2ms/step - loss: 0.4084 - val_loss: 0.4351\n",
            "Epoch 22/100\n",
            "242/242 [==============================] - 0s 1ms/step - loss: 0.4070 - val_loss: 0.3745\n",
            "Epoch 23/100\n",
            "242/242 [==============================] - 0s 2ms/step - loss: 0.4045 - val_loss: 0.3909\n",
            "Epoch 24/100\n",
            "242/242 [==============================] - 0s 1ms/step - loss: 0.4025 - val_loss: 0.4480\n",
            "Epoch 25/100\n",
            "242/242 [==============================] - 0s 2ms/step - loss: 0.4018 - val_loss: 0.3857\n",
            "Epoch 26/100\n",
            "242/242 [==============================] - 0s 2ms/step - loss: 0.3993 - val_loss: 0.3883\n",
            "Epoch 27/100\n",
            "242/242 [==============================] - 0s 2ms/step - loss: 0.3973 - val_loss: 0.5116\n",
            "Epoch 28/100\n",
            "242/242 [==============================] - 0s 1ms/step - loss: 0.3978 - val_loss: 0.3801\n",
            "Epoch 29/100\n",
            "242/242 [==============================] - 0s 2ms/step - loss: 0.3949 - val_loss: 0.7662\n",
            "Epoch 30/100\n",
            "242/242 [==============================] - 0s 1ms/step - loss: 0.3973 - val_loss: 0.3831\n",
            "Epoch 31/100\n",
            "242/242 [==============================] - 0s 1ms/step - loss: 0.3922 - val_loss: 0.4530\n",
            "Epoch 32/100\n",
            "242/242 [==============================] - 0s 2ms/step - loss: 0.3913 - val_loss: 0.4156\n",
            "121/121 [==============================] - 0s 954us/step - loss: 0.3893\n",
            "[CV] END learning_rate=0.0020587676114196545, n_hidden=1, n_neurons=49; total time=  12.5s\n",
            "Epoch 1/100\n"
          ]
        },
        {
          "output_type": "stream",
          "name": "stderr",
          "text": [
            "WARNING:tensorflow:AutoGraph could not transform <function Model.make_train_function.<locals>.train_function at 0x7fd73764c3b0> and will run it as-is.\n",
            "Please report this to the TensorFlow team. When filing the bug, set the verbosity to 10 (on Linux, `export AUTOGRAPH_VERBOSITY=10`) and attach the full output.\n",
            "Cause: closure mismatch, requested ('self', 'step_function'), but source function had ()\n",
            "To silence this warning, decorate the function with @tf.autograph.experimental.do_not_convert\n"
          ]
        },
        {
          "output_type": "stream",
          "name": "stdout",
          "text": [
            "WARNING: AutoGraph could not transform <function Model.make_train_function.<locals>.train_function at 0x7fd73764c3b0> and will run it as-is.\n",
            "Please report this to the TensorFlow team. When filing the bug, set the verbosity to 10 (on Linux, `export AUTOGRAPH_VERBOSITY=10`) and attach the full output.\n",
            "Cause: closure mismatch, requested ('self', 'step_function'), but source function had ()\n",
            "To silence this warning, decorate the function with @tf.autograph.experimental.do_not_convert\n",
            "241/242 [============================>.] - ETA: 0s - loss: 1.0838"
          ]
        },
        {
          "output_type": "stream",
          "name": "stderr",
          "text": [
            "WARNING:tensorflow:AutoGraph could not transform <function Model.make_test_function.<locals>.test_function at 0x7fd73767d200> and will run it as-is.\n",
            "Please report this to the TensorFlow team. When filing the bug, set the verbosity to 10 (on Linux, `export AUTOGRAPH_VERBOSITY=10`) and attach the full output.\n",
            "Cause: closure mismatch, requested ('self', 'step_function'), but source function had ()\n",
            "To silence this warning, decorate the function with @tf.autograph.experimental.do_not_convert\n"
          ]
        },
        {
          "output_type": "stream",
          "name": "stdout",
          "text": [
            "WARNING: AutoGraph could not transform <function Model.make_test_function.<locals>.test_function at 0x7fd73767d200> and will run it as-is.\n",
            "Please report this to the TensorFlow team. When filing the bug, set the verbosity to 10 (on Linux, `export AUTOGRAPH_VERBOSITY=10`) and attach the full output.\n",
            "Cause: closure mismatch, requested ('self', 'step_function'), but source function had ()\n",
            "To silence this warning, decorate the function with @tf.autograph.experimental.do_not_convert\n",
            "242/242 [==============================] - 1s 4ms/step - loss: 1.0819 - val_loss: 0.6179\n",
            "Epoch 2/100\n",
            "242/242 [==============================] - 0s 2ms/step - loss: 0.5500 - val_loss: 3.3922\n",
            "Epoch 3/100\n",
            "242/242 [==============================] - 0s 2ms/step - loss: 0.4914 - val_loss: 2.4191\n",
            "Epoch 4/100\n",
            "242/242 [==============================] - 0s 2ms/step - loss: 0.4462 - val_loss: 0.4920\n",
            "Epoch 5/100\n",
            "242/242 [==============================] - 0s 2ms/step - loss: 0.3990 - val_loss: 0.3734\n",
            "Epoch 6/100\n",
            "242/242 [==============================] - 0s 2ms/step - loss: 0.3811 - val_loss: 0.4213\n",
            "Epoch 7/100\n",
            "242/242 [==============================] - 0s 2ms/step - loss: 0.3687 - val_loss: 0.3665\n",
            "Epoch 8/100\n",
            "242/242 [==============================] - 0s 2ms/step - loss: 0.3598 - val_loss: 0.4383\n",
            "Epoch 9/100\n",
            "242/242 [==============================] - 0s 2ms/step - loss: 0.3537 - val_loss: 0.3782\n",
            "Epoch 10/100\n",
            "242/242 [==============================] - 0s 2ms/step - loss: 0.3488 - val_loss: 0.4116\n",
            "Epoch 11/100\n",
            "242/242 [==============================] - 0s 2ms/step - loss: 0.3448 - val_loss: 0.3300\n",
            "Epoch 12/100\n",
            "242/242 [==============================] - 0s 2ms/step - loss: 0.3393 - val_loss: 0.3624\n",
            "Epoch 13/100\n",
            "242/242 [==============================] - 0s 2ms/step - loss: 0.3350 - val_loss: 0.4419\n",
            "Epoch 14/100\n",
            "242/242 [==============================] - 0s 2ms/step - loss: 0.3345 - val_loss: 0.3179\n",
            "Epoch 15/100\n",
            "242/242 [==============================] - 0s 2ms/step - loss: 0.3290 - val_loss: 0.5404\n",
            "Epoch 16/100\n",
            "242/242 [==============================] - 0s 2ms/step - loss: 0.3292 - val_loss: 0.3169\n",
            "Epoch 17/100\n",
            "242/242 [==============================] - 0s 2ms/step - loss: 0.3245 - val_loss: 0.4133\n",
            "Epoch 18/100\n",
            "242/242 [==============================] - 0s 2ms/step - loss: 0.3225 - val_loss: 0.3470\n",
            "Epoch 19/100\n",
            "242/242 [==============================] - 0s 2ms/step - loss: 0.3182 - val_loss: 0.4469\n",
            "Epoch 20/100\n",
            "242/242 [==============================] - 0s 2ms/step - loss: 0.3191 - val_loss: 0.3046\n",
            "Epoch 21/100\n",
            "242/242 [==============================] - 0s 2ms/step - loss: 0.3151 - val_loss: 0.4535\n",
            "Epoch 22/100\n",
            "242/242 [==============================] - 0s 2ms/step - loss: 0.3139 - val_loss: 0.3209\n",
            "Epoch 23/100\n",
            "242/242 [==============================] - 0s 2ms/step - loss: 0.3104 - val_loss: 0.4036\n",
            "Epoch 24/100\n",
            "242/242 [==============================] - 0s 2ms/step - loss: 0.3123 - val_loss: 0.3462\n",
            "Epoch 25/100\n",
            "242/242 [==============================] - 0s 2ms/step - loss: 0.3085 - val_loss: 0.4266\n",
            "Epoch 26/100\n",
            "242/242 [==============================] - 0s 2ms/step - loss: 0.3059 - val_loss: 0.3237\n",
            "Epoch 27/100\n",
            "242/242 [==============================] - 0s 2ms/step - loss: 0.3052 - val_loss: 0.3905\n",
            "Epoch 28/100\n",
            "242/242 [==============================] - 0s 2ms/step - loss: 0.3034 - val_loss: 0.3337\n",
            "Epoch 29/100\n",
            "242/242 [==============================] - 0s 2ms/step - loss: 0.3002 - val_loss: 0.3956\n",
            "Epoch 30/100\n",
            "242/242 [==============================] - 0s 2ms/step - loss: 0.2994 - val_loss: 0.3192\n",
            "121/121 [==============================] - 0s 1ms/step - loss: 0.3304\n",
            "[CV] END learning_rate=0.005803602934201024, n_hidden=3, n_neurons=74; total time=  13.4s\n",
            "Epoch 1/100\n"
          ]
        },
        {
          "output_type": "stream",
          "name": "stderr",
          "text": [
            "WARNING:tensorflow:AutoGraph could not transform <function Model.make_train_function.<locals>.train_function at 0x7fd7401d04d0> and will run it as-is.\n",
            "Please report this to the TensorFlow team. When filing the bug, set the verbosity to 10 (on Linux, `export AUTOGRAPH_VERBOSITY=10`) and attach the full output.\n",
            "Cause: closure mismatch, requested ('self', 'step_function'), but source function had ()\n",
            "To silence this warning, decorate the function with @tf.autograph.experimental.do_not_convert\n"
          ]
        },
        {
          "output_type": "stream",
          "name": "stdout",
          "text": [
            "WARNING: AutoGraph could not transform <function Model.make_train_function.<locals>.train_function at 0x7fd7401d04d0> and will run it as-is.\n",
            "Please report this to the TensorFlow team. When filing the bug, set the verbosity to 10 (on Linux, `export AUTOGRAPH_VERBOSITY=10`) and attach the full output.\n",
            "Cause: closure mismatch, requested ('self', 'step_function'), but source function had ()\n",
            "To silence this warning, decorate the function with @tf.autograph.experimental.do_not_convert\n",
            "235/242 [============================>.] - ETA: 0s - loss: 0.9487"
          ]
        },
        {
          "output_type": "stream",
          "name": "stderr",
          "text": [
            "WARNING:tensorflow:AutoGraph could not transform <function Model.make_test_function.<locals>.test_function at 0x7fd735e68320> and will run it as-is.\n",
            "Please report this to the TensorFlow team. When filing the bug, set the verbosity to 10 (on Linux, `export AUTOGRAPH_VERBOSITY=10`) and attach the full output.\n",
            "Cause: closure mismatch, requested ('self', 'step_function'), but source function had ()\n",
            "To silence this warning, decorate the function with @tf.autograph.experimental.do_not_convert\n"
          ]
        },
        {
          "output_type": "stream",
          "name": "stdout",
          "text": [
            "WARNING: AutoGraph could not transform <function Model.make_test_function.<locals>.test_function at 0x7fd735e68320> and will run it as-is.\n",
            "Please report this to the TensorFlow team. When filing the bug, set the verbosity to 10 (on Linux, `export AUTOGRAPH_VERBOSITY=10`) and attach the full output.\n",
            "Cause: closure mismatch, requested ('self', 'step_function'), but source function had ()\n",
            "To silence this warning, decorate the function with @tf.autograph.experimental.do_not_convert\n",
            "242/242 [==============================] - 1s 2ms/step - loss: 0.9372 - val_loss: 0.6602\n",
            "Epoch 2/100\n",
            "242/242 [==============================] - 0s 2ms/step - loss: 0.4900 - val_loss: 0.8619\n",
            "Epoch 3/100\n",
            "242/242 [==============================] - 0s 2ms/step - loss: 0.4117 - val_loss: 0.7788\n",
            "Epoch 4/100\n",
            "242/242 [==============================] - 0s 2ms/step - loss: 0.3831 - val_loss: 0.5587\n",
            "Epoch 5/100\n",
            "242/242 [==============================] - 0s 2ms/step - loss: 0.3678 - val_loss: 0.3850\n",
            "Epoch 6/100\n",
            "242/242 [==============================] - 0s 2ms/step - loss: 0.3580 - val_loss: 0.3578\n",
            "Epoch 7/100\n",
            "242/242 [==============================] - 0s 2ms/step - loss: 0.3513 - val_loss: 0.5307\n",
            "Epoch 8/100\n",
            "242/242 [==============================] - 0s 2ms/step - loss: 0.3469 - val_loss: 0.6256\n",
            "Epoch 9/100\n",
            "242/242 [==============================] - 0s 2ms/step - loss: 0.3412 - val_loss: 0.8663\n",
            "Epoch 10/100\n",
            "242/242 [==============================] - 0s 2ms/step - loss: 0.3382 - val_loss: 0.5734\n",
            "Epoch 11/100\n",
            "242/242 [==============================] - 0s 2ms/step - loss: 0.3336 - val_loss: 0.7210\n",
            "Epoch 12/100\n",
            "242/242 [==============================] - 0s 2ms/step - loss: 0.3307 - val_loss: 0.7823\n",
            "Epoch 13/100\n",
            "242/242 [==============================] - 0s 2ms/step - loss: 0.3278 - val_loss: 0.9658\n",
            "Epoch 14/100\n",
            "242/242 [==============================] - 0s 2ms/step - loss: 0.3264 - val_loss: 0.7248\n",
            "Epoch 15/100\n",
            "242/242 [==============================] - 0s 2ms/step - loss: 0.3241 - val_loss: 0.8045\n",
            "Epoch 16/100\n",
            "242/242 [==============================] - 0s 2ms/step - loss: 0.3197 - val_loss: 0.8197\n",
            "121/121 [==============================] - 0s 976us/step - loss: 0.3460\n",
            "[CV] END learning_rate=0.005803602934201024, n_hidden=3, n_neurons=74; total time=   7.3s\n",
            "Epoch 1/100\n"
          ]
        },
        {
          "output_type": "stream",
          "name": "stderr",
          "text": [
            "WARNING:tensorflow:AutoGraph could not transform <function Model.make_train_function.<locals>.train_function at 0x7fd7377a23b0> and will run it as-is.\n",
            "Please report this to the TensorFlow team. When filing the bug, set the verbosity to 10 (on Linux, `export AUTOGRAPH_VERBOSITY=10`) and attach the full output.\n",
            "Cause: closure mismatch, requested ('self', 'step_function'), but source function had ()\n",
            "To silence this warning, decorate the function with @tf.autograph.experimental.do_not_convert\n"
          ]
        },
        {
          "output_type": "stream",
          "name": "stdout",
          "text": [
            "WARNING: AutoGraph could not transform <function Model.make_train_function.<locals>.train_function at 0x7fd7377a23b0> and will run it as-is.\n",
            "Please report this to the TensorFlow team. When filing the bug, set the verbosity to 10 (on Linux, `export AUTOGRAPH_VERBOSITY=10`) and attach the full output.\n",
            "Cause: closure mismatch, requested ('self', 'step_function'), but source function had ()\n",
            "To silence this warning, decorate the function with @tf.autograph.experimental.do_not_convert\n",
            "227/242 [===========================>..] - ETA: 0s - loss: 1.0356"
          ]
        },
        {
          "output_type": "stream",
          "name": "stderr",
          "text": [
            "WARNING:tensorflow:AutoGraph could not transform <function Model.make_test_function.<locals>.test_function at 0x7fd737709830> and will run it as-is.\n",
            "Please report this to the TensorFlow team. When filing the bug, set the verbosity to 10 (on Linux, `export AUTOGRAPH_VERBOSITY=10`) and attach the full output.\n",
            "Cause: closure mismatch, requested ('self', 'step_function'), but source function had ()\n",
            "To silence this warning, decorate the function with @tf.autograph.experimental.do_not_convert\n"
          ]
        },
        {
          "output_type": "stream",
          "name": "stdout",
          "text": [
            "WARNING: AutoGraph could not transform <function Model.make_test_function.<locals>.test_function at 0x7fd737709830> and will run it as-is.\n",
            "Please report this to the TensorFlow team. When filing the bug, set the verbosity to 10 (on Linux, `export AUTOGRAPH_VERBOSITY=10`) and attach the full output.\n",
            "Cause: closure mismatch, requested ('self', 'step_function'), but source function had ()\n",
            "To silence this warning, decorate the function with @tf.autograph.experimental.do_not_convert\n",
            "242/242 [==============================] - 1s 2ms/step - loss: 1.0059 - val_loss: 1.8172\n",
            "Epoch 2/100\n",
            "242/242 [==============================] - 0s 2ms/step - loss: 0.5225 - val_loss: 2.3028\n",
            "Epoch 3/100\n",
            "242/242 [==============================] - 0s 2ms/step - loss: 0.4536 - val_loss: 1.0580\n",
            "Epoch 4/100\n",
            "242/242 [==============================] - 0s 2ms/step - loss: 0.4197 - val_loss: 0.7162\n",
            "Epoch 5/100\n",
            "242/242 [==============================] - 0s 2ms/step - loss: 0.3921 - val_loss: 0.3621\n",
            "Epoch 6/100\n",
            "242/242 [==============================] - 0s 2ms/step - loss: 0.3789 - val_loss: 0.3924\n",
            "Epoch 7/100\n",
            "242/242 [==============================] - 0s 2ms/step - loss: 0.3705 - val_loss: 0.3753\n",
            "Epoch 8/100\n",
            "242/242 [==============================] - 0s 2ms/step - loss: 0.3637 - val_loss: 0.3497\n",
            "Epoch 9/100\n",
            "242/242 [==============================] - 0s 2ms/step - loss: 0.3568 - val_loss: 0.4140\n",
            "Epoch 10/100\n",
            "242/242 [==============================] - 0s 2ms/step - loss: 0.3555 - val_loss: 0.3346\n",
            "Epoch 11/100\n",
            "242/242 [==============================] - 0s 2ms/step - loss: 0.3492 - val_loss: 0.4863\n",
            "Epoch 12/100\n",
            "242/242 [==============================] - 0s 2ms/step - loss: 0.3465 - val_loss: 0.3290\n",
            "Epoch 13/100\n",
            "242/242 [==============================] - 0s 2ms/step - loss: 0.3414 - val_loss: 0.3296\n",
            "Epoch 14/100\n",
            "242/242 [==============================] - 0s 2ms/step - loss: 0.3385 - val_loss: 0.4439\n",
            "Epoch 15/100\n",
            "242/242 [==============================] - 0s 2ms/step - loss: 0.3375 - val_loss: 0.3301\n",
            "Epoch 16/100\n",
            "242/242 [==============================] - 0s 2ms/step - loss: 0.3333 - val_loss: 0.4140\n",
            "Epoch 17/100\n",
            "242/242 [==============================] - 0s 2ms/step - loss: 0.3311 - val_loss: 0.3175\n",
            "Epoch 18/100\n",
            "242/242 [==============================] - 0s 2ms/step - loss: 0.3275 - val_loss: 0.3199\n",
            "Epoch 19/100\n",
            "242/242 [==============================] - 0s 2ms/step - loss: 0.3256 - val_loss: 0.3794\n",
            "Epoch 20/100\n",
            "242/242 [==============================] - 0s 2ms/step - loss: 0.3233 - val_loss: 0.3197\n",
            "Epoch 21/100\n",
            "242/242 [==============================] - 0s 2ms/step - loss: 0.3214 - val_loss: 0.3674\n",
            "Epoch 22/100\n",
            "242/242 [==============================] - 0s 2ms/step - loss: 0.3256 - val_loss: 0.3605\n",
            "Epoch 23/100\n",
            "242/242 [==============================] - 0s 2ms/step - loss: 0.3210 - val_loss: 0.3283\n",
            "Epoch 24/100\n",
            "242/242 [==============================] - 0s 2ms/step - loss: 0.3172 - val_loss: 0.3366\n",
            "Epoch 25/100\n",
            "242/242 [==============================] - 0s 2ms/step - loss: 0.3143 - val_loss: 0.3072\n",
            "Epoch 26/100\n",
            "242/242 [==============================] - 0s 2ms/step - loss: 0.3111 - val_loss: 0.3065\n",
            "Epoch 27/100\n",
            "242/242 [==============================] - 0s 2ms/step - loss: 0.3096 - val_loss: 0.3545\n",
            "Epoch 28/100\n",
            "242/242 [==============================] - 0s 2ms/step - loss: 0.3088 - val_loss: 0.3035\n",
            "Epoch 29/100\n",
            "242/242 [==============================] - 0s 2ms/step - loss: 0.3080 - val_loss: 0.3903\n",
            "Epoch 30/100\n",
            "242/242 [==============================] - 0s 2ms/step - loss: 0.3069 - val_loss: 0.3157\n",
            "Epoch 31/100\n",
            "242/242 [==============================] - 0s 2ms/step - loss: 0.3036 - val_loss: 0.3074\n",
            "Epoch 32/100\n",
            "242/242 [==============================] - 0s 2ms/step - loss: 0.3009 - val_loss: 0.4420\n",
            "Epoch 33/100\n",
            "242/242 [==============================] - 0s 2ms/step - loss: 0.3021 - val_loss: 0.2956\n",
            "Epoch 34/100\n",
            "242/242 [==============================] - 0s 2ms/step - loss: 0.2974 - val_loss: 0.3953\n",
            "Epoch 35/100\n",
            "242/242 [==============================] - 0s 2ms/step - loss: 0.3000 - val_loss: 0.3091\n",
            "Epoch 36/100\n",
            "242/242 [==============================] - 0s 2ms/step - loss: 0.2961 - val_loss: 0.3461\n",
            "Epoch 37/100\n",
            "242/242 [==============================] - 0s 2ms/step - loss: 0.2944 - val_loss: 0.2925\n",
            "Epoch 38/100\n",
            "242/242 [==============================] - 0s 2ms/step - loss: 0.2935 - val_loss: 0.3522\n",
            "Epoch 39/100\n",
            "242/242 [==============================] - 0s 2ms/step - loss: 0.2916 - val_loss: 0.2912\n",
            "Epoch 40/100\n",
            "242/242 [==============================] - 0s 2ms/step - loss: 0.2900 - val_loss: 0.3154\n",
            "Epoch 41/100\n",
            "242/242 [==============================] - 0s 2ms/step - loss: 0.2877 - val_loss: 0.2978\n",
            "Epoch 42/100\n",
            "242/242 [==============================] - 0s 2ms/step - loss: 0.2867 - val_loss: 0.3252\n",
            "Epoch 43/100\n",
            "242/242 [==============================] - 0s 2ms/step - loss: 0.2869 - val_loss: 0.3069\n",
            "Epoch 44/100\n",
            "242/242 [==============================] - 0s 2ms/step - loss: 0.2858 - val_loss: 0.3326\n",
            "Epoch 45/100\n",
            "242/242 [==============================] - 0s 2ms/step - loss: 0.2845 - val_loss: 0.3040\n",
            "Epoch 46/100\n",
            "242/242 [==============================] - 0s 2ms/step - loss: 0.2816 - val_loss: 0.3154\n",
            "Epoch 47/100\n",
            "242/242 [==============================] - 0s 2ms/step - loss: 0.2801 - val_loss: 0.2854\n",
            "Epoch 48/100\n",
            "242/242 [==============================] - 0s 2ms/step - loss: 0.2802 - val_loss: 0.2902\n",
            "Epoch 49/100\n",
            "242/242 [==============================] - 0s 2ms/step - loss: 0.2778 - val_loss: 0.3308\n",
            "Epoch 50/100\n",
            "242/242 [==============================] - 0s 2ms/step - loss: 0.2779 - val_loss: 0.2997\n",
            "Epoch 51/100\n",
            "242/242 [==============================] - 0s 2ms/step - loss: 0.2763 - val_loss: 0.3814\n",
            "Epoch 52/100\n",
            "242/242 [==============================] - 0s 2ms/step - loss: 0.2758 - val_loss: 0.2903\n",
            "Epoch 53/100\n",
            "242/242 [==============================] - 0s 2ms/step - loss: 0.2748 - val_loss: 0.2995\n",
            "Epoch 54/100\n",
            "242/242 [==============================] - 0s 2ms/step - loss: 0.2738 - val_loss: 0.2843\n",
            "Epoch 55/100\n",
            "242/242 [==============================] - 0s 2ms/step - loss: 0.2722 - val_loss: 0.2918\n",
            "Epoch 56/100\n",
            "242/242 [==============================] - 0s 2ms/step - loss: 0.2721 - val_loss: 0.2848\n",
            "Epoch 57/100\n",
            "242/242 [==============================] - 0s 2ms/step - loss: 0.2706 - val_loss: 0.2969\n",
            "Epoch 58/100\n",
            "242/242 [==============================] - 0s 2ms/step - loss: 0.2715 - val_loss: 0.2921\n",
            "Epoch 59/100\n",
            "242/242 [==============================] - 0s 2ms/step - loss: 0.2688 - val_loss: 0.2983\n",
            "Epoch 60/100\n",
            "242/242 [==============================] - 0s 2ms/step - loss: 0.2684 - val_loss: 0.3009\n",
            "Epoch 61/100\n",
            "242/242 [==============================] - 0s 2ms/step - loss: 0.2670 - val_loss: 0.2847\n",
            "Epoch 62/100\n",
            "242/242 [==============================] - 0s 2ms/step - loss: 0.2668 - val_loss: 0.3263\n",
            "Epoch 63/100\n",
            "242/242 [==============================] - 0s 2ms/step - loss: 0.2667 - val_loss: 0.3011\n",
            "Epoch 64/100\n",
            "242/242 [==============================] - 0s 2ms/step - loss: 0.2658 - val_loss: 0.3743\n",
            "121/121 [==============================] - 0s 981us/step - loss: 0.2893\n",
            "[CV] END learning_rate=0.005803602934201024, n_hidden=3, n_neurons=74; total time=  41.4s\n",
            "Epoch 1/100\n"
          ]
        },
        {
          "output_type": "stream",
          "name": "stderr",
          "text": [
            "WARNING:tensorflow:AutoGraph could not transform <function Model.make_train_function.<locals>.train_function at 0x7fd7378fa440> and will run it as-is.\n",
            "Please report this to the TensorFlow team. When filing the bug, set the verbosity to 10 (on Linux, `export AUTOGRAPH_VERBOSITY=10`) and attach the full output.\n",
            "Cause: closure mismatch, requested ('self', 'step_function'), but source function had ()\n",
            "To silence this warning, decorate the function with @tf.autograph.experimental.do_not_convert\n"
          ]
        },
        {
          "output_type": "stream",
          "name": "stdout",
          "text": [
            "WARNING: AutoGraph could not transform <function Model.make_train_function.<locals>.train_function at 0x7fd7378fa440> and will run it as-is.\n",
            "Please report this to the TensorFlow team. When filing the bug, set the verbosity to 10 (on Linux, `export AUTOGRAPH_VERBOSITY=10`) and attach the full output.\n",
            "Cause: closure mismatch, requested ('self', 'step_function'), but source function had ()\n",
            "To silence this warning, decorate the function with @tf.autograph.experimental.do_not_convert\n",
            "220/242 [==========================>...] - ETA: 0s - loss: 1.1150"
          ]
        },
        {
          "output_type": "stream",
          "name": "stderr",
          "text": [
            "WARNING:tensorflow:AutoGraph could not transform <function Model.make_test_function.<locals>.test_function at 0x7fd7378fa560> and will run it as-is.\n",
            "Please report this to the TensorFlow team. When filing the bug, set the verbosity to 10 (on Linux, `export AUTOGRAPH_VERBOSITY=10`) and attach the full output.\n",
            "Cause: closure mismatch, requested ('self', 'step_function'), but source function had ()\n",
            "To silence this warning, decorate the function with @tf.autograph.experimental.do_not_convert\n"
          ]
        },
        {
          "output_type": "stream",
          "name": "stdout",
          "text": [
            "WARNING: AutoGraph could not transform <function Model.make_test_function.<locals>.test_function at 0x7fd7378fa560> and will run it as-is.\n",
            "Please report this to the TensorFlow team. When filing the bug, set the verbosity to 10 (on Linux, `export AUTOGRAPH_VERBOSITY=10`) and attach the full output.\n",
            "Cause: closure mismatch, requested ('self', 'step_function'), but source function had ()\n",
            "To silence this warning, decorate the function with @tf.autograph.experimental.do_not_convert\n",
            "242/242 [==============================] - 1s 2ms/step - loss: 1.0698 - val_loss: 0.7257\n",
            "Epoch 2/100\n",
            "242/242 [==============================] - 0s 2ms/step - loss: 0.5334 - val_loss: 0.6315\n",
            "Epoch 3/100\n",
            "242/242 [==============================] - 0s 2ms/step - loss: 0.4549 - val_loss: 0.4031\n",
            "Epoch 4/100\n",
            "242/242 [==============================] - 0s 2ms/step - loss: 0.4138 - val_loss: 0.4004\n",
            "Epoch 5/100\n",
            "242/242 [==============================] - 0s 2ms/step - loss: 0.3906 - val_loss: 0.3658\n",
            "Epoch 6/100\n",
            "242/242 [==============================] - 0s 2ms/step - loss: 0.3758 - val_loss: 0.4465\n",
            "Epoch 7/100\n",
            "242/242 [==============================] - 0s 2ms/step - loss: 0.3664 - val_loss: 0.3551\n",
            "Epoch 8/100\n",
            "242/242 [==============================] - 0s 2ms/step - loss: 0.3576 - val_loss: 0.4744\n",
            "Epoch 9/100\n",
            "242/242 [==============================] - 0s 1ms/step - loss: 0.3529 - val_loss: 0.3619\n",
            "Epoch 10/100\n",
            "242/242 [==============================] - 0s 2ms/step - loss: 0.3472 - val_loss: 0.4411\n",
            "Epoch 11/100\n",
            "242/242 [==============================] - 0s 2ms/step - loss: 0.3447 - val_loss: 0.3323\n",
            "Epoch 12/100\n",
            "242/242 [==============================] - 0s 2ms/step - loss: 0.3390 - val_loss: 0.3752\n",
            "Epoch 13/100\n",
            "242/242 [==============================] - 0s 2ms/step - loss: 0.3347 - val_loss: 0.4214\n",
            "Epoch 14/100\n",
            "242/242 [==============================] - 0s 2ms/step - loss: 0.3336 - val_loss: 0.3379\n",
            "Epoch 15/100\n",
            "242/242 [==============================] - 0s 2ms/step - loss: 0.3288 - val_loss: 0.4371\n",
            "Epoch 16/100\n",
            "242/242 [==============================] - 0s 2ms/step - loss: 0.3276 - val_loss: 0.3248\n",
            "Epoch 17/100\n",
            "242/242 [==============================] - 0s 2ms/step - loss: 0.3234 - val_loss: 0.4326\n",
            "Epoch 18/100\n",
            "242/242 [==============================] - 0s 2ms/step - loss: 0.3228 - val_loss: 0.3191\n",
            "Epoch 19/100\n",
            "242/242 [==============================] - 0s 2ms/step - loss: 0.3186 - val_loss: 0.4486\n",
            "Epoch 20/100\n",
            "242/242 [==============================] - 0s 2ms/step - loss: 0.3182 - val_loss: 0.3069\n",
            "Epoch 21/100\n",
            "242/242 [==============================] - 0s 2ms/step - loss: 0.3147 - val_loss: 0.5131\n",
            "Epoch 22/100\n",
            "242/242 [==============================] - 0s 2ms/step - loss: 0.3151 - val_loss: 0.3144\n",
            "Epoch 23/100\n",
            "242/242 [==============================] - 0s 2ms/step - loss: 0.3113 - val_loss: 0.5216\n",
            "Epoch 24/100\n",
            "242/242 [==============================] - 0s 2ms/step - loss: 0.3140 - val_loss: 0.4175\n",
            "Epoch 25/100\n",
            "242/242 [==============================] - 0s 2ms/step - loss: 0.3099 - val_loss: 0.5747\n",
            "Epoch 26/100\n",
            "242/242 [==============================] - 0s 2ms/step - loss: 0.3080 - val_loss: 0.3522\n",
            "Epoch 27/100\n",
            "242/242 [==============================] - 0s 2ms/step - loss: 0.3064 - val_loss: 0.3852\n",
            "Epoch 28/100\n",
            "242/242 [==============================] - 0s 2ms/step - loss: 0.3041 - val_loss: 0.3397\n",
            "Epoch 29/100\n",
            "242/242 [==============================] - 0s 2ms/step - loss: 0.3008 - val_loss: 0.3835\n",
            "Epoch 30/100\n",
            "242/242 [==============================] - 0s 2ms/step - loss: 0.2993 - val_loss: 0.3054\n",
            "Epoch 31/100\n",
            "242/242 [==============================] - 0s 2ms/step - loss: 0.2987 - val_loss: 0.3103\n",
            "Epoch 32/100\n",
            "242/242 [==============================] - 0s 2ms/step - loss: 0.2965 - val_loss: 0.2977\n",
            "Epoch 33/100\n",
            "242/242 [==============================] - 0s 2ms/step - loss: 0.2940 - val_loss: 0.3262\n",
            "Epoch 34/100\n",
            "242/242 [==============================] - 0s 2ms/step - loss: 0.2923 - val_loss: 0.3261\n",
            "Epoch 35/100\n",
            "242/242 [==============================] - 0s 2ms/step - loss: 0.2910 - val_loss: 0.2963\n",
            "Epoch 36/100\n",
            "242/242 [==============================] - 0s 2ms/step - loss: 0.2898 - val_loss: 0.4311\n",
            "Epoch 37/100\n",
            "242/242 [==============================] - 0s 2ms/step - loss: 0.2896 - val_loss: 0.5142\n",
            "Epoch 38/100\n",
            "242/242 [==============================] - 1s 2ms/step - loss: 0.2922 - val_loss: 0.5788\n",
            "Epoch 39/100\n",
            "242/242 [==============================] - 1s 2ms/step - loss: 0.2906 - val_loss: 0.2996\n",
            "Epoch 40/100\n",
            "242/242 [==============================] - 1s 2ms/step - loss: 0.2865 - val_loss: 0.3528\n",
            "Epoch 41/100\n",
            "242/242 [==============================] - 1s 2ms/step - loss: 0.2848 - val_loss: 0.2861\n",
            "Epoch 42/100\n",
            "242/242 [==============================] - 1s 2ms/step - loss: 0.2823 - val_loss: 0.2998\n",
            "Epoch 43/100\n",
            "242/242 [==============================] - 1s 2ms/step - loss: 0.2822 - val_loss: 0.2940\n",
            "Epoch 44/100\n",
            "242/242 [==============================] - 1s 2ms/step - loss: 0.2801 - val_loss: 0.3078\n",
            "Epoch 45/100\n",
            "242/242 [==============================] - 0s 2ms/step - loss: 0.2792 - val_loss: 0.2814\n",
            "Epoch 46/100\n",
            "242/242 [==============================] - 0s 2ms/step - loss: 0.2777 - val_loss: 0.3254\n",
            "Epoch 47/100\n",
            "242/242 [==============================] - 0s 2ms/step - loss: 0.2763 - val_loss: 0.2976\n",
            "Epoch 48/100\n",
            "242/242 [==============================] - 0s 2ms/step - loss: 0.2761 - val_loss: 0.3066\n",
            "Epoch 49/100\n",
            "242/242 [==============================] - 0s 2ms/step - loss: 0.2741 - val_loss: 0.3075\n",
            "Epoch 50/100\n",
            "242/242 [==============================] - 0s 2ms/step - loss: 0.2746 - val_loss: 0.3776\n",
            "Epoch 51/100\n",
            "242/242 [==============================] - 0s 2ms/step - loss: 0.2725 - val_loss: 0.2954\n",
            "Epoch 52/100\n",
            "242/242 [==============================] - 0s 2ms/step - loss: 0.2702 - val_loss: 0.4031\n",
            "Epoch 53/100\n",
            "242/242 [==============================] - 0s 2ms/step - loss: 0.2713 - val_loss: 0.2746\n",
            "Epoch 54/100\n",
            "242/242 [==============================] - 0s 2ms/step - loss: 0.2688 - val_loss: 0.5547\n",
            "Epoch 55/100\n",
            "242/242 [==============================] - 0s 2ms/step - loss: 0.2728 - val_loss: 0.4049\n",
            "Epoch 56/100\n",
            "242/242 [==============================] - 0s 2ms/step - loss: 0.2706 - val_loss: 0.4461\n",
            "Epoch 57/100\n",
            "242/242 [==============================] - 0s 2ms/step - loss: 0.2672 - val_loss: 0.2785\n",
            "Epoch 58/100\n",
            "242/242 [==============================] - 0s 2ms/step - loss: 0.2667 - val_loss: 0.3832\n",
            "Epoch 59/100\n",
            "242/242 [==============================] - 0s 2ms/step - loss: 0.2665 - val_loss: 0.3410\n",
            "Epoch 60/100\n",
            "242/242 [==============================] - 0s 2ms/step - loss: 0.2646 - val_loss: 0.4374\n",
            "Epoch 61/100\n",
            "242/242 [==============================] - 0s 2ms/step - loss: 0.2650 - val_loss: 0.2916\n",
            "Epoch 62/100\n",
            "242/242 [==============================] - 0s 2ms/step - loss: 0.2623 - val_loss: 0.5043\n",
            "Epoch 63/100\n",
            "242/242 [==============================] - 0s 2ms/step - loss: 0.2639 - val_loss: 0.3292\n",
            "121/121 [==============================] - 0s 1ms/step - loss: 0.3153\n",
            "[CV] END learning_rate=0.0059640580092043885, n_hidden=3, n_neurons=80; total time=  41.4s\n",
            "Epoch 1/100\n"
          ]
        },
        {
          "output_type": "stream",
          "name": "stderr",
          "text": [
            "WARNING:tensorflow:AutoGraph could not transform <function Model.make_train_function.<locals>.train_function at 0x7fd737993560> and will run it as-is.\n",
            "Please report this to the TensorFlow team. When filing the bug, set the verbosity to 10 (on Linux, `export AUTOGRAPH_VERBOSITY=10`) and attach the full output.\n",
            "Cause: closure mismatch, requested ('self', 'step_function'), but source function had ()\n",
            "To silence this warning, decorate the function with @tf.autograph.experimental.do_not_convert\n"
          ]
        },
        {
          "output_type": "stream",
          "name": "stdout",
          "text": [
            "WARNING: AutoGraph could not transform <function Model.make_train_function.<locals>.train_function at 0x7fd737993560> and will run it as-is.\n",
            "Please report this to the TensorFlow team. When filing the bug, set the verbosity to 10 (on Linux, `export AUTOGRAPH_VERBOSITY=10`) and attach the full output.\n",
            "Cause: closure mismatch, requested ('self', 'step_function'), but source function had ()\n",
            "To silence this warning, decorate the function with @tf.autograph.experimental.do_not_convert\n",
            "223/242 [==========================>...] - ETA: 0s - loss: 0.9394"
          ]
        },
        {
          "output_type": "stream",
          "name": "stderr",
          "text": [
            "WARNING:tensorflow:AutoGraph could not transform <function Model.make_test_function.<locals>.test_function at 0x7fd737bf6f80> and will run it as-is.\n",
            "Please report this to the TensorFlow team. When filing the bug, set the verbosity to 10 (on Linux, `export AUTOGRAPH_VERBOSITY=10`) and attach the full output.\n",
            "Cause: closure mismatch, requested ('self', 'step_function'), but source function had ()\n",
            "To silence this warning, decorate the function with @tf.autograph.experimental.do_not_convert\n"
          ]
        },
        {
          "output_type": "stream",
          "name": "stdout",
          "text": [
            "WARNING: AutoGraph could not transform <function Model.make_test_function.<locals>.test_function at 0x7fd737bf6f80> and will run it as-is.\n",
            "Please report this to the TensorFlow team. When filing the bug, set the verbosity to 10 (on Linux, `export AUTOGRAPH_VERBOSITY=10`) and attach the full output.\n",
            "Cause: closure mismatch, requested ('self', 'step_function'), but source function had ()\n",
            "To silence this warning, decorate the function with @tf.autograph.experimental.do_not_convert\n",
            "242/242 [==============================] - 1s 2ms/step - loss: 0.9149 - val_loss: 1.1298\n",
            "Epoch 2/100\n",
            "242/242 [==============================] - 0s 2ms/step - loss: 0.5257 - val_loss: 0.4629\n",
            "Epoch 3/100\n",
            "242/242 [==============================] - 0s 2ms/step - loss: 0.4352 - val_loss: 0.4891\n",
            "Epoch 4/100\n",
            "242/242 [==============================] - 0s 2ms/step - loss: 0.3978 - val_loss: 0.4121\n",
            "Epoch 5/100\n",
            "242/242 [==============================] - 0s 2ms/step - loss: 0.3761 - val_loss: 0.3654\n",
            "Epoch 6/100\n",
            "242/242 [==============================] - 0s 2ms/step - loss: 0.3637 - val_loss: 0.3809\n",
            "Epoch 7/100\n",
            "242/242 [==============================] - 0s 2ms/step - loss: 0.3562 - val_loss: 0.5274\n",
            "Epoch 8/100\n",
            "242/242 [==============================] - 0s 2ms/step - loss: 0.3503 - val_loss: 0.6024\n",
            "Epoch 9/100\n",
            "242/242 [==============================] - 0s 2ms/step - loss: 0.3445 - val_loss: 0.8120\n",
            "Epoch 10/100\n",
            "242/242 [==============================] - 0s 2ms/step - loss: 0.3414 - val_loss: 0.6976\n",
            "Epoch 11/100\n",
            "242/242 [==============================] - 0s 2ms/step - loss: 0.3371 - val_loss: 0.7951\n",
            "Epoch 12/100\n",
            "242/242 [==============================] - 0s 2ms/step - loss: 0.3336 - val_loss: 0.8469\n",
            "Epoch 13/100\n",
            "242/242 [==============================] - 0s 2ms/step - loss: 0.3316 - val_loss: 0.9981\n",
            "Epoch 14/100\n",
            "242/242 [==============================] - 0s 2ms/step - loss: 0.3306 - val_loss: 1.0174\n",
            "Epoch 15/100\n",
            "242/242 [==============================] - 0s 2ms/step - loss: 0.3286 - val_loss: 0.8693\n",
            "121/121 [==============================] - 0s 994us/step - loss: 0.3494\n",
            "[CV] END learning_rate=0.0059640580092043885, n_hidden=3, n_neurons=80; total time=   7.0s\n",
            "Epoch 1/100\n"
          ]
        },
        {
          "output_type": "stream",
          "name": "stderr",
          "text": [
            "WARNING:tensorflow:AutoGraph could not transform <function Model.make_train_function.<locals>.train_function at 0x7fd740f49200> and will run it as-is.\n",
            "Please report this to the TensorFlow team. When filing the bug, set the verbosity to 10 (on Linux, `export AUTOGRAPH_VERBOSITY=10`) and attach the full output.\n",
            "Cause: closure mismatch, requested ('self', 'step_function'), but source function had ()\n",
            "To silence this warning, decorate the function with @tf.autograph.experimental.do_not_convert\n"
          ]
        },
        {
          "output_type": "stream",
          "name": "stdout",
          "text": [
            "WARNING: AutoGraph could not transform <function Model.make_train_function.<locals>.train_function at 0x7fd740f49200> and will run it as-is.\n",
            "Please report this to the TensorFlow team. When filing the bug, set the verbosity to 10 (on Linux, `export AUTOGRAPH_VERBOSITY=10`) and attach the full output.\n",
            "Cause: closure mismatch, requested ('self', 'step_function'), but source function had ()\n",
            "To silence this warning, decorate the function with @tf.autograph.experimental.do_not_convert\n",
            "218/242 [==========================>...] - ETA: 0s - loss: 0.8803"
          ]
        },
        {
          "output_type": "stream",
          "name": "stderr",
          "text": [
            "WARNING:tensorflow:AutoGraph could not transform <function Model.make_test_function.<locals>.test_function at 0x7fd7359d6e60> and will run it as-is.\n",
            "Please report this to the TensorFlow team. When filing the bug, set the verbosity to 10 (on Linux, `export AUTOGRAPH_VERBOSITY=10`) and attach the full output.\n",
            "Cause: closure mismatch, requested ('self', 'step_function'), but source function had ()\n",
            "To silence this warning, decorate the function with @tf.autograph.experimental.do_not_convert\n"
          ]
        },
        {
          "output_type": "stream",
          "name": "stdout",
          "text": [
            "WARNING: AutoGraph could not transform <function Model.make_test_function.<locals>.test_function at 0x7fd7359d6e60> and will run it as-is.\n",
            "Please report this to the TensorFlow team. When filing the bug, set the verbosity to 10 (on Linux, `export AUTOGRAPH_VERBOSITY=10`) and attach the full output.\n",
            "Cause: closure mismatch, requested ('self', 'step_function'), but source function had ()\n",
            "To silence this warning, decorate the function with @tf.autograph.experimental.do_not_convert\n",
            "242/242 [==============================] - 1s 2ms/step - loss: 0.8495 - val_loss: 1.4991\n",
            "Epoch 2/100\n",
            "242/242 [==============================] - 0s 2ms/step - loss: 0.4751 - val_loss: 1.5083\n",
            "Epoch 3/100\n",
            "242/242 [==============================] - 0s 2ms/step - loss: 0.4227 - val_loss: 0.5970\n",
            "Epoch 4/100\n",
            "242/242 [==============================] - 0s 2ms/step - loss: 0.3941 - val_loss: 1.0257\n",
            "Epoch 5/100\n",
            "242/242 [==============================] - 0s 2ms/step - loss: 0.3869 - val_loss: 0.6075\n",
            "Epoch 6/100\n",
            "242/242 [==============================] - 0s 2ms/step - loss: 0.3722 - val_loss: 0.4875\n",
            "Epoch 7/100\n",
            "242/242 [==============================] - 0s 2ms/step - loss: 0.3626 - val_loss: 0.3333\n",
            "Epoch 8/100\n",
            "242/242 [==============================] - 0s 2ms/step - loss: 0.3540 - val_loss: 0.3602\n",
            "Epoch 9/100\n",
            "242/242 [==============================] - 0s 2ms/step - loss: 0.3475 - val_loss: 0.4214\n",
            "Epoch 10/100\n",
            "242/242 [==============================] - 0s 2ms/step - loss: 0.3474 - val_loss: 0.3567\n",
            "Epoch 11/100\n",
            "242/242 [==============================] - 0s 2ms/step - loss: 0.3418 - val_loss: 0.4116\n",
            "Epoch 12/100\n",
            "242/242 [==============================] - 0s 2ms/step - loss: 0.3373 - val_loss: 0.3268\n",
            "Epoch 13/100\n",
            "242/242 [==============================] - 0s 2ms/step - loss: 0.3326 - val_loss: 0.3261\n",
            "Epoch 14/100\n",
            "242/242 [==============================] - 0s 2ms/step - loss: 0.3298 - val_loss: 0.4203\n",
            "Epoch 15/100\n",
            "242/242 [==============================] - 0s 2ms/step - loss: 0.3287 - val_loss: 0.3242\n",
            "Epoch 16/100\n",
            "242/242 [==============================] - 0s 2ms/step - loss: 0.3241 - val_loss: 0.3903\n",
            "Epoch 17/100\n",
            "242/242 [==============================] - 0s 2ms/step - loss: 0.3238 - val_loss: 0.3172\n",
            "Epoch 18/100\n",
            "242/242 [==============================] - 0s 2ms/step - loss: 0.3201 - val_loss: 0.3602\n",
            "Epoch 19/100\n",
            "242/242 [==============================] - 0s 2ms/step - loss: 0.3179 - val_loss: 0.3750\n",
            "Epoch 20/100\n",
            "242/242 [==============================] - 0s 2ms/step - loss: 0.3152 - val_loss: 0.3807\n",
            "Epoch 21/100\n",
            "242/242 [==============================] - 0s 2ms/step - loss: 0.3155 - val_loss: 0.3566\n",
            "Epoch 22/100\n",
            "242/242 [==============================] - 0s 2ms/step - loss: 0.3136 - val_loss: 0.3263\n",
            "Epoch 23/100\n",
            "242/242 [==============================] - 0s 2ms/step - loss: 0.3111 - val_loss: 0.3704\n",
            "Epoch 24/100\n",
            "242/242 [==============================] - 0s 2ms/step - loss: 0.3094 - val_loss: 0.3478\n",
            "Epoch 25/100\n",
            "242/242 [==============================] - 0s 2ms/step - loss: 0.3077 - val_loss: 0.3075\n",
            "Epoch 26/100\n",
            "242/242 [==============================] - 0s 2ms/step - loss: 0.3047 - val_loss: 0.3068\n",
            "Epoch 27/100\n",
            "242/242 [==============================] - 0s 2ms/step - loss: 0.3025 - val_loss: 0.4239\n",
            "Epoch 28/100\n",
            "242/242 [==============================] - 0s 2ms/step - loss: 0.3057 - val_loss: 0.4176\n",
            "Epoch 29/100\n",
            "242/242 [==============================] - 0s 2ms/step - loss: 0.3058 - val_loss: 0.5204\n",
            "Epoch 30/100\n",
            "242/242 [==============================] - 0s 2ms/step - loss: 0.3040 - val_loss: 0.3068\n",
            "Epoch 31/100\n",
            "242/242 [==============================] - 0s 2ms/step - loss: 0.2997 - val_loss: 0.3178\n",
            "Epoch 32/100\n",
            "242/242 [==============================] - 0s 2ms/step - loss: 0.2975 - val_loss: 0.3463\n",
            "Epoch 33/100\n",
            "242/242 [==============================] - 0s 2ms/step - loss: 0.2978 - val_loss: 0.3217\n",
            "Epoch 34/100\n",
            "242/242 [==============================] - 0s 2ms/step - loss: 0.2954 - val_loss: 0.3471\n",
            "Epoch 35/100\n",
            "242/242 [==============================] - 0s 2ms/step - loss: 0.2946 - val_loss: 0.3149\n",
            "Epoch 36/100\n",
            "242/242 [==============================] - 0s 2ms/step - loss: 0.2913 - val_loss: 0.4613\n",
            "121/121 [==============================] - 0s 1ms/step - loss: 0.2995\n",
            "[CV] END learning_rate=0.0059640580092043885, n_hidden=3, n_neurons=80; total time=  21.0s\n",
            "Epoch 1/100\n"
          ]
        },
        {
          "output_type": "stream",
          "name": "stderr",
          "text": [
            "WARNING:tensorflow:AutoGraph could not transform <function Model.make_train_function.<locals>.train_function at 0x7fd740f498c0> and will run it as-is.\n",
            "Please report this to the TensorFlow team. When filing the bug, set the verbosity to 10 (on Linux, `export AUTOGRAPH_VERBOSITY=10`) and attach the full output.\n",
            "Cause: closure mismatch, requested ('self', 'step_function'), but source function had ()\n",
            "To silence this warning, decorate the function with @tf.autograph.experimental.do_not_convert\n"
          ]
        },
        {
          "output_type": "stream",
          "name": "stdout",
          "text": [
            "WARNING: AutoGraph could not transform <function Model.make_train_function.<locals>.train_function at 0x7fd740f498c0> and will run it as-is.\n",
            "Please report this to the TensorFlow team. When filing the bug, set the verbosity to 10 (on Linux, `export AUTOGRAPH_VERBOSITY=10`) and attach the full output.\n",
            "Cause: closure mismatch, requested ('self', 'step_function'), but source function had ()\n",
            "To silence this warning, decorate the function with @tf.autograph.experimental.do_not_convert\n",
            "233/242 [===========================>..] - ETA: 0s - loss: 1.2089"
          ]
        },
        {
          "output_type": "stream",
          "name": "stderr",
          "text": [
            "WARNING:tensorflow:AutoGraph could not transform <function Model.make_test_function.<locals>.test_function at 0x7fd73a7494d0> and will run it as-is.\n",
            "Please report this to the TensorFlow team. When filing the bug, set the verbosity to 10 (on Linux, `export AUTOGRAPH_VERBOSITY=10`) and attach the full output.\n",
            "Cause: closure mismatch, requested ('self', 'step_function'), but source function had ()\n",
            "To silence this warning, decorate the function with @tf.autograph.experimental.do_not_convert\n"
          ]
        },
        {
          "output_type": "stream",
          "name": "stdout",
          "text": [
            "WARNING: AutoGraph could not transform <function Model.make_test_function.<locals>.test_function at 0x7fd73a7494d0> and will run it as-is.\n",
            "Please report this to the TensorFlow team. When filing the bug, set the verbosity to 10 (on Linux, `export AUTOGRAPH_VERBOSITY=10`) and attach the full output.\n",
            "Cause: closure mismatch, requested ('self', 'step_function'), but source function had ()\n",
            "To silence this warning, decorate the function with @tf.autograph.experimental.do_not_convert\n",
            "242/242 [==============================] - 1s 2ms/step - loss: 1.1852 - val_loss: 3.2153\n",
            "Epoch 2/100\n",
            "242/242 [==============================] - 0s 2ms/step - loss: 0.5898 - val_loss: 3.0128\n",
            "Epoch 3/100\n",
            "242/242 [==============================] - 0s 2ms/step - loss: 0.5015 - val_loss: 0.4502\n",
            "Epoch 4/100\n",
            "242/242 [==============================] - 0s 2ms/step - loss: 0.4378 - val_loss: 0.4035\n",
            "Epoch 5/100\n",
            "242/242 [==============================] - 0s 2ms/step - loss: 0.4124 - val_loss: 0.3840\n",
            "Epoch 6/100\n",
            "242/242 [==============================] - 0s 2ms/step - loss: 0.3976 - val_loss: 0.4242\n",
            "Epoch 7/100\n",
            "242/242 [==============================] - 0s 1ms/step - loss: 0.3879 - val_loss: 0.3890\n",
            "Epoch 8/100\n",
            "242/242 [==============================] - 0s 1ms/step - loss: 0.3796 - val_loss: 0.4232\n",
            "Epoch 9/100\n",
            "242/242 [==============================] - 0s 2ms/step - loss: 0.3751 - val_loss: 0.3928\n",
            "Epoch 10/100\n",
            "242/242 [==============================] - 0s 2ms/step - loss: 0.3705 - val_loss: 0.4090\n",
            "Epoch 11/100\n",
            "242/242 [==============================] - 0s 2ms/step - loss: 0.3671 - val_loss: 0.3666\n",
            "Epoch 12/100\n",
            "242/242 [==============================] - 0s 2ms/step - loss: 0.3624 - val_loss: 0.3608\n",
            "Epoch 13/100\n",
            "242/242 [==============================] - 0s 2ms/step - loss: 0.3588 - val_loss: 0.3996\n",
            "Epoch 14/100\n",
            "242/242 [==============================] - 0s 2ms/step - loss: 0.3570 - val_loss: 0.4060\n",
            "Epoch 15/100\n",
            "242/242 [==============================] - 0s 1ms/step - loss: 0.3537 - val_loss: 0.3814\n",
            "Epoch 16/100\n",
            "242/242 [==============================] - 0s 2ms/step - loss: 0.3518 - val_loss: 0.3833\n",
            "Epoch 17/100\n",
            "242/242 [==============================] - 0s 2ms/step - loss: 0.3490 - val_loss: 0.3874\n",
            "Epoch 18/100\n",
            "242/242 [==============================] - 0s 2ms/step - loss: 0.3475 - val_loss: 0.3828\n",
            "Epoch 19/100\n",
            "242/242 [==============================] - 0s 2ms/step - loss: 0.3446 - val_loss: 0.3917\n",
            "Epoch 20/100\n",
            "242/242 [==============================] - 0s 1ms/step - loss: 0.3435 - val_loss: 0.3709\n",
            "Epoch 21/100\n",
            "242/242 [==============================] - 0s 2ms/step - loss: 0.3415 - val_loss: 0.3684\n",
            "Epoch 22/100\n",
            "242/242 [==============================] - 0s 2ms/step - loss: 0.3402 - val_loss: 0.3789\n",
            "121/121 [==============================] - 0s 1ms/step - loss: 0.3641\n",
            "[CV] END learning_rate=0.004591455636549438, n_hidden=2, n_neurons=59; total time=  10.7s\n",
            "Epoch 1/100\n"
          ]
        },
        {
          "output_type": "stream",
          "name": "stderr",
          "text": [
            "WARNING:tensorflow:AutoGraph could not transform <function Model.make_train_function.<locals>.train_function at 0x7fd740f49950> and will run it as-is.\n",
            "Please report this to the TensorFlow team. When filing the bug, set the verbosity to 10 (on Linux, `export AUTOGRAPH_VERBOSITY=10`) and attach the full output.\n",
            "Cause: closure mismatch, requested ('self', 'step_function'), but source function had ()\n",
            "To silence this warning, decorate the function with @tf.autograph.experimental.do_not_convert\n"
          ]
        },
        {
          "output_type": "stream",
          "name": "stdout",
          "text": [
            "WARNING: AutoGraph could not transform <function Model.make_train_function.<locals>.train_function at 0x7fd740f49950> and will run it as-is.\n",
            "Please report this to the TensorFlow team. When filing the bug, set the verbosity to 10 (on Linux, `export AUTOGRAPH_VERBOSITY=10`) and attach the full output.\n",
            "Cause: closure mismatch, requested ('self', 'step_function'), but source function had ()\n",
            "To silence this warning, decorate the function with @tf.autograph.experimental.do_not_convert\n",
            "197/242 [=======================>......] - ETA: 0s - loss: 1.2558"
          ]
        },
        {
          "output_type": "stream",
          "name": "stderr",
          "text": [
            "WARNING:tensorflow:AutoGraph could not transform <function Model.make_test_function.<locals>.test_function at 0x7fd73593e680> and will run it as-is.\n",
            "Please report this to the TensorFlow team. When filing the bug, set the verbosity to 10 (on Linux, `export AUTOGRAPH_VERBOSITY=10`) and attach the full output.\n",
            "Cause: closure mismatch, requested ('self', 'step_function'), but source function had ()\n",
            "To silence this warning, decorate the function with @tf.autograph.experimental.do_not_convert\n"
          ]
        },
        {
          "output_type": "stream",
          "name": "stdout",
          "text": [
            "WARNING: AutoGraph could not transform <function Model.make_test_function.<locals>.test_function at 0x7fd73593e680> and will run it as-is.\n",
            "Please report this to the TensorFlow team. When filing the bug, set the verbosity to 10 (on Linux, `export AUTOGRAPH_VERBOSITY=10`) and attach the full output.\n",
            "Cause: closure mismatch, requested ('self', 'step_function'), but source function had ()\n",
            "To silence this warning, decorate the function with @tf.autograph.experimental.do_not_convert\n",
            "242/242 [==============================] - 1s 2ms/step - loss: 1.1439 - val_loss: 0.6455\n",
            "Epoch 2/100\n",
            "242/242 [==============================] - 0s 2ms/step - loss: 0.5927 - val_loss: 2.4470\n",
            "Epoch 3/100\n",
            "242/242 [==============================] - 0s 2ms/step - loss: 0.5011 - val_loss: 2.8515\n",
            "Epoch 4/100\n",
            "242/242 [==============================] - 0s 2ms/step - loss: 0.4540 - val_loss: 1.8737\n",
            "Epoch 5/100\n",
            "242/242 [==============================] - 0s 1ms/step - loss: 0.4249 - val_loss: 1.0531\n",
            "Epoch 6/100\n",
            "242/242 [==============================] - 0s 2ms/step - loss: 0.4059 - val_loss: 0.4479\n",
            "Epoch 7/100\n",
            "242/242 [==============================] - 0s 2ms/step - loss: 0.3948 - val_loss: 0.3677\n",
            "Epoch 8/100\n",
            "242/242 [==============================] - 0s 2ms/step - loss: 0.3855 - val_loss: 0.4098\n",
            "Epoch 9/100\n",
            "242/242 [==============================] - 0s 2ms/step - loss: 0.3780 - val_loss: 0.5912\n",
            "Epoch 10/100\n",
            "242/242 [==============================] - 0s 2ms/step - loss: 0.3738 - val_loss: 0.5012\n",
            "Epoch 11/100\n",
            "242/242 [==============================] - 0s 2ms/step - loss: 0.3684 - val_loss: 0.5537\n",
            "Epoch 12/100\n",
            "242/242 [==============================] - 0s 2ms/step - loss: 0.3638 - val_loss: 0.5948\n",
            "Epoch 13/100\n",
            "242/242 [==============================] - 0s 2ms/step - loss: 0.3620 - val_loss: 0.7224\n",
            "Epoch 14/100\n",
            "242/242 [==============================] - 0s 2ms/step - loss: 0.3599 - val_loss: 0.7971\n",
            "Epoch 15/100\n",
            "242/242 [==============================] - 0s 2ms/step - loss: 0.3569 - val_loss: 0.7463\n",
            "Epoch 16/100\n",
            "242/242 [==============================] - 0s 2ms/step - loss: 0.3543 - val_loss: 0.8203\n",
            "Epoch 17/100\n",
            "242/242 [==============================] - 0s 2ms/step - loss: 0.3527 - val_loss: 0.7718\n",
            "121/121 [==============================] - 0s 942us/step - loss: 0.3678\n",
            "[CV] END learning_rate=0.004591455636549438, n_hidden=2, n_neurons=59; total time=   7.7s\n",
            "Epoch 1/100\n"
          ]
        },
        {
          "output_type": "stream",
          "name": "stderr",
          "text": [
            "WARNING:tensorflow:AutoGraph could not transform <function Model.make_train_function.<locals>.train_function at 0x7fd737bf6cb0> and will run it as-is.\n",
            "Please report this to the TensorFlow team. When filing the bug, set the verbosity to 10 (on Linux, `export AUTOGRAPH_VERBOSITY=10`) and attach the full output.\n",
            "Cause: closure mismatch, requested ('self', 'step_function'), but source function had ()\n",
            "To silence this warning, decorate the function with @tf.autograph.experimental.do_not_convert\n"
          ]
        },
        {
          "output_type": "stream",
          "name": "stdout",
          "text": [
            "WARNING: AutoGraph could not transform <function Model.make_train_function.<locals>.train_function at 0x7fd737bf6cb0> and will run it as-is.\n",
            "Please report this to the TensorFlow team. When filing the bug, set the verbosity to 10 (on Linux, `export AUTOGRAPH_VERBOSITY=10`) and attach the full output.\n",
            "Cause: closure mismatch, requested ('self', 'step_function'), but source function had ()\n",
            "To silence this warning, decorate the function with @tf.autograph.experimental.do_not_convert\n",
            "192/242 [======================>.......] - ETA: 0s - loss: 1.0812"
          ]
        },
        {
          "output_type": "stream",
          "name": "stderr",
          "text": [
            "WARNING:tensorflow:AutoGraph could not transform <function Model.make_test_function.<locals>.test_function at 0x7fd735b5aa70> and will run it as-is.\n",
            "Please report this to the TensorFlow team. When filing the bug, set the verbosity to 10 (on Linux, `export AUTOGRAPH_VERBOSITY=10`) and attach the full output.\n",
            "Cause: closure mismatch, requested ('self', 'step_function'), but source function had ()\n",
            "To silence this warning, decorate the function with @tf.autograph.experimental.do_not_convert\n"
          ]
        },
        {
          "output_type": "stream",
          "name": "stdout",
          "text": [
            "WARNING: AutoGraph could not transform <function Model.make_test_function.<locals>.test_function at 0x7fd735b5aa70> and will run it as-is.\n",
            "Please report this to the TensorFlow team. When filing the bug, set the verbosity to 10 (on Linux, `export AUTOGRAPH_VERBOSITY=10`) and attach the full output.\n",
            "Cause: closure mismatch, requested ('self', 'step_function'), but source function had ()\n",
            "To silence this warning, decorate the function with @tf.autograph.experimental.do_not_convert\n",
            "242/242 [==============================] - 1s 2ms/step - loss: 1.0028 - val_loss: 4.0590\n",
            "Epoch 2/100\n",
            "242/242 [==============================] - 0s 1ms/step - loss: 0.5833 - val_loss: 1.5121\n",
            "Epoch 3/100\n",
            "242/242 [==============================] - 0s 2ms/step - loss: 0.4829 - val_loss: 0.4433\n",
            "Epoch 4/100\n",
            "242/242 [==============================] - 0s 2ms/step - loss: 0.4426 - val_loss: 0.4748\n",
            "Epoch 5/100\n",
            "242/242 [==============================] - 0s 2ms/step - loss: 0.4213 - val_loss: 0.3921\n",
            "Epoch 6/100\n",
            "242/242 [==============================] - 0s 2ms/step - loss: 0.4075 - val_loss: 0.4087\n",
            "Epoch 7/100\n",
            "242/242 [==============================] - 0s 2ms/step - loss: 0.3979 - val_loss: 0.3755\n",
            "Epoch 8/100\n",
            "242/242 [==============================] - 0s 2ms/step - loss: 0.3899 - val_loss: 0.3709\n",
            "Epoch 9/100\n",
            "242/242 [==============================] - 0s 2ms/step - loss: 0.3834 - val_loss: 0.4033\n",
            "Epoch 10/100\n",
            "242/242 [==============================] - 0s 2ms/step - loss: 0.3803 - val_loss: 0.3531\n",
            "Epoch 11/100\n",
            "242/242 [==============================] - 0s 2ms/step - loss: 0.3743 - val_loss: 0.4519\n",
            "Epoch 12/100\n",
            "242/242 [==============================] - 0s 2ms/step - loss: 0.3717 - val_loss: 0.3635\n",
            "Epoch 13/100\n",
            "242/242 [==============================] - 0s 2ms/step - loss: 0.3677 - val_loss: 0.3578\n",
            "Epoch 14/100\n",
            "242/242 [==============================] - 0s 2ms/step - loss: 0.3643 - val_loss: 0.4479\n",
            "Epoch 15/100\n",
            "242/242 [==============================] - 0s 2ms/step - loss: 0.3625 - val_loss: 0.3444\n",
            "Epoch 16/100\n",
            "242/242 [==============================] - 0s 2ms/step - loss: 0.3586 - val_loss: 0.4293\n",
            "Epoch 17/100\n",
            "242/242 [==============================] - 0s 2ms/step - loss: 0.3566 - val_loss: 0.3393\n",
            "Epoch 18/100\n",
            "242/242 [==============================] - 0s 2ms/step - loss: 0.3535 - val_loss: 0.3632\n",
            "Epoch 19/100\n",
            "242/242 [==============================] - 0s 2ms/step - loss: 0.3518 - val_loss: 0.4213\n",
            "Epoch 20/100\n",
            "242/242 [==============================] - 0s 2ms/step - loss: 0.3498 - val_loss: 0.3550\n",
            "Epoch 21/100\n",
            "242/242 [==============================] - 0s 2ms/step - loss: 0.3489 - val_loss: 0.3656\n",
            "Epoch 22/100\n",
            "242/242 [==============================] - 0s 2ms/step - loss: 0.3469 - val_loss: 0.3287\n",
            "Epoch 23/100\n",
            "242/242 [==============================] - 0s 2ms/step - loss: 0.3448 - val_loss: 0.3448\n",
            "Epoch 24/100\n",
            "242/242 [==============================] - 0s 2ms/step - loss: 0.3442 - val_loss: 0.3609\n",
            "Epoch 25/100\n",
            "242/242 [==============================] - 0s 1ms/step - loss: 0.3431 - val_loss: 0.3477\n",
            "Epoch 26/100\n",
            "242/242 [==============================] - 0s 1ms/step - loss: 0.3410 - val_loss: 0.3393\n",
            "Epoch 27/100\n",
            "242/242 [==============================] - 0s 2ms/step - loss: 0.3390 - val_loss: 0.3697\n",
            "Epoch 28/100\n",
            "242/242 [==============================] - 0s 2ms/step - loss: 0.3388 - val_loss: 0.3331\n",
            "Epoch 29/100\n",
            "242/242 [==============================] - 0s 2ms/step - loss: 0.3415 - val_loss: 0.5182\n",
            "Epoch 30/100\n",
            "242/242 [==============================] - 0s 2ms/step - loss: 0.3396 - val_loss: 0.3217\n",
            "Epoch 31/100\n",
            "242/242 [==============================] - 0s 2ms/step - loss: 0.3352 - val_loss: 0.3318\n",
            "Epoch 32/100\n",
            "242/242 [==============================] - 0s 2ms/step - loss: 0.3339 - val_loss: 0.3749\n",
            "Epoch 33/100\n",
            "242/242 [==============================] - 0s 2ms/step - loss: 0.3327 - val_loss: 0.3547\n",
            "Epoch 34/100\n",
            "242/242 [==============================] - 0s 2ms/step - loss: 0.3319 - val_loss: 0.3486\n",
            "Epoch 35/100\n",
            "242/242 [==============================] - 0s 2ms/step - loss: 0.3319 - val_loss: 0.3289\n",
            "Epoch 36/100\n",
            "242/242 [==============================] - 0s 1ms/step - loss: 0.3292 - val_loss: 0.4845\n",
            "Epoch 37/100\n",
            "242/242 [==============================] - 0s 2ms/step - loss: 0.3305 - val_loss: 0.5741\n",
            "Epoch 38/100\n",
            "242/242 [==============================] - 0s 2ms/step - loss: 0.3329 - val_loss: 0.9919\n",
            "Epoch 39/100\n",
            "242/242 [==============================] - 0s 2ms/step - loss: 0.3361 - val_loss: 0.6034\n",
            "Epoch 40/100\n",
            "242/242 [==============================] - 0s 2ms/step - loss: 0.3299 - val_loss: 0.8060\n",
            "121/121 [==============================] - 0s 1ms/step - loss: 0.3293\n",
            "[CV] END learning_rate=0.004591455636549438, n_hidden=2, n_neurons=59; total time=  20.9s\n",
            "Epoch 1/100\n"
          ]
        },
        {
          "output_type": "stream",
          "name": "stderr",
          "text": [
            "WARNING:tensorflow:AutoGraph could not transform <function Model.make_train_function.<locals>.train_function at 0x7fd735ad9ef0> and will run it as-is.\n",
            "Please report this to the TensorFlow team. When filing the bug, set the verbosity to 10 (on Linux, `export AUTOGRAPH_VERBOSITY=10`) and attach the full output.\n",
            "Cause: closure mismatch, requested ('self', 'step_function'), but source function had ()\n",
            "To silence this warning, decorate the function with @tf.autograph.experimental.do_not_convert\n"
          ]
        },
        {
          "output_type": "stream",
          "name": "stdout",
          "text": [
            "WARNING: AutoGraph could not transform <function Model.make_train_function.<locals>.train_function at 0x7fd735ad9ef0> and will run it as-is.\n",
            "Please report this to the TensorFlow team. When filing the bug, set the verbosity to 10 (on Linux, `export AUTOGRAPH_VERBOSITY=10`) and attach the full output.\n",
            "Cause: closure mismatch, requested ('self', 'step_function'), but source function had ()\n",
            "To silence this warning, decorate the function with @tf.autograph.experimental.do_not_convert\n",
            "355/363 [============================>.] - ETA: 0s - loss: 0.8327"
          ]
        },
        {
          "output_type": "stream",
          "name": "stderr",
          "text": [
            "WARNING:tensorflow:AutoGraph could not transform <function Model.make_test_function.<locals>.test_function at 0x7fd735e5d4d0> and will run it as-is.\n",
            "Please report this to the TensorFlow team. When filing the bug, set the verbosity to 10 (on Linux, `export AUTOGRAPH_VERBOSITY=10`) and attach the full output.\n",
            "Cause: closure mismatch, requested ('self', 'step_function'), but source function had ()\n",
            "To silence this warning, decorate the function with @tf.autograph.experimental.do_not_convert\n"
          ]
        },
        {
          "output_type": "stream",
          "name": "stdout",
          "text": [
            "WARNING: AutoGraph could not transform <function Model.make_test_function.<locals>.test_function at 0x7fd735e5d4d0> and will run it as-is.\n",
            "Please report this to the TensorFlow team. When filing the bug, set the verbosity to 10 (on Linux, `export AUTOGRAPH_VERBOSITY=10`) and attach the full output.\n",
            "Cause: closure mismatch, requested ('self', 'step_function'), but source function had ()\n",
            "To silence this warning, decorate the function with @tf.autograph.experimental.do_not_convert\n",
            "363/363 [==============================] - 1s 2ms/step - loss: 0.8248 - val_loss: 1.0986\n",
            "Epoch 2/100\n",
            "363/363 [==============================] - 1s 2ms/step - loss: 0.4342 - val_loss: 1.0546\n",
            "Epoch 3/100\n",
            "363/363 [==============================] - 1s 2ms/step - loss: 0.3951 - val_loss: 0.3555\n",
            "Epoch 4/100\n",
            "363/363 [==============================] - 1s 2ms/step - loss: 0.3693 - val_loss: 0.3938\n",
            "Epoch 5/100\n",
            "363/363 [==============================] - 1s 1ms/step - loss: 0.3613 - val_loss: 0.3393\n",
            "Epoch 6/100\n",
            "363/363 [==============================] - 1s 2ms/step - loss: 0.3522 - val_loss: 0.3987\n",
            "Epoch 7/100\n",
            "363/363 [==============================] - 1s 2ms/step - loss: 0.3480 - val_loss: 0.3424\n",
            "Epoch 8/100\n",
            "363/363 [==============================] - 1s 1ms/step - loss: 0.3424 - val_loss: 0.3257\n",
            "Epoch 9/100\n",
            "363/363 [==============================] - 1s 1ms/step - loss: 0.3372 - val_loss: 0.3320\n",
            "Epoch 10/100\n",
            "363/363 [==============================] - 1s 2ms/step - loss: 0.3332 - val_loss: 0.4133\n",
            "Epoch 11/100\n",
            "363/363 [==============================] - 1s 2ms/step - loss: 0.3318 - val_loss: 0.5091\n",
            "Epoch 12/100\n",
            "363/363 [==============================] - 1s 2ms/step - loss: 0.3313 - val_loss: 0.6809\n",
            "Epoch 13/100\n",
            "363/363 [==============================] - 1s 2ms/step - loss: 0.3270 - val_loss: 0.3064\n",
            "Epoch 14/100\n",
            "363/363 [==============================] - 1s 2ms/step - loss: 0.3218 - val_loss: 0.3029\n",
            "Epoch 15/100\n",
            "363/363 [==============================] - 1s 2ms/step - loss: 0.3199 - val_loss: 0.3435\n",
            "Epoch 16/100\n",
            "363/363 [==============================] - 1s 2ms/step - loss: 0.3194 - val_loss: 0.3989\n",
            "Epoch 17/100\n",
            "363/363 [==============================] - 1s 2ms/step - loss: 0.3180 - val_loss: 0.4374\n",
            "Epoch 18/100\n",
            "363/363 [==============================] - 1s 2ms/step - loss: 0.3138 - val_loss: 0.3216\n",
            "Epoch 19/100\n",
            "363/363 [==============================] - 1s 2ms/step - loss: 0.3130 - val_loss: 0.3126\n",
            "Epoch 20/100\n",
            "363/363 [==============================] - 1s 2ms/step - loss: 0.3094 - val_loss: 0.4015\n",
            "Epoch 21/100\n",
            "363/363 [==============================] - 1s 2ms/step - loss: 0.3063 - val_loss: 0.3004\n",
            "Epoch 22/100\n",
            "363/363 [==============================] - 1s 2ms/step - loss: 0.3039 - val_loss: 0.3567\n",
            "Epoch 23/100\n",
            "363/363 [==============================] - 1s 2ms/step - loss: 0.3023 - val_loss: 0.3239\n",
            "Epoch 24/100\n",
            "363/363 [==============================] - 1s 1ms/step - loss: 0.3006 - val_loss: 0.3531\n",
            "Epoch 25/100\n",
            "363/363 [==============================] - 1s 2ms/step - loss: 0.2995 - val_loss: 0.3617\n",
            "Epoch 26/100\n",
            "363/363 [==============================] - 1s 2ms/step - loss: 0.2964 - val_loss: 0.4563\n",
            "Epoch 27/100\n",
            "363/363 [==============================] - 1s 2ms/step - loss: 0.2966 - val_loss: 0.5255\n",
            "Epoch 28/100\n",
            "363/363 [==============================] - 1s 2ms/step - loss: 0.2989 - val_loss: 0.5424\n",
            "Epoch 29/100\n",
            "363/363 [==============================] - 1s 2ms/step - loss: 0.2962 - val_loss: 0.2938\n",
            "Epoch 30/100\n",
            "363/363 [==============================] - 1s 1ms/step - loss: 0.2927 - val_loss: 0.4005\n",
            "Epoch 31/100\n",
            "363/363 [==============================] - 1s 1ms/step - loss: 0.2918 - val_loss: 0.2979\n",
            "Epoch 32/100\n",
            "363/363 [==============================] - 1s 1ms/step - loss: 0.2879 - val_loss: 0.3546\n",
            "Epoch 33/100\n",
            "363/363 [==============================] - 1s 2ms/step - loss: 0.2872 - val_loss: 0.2795\n",
            "Epoch 34/100\n",
            "363/363 [==============================] - 1s 2ms/step - loss: 0.2850 - val_loss: 0.3285\n",
            "Epoch 35/100\n",
            "363/363 [==============================] - 1s 2ms/step - loss: 0.2840 - val_loss: 0.3484\n",
            "Epoch 36/100\n",
            "363/363 [==============================] - 1s 2ms/step - loss: 0.2837 - val_loss: 0.2903\n",
            "Epoch 37/100\n",
            "363/363 [==============================] - 1s 2ms/step - loss: 0.2811 - val_loss: 0.4263\n",
            "Epoch 38/100\n",
            "363/363 [==============================] - 1s 1ms/step - loss: 0.2794 - val_loss: 0.2882\n",
            "Epoch 39/100\n",
            "363/363 [==============================] - 1s 2ms/step - loss: 0.2839 - val_loss: 0.5399\n",
            "Epoch 40/100\n",
            "363/363 [==============================] - 1s 1ms/step - loss: 0.2810 - val_loss: 0.2825\n",
            "Epoch 41/100\n",
            "363/363 [==============================] - 1s 2ms/step - loss: 0.2799 - val_loss: 0.4988\n",
            "Epoch 42/100\n",
            "363/363 [==============================] - 1s 1ms/step - loss: 0.2804 - val_loss: 0.2730\n",
            "Epoch 43/100\n",
            "363/363 [==============================] - 1s 2ms/step - loss: 0.2743 - val_loss: 0.4292\n",
            "Epoch 44/100\n",
            "363/363 [==============================] - 1s 2ms/step - loss: 0.2767 - val_loss: 0.2798\n",
            "Epoch 45/100\n",
            "363/363 [==============================] - 1s 1ms/step - loss: 0.2735 - val_loss: 0.3264\n",
            "Epoch 46/100\n",
            "363/363 [==============================] - 1s 2ms/step - loss: 0.2741 - val_loss: 0.3611\n",
            "Epoch 47/100\n",
            "363/363 [==============================] - 1s 1ms/step - loss: 0.2737 - val_loss: 0.6502\n",
            "Epoch 48/100\n",
            "363/363 [==============================] - 1s 2ms/step - loss: 0.2747 - val_loss: 0.2744\n",
            "Epoch 49/100\n",
            "363/363 [==============================] - 1s 2ms/step - loss: 0.2701 - val_loss: 0.3091\n",
            "Epoch 50/100\n",
            "363/363 [==============================] - 1s 1ms/step - loss: 0.2697 - val_loss: 0.3575\n",
            "Epoch 51/100\n",
            "363/363 [==============================] - 1s 1ms/step - loss: 0.2704 - val_loss: 0.4871\n",
            "Epoch 52/100\n",
            "363/363 [==============================] - 1s 1ms/step - loss: 0.2689 - val_loss: 0.3053\n"
          ]
        },
        {
          "output_type": "execute_result",
          "data": {
            "text/plain": [
              "RandomizedSearchCV(cv=3,\n",
              "                   estimator=<keras.wrappers.scikit_learn.KerasRegressor object at 0x7fd740fb2750>,\n",
              "                   param_distributions={'learning_rate': [0.001683454924600351,\n",
              "                                                          0.02390836445593178,\n",
              "                                                          0.008731907739399206,\n",
              "                                                          0.004725396149933917,\n",
              "                                                          0.0006154014789262348,\n",
              "                                                          0.0006153331256530192,\n",
              "                                                          0.0003920021771415983,\n",
              "                                                          0.01619845322936229,\n",
              "                                                          0.004779156784872302,\n",
              "                                                          0.007821074275112298,...\n",
              "                                                          0.005021425736625637,\n",
              "                                                          0.0005703073595961105,\n",
              "                                                          0.001151888789941251,\n",
              "                                                          0.001621231156394198,\n",
              "                                                          0.0024505367684280487,\n",
              "                                                          0.011155092541719619,\n",
              "                                                          0.0007524347058135697,\n",
              "                                                          0.0032032448128444043,\n",
              "                                                          0.004591455636549438,\n",
              "                                                          0.0003715541189658278, ...],\n",
              "                                        'n_hidden': [0, 1, 2, 3],\n",
              "                                        'n_neurons': [1, 2, 3, 4, 5, 6, 7, 8, 9,\n",
              "                                                      10, 11, 12, 13, 14, 15,\n",
              "                                                      16, 17, 18, 19, 20, 21,\n",
              "                                                      22, 23, 24, 25, 26, 27,\n",
              "                                                      28, 29, 30, ...]},\n",
              "                   verbose=2)"
            ]
          },
          "metadata": {},
          "execution_count": 71
        }
      ]
    },
    {
      "cell_type": "code",
      "source": [
        "rnd_search_cv.best_params_"
      ],
      "metadata": {
        "colab": {
          "base_uri": "https://localhost:8080/"
        },
        "id": "Hd63y55_ZjTL",
        "outputId": "03407e9d-8093-4e42-b379-a63502b856dd"
      },
      "execution_count": 72,
      "outputs": [
        {
          "output_type": "execute_result",
          "data": {
            "text/plain": [
              "{'n_neurons': 80, 'n_hidden': 3, 'learning_rate': 0.0059640580092043885}"
            ]
          },
          "metadata": {},
          "execution_count": 72
        }
      ]
    },
    {
      "cell_type": "code",
      "source": [
        "rnd_search_cv.best_score_"
      ],
      "metadata": {
        "colab": {
          "base_uri": "https://localhost:8080/"
        },
        "id": "egkpTlC0ZjWC",
        "outputId": "0669eb35-0f71-440d-e07a-bdcc5b8b7f0f"
      },
      "execution_count": 73,
      "outputs": [
        {
          "output_type": "execute_result",
          "data": {
            "text/plain": [
              "-0.32139770189921063"
            ]
          },
          "metadata": {},
          "execution_count": 73
        }
      ]
    },
    {
      "cell_type": "code",
      "source": [
        "rnd_search_cv.score(X_test, y_test)"
      ],
      "metadata": {
        "colab": {
          "base_uri": "https://localhost:8080/"
        },
        "id": "YEKtwIaFwoJ1",
        "outputId": "8c9a9564-5fff-4571-a9e9-09edcf14c4fd"
      },
      "execution_count": 74,
      "outputs": [
        {
          "output_type": "stream",
          "name": "stdout",
          "text": [
            "162/162 [==============================] - 0s 990us/step - loss: 0.2833\n"
          ]
        },
        {
          "output_type": "execute_result",
          "data": {
            "text/plain": [
              "-0.2833365499973297"
            ]
          },
          "metadata": {},
          "execution_count": 74
        }
      ]
    },
    {
      "cell_type": "code",
      "source": [
        "model = rnd_search_cv.best_estimator_.model\n",
        "model"
      ],
      "metadata": {
        "colab": {
          "base_uri": "https://localhost:8080/"
        },
        "id": "QxI1Q-LOwoMW",
        "outputId": "d213be66-0e83-4f40-fb03-f5fd135fde6b"
      },
      "execution_count": 75,
      "outputs": [
        {
          "output_type": "execute_result",
          "data": {
            "text/plain": [
              "<keras.engine.sequential.Sequential at 0x7fd740cd85d0>"
            ]
          },
          "metadata": {},
          "execution_count": 75
        }
      ]
    },
    {
      "cell_type": "code",
      "source": [
        "model.evaluate(X_test, y_test)"
      ],
      "metadata": {
        "colab": {
          "base_uri": "https://localhost:8080/"
        },
        "id": "aDxNAjiYwoO3",
        "outputId": "ad7a202f-c2b7-4a02-edc3-424c44ab8813"
      },
      "execution_count": 76,
      "outputs": [
        {
          "output_type": "stream",
          "name": "stdout",
          "text": [
            "162/162 [==============================] - 0s 900us/step - loss: 0.2833\n"
          ]
        },
        {
          "output_type": "execute_result",
          "data": {
            "text/plain": [
              "0.2833365499973297"
            ]
          },
          "metadata": {},
          "execution_count": 76
        }
      ]
    },
    {
      "cell_type": "markdown",
      "source": [
        "if 훈련에 시간이 많이 걸릴 경우 탐색할 수 있는 하이퍼파라미터 공간에 제약이 생김<br>\n",
        "=> 탐색 과정을 수동으로 보조하여 이 문제를 부분적으로 완화 가능<br>\n",
        "하이퍼파라미터 값의 범위를 크게하여 빠르게 첫 번째 랜덤 탐색을 수행하고, 첫 번째 탐색에서 찾은 최상의 하이퍼파라미터 값을 중심으로 더 좁은 범위 탐색. 이런 방식으로 계속 진행하면 좋은 하이퍼파라미터 집합을 좁혀나갈 수는 있지만 시간이 많이 소요되며 최상의 방법은 아닐 것."
      ],
      "metadata": {
        "id": "ET2l_zhxwyQT"
      }
    },
    {
      "cell_type": "markdown",
      "source": [
        "더 효율적으로 하이퍼파라미터 공간을 탐색하는 기법<br>\n",
        "-> 탐색 지역이 좋다고 판명될 때 더 탐색을 수행하는 것 <br>\n",
        "<br>\n",
        "하이퍼파라미터 최적화에 사용할 수 있는 파이썬 라이브러리\n",
        "- Hyperopt: (학습률과 같은 실수와 층의 개수 같은 이산적인 값을 포함하여) 모든 종류의 복잡한 탐색 공간에 대해 최적화를 수행할 수 있는 라이브러리\n",
        "- Hyperas, kopt, Talos: 케라스 모델을 위한 하이퍼파라미터 최적화 라이브러리\n",
        "- 케라스 튜너(Keras Tuner): 사용하기 쉬운 케라스 하이퍼파라미터 최적화 라이브러리\n",
        "- Scikit-Optimize(skopt): 범용 최적화 라이브러리. BayesSearchCV 클래스는 GridSearchCV와 비슷한 인터페이스를 사용하여 베이즈(Bayesian) 최적화를 수행\n",
        "- Spearmint: 베이즈 최적화 라이브러리\n",
        "- Hyperband: 빠른 하이퍼파라미터 튜닝 라이브러리\n",
        "- Sklearn-Deap: GridSearchCV와 비슷한 인터페이스를 가진 진화 알고리즘(evolutionart algorithm) 기반의 하이퍼파라미터 최적화 라이브러리"
      ],
      "metadata": {
        "id": "uLZbHlt5xWmZ"
      }
    },
    {
      "cell_type": "markdown",
      "source": [
        "## 10.3.1 은닉층 개수"
      ],
      "metadata": {
        "id": "tXOcMm4EZkhU"
      }
    },
    {
      "cell_type": "markdown",
      "source": [
        "이론적으로 은닉층이 하나인 다층 퍼셉트론이더라도 뉴런 개수가 충분하면 아주 복잡한 함수도 모델링할 수 있음<br>\n",
        "하지만 복잡한 문제에서는 심층 신경망이 얕은 신경망보다 **파라미터 효율성**(parameter efficiency)이 훨씬 좋음 (-> 심층 신경망은 복잡한 함수를 모델링하는데 얕은 신경망보다 훨씬 적은 수의 뉴런을 사용하므로 동일한 양의 훈련 데이터에서 더 높은 성능을 낼 수 있음)"
      ],
      "metadata": {
        "id": "cOSCd3loZmyI"
      }
    },
    {
      "cell_type": "markdown",
      "source": [
        "계층 구조는 심층 신경망이 좋은 솔루션으로 빨리 수렴하게끔 도와줄 뿐만 아니라 새로운 데이터에 일반화되는 능력도 향상시켜줌.<br>\n",
        "새로운 신경망에서 처음 몇 개 층의 가중치와 편향을 난수로 초기화하는 대신 첫 번째 신경망 층에 있는 가중치와 편향값으로 초기화 가능. 이런 방식을 사용하면 대부분의 저수준 구조를 학습할 필요가 없음 => **전이 학습**(transfer learning)"
      ],
      "metadata": {
        "id": "d8kS5KA_Zm0s"
      }
    },
    {
      "cell_type": "markdown",
      "source": [
        "결론적으로 하나 또는 두 개의 은닉층만으로도 많은 문제를 꽤 잘 해결할 것"
      ],
      "metadata": {
        "id": "sSmxPqoNZm3U"
      }
    },
    {
      "cell_type": "markdown",
      "source": [
        "## 10.3.2 은닉층의 뉴런 개수"
      ],
      "metadata": {
        "id": "jWzsfPxNZm5q"
      }
    },
    {
      "cell_type": "markdown",
      "source": [
        "입력층과 출력층의 뉴런 개수는 해당 작업에 필요한 입력과 출력의 형태에 따라 결정<br>\n",
        "은닉층의 구성 방식은 일반적으로 각 층의 뉴런을 점점 줄여서 깔때기처럼 구성. 저수준의 많은 특성이 고수준의 적은 특성으로 합쳐질 수 있기 때문."
      ],
      "metadata": {
        "id": "GVRTEynIZm8S"
      }
    },
    {
      "cell_type": "markdown",
      "source": [
        "네트워크가 과대적합 시작되기 전까지 점진적으로 뉴런 수를 늘릴 수 있음<br>\n",
        "하지만 실전에서는 필요한 것보다 더 많은 층과 뉴런을 가진 모델을 선택하고, 그런 다음 과대적합되지 않도록 조기 종료나 규제 기법을 사용하는 것이 간단하고 효과적."
      ],
      "metadata": {
        "id": "AJfp3OpU0cwD"
      }
    },
    {
      "cell_type": "markdown",
      "source": [
        "일반적으로 층의 뉴런 수보다 층 수를 늘리는 쪽이 이득이 많음"
      ],
      "metadata": {
        "id": "ueEAaW3e0cyz"
      }
    },
    {
      "cell_type": "markdown",
      "source": [
        "## 10.3.3 학습률, 배치 크기 그리고 다른 하이퍼파라미터"
      ],
      "metadata": {
        "id": "oE69qLdvZnBA"
      }
    },
    {
      "cell_type": "markdown",
      "source": [
        "**학습률**<Br>\n",
        "가장 중요한 하이퍼파라미터. 일반적으로 최적의 학습률은 최대 학습률의 절반 정도.<br>\n",
        "좋은 학습률을 찾는 방법은 매우 낮은 학습률에서 시작해서 점진적으로 매우 큰 학습률까지 수백 번 반복하여 모델을 훈련하는 것. "
      ],
      "metadata": {
        "id": "aerEw4kpZnDU"
      }
    },
    {
      "cell_type": "markdown",
      "source": [
        "**optimizer**<br>\n",
        "고전적인 평범한 미니배치 경사 하강법보다 더 좋은 optimizer를 선택하는 것(그리고 이 optimizer의 하이퍼파라미터를 튜닝하는 것)도 매우 중요."
      ],
      "metadata": {
        "id": "WuxfS6MQ08Ik"
      }
    },
    {
      "cell_type": "markdown",
      "source": [
        "**배치 크기**<br>\n",
        "배치 크기는 모델 성능과 훈련 시간에 큰 영향을 미칠 수 있음.<br>\n",
        "큰 배치를 사용하는 것의 주요 장점은 GPU와 같은 하드웨어 가속시를 효율적으로 활용가능하다는 점 (-> 훈련 알고리즘이 초당 더 많은 샘플 처리 가능)<br>\n",
        "**주의할 점: 실전에서 큰 배치를 사용하면 특히 훈련 초기에 종종 불안정하게 훈련될 수 있음<br>\n",
        "큰 배치 크기는 일반화 성능에 영향을 미치지 않고 훈련 시간을 매우 단축함<br>\n",
        "따라서 학습률 예열을 사용해 큰 배치 크기를 시도해보고 만약 훈련이 불안정하거나 최종 성능이 만족스럽지 못하다면 작은 배치를 사용하는 방법 이용"
      ],
      "metadata": {
        "id": "ubQN2H6v08NE"
      }
    },
    {
      "cell_type": "markdown",
      "source": [
        "**활성화 함수**<br>\n",
        "일반적으로 ReLU 활성화 함수가 모든 은닉층에 좋은 기본값.<br>\n",
        "출력층의 활성화 함수는 수행하는 작업에 따라 달라짐"
      ],
      "metadata": {
        "id": "OJOBk9oQ08O3"
      }
    },
    {
      "cell_type": "markdown",
      "source": [
        "**반복 횟수**<br>\n",
        "대부분의 경우 훈련 반복 횟수는 튜닝할 필요 없음, 대신 조기 종료 사용."
      ],
      "metadata": {
        "id": "f1qIrjbC08Qg"
      }
    },
    {
      "cell_type": "markdown",
      "source": [
        "tip) 최적의 학습률은 다른 하이퍼파라미터에 의존적. 특히 배치 크기에 영향을 많이 받음. 따라서 다른 하이퍼파라미터를 수정하면 학습률도 반드시 튜닝해야함."
      ],
      "metadata": {
        "id": "b0jWi5NY08TL"
      }
    },
    {
      "cell_type": "code",
      "source": [
        "from google.colab import drive\n",
        "drive.mount('/content/drive')"
      ],
      "metadata": {
        "colab": {
          "base_uri": "https://localhost:8080/"
        },
        "id": "7X1S_Jk1PjnC",
        "outputId": "0aa12780-9212-4282-f933-b66ad8df884f"
      },
      "execution_count": 78,
      "outputs": [
        {
          "output_type": "stream",
          "name": "stdout",
          "text": [
            "Mounted at /content/drive\n"
          ]
        }
      ]
    },
    {
      "cell_type": "code",
      "source": [
        "!jupyter nbconvert --to markdown \"/content/drive/MyDrive/Colab Notebooks/Handson_ML/Ch10_Neural_Nets_with_Keras.ipynb\""
      ],
      "metadata": {
        "colab": {
          "base_uri": "https://localhost:8080/"
        },
        "id": "BKvhCUmWPjpo",
        "outputId": "d84a475f-a8de-4207-8e02-474f1dedc88b"
      },
      "execution_count": 79,
      "outputs": [
        {
          "output_type": "stream",
          "name": "stdout",
          "text": [
            "[NbConvertApp] Converting notebook /content/drive/MyDrive/Colab Notebooks/Handson_ML/Ch10_Neural_Nets_with_Keras.ipynb to markdown\n",
            "[NbConvertApp] Support files will be in Ch10_Neural_Nets_with_Keras_files/\n",
            "[NbConvertApp] Making directory /content/drive/MyDrive/Colab Notebooks/Handson_ML/Ch10_Neural_Nets_with_Keras_files\n",
            "[NbConvertApp] Making directory /content/drive/MyDrive/Colab Notebooks/Handson_ML/Ch10_Neural_Nets_with_Keras_files\n",
            "[NbConvertApp] Making directory /content/drive/MyDrive/Colab Notebooks/Handson_ML/Ch10_Neural_Nets_with_Keras_files\n",
            "[NbConvertApp] Making directory /content/drive/MyDrive/Colab Notebooks/Handson_ML/Ch10_Neural_Nets_with_Keras_files\n",
            "[NbConvertApp] Making directory /content/drive/MyDrive/Colab Notebooks/Handson_ML/Ch10_Neural_Nets_with_Keras_files\n",
            "[NbConvertApp] Writing 324621 bytes to /content/drive/MyDrive/Colab Notebooks/Handson_ML/Ch10_Neural_Nets_with_Keras.md\n"
          ]
        }
      ]
    }
  ]
}